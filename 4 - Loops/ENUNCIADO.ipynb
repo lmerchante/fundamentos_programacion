{
 "cells": [
  {
   "cell_type": "markdown",
   "metadata": {},
   "source": [
    "# **TEMA 4: Loops**"
   ]
  },
  {
   "cell_type": "markdown",
   "metadata": {},
   "source": [
    "## Ejercicio 1:\n",
    "\n",
    "### Realizar un programa que solicite un número por teclado e imprima todos los números comprendidos entre 0 y el número introducido (incluido). \n",
    "\n",
    "Realiza dos versiones, una con blucle for y otra con bucle while.\n",
    "\n",
    "    Imprime los numeros del 0 a numero que introduzca \n",
    "    =================================================\n",
    "    Introduzca un numero > 0: 5\n",
    "    i= 0 \n",
    "    i= 1 \n",
    "    i= 2 \n",
    "    i= 3 \n",
    "    i= 4 \n",
    "    i= 5 "
   ]
  },
  {
   "cell_type": "markdown",
   "metadata": {},
   "source": [
    "### **Solución 1:** "
   ]
  },
  {
   "cell_type": "code",
   "execution_count": null,
   "metadata": {},
   "outputs": [],
   "source": []
  },
  {
   "cell_type": "markdown",
   "metadata": {},
   "source": [
    "### **Solución 2:** "
   ]
  },
  {
   "cell_type": "code",
   "execution_count": null,
   "metadata": {},
   "outputs": [],
   "source": []
  },
  {
   "cell_type": "markdown",
   "metadata": {},
   "source": [
    "## Ejercicio 2:\n",
    "\n",
    "### Realizar un programa que solicite un número por teclado e imprima todos los números pares y su cuadrado comprendidos entre 0 y el número incluido. \n",
    "\n",
    "Se deben realizar dos versiones, una con bucle for y otra con bucle while.\n",
    "\n",
    "    Introduzca un numero > 0: 10\n",
    "    i= 0 i*i= 0 \n",
    "    i= 2 i*i= 4 \n",
    "    i= 4 i*i= 16 \n",
    "    i= 6 isi= 36 \n",
    "    i= 8 i*i= 64 \n",
    "    i=10 i*i=100 "
   ]
  },
  {
   "cell_type": "markdown",
   "metadata": {},
   "source": [
    "### **Solución 1:** "
   ]
  },
  {
   "cell_type": "code",
   "execution_count": null,
   "metadata": {},
   "outputs": [],
   "source": []
  },
  {
   "cell_type": "markdown",
   "metadata": {},
   "source": [
    "### **Solución 2:** "
   ]
  },
  {
   "cell_type": "code",
   "execution_count": null,
   "metadata": {},
   "outputs": [],
   "source": []
  },
  {
   "cell_type": "markdown",
   "metadata": {},
   "source": [
    "## Ejercicio 3:\n",
    "\n",
    "### Escribir un programa que lea un valor entero que actúe como mínimo y un valor entero que lo haga como máximo.\n",
    "\n",
    "Programar un bucle que muestre por pantalla una tabla de valores y valores al cuadrado para todos los números comprendidos entre min y max.\n",
    "\n",
    "    Introduzca límite inferior: 9 \n",
    "    Introduzca límite superior: 12 \n",
    "    i= 9 i*i= 81 \n",
    "    i=l0 i*i=100 \n",
    "    i=11 i*i=121 \n",
    "    i=12 i*i=144 "
   ]
  },
  {
   "cell_type": "markdown",
   "metadata": {},
   "source": [
    "### **Solución:** "
   ]
  },
  {
   "cell_type": "code",
   "execution_count": null,
   "metadata": {},
   "outputs": [],
   "source": []
  },
  {
   "cell_type": "markdown",
   "metadata": {},
   "source": [
    "## Ejercicio 4:\n",
    "\n",
    "### Escribir un programa que solicite un número por teclado e imprima todos los números impares y su raíz cuadrada entre el valor interoducido y 0 (de manera descendente). \n",
    "\n",
    "Se deben realizar dos versiones, una con blucle for y otra con bucle while.\n",
    "\n",
    "    Introduzca un numero > 0: 9 \n",
    "    i=9.00 3.00 \n",
    "    i=7.00 2.65 \n",
    "    i=5.00 2.24 \n",
    "    i=3.00 1.73 \n",
    "    i=1.00 1.00 "
   ]
  },
  {
   "cell_type": "markdown",
   "metadata": {},
   "source": [
    "### **Solución 1:** "
   ]
  },
  {
   "cell_type": "code",
   "execution_count": null,
   "metadata": {},
   "outputs": [],
   "source": []
  },
  {
   "cell_type": "markdown",
   "metadata": {},
   "source": [
    "### **Solución 2:** "
   ]
  },
  {
   "cell_type": "code",
   "execution_count": null,
   "metadata": {},
   "outputs": [],
   "source": []
  },
  {
   "cell_type": "markdown",
   "metadata": {},
   "source": [
    "## Ejercicio 5:\n",
    "\n",
    "### Escribir un código que pida 2 números y calcule la suma de todos los números comprendidos entre esos dos números. Ambos incluidos."
   ]
  },
  {
   "cell_type": "markdown",
   "metadata": {},
   "source": [
    "### **Solución:** "
   ]
  },
  {
   "cell_type": "code",
   "execution_count": null,
   "metadata": {},
   "outputs": [],
   "source": []
  },
  {
   "cell_type": "markdown",
   "metadata": {},
   "source": [
    "## Ejercicio 6:\n",
    "\n",
    "### Programa un código que solicite un número y valide que es positivo.\n",
    "\n",
    "Si el número es menor o igual a 0 debe mostrar un mensaje de error y volver a solicitar el número.\n",
    "\n",
    "    Introduce número >0: -3 \n",
    "    Error, debe introducir un número > 0 \n",
    "    Introduce número >0: 4 \n",
    "    Enhorabuena, ha introducido un número mayor que 0 "
   ]
  },
  {
   "cell_type": "markdown",
   "metadata": {},
   "source": [
    "### **Solución:** "
   ]
  },
  {
   "cell_type": "code",
   "execution_count": null,
   "metadata": {},
   "outputs": [],
   "source": []
  },
  {
   "cell_type": "markdown",
   "metadata": {},
   "source": [
    "## Ejercicio 7:\n",
    "\n",
    "### Escribe un programa que solicite dos números, límite inferior y límite superior, y valida que el límite superior es mayor estricto que el límite inferior. \n",
    "\n",
    "A continuación, calcula la suma de los números pares y la suma de los números impares por separado. Finalmente muestra las sumas.\n",
    "\n",
    "    Introduzca límite inferior: 3 \n",
    "    Introduzca límite superior: 2 \n",
    "    El límite superior deber > que el límite inferior: 3 \n",
    "    Introduzca límite superior: 10 \n",
    "    Suma de pares: 28 \n",
    "    Suma de impares: 24 "
   ]
  },
  {
   "cell_type": "markdown",
   "metadata": {},
   "source": [
    "### **Solución:** "
   ]
  },
  {
   "cell_type": "code",
   "execution_count": null,
   "metadata": {},
   "outputs": [],
   "source": []
  },
  {
   "cell_type": "markdown",
   "metadata": {},
   "source": [
    "## Ejercicio 8:\n",
    "\n",
    "### Desarrolla un código que solicite un número entero por teclado e indique si el número es primo o no. \n",
    "\n",
    "Recordar que un número es primo solo si es divisible por él y por la unidad. Una manera de comprobar si un número num es primo, es calcular el resto de la división de dicho número entre todos los número comprendidos entre el 1 y el número introducido.  Si alguno de los módulos (resto de la división) es cero entonces el número no es primo. "
   ]
  },
  {
   "cell_type": "markdown",
   "metadata": {},
   "source": [
    "### **Solución:** "
   ]
  },
  {
   "cell_type": "code",
   "execution_count": null,
   "metadata": {},
   "outputs": [],
   "source": []
  },
  {
   "cell_type": "markdown",
   "metadata": {},
   "source": [
    "## Ejercicio 9:\n",
    "\n",
    "### Escribe un código que solicite dos números, límite inferior y límite superior, y muestre para cada uno de los números entre los dos limites, si son primos o no:\n",
    "\n",
    "    Introduzca límite inferior: 3 \n",
    "    Introduzca límite superior: 10 \n",
    "    \n",
    "    El número 3 es PRIMO \n",
    "    El número 4 es NO PRIMO \n",
    "    El número 5 es PRIMO \n",
    "    El número 6 es NO PRIMO \n",
    "    El número 7 es PRIMO \n",
    "    El número 8 es NO PRIMO \n",
    "    El número 9 es NO PRIMO \n",
    "    El número 10 es NO PRIMO "
   ]
  },
  {
   "cell_type": "markdown",
   "metadata": {},
   "source": [
    "### **Solución:** "
   ]
  },
  {
   "cell_type": "code",
   "execution_count": null,
   "metadata": {},
   "outputs": [],
   "source": []
  },
  {
   "cell_type": "markdown",
   "metadata": {},
   "source": [
    "## Ejercicio 10:\n",
    "\n",
    "### Realiza un programa que solicite dos números e indique si son amigos. \n",
    "\n",
    "Dos números son amigos si la suma de los divisiores del primer número menos el propio número es igual al segundo y además la suma de los divisiores del segundo número menos el propio número es igual al primero.\n",
    "\n",
    "    Introduce número 1: 220 \n",
    "    Introduce número 2: 284 \n",
    "    220 y 284 son AMIGOS \n",
    "\n",
    "    Introduce número 1: 345 \n",
    "    Introduce número 2: 454 \n",
    "    345 y 454 NO son AMIGOS "
   ]
  },
  {
   "cell_type": "markdown",
   "metadata": {},
   "source": [
    "### **Solución:** "
   ]
  },
  {
   "cell_type": "code",
   "execution_count": null,
   "metadata": {},
   "outputs": [],
   "source": []
  },
  {
   "cell_type": "markdown",
   "metadata": {},
   "source": [
    "## Ejercicio 11:\n",
    "\n",
    "### Escribe un programa que solicite un número y muestre la tabla de multlicar del 10 de dicho número\n",
    "\n",
    "    Introduzca un número: 5 \n",
    "    5* 1= 5 \n",
    "    5* 2= 10 \n",
    "    5* 3= 15 \n",
    "    5* 4= 20 \n",
    "    5* 5= 25 \n",
    "    5* 6= 30 \n",
    "    5* 7= 35 \n",
    "    5* 8= 40 \n",
    "    5* 9= 45 \n",
    "    5+10= 50 "
   ]
  },
  {
   "cell_type": "markdown",
   "metadata": {},
   "source": [
    "### **Solución:** "
   ]
  },
  {
   "cell_type": "code",
   "execution_count": null,
   "metadata": {},
   "outputs": [],
   "source": []
  },
  {
   "cell_type": "markdown",
   "metadata": {},
   "source": [
    "## Ejercicio 12:\n",
    "\n",
    "### Escribe un programa que solicite la altura de un triángulo y muestre un triángulo formado por asteriscos:\n",
    "\n",
    "        Introduzca la altura de un triángulo: 5\n",
    "            *\n",
    "           ***\n",
    "          *****\n",
    "         *******\n",
    "        *********"
   ]
  },
  {
   "cell_type": "markdown",
   "metadata": {},
   "source": [
    "### **Solución:** "
   ]
  },
  {
   "cell_type": "code",
   "execution_count": null,
   "metadata": {},
   "outputs": [],
   "source": []
  },
  {
   "cell_type": "markdown",
   "metadata": {},
   "source": [
    "## Ejercicio 13:\n",
    "\n",
    "### Escribe un código que solicite una altura y muestre un árbol de navidad formado por asteriscos.\n",
    "\n",
    "En caso de que la altura no sea par, la copa siempre tendrá una unidad más que el tronco.\n",
    "\n",
    "    Introduce la altura total del arbol: 5\n",
    "\n",
    "        *\n",
    "       ***\n",
    "      *****\n",
    "     *******\n",
    "    *********\n",
    "        *\n",
    "        *\n",
    "        *\n",
    "        *\n",
    "        *\n",
    "### <br />\n",
    "### **Solución:** "
   ]
  },
  {
   "cell_type": "code",
   "execution_count": null,
   "metadata": {},
   "outputs": [],
   "source": []
  },
  {
   "cell_type": "markdown",
   "metadata": {},
   "source": [
    "## Ejercicio 14:\n",
    "\n",
    "### Escribe un programa que imprima el numero de vocales que hay en la frase que el usuario introduzca"
   ]
  },
  {
   "cell_type": "markdown",
   "metadata": {},
   "source": [
    "### **Solución:** "
   ]
  },
  {
   "cell_type": "code",
   "execution_count": null,
   "metadata": {},
   "outputs": [],
   "source": []
  },
  {
   "cell_type": "markdown",
   "metadata": {},
   "source": [
    "## Ejercicio 15:\n",
    "\n",
    "### Para una clase de N alumnos, escribir un programa que pida un valor para N y una nota para cada alumno.\n",
    "\n",
    "Al final, el programa debe mostrar:\n",
    "\n",
    "- Cuantos alumnos han aprobado y cuál es la nota media de los aprobados.\n",
    "- Cuantos alumnos han suspendido y cuál es la nota media de los suspensos.\n",
    "- Cuál es la nota máxima de la clase y cuantos alumnos la han obtenido.\n",
    "- Cuál es la nota mínima de la clase y cuantos alumnos la han obtenido.\n",
    "\n",
    "        Introduzca el número de alumnos: 5 \n",
    "        Introduzca nota: 3 \n",
    "        Introduzca nota: 7 \n",
    "        Introduzca nota: 3 \n",
    "        Introduzca nota: 7 \n",
    "        Introduzca nota: 5 \n",
    "\n",
    "        Han aprobado 3 alumnos Nota media de los aprobados: 6.333333333 \n",
    "        Han suspendido 2 alumnos \n",
    "        Nota media de los suspensos: 3.0 \n",
    "        La nota máxima de la clase es 7.0 la han obtenido 2 alumnos \n",
    "        La nota mínima de la clase es 3.0 la han obtenido 2 alumnos "
   ]
  },
  {
   "cell_type": "markdown",
   "metadata": {},
   "source": [
    "### **Solución:**"
   ]
  },
  {
   "cell_type": "code",
   "execution_count": null,
   "metadata": {},
   "outputs": [],
   "source": []
  },
  {
   "cell_type": "markdown",
   "metadata": {},
   "source": [
    "## Ejercicio 16:\n",
    "\n",
    "### Escribe un programa que elija un valor aleatorio entre 0 y 20 y que permita al usuario intentar adivinar el número.  \n",
    "\n",
    "Utilizar una estructura iterativa que permita:\n",
    "\n",
    "- Preguntar un número al usuario\n",
    "- Comparar dicho número con el valor de SECRETO\n",
    "    - Si ha acertado, mostrar un mensaje de enhorabuena, lo has acertado en x intentos\n",
    "    - Si no ha acertado, indicar si el valor SECRETO es menor o mayor que el introducido\n",
    "- El bucle se repite hasta que el usuario acierte el valor\n",
    "\n",
    "**Nota:** No hace falta validar la entrada, el usuario puede introducir cualquier valor entero y el programa se limita a darle pistas.\n",
    "\n",
    "        Introduzca un númmero: 500\n",
    "        El número secreto es mayor\n",
    "        Introduzca un númmero: 800\n",
    "        El número secreto es menor\n",
    "        Introduzca un númmero: 768\n",
    "        Enhorabuena Has acertado en 3 intentos "
   ]
  },
  {
   "cell_type": "markdown",
   "metadata": {},
   "source": [
    "### **Solución:** "
   ]
  },
  {
   "cell_type": "code",
   "execution_count": null,
   "metadata": {},
   "outputs": [],
   "source": []
  },
  {
   "cell_type": "markdown",
   "metadata": {},
   "source": [
    "## Ejercicio 17:\n",
    "\n",
    "### Escribir un programa que genere una secuencia de Fibonacci.\n",
    "\n",
    "Los números de Fibonacci forman una secuencia en la que cada número es igual a la suma de los dos números anteriores.\n",
    "\n",
    "    Ejemplo: \n",
    "\n",
    "    F0 = 0\n",
    "    F1 = 1\n",
    "    F2 = F0 + F1 = 0 + 1 = 1\n",
    "    F3 = F1 + F2 = 1 + 1 = 2\n",
    "    F4 = F3 + F2 = 2 + 1 = 3\n",
    "    F5 = F4 + F3 = 3 + 2 = 5\n",
    "    F6 = F5 + F4 = 5 + 3 = 8\n",
    "\n",
    "    Introduzca el número de términos a calcular: 6\n",
    "    Resultado: 8"
   ]
  },
  {
   "cell_type": "markdown",
   "metadata": {},
   "source": [
    "### **Solución:** "
   ]
  },
  {
   "cell_type": "code",
   "execution_count": null,
   "metadata": {},
   "outputs": [],
   "source": []
  },
  {
   "cell_type": "markdown",
   "metadata": {},
   "source": [
    "## Ejercicio 18:\n",
    "\n",
    "### Escribir un programa que produzca una tabla de conversión de grados centígrados a Fahrenheit de n filas. \n",
    "\n",
    "La tabla empezará con C0 grados centígrados, que se habrán solicitado al usuario, e irá realizando incrementos constantes de una cantidad también introducida por el usuario. El código debe mostrar un número de valores cuya cantidad también será seleccionada por el usuario.\n",
    "\n",
    "**Nota:** (0 °C × 9 / 5) + 32 = 32 °F\n",
    "\n",
    "        Introduzca temperatura inicial en grados centígrados: 25 \n",
    "        Introduzca incremetos: 1 \n",
    "        Introduzca el número de filas: 10 \n",
    "\n",
    "        Tabla de conversión\n",
    "        Centígrados Fahrenheit\n",
    "        ======================\n",
    "        25.00ºC        77.00ºF\n",
    "        26.00ºC        78.80ºF\n",
    "        27.00ºC        80.60ºF\n",
    "        28.00ºC        82.40ºF\n",
    "        29.00ºC        84.20ºF\n",
    "        30.00ºC        86.00ºF\n",
    "        31.00ºC        87.80ºF\n",
    "        32.00ºC        89.60ºF\n",
    "        33.00ºC        91.40ºF\n",
    "        34.00ºC        93.20ºF"
   ]
  },
  {
   "cell_type": "markdown",
   "metadata": {},
   "source": [
    "### **Solución:** "
   ]
  },
  {
   "cell_type": "code",
   "execution_count": null,
   "metadata": {},
   "outputs": [],
   "source": []
  },
  {
   "cell_type": "markdown",
   "metadata": {},
   "source": [
    "## Ejercicio 19:\n",
    "\n",
    "### Generar una secuencia de 50 números aleatorios.\n",
    "\n",
    "El código debe ir diferenciando si cada número es par o impar y almacenarlos en listas separadas. Los pasos son:\n",
    "    \n",
    "1. Importar la biblioteca aleatoria para generar números aleatorios. \n",
    "2. Crea dos listas vacías, una para los números pares y otra para los impares.\n",
    "3. Crea un bucle que vaya de 1 a 50 (para i en el rango 50:).\n",
    "4. Dentro del bucle genera un número aleatorio y coloca cada uno de ellos en la lista adecuada (par o impar).  \n",
    "    número=random.randint(0,100)     \n",
    "5. Una vez calculadas las listas, mostrar en pantalla el máximo, el mínimo y el número de elementos de cada lista :\n",
    "    \n",
    "        Even numbers: 23 Max:84 Min:2 \n",
    "        Odd  numbers: 27 Max:97 Min:3 "
   ]
  },
  {
   "cell_type": "markdown",
   "metadata": {},
   "source": [
    "### **Solución:** "
   ]
  },
  {
   "cell_type": "code",
   "execution_count": null,
   "metadata": {},
   "outputs": [],
   "source": []
  },
  {
   "cell_type": "markdown",
   "metadata": {},
   "source": [
    "## Ejericio 20:\n",
    "\n",
    "Descrifrar una contraseña compuesta por 3 caracteres.\n",
    "\n",
    "* Caso 1. Sabemos que la contraseña está formada por una mayúscula, seguida de una minúscula y un número\n",
    "* Caso 2. Sólo sabemos que la contraseña está formada por 3 caracteres, de cualquier tipo.\n",
    "\n",
    "**Pasos:**\n",
    "\n",
    "1. Inicializar las cadenas de caracteres válidas (ya proporcionadas)\n",
    "2. Inicializar una contraseña secreta (ya proporcionada)\n",
    "3. Hacer los bucles y comparaciones necesarios para encontrar el secreto. Esto se llama ataque de fuerza bruta\n",
    "4. Añadir un contador para el número de intentos."
   ]
  },
  {
   "cell_type": "code",
   "execution_count": 23,
   "metadata": {},
   "outputs": [],
   "source": [
    "upper=\"ABCDEFGHIJ\"\n",
    "lower=\"abcdefghij\"\n",
    "number=\"1234567890\"\n",
    "secret=\"Je1\""
   ]
  },
  {
   "cell_type": "markdown",
   "metadata": {},
   "source": [
    "### **Solución Caso 1:** "
   ]
  },
  {
   "cell_type": "code",
   "execution_count": null,
   "metadata": {},
   "outputs": [],
   "source": []
  },
  {
   "cell_type": "markdown",
   "metadata": {},
   "source": [
    "### **Solución Caso 2:** "
   ]
  },
  {
   "cell_type": "code",
   "execution_count": null,
   "metadata": {},
   "outputs": [],
   "source": []
  },
  {
   "cell_type": "markdown",
   "metadata": {},
   "source": [
    "## Ejercicio 21:\n",
    "\n",
    "### Disponemos de una baraja francesa formada por cuatro palos y 13 valores. Podemos simularlo con las siguientes variables\n",
    "\n",
    "* Palos: Corazones, Rombos, Picas, Treboles\n",
    "\n",
    "        palos=[\"♥\",\"♦\",\"♣\",\"♠\"]\n",
    "    \n",
    "* Valores: Del 1 al 13 (del 1 al 10 más Jota (11), Dama (12) y Rey(13))\n",
    "\n",
    "Genera todas las posibles combinaciones y almacénalas en una variable de tipo lista de tuplas similar a esta:\n",
    "\n",
    "        baraja=[(\"♥\",1,\"♥1\"),(\"♥\",2,\"♥2\"),...,(\"♠\",13,\"♠13\")]"
   ]
  },
  {
   "cell_type": "markdown",
   "metadata": {},
   "source": [
    "### **Solución:** "
   ]
  },
  {
   "cell_type": "code",
   "execution_count": null,
   "metadata": {},
   "outputs": [],
   "source": []
  },
  {
   "cell_type": "markdown",
   "metadata": {},
   "source": [
    "## Ejercicio 22:\n",
    "\n",
    "### Tenemos estas dos variables para simular una baraja francesa de 52 cartas:\n",
    "\n",
    "    palos=[\"♥\",\"♦\",\"♠\",\"♣\"]\n",
    "    valores=[1,2,3,4,5,6,7,8,9,10,11,12,13]\n",
    "\n",
    "\n",
    "Implementa un código que reparta 6 cartas aleatorias a 4 jugadores. Recuerda que no debería ser posible entregar la misma carta a dos personas. El resultado del código debería generar una salida como esta:\n",
    "\n",
    "\n",
    "    Jugador1: ♦10  ♥9   ♦7   ♦5   ♣1   ♠5   \n",
    "    Jugador2: ♥13  ♦3   ♣7   ♠1   ♦12  ♠11  \n",
    "    Jugador3: ♣8   ♥4   ♠10  ♥6   ♣5   ♣3   \n",
    "    Jugador4: ♥11  ♠4   ♦4   ♣12  ♠3   ♥10\n",
    "    \n",
    "\n",
    "Las funciones de la librería RANDOM pueden resultar de utilidad (shuffle, sample, randint,...)"
   ]
  },
  {
   "cell_type": "markdown",
   "metadata": {},
   "source": [
    "### **Solución 1:** "
   ]
  },
  {
   "cell_type": "code",
   "execution_count": 26,
   "metadata": {},
   "outputs": [],
   "source": []
  },
  {
   "cell_type": "markdown",
   "metadata": {},
   "source": [
    "### **Solución 2:** "
   ]
  },
  {
   "cell_type": "code",
   "execution_count": null,
   "metadata": {},
   "outputs": [],
   "source": []
  },
  {
   "cell_type": "markdown",
   "metadata": {},
   "source": [
    "## Ejercicio 23:\n",
    "\n",
    "### Construir un código que genere un cartón de bingo aleatorio. \n",
    "\n",
    "El cartón de bingo tiene que tener 4 filas y 6 columnas. Los números tiene que ser 24 números aleatorios del 0 al 100 sin que se repita ninguno. El resultado del código debe imprimir un cartón como este:\n",
    "\n",
    "    | 26|  3| 79| 82| 61|100|\n",
    "    | 72| 92| 49| 60|  0| 21|\n",
    "    |  8| 51| 36| 33| 78| 65|\n",
    "    | 25|  1| 73|  5| 77|  4|\n",
    "    \n",
    "Recuordar que las funciones de la librería RANDOM pueden resultar de utilidad (shuffle, sample, randint,...)"
   ]
  },
  {
   "cell_type": "markdown",
   "metadata": {},
   "source": [
    "### **Solución:** "
   ]
  },
  {
   "cell_type": "code",
   "execution_count": null,
   "metadata": {},
   "outputs": [],
   "source": []
  },
  {
   "cell_type": "markdown",
   "metadata": {},
   "source": [
    "## Ejercicio 24:\n",
    "\n",
    "\n",
    "### Modifica el código proporcionado para conseguir el siguiente efecto:\n",
    "\n",
    "        sentence=\"Universidad\"\n",
    "        for character in range (1,len(sentence)+1):\n",
    "            print(\"%11s\" % sentence[:character])\n",
    "    \n",
    "\n",
    "                  d\n",
    "                 ad\n",
    "                dad\n",
    "               idad\n",
    "              sidad\n",
    "             rsidad\n",
    "            ersidad\n",
    "           versidad\n",
    "          iversidad\n",
    "         niversidad\n",
    "        Universidad"
   ]
  },
  {
   "cell_type": "markdown",
   "metadata": {},
   "source": [
    "### **Solución:** "
   ]
  },
  {
   "cell_type": "code",
   "execution_count": null,
   "metadata": {
    "scrolled": true
   },
   "outputs": [],
   "source": []
  },
  {
   "cell_type": "markdown",
   "metadata": {},
   "source": [
    "## Ejercicio 25:\n",
    "\n",
    "### Queremos elevar una lista de números reales a la cuarta potencia, pero nuestra distribución de Python no dispone de la librería NUMPY. \n",
    "\n",
    "Realizar un código que permita elevar una lista de valores sin hacer uso de esta librería."
   ]
  },
  {
   "cell_type": "markdown",
   "metadata": {},
   "source": [
    "### **Solución:**"
   ]
  },
  {
   "cell_type": "code",
   "execution_count": null,
   "metadata": {},
   "outputs": [],
   "source": []
  },
  {
   "cell_type": "markdown",
   "metadata": {},
   "source": [
    "## Ejercicio 26:\n",
    "\n",
    "### Queremos calcular la raiz cuadrada de una lista de números reales pero nuestra distribución de python no dispone de la librería NUMPY. \n",
    "\n",
    "Realizar un código que permita calcular la raiz cuadrada de una lista de valores sin hacer uso de esta librería."
   ]
  },
  {
   "cell_type": "markdown",
   "metadata": {},
   "source": [
    "### **Solución:**"
   ]
  },
  {
   "cell_type": "code",
   "execution_count": null,
   "metadata": {},
   "outputs": [],
   "source": []
  },
  {
   "cell_type": "markdown",
   "metadata": {},
   "source": [
    "## Ejercicio 27:\n",
    "\n",
    "### Disponemos de la siguiente URL: \n",
    "\n",
    "    \"www.datosdetrafico.com/api/v1/city=XXXX&day=DD&month=MM&year=YYYY\"\n",
    "    \n",
    "En función de los datos que escribamos en XXXX, DD, MM e YYYY accederemos a una web que nos devuelve el tráfico para esa ciudad en esa fecha. Por ejemplo, la URL:\n",
    "\n",
    "    \"www.datosdetrafico.com/api/v1/city=Cuenca&day=1&month=8&year=2019\"\n",
    "    \n",
    "Devolvería datos de tráfico para el 1 de agosto de 2019 para la ciudad de Cuenca. Necesitamos acceder a los los datos para las siguientes combinaciones:\n",
    "\n",
    "* Ciudades: Cuenca, Guadalajara, Madrid, Córdoba, Soria\n",
    "* Años: 2019\n",
    "* Meses: De Enero a Diciembre\n",
    "* Días 1,8,15,22 y 29\n",
    "\n",
    "Implementar un código que genere todas las URLs y las almacene en una variable de tipo lista"
   ]
  },
  {
   "cell_type": "markdown",
   "metadata": {},
   "source": [
    "### **Solución:** "
   ]
  },
  {
   "cell_type": "code",
   "execution_count": null,
   "metadata": {},
   "outputs": [],
   "source": []
  },
  {
   "cell_type": "markdown",
   "metadata": {},
   "source": [
    "## Ejercicio 28: \n",
    "\n",
    "### Simular el lanzamiento de una moneda\n",
    "    \n",
    "1. Importar las siguientes librerías: random, numpy y matplotlib\n",
    "2. Pedir al usuario que introduzca un número de monedas utilizadas en el experimento. Guárdalo en una variable llamada numberofcoins\n",
    "3. Generar radomamente tantos 0's o 1's como el número de monedas lanzadas deseadas.\n",
    "   * Para ello vamos a utilizar otro tipo de sentencia de bucle for que controlará el número de valores generados:\n",
    "        for i in range(1,numberofcoins_int +1):\n",
    "   * Simulamos la cara y la cruz de la moneda fipada con 0's y 1's. 0 significa cara y 1 significa cruz.\n",
    "   \n",
    "          coinvalue=random.randint(0,1)\n",
    "   \n",
    "4. Para cada moneda lanzada proporcione un mensaje. Se da un ejemplo de tres monedas lanzadas:\n",
    "\n",
    "        Flipping coin number:  1 we have obtained value:  1\n",
    "\n",
    "        Flipping coin number:  2 we have obtained value:  0\n",
    "\n",
    "        Flipping coin number:  3 we have obtained value:  1\n",
    "        \n",
    "5. Calcula el módulo del valor obtenido (1 o 0) para identificar si es par o impar\n",
    "\n",
    "6. Si el módulo = 0 entonces se incrementará en uno una nueva variable llamada cara. Esta variable contará las monedas lanzadas al aire que fueron cara. Para las que tengan módulo = 1 se llamará cruz a la variable que contará las monedas lanzadas que salido cruz.\n",
    "\n",
    "7. Proporcionar un mensaje de salida similar a \"After flipping 3 times a coin, we obtained 1 heads and 2 tails\"\n",
    "\n",
    "8. Cree una gráfico de barras utilizando la funcionalidad de trazado:\n",
    "\n",
    "    * Utilizar las funciones plt.yticks y plt.xticks proporcionándoles un arange de numpy: Para los yticks el arange será (0, 20, 1) y para los xticks será (0, 2, 1))\n",
    "    * Para imprimir una barra usa plt.bar(atrib1,atrib2) donde atrib1 valora 0 o 1 dependiendo de la barra que estemos imprimiendo y atrib 2 es la variable que contiene el número de 0's o 1's obtenidos.\n"
   ]
  },
  {
   "cell_type": "markdown",
   "metadata": {},
   "source": [
    "### **Solución:** "
   ]
  },
  {
   "cell_type": "code",
   "execution_count": null,
   "metadata": {},
   "outputs": [],
   "source": []
  }
 ],
 "metadata": {
  "interpreter": {
   "hash": "321a562c32c1ef0f4d1bce6724f96cbf5562b75820608d2935414fe72bdf9c83"
  },
  "kernelspec": {
   "display_name": "Python 3",
   "language": "python",
   "name": "python3"
  },
  "language_info": {
   "codemirror_mode": {
    "name": "ipython",
    "version": 3
   },
   "file_extension": ".py",
   "mimetype": "text/x-python",
   "name": "python",
   "nbconvert_exporter": "python",
   "pygments_lexer": "ipython3",
   "version": "3.8.8"
  }
 },
 "nbformat": 4,
 "nbformat_minor": 2
}

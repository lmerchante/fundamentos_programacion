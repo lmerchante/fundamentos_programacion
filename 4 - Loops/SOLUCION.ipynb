{
 "cells": [
  {
   "cell_type": "markdown",
   "metadata": {},
   "source": [
    "# **TEMA 4: Loops**"
   ]
  },
  {
   "cell_type": "markdown",
   "metadata": {},
   "source": [
    "## Ejercicio 1:\n",
    "\n",
    "### Realizar un programa que solicite un número por teclado e imprima todos los números comprendidos entre 0 y el número introducido (incluido). \n",
    "\n",
    "Realiza dos versiones, una con blucle for y otra con bucle while.\n",
    "\n",
    "    Imprime los numeros del 0 a numero que introduzca \n",
    "    =================================================\n",
    "    Introduzca un numero > 0: 5\n",
    "    i= 0 \n",
    "    i= 1 \n",
    "    i= 2 \n",
    "    i= 3 \n",
    "    i= 4 \n",
    "    i= 5 "
   ]
  },
  {
   "cell_type": "markdown",
   "metadata": {},
   "source": [
    "### **Solución 1:** "
   ]
  },
  {
   "cell_type": "code",
   "execution_count": null,
   "metadata": {},
   "outputs": [],
   "source": [
    "#Imprimir los numeros del 0 a numero que introduzca\n",
    "print(\"\\nImprime los numeros del 0 a numero que introduzca\")\n",
    "print(\"=================================================\")\n",
    "num=int(input(\"Introduzca un numero > 0: \"))\n",
    "for i in range(num+1):\n",
    "    print(\"i={0:2d}\".format(i))"
   ]
  },
  {
   "cell_type": "markdown",
   "metadata": {},
   "source": [
    "### **Solución 2:** "
   ]
  },
  {
   "cell_type": "code",
   "execution_count": null,
   "metadata": {},
   "outputs": [],
   "source": [
    "#Imprimir los numeros del 0 a numero que introduzca\n",
    "print(\"\\nImprime los numeros del 0 a numero que introduzca\")\n",
    "print(\"=================================================\")\n",
    "num=int(input(\"Introduzca un numero > 0: \"))\n",
    "i=0\n",
    "while i<= num:\n",
    "    print(\"i={0:2d}\".format(i))\n",
    "    i=i+1"
   ]
  },
  {
   "cell_type": "markdown",
   "metadata": {},
   "source": [
    "## Ejercicio 2:\n",
    "\n",
    "### Realizar un programa que solicite un número por teclado e imprima todos los números pares y su cuadrado comprendidos entre 0 y el número incluido. \n",
    "\n",
    "Se deben realizar dos versiones, una con bucle for y otra con bucle while.\n",
    "\n",
    "    Introduzca un numero > 0: 10\n",
    "    i= 0 i*i= 0 \n",
    "    i= 2 i*i= 4 \n",
    "    i= 4 i*i= 16 \n",
    "    i= 6 isi= 36 \n",
    "    i= 8 i*i= 64 \n",
    "    i=10 i*i=100 "
   ]
  },
  {
   "cell_type": "markdown",
   "metadata": {},
   "source": [
    "### **Solución 1:** "
   ]
  },
  {
   "cell_type": "code",
   "execution_count": null,
   "metadata": {},
   "outputs": [],
   "source": [
    "num=int(input(\"Introduzca un numero > 0: \"))\n",
    "for i in range(num+1):\n",
    "    if(i%2==0):\n",
    "        print(\"i={0:2d} i*i={1:3d}\".format(i, i*i))"
   ]
  },
  {
   "cell_type": "markdown",
   "metadata": {},
   "source": [
    "### **Solución 2:** "
   ]
  },
  {
   "cell_type": "code",
   "execution_count": null,
   "metadata": {},
   "outputs": [],
   "source": [
    "num=int(input(\"Introduzca un numero > 0: \"))\n",
    "i=0\n",
    "while (i<=num):\n",
    "    if(i%2==0):\n",
    "        print(\"i={0:2d} i*i={1:3d}\".format(i, i*i))\n",
    "    i=i+1"
   ]
  },
  {
   "cell_type": "markdown",
   "metadata": {},
   "source": [
    "## Ejercicio 3:\n",
    "\n",
    "### Escribir un programa que lea un valor entero que actúe como mínimo y un valor entero que lo haga como máximo.\n",
    "\n",
    "Programar un bucle que muestre por pantalla una tabla de valores y valores al cuadrado para todos los números comprendidos entre min y max.\n",
    "\n",
    "    Introduzca límite inferior: 9 \n",
    "    Introduzca límite superior: 12 \n",
    "    i= 9 i*i= 81 \n",
    "    i=l0 i*i=100 \n",
    "    i=11 i*i=121 \n",
    "    i=12 i*i=144 "
   ]
  },
  {
   "cell_type": "markdown",
   "metadata": {},
   "source": [
    "### **Solución:** "
   ]
  },
  {
   "cell_type": "code",
   "execution_count": null,
   "metadata": {},
   "outputs": [],
   "source": [
    "lim_inf=int(input(\"Introduzca límite inferior: \"))\n",
    "lim_sup=int(input(\"Introduzca límite superior: \"))\n",
    "for i in range(lim_inf, lim_sup+1):\n",
    "        print(\"i={0:2d} i*i={1:3d}\".format(i, i*i))"
   ]
  },
  {
   "cell_type": "markdown",
   "metadata": {},
   "source": [
    "## Ejercicio 4:\n",
    "\n",
    "### Escribir un programa que solicite un número por teclado e imprima todos los números impares y su raíz cuadrada entre el valor interoducido y 0 (de manera descendente). \n",
    "\n",
    "Se deben realizar dos versiones, una con blucle for y otra con bucle while.\n",
    "\n",
    "    Introduzca un numero > 0: 9 \n",
    "    i=9.00 3.00 \n",
    "    i=7.00 2.65 \n",
    "    i=5.00 2.24 \n",
    "    i=3.00 1.73 \n",
    "    i=1.00 1.00 "
   ]
  },
  {
   "cell_type": "markdown",
   "metadata": {},
   "source": [
    "### **Solución 1:** "
   ]
  },
  {
   "cell_type": "code",
   "execution_count": null,
   "metadata": {},
   "outputs": [],
   "source": [
    "import math\n",
    "num=int(input(\"Introduzca un numero > 0: \"))\n",
    "for i in range(num, 0, -1):\n",
    "    if(i%2!=0):\n",
    "        print(\"i={0:.2f} {1:.2f}\".format(i, math.sqrt(i)))"
   ]
  },
  {
   "cell_type": "markdown",
   "metadata": {},
   "source": [
    "### **Solución 2:** "
   ]
  },
  {
   "cell_type": "code",
   "execution_count": null,
   "metadata": {},
   "outputs": [],
   "source": [
    "import math\n",
    "num=int(input(\"Introduzca un numero > 0: \"))\n",
    "while(num>0):\n",
    "    if(num%2!=0):\n",
    "        print(\"i={0:.2f} {1:.2f}\".format(num, math.sqrt(num)))\n",
    "    num=num-1"
   ]
  },
  {
   "cell_type": "markdown",
   "metadata": {},
   "source": [
    "## Ejercicio 5:\n",
    "\n",
    "### Escribir un código que pida 2 números y calcule la suma de todos los números comprendidos entre esos dos números. Ambos incluidos."
   ]
  },
  {
   "cell_type": "markdown",
   "metadata": {},
   "source": [
    "### **Solución:** "
   ]
  },
  {
   "cell_type": "code",
   "execution_count": null,
   "metadata": {},
   "outputs": [],
   "source": [
    "n1=int(input(\"Introduce número 1: \"))\n",
    "n2=int(input(\"Introduce número 2: \"))\n",
    "sum=0\n",
    "for i in range(n1,n2+1):\n",
    "    sum=sum+i\n",
    "    print(\"{} \".format(i), end='')\n",
    "print(\"\\nLa suma es: {}\".format(sum))"
   ]
  },
  {
   "cell_type": "markdown",
   "metadata": {},
   "source": [
    "## Ejercicio 6:\n",
    "\n",
    "### Programa un código que solicite un número y valide que es positivo.\n",
    "\n",
    "Si el número es menor o igual a 0 debe mostrar un mensaje de error y volver a solicitar el número.\n",
    "\n",
    "    Introduce número >0: -3 \n",
    "    Error, debe introducir un número > 0 \n",
    "    Introduce número >0: 4 \n",
    "    Enhorabuena, ha introducido un número mayor que 0 "
   ]
  },
  {
   "cell_type": "markdown",
   "metadata": {},
   "source": [
    "### **Solución:** "
   ]
  },
  {
   "cell_type": "code",
   "execution_count": null,
   "metadata": {},
   "outputs": [],
   "source": [
    "n1=float(input(\"Introduce número >0: \"))\n",
    "while(n1<=0):\n",
    "    print(\"Error, debe introducir un número > 0\")\n",
    "    n1=float(input(\"Introduce número >0: \"))\n",
    "print(\"Enhorabuena, ha introducido un número mayor que 0\")"
   ]
  },
  {
   "cell_type": "markdown",
   "metadata": {},
   "source": [
    "## Ejercicio 7:\n",
    "\n",
    "### Escribe un programa que solicite dos números, límite inferior y límite superior, y valida que el límite superior es mayor estricto que el límite inferior. \n",
    "\n",
    "A continuación, calcula la suma de los números pares y la suma de los números impares por separado. Finalmente muestra las sumas.\n",
    "\n",
    "    Introduzca límite inferior: 3 \n",
    "    Introduzca límite superior: 2 \n",
    "    El límite superior deber > que el límite inferior: 3 \n",
    "    Introduzca límite superior: 10 \n",
    "    Suma de pares: 28 \n",
    "    Suma de impares: 24 "
   ]
  },
  {
   "cell_type": "markdown",
   "metadata": {},
   "source": [
    "### **Solución:** "
   ]
  },
  {
   "cell_type": "code",
   "execution_count": null,
   "metadata": {},
   "outputs": [],
   "source": [
    "lim_inf=int(input(\"Introduzca límite inferior: \"))\n",
    "lim_sup=int(input(\"Introduzca límite superior: \"))\n",
    "\n",
    "while(lim_sup<=lim_inf):\n",
    "    print(\"El límite superior deber > que el límite inferior: {0:2d}\".format(lim_inf))\n",
    "    lim_sup=int(input(\"Introduzca límite superior: \"))\n",
    "        \n",
    "sum_pares=0\n",
    "sum_impares=0\n",
    "for i in range(lim_inf, lim_sup+1):\n",
    "    if(i%2==0):\n",
    "        sum_pares=sum_pares+i\n",
    "    else:\n",
    "        sum_impares=sum_impares+i\n",
    "        \n",
    "print(\"Suma de pares:   {0:5d}\".format(sum_pares))\n",
    "print(\"Suma de impares: {0:5d}\".format(sum_impares))"
   ]
  },
  {
   "cell_type": "markdown",
   "metadata": {},
   "source": [
    "## Ejercicio 8:\n",
    "\n",
    "### Desarrolla un código que solicite un número entero por teclado e indique si el número es primo o no. \n",
    "\n",
    "Recordar que un número es primo solo si es divisible por él y por la unidad. Una manera de comprobar si un número num es primo, es calcular el resto de la división de dicho número entre todos los número comprendidos entre el 1 y el número introducido.  Si alguno de los módulos (resto de la división) es cero entonces el número no es primo. "
   ]
  },
  {
   "cell_type": "markdown",
   "metadata": {},
   "source": [
    "### **Solución:** "
   ]
  },
  {
   "cell_type": "code",
   "execution_count": null,
   "metadata": {},
   "outputs": [],
   "source": [
    "# // te da el cociente y el % te da el resto\n",
    "n1=int(input(\"Introduce un número: \"))\n",
    "primo=True\n",
    "for divisor in range(2,n1):\n",
    "    if(n1%divisor==0):\n",
    "        primo=False\n",
    "        break\n",
    "if (primo):\n",
    "    print(\"El número {0:2d} es PRIMO\".format(n1))\n",
    "else:\n",
    "    print(\"El número {0:2d} es NO PRIMO\".format(n1))"
   ]
  },
  {
   "cell_type": "markdown",
   "metadata": {},
   "source": [
    "## Ejercicio 9:\n",
    "\n",
    "### Escribe un código que solicite dos números, límite inferior y límite superior, y muestre para cada uno de los números entre los dos limites, si son primos o no:\n",
    "\n",
    "    Introduzca límite inferior: 3 \n",
    "    Introduzca límite superior: 10 \n",
    "    \n",
    "    El número 3 es PRIMO \n",
    "    El número 4 es NO PRIMO \n",
    "    El número 5 es PRIMO \n",
    "    El número 6 es NO PRIMO \n",
    "    El número 7 es PRIMO \n",
    "    El número 8 es NO PRIMO \n",
    "    El número 9 es NO PRIMO \n",
    "    El número 10 es NO PRIMO "
   ]
  },
  {
   "cell_type": "markdown",
   "metadata": {},
   "source": [
    "### **Solución:** "
   ]
  },
  {
   "cell_type": "code",
   "execution_count": null,
   "metadata": {},
   "outputs": [],
   "source": [
    "lim_inf=int(input(\"Introduzca límite inferior: \"))\n",
    "lim_sup=int(input(\"Introduzca límite superior: \"))\n",
    "\n",
    "while(lim_sup<=lim_inf):\n",
    "    print(\"El límite superior deber > que el límite inferior: {0:2d}\".format(lim_inf))\n",
    "    lim_sup=int(input(\"Introduzca límite superior: \"))\n",
    "\n",
    "for n1 in range(lim_inf, lim_sup+1):\n",
    "    primo=True\n",
    "    for divisor in range(2,(n1//2)+1):\n",
    "        if(n1%divisor==0):\n",
    "            primo=False\n",
    "            break\n",
    "    if (primo):\n",
    "        print(\"El número {0:2d} es PRIMO\".format(n1))\n",
    "    else:\n",
    "        print(\"El número {0:2d} es NO PRIMO\".format(n1))"
   ]
  },
  {
   "cell_type": "markdown",
   "metadata": {},
   "source": [
    "## Ejercicio 10:\n",
    "\n",
    "### Realiza un programa que solicite dos números e indique si son amigos. \n",
    "\n",
    "Dos números son amigos si la suma de los divisiores del primer número menos el propio número es igual al segundo y además la suma de los divisiores del segundo número menos el propio número es igual al primero.\n",
    "\n",
    "    Introduce número 1: 220 \n",
    "    Introduce número 2: 284 \n",
    "    220 y 284 son AMIGOS \n",
    "\n",
    "    Introduce número 1: 345 \n",
    "    Introduce número 2: 454 \n",
    "    345 y 454 NO son AMIGOS "
   ]
  },
  {
   "cell_type": "markdown",
   "metadata": {},
   "source": [
    "### **Solución:** "
   ]
  },
  {
   "cell_type": "code",
   "execution_count": null,
   "metadata": {},
   "outputs": [],
   "source": [
    "n1=int(input(\"Introduce número 1: \"))\n",
    "n2=int(input(\"Introduce número 2: \"))\n",
    "\n",
    "sdn1=1+n1\n",
    "for divisor in range(2,(n1//2)+1):\n",
    "    if(n1%divisor==0):\n",
    "        sdn1=sdn1+divisor\n",
    "        \n",
    "if(sdn1-n1==n2):\n",
    "    sdn2=1+n2\n",
    "    for divisor in range(2,(n2//2)+1):\n",
    "        if(n2%divisor==0):\n",
    "            sdn2=sdn2+divisor\n",
    "    if(sdn2-n2==n1):\n",
    "        print(\"{} y {} son AMIGOS\". format(n1, n2))\n",
    "    else:\n",
    "        print(\"{} y {} NO son AMIGOS\". format(n1, n2))\n",
    "else:\n",
    "    print(\"{} y {} NO son AMIGOS\". format(n1, n2))"
   ]
  },
  {
   "cell_type": "markdown",
   "metadata": {},
   "source": [
    "## Ejercicio 11:\n",
    "\n",
    "### Escribe un programa que solicite un número y muestre la tabla de multlicar del 10 de dicho número\n",
    "\n",
    "    Introduzca un número: 5 \n",
    "    5* 1= 5 \n",
    "    5* 2= 10 \n",
    "    5* 3= 15 \n",
    "    5* 4= 20 \n",
    "    5* 5= 25 \n",
    "    5* 6= 30 \n",
    "    5* 7= 35 \n",
    "    5* 8= 40 \n",
    "    5* 9= 45 \n",
    "    5+10= 50 "
   ]
  },
  {
   "cell_type": "markdown",
   "metadata": {},
   "source": [
    "### **Solución:** "
   ]
  },
  {
   "cell_type": "code",
   "execution_count": null,
   "metadata": {},
   "outputs": [],
   "source": [
    "n1=int(input(\"Introduzca un número: \"))\n",
    "for i in range(1,11):\n",
    "    print(\"{0:2d}*{1:2d}={2:3d}\".format(n1, i, n1*i))"
   ]
  },
  {
   "cell_type": "markdown",
   "metadata": {},
   "source": [
    "## Ejercicio 12:\n",
    "\n",
    "### Escribe un programa que solicite la altura de un triángulo y muestre un triángulo formado por asteriscos:\n",
    "\n",
    "        Introduzca la altura de un triángulo: 5\n",
    "            *\n",
    "           ***\n",
    "          *****\n",
    "         *******\n",
    "        *********"
   ]
  },
  {
   "cell_type": "markdown",
   "metadata": {},
   "source": [
    "### **Solución:** "
   ]
  },
  {
   "cell_type": "code",
   "execution_count": null,
   "metadata": {},
   "outputs": [],
   "source": [
    "n1=int(input(\"Introduzca la altura de un triángulo: \"))\n",
    "for i in range(1, n1+1):\n",
    "    for esp in range(n1-i):\n",
    "        print(\"\", end=\" \")\n",
    "    for ast_i in range(i):\n",
    "        print(\"*\", end='')\n",
    "    for ast_d in range(i-1):\n",
    "        print(\"*\", end='')\n",
    "    print(\"\")"
   ]
  },
  {
   "cell_type": "markdown",
   "metadata": {},
   "source": [
    "## Ejercicio 13:\n",
    "\n",
    "### Escribe un código que solicite una altura y muestre un árbol de navidad formado por asteriscos.\n",
    "\n",
    "En caso de que la altura no sea par, la copa siempre tendrá una unidad más que el tronco.\n",
    "\n",
    "    Introduce la altura total del arbol: 5\n",
    "\n",
    "        *\n",
    "       ***\n",
    "      *****\n",
    "     *******\n",
    "    *********\n",
    "        *\n",
    "        *\n",
    "        *\n",
    "        *\n",
    "        *\n",
    "### <br />\n",
    "### **Solución:** "
   ]
  },
  {
   "cell_type": "code",
   "execution_count": null,
   "metadata": {},
   "outputs": [],
   "source": [
    "n1=int(input(\"Introduce la altura total del arbol: \"))\n",
    "if n1%2!=0:\n",
    "    copa=(n1//2) +1\n",
    "    tronco=n1-copa\n",
    "\n",
    "for i in range(1, copa+1):\n",
    "    for esp in range(n1-i):\n",
    "        print(\"\", end=\" \")\n",
    "    for ast_i in range(i):\n",
    "        print(\"*\", end='')\n",
    "    for ast_d in range(i-1):\n",
    "        print(\"*\", end='')\n",
    "    print(\"\")\n",
    "    \n",
    "for i in range(1, tronco+1):\n",
    "    for esp in range(n1-1):\n",
    "        print(\"\", end=\" \")\n",
    "    print(\"*\")\n"
   ]
  },
  {
   "cell_type": "markdown",
   "metadata": {},
   "source": [
    "## Ejercicio 14:\n",
    "\n",
    "### Escribe un programa que imprima el numero de vocales que hay en la frase que el usuario introduzca"
   ]
  },
  {
   "cell_type": "markdown",
   "metadata": {},
   "source": [
    "### **Solución:** "
   ]
  },
  {
   "cell_type": "code",
   "execution_count": null,
   "metadata": {},
   "outputs": [],
   "source": [
    "frase=input(\"Introduzca frase: \")\n",
    "cont=0\n",
    "for i in frase:\n",
    "    if (i in \"aeiouAEIOU\"):\n",
    "        cont=cont+1\n",
    "print(\"La frase {0} tiene {1} vocales\".format(frase, cont))"
   ]
  },
  {
   "cell_type": "markdown",
   "metadata": {},
   "source": [
    "## Ejercicio 15:\n",
    "\n",
    "### Para una clase de N alumnos, escribir un programa que pida un valor para N y una nota para cada alumno.\n",
    "\n",
    "Al final, el programa debe mostrar:\n",
    "\n",
    "- Cuantos alumnos han aprobado y cuál es la nota media de los aprobados.\n",
    "- Cuantos alumnos han suspendido y cuál es la nota media de los suspensos.\n",
    "- Cuál es la nota máxima de la clase y cuantos alumnos la han obtenido.\n",
    "- Cuál es la nota mínima de la clase y cuantos alumnos la han obtenido.\n",
    "\n",
    "        Introduzca el número de alumnos: 5 \n",
    "        Introduzca nota: 3 \n",
    "        Introduzca nota: 7 \n",
    "        Introduzca nota: 3 \n",
    "        Introduzca nota: 7 \n",
    "        Introduzca nota: 5 \n",
    "\n",
    "        Han aprobado 3 alumnos Nota media de los aprobados: 6.333333333 \n",
    "        Han suspendido 2 alumnos \n",
    "        Nota media de los suspensos: 3.0 \n",
    "        La nota máxima de la clase es 7.0 la han obtenido 2 alumnos \n",
    "        La nota mínima de la clase es 3.0 la han obtenido 2 alumnos "
   ]
  },
  {
   "cell_type": "markdown",
   "metadata": {},
   "source": [
    "### **Solución:**"
   ]
  },
  {
   "cell_type": "code",
   "execution_count": null,
   "metadata": {},
   "outputs": [],
   "source": [
    "n1=int(input(\"Introduzca el número de alumnos: \"))\n",
    "cont_sus=0\n",
    "cont_ap=0\n",
    "suma_sus=0\n",
    "suma_ap=0\n",
    "nota_max=-1\n",
    "nota_min=11\n",
    "cont_max=0\n",
    "for i in range(n1):\n",
    "    nota=float(input(\"Introduzca nota: \"))\n",
    "    if(nota<5):\n",
    "        cont_sus=cont_sus+1\n",
    "        suma_sus=suma_sus+nota\n",
    "    else:\n",
    "        cont_ap=cont_ap+1\n",
    "        suma_ap=suma_ap+nota\n",
    "    if(nota>nota_max):\n",
    "        cont_max=1\n",
    "        nota_max=nota\n",
    "    elif(nota==nota_max):\n",
    "        cont_max=cont_max+1\n",
    "    if(nota<nota_min):\n",
    "        cont_min=1\n",
    "        nota_min=nota\n",
    "    elif(nota==nota_min):\n",
    "        cont_min=cont_min+1\n",
    "print(\"\\nHan aprobado {} alumnos\".format(cont_ap))\n",
    "print(\"Nota media de los aprobados: {}\".format(suma_ap/cont_ap))\n",
    "print(\"\\nHan suspendido {} alumnos\".format(cont_sus))\n",
    "print(\"Nota media de los suspensos: {}\".format(suma_sus/cont_sus))\n",
    "print(\"\\nLa nota máxima de la clase es {} la han obtenido {} alumnos\".format(nota_max, cont_max))\n",
    "print(\"La nota mínima de la clase es {} la han obtenido {} alumnos\".format(nota_min, cont_min))"
   ]
  },
  {
   "cell_type": "markdown",
   "metadata": {},
   "source": [
    "## Ejercicio 16:\n",
    "\n",
    "### Escribe un programa que elija un valor aleatorio entre 0 y 20 y que permita al usuario intentar adivinar el número.  \n",
    "\n",
    "Utilizar una estructura iterativa que permita:\n",
    "\n",
    "- Preguntar un número al usuario\n",
    "- Comparar dicho número con el valor de SECRETO\n",
    "    - Si ha acertado, mostrar un mensaje de enhorabuena, lo has acertado en x intentos\n",
    "    - Si no ha acertado, indicar si el valor SECRETO es menor o mayor que el introducido\n",
    "- El bucle se repite hasta que el usuario acierte el valor\n",
    "\n",
    "**Nota:** No hace falta validar la entrada, el usuario puede introducir cualquier valor entero y el programa se limita a darle pistas.\n",
    "\n",
    "        Introduzca un númmero: 500\n",
    "        El número secreto es mayor\n",
    "        Introduzca un númmero: 800\n",
    "        El número secreto es menor\n",
    "        Introduzca un númmero: 768\n",
    "        Enhorabuena Has acertado en 3 intentos "
   ]
  },
  {
   "cell_type": "markdown",
   "metadata": {},
   "source": [
    "### **Solución:** "
   ]
  },
  {
   "cell_type": "code",
   "execution_count": null,
   "metadata": {},
   "outputs": [],
   "source": [
    "import random\n",
    "SECRETO=random.randint(0,20)\n",
    "num_int=1\n",
    "n1=int(input(\"Introduzca un número: \"))\n",
    "while(n1!=SECRETO):\n",
    "    num_int=num_int+1\n",
    "    if(n1<SECRETO):\n",
    "        print(\"El númmero secreto es mayor\")\n",
    "    elif(n1>SECRETO):\n",
    "        print(\"El númmero secreto es menor\")\n",
    "    n1=int(input(\"Introduzca un número: \"))\n",
    "print(\"Enhorabuena. Has acertado en {} intentos\".format(num_int))\n"
   ]
  },
  {
   "cell_type": "markdown",
   "metadata": {},
   "source": [
    "## Ejercicio 17:\n",
    "\n",
    "### Escribir un programa que genere una secuencia de Fibonacci.\n",
    "\n",
    "Los números de Fibonacci forman una secuencia en la que cada número es igual a la suma de los dos números anteriores.\n",
    "\n",
    "    Ejemplo: \n",
    "\n",
    "    F0 = 0\n",
    "    F1 = 1\n",
    "    F2 = F0 + F1 = 0 + 1 = 1\n",
    "    F3 = F1 + F2 = 1 + 1 = 2\n",
    "    F4 = F3 + F2 = 2 + 1 = 3\n",
    "    F5 = F4 + F3 = 3 + 2 = 5\n",
    "    F6 = F5 + F4 = 5 + 3 = 8\n",
    "\n",
    "    Introduzca el número de términos a calcular: 6\n",
    "    Resultado: 8"
   ]
  },
  {
   "cell_type": "markdown",
   "metadata": {},
   "source": [
    "### **Solución:** "
   ]
  },
  {
   "cell_type": "code",
   "execution_count": null,
   "metadata": {},
   "outputs": [],
   "source": [
    "Fn_1=1\n",
    "Fn_2=1\n",
    "Fn=1\n",
    "n=int(input(\"Introduzca el numero de terminos a calcular: \"))\n",
    "for i in range(2, n):\n",
    "    Fn=Fn_1+Fn_2\n",
    "    Fn_2=Fn_1\n",
    "    Fn_1=Fn\n",
    "print(\"Termino: {0:3d}\\n\".format(Fn))"
   ]
  },
  {
   "cell_type": "markdown",
   "metadata": {},
   "source": [
    "## Ejercicio 18:\n",
    "\n",
    "### Escribir un programa que produzca una tabla de conversión de grados centígrados a Fahrenheit de n filas. \n",
    "\n",
    "La tabla empezará con C0 grados centígrados, que se habrán solicitado al usuario, e irá realizando incrementos constantes de una cantidad también introducida por el usuario. El código debe mostrar un número de valores cuya cantidad también será seleccionada por el usuario.\n",
    "\n",
    "**Nota:** (0 °C × 9 / 5) + 32 = 32 °F\n",
    "\n",
    "        Introduzca temperatura inicial en grados centígrados: 25 \n",
    "        Introduzca incremetos: 1 \n",
    "        Introduzca el número de filas: 10 \n",
    "\n",
    "        Tabla de conversión\n",
    "        Centígrados Fahrenheit\n",
    "        ======================\n",
    "        25.00ºC        77.00ºF\n",
    "        26.00ºC        78.80ºF\n",
    "        27.00ºC        80.60ºF\n",
    "        28.00ºC        82.40ºF\n",
    "        29.00ºC        84.20ºF\n",
    "        30.00ºC        86.00ºF\n",
    "        31.00ºC        87.80ºF\n",
    "        32.00ºC        89.60ºF\n",
    "        33.00ºC        91.40ºF\n",
    "        34.00ºC        93.20ºF"
   ]
  },
  {
   "cell_type": "markdown",
   "metadata": {},
   "source": [
    "### **Solución:** "
   ]
  },
  {
   "cell_type": "code",
   "execution_count": null,
   "metadata": {},
   "outputs": [],
   "source": [
    "c0=float(input(\"Introduzca temperatura inicial en grados centigrados: \"))\n",
    "dc=float(input(\"Introduzca incremetos: \"))\n",
    "filas=int(input(\"Introduzca el número de filas: \"))\n",
    "print(\"\\nTabla de conversión\")\n",
    "print(\"Centígrados Fahrenheit\")\n",
    "print(\"======================\")\n",
    "for i in range(filas):\n",
    "    cent=c0+i*dc\n",
    "    far=(cent*9/5)+32\n",
    "    print(\"{0:.2f}ºC        {1:.2f}ºF\".format(cent, far))"
   ]
  },
  {
   "cell_type": "markdown",
   "metadata": {},
   "source": [
    "## Ejercicio 19:\n",
    "\n",
    "### Generar una secuencia de 50 números aleatorios.\n",
    "\n",
    "El código debe ir diferenciando si cada número es par o impar y almacenarlos en listas separadas. Los pasos son:\n",
    "    \n",
    "1. Importar la biblioteca aleatoria para generar números aleatorios. \n",
    "2. Crea dos listas vacías, una para los números pares y otra para los impares.\n",
    "3. Crea un bucle que vaya de 1 a 50 (para i en el rango 50:).\n",
    "4. Dentro del bucle genera un número aleatorio y coloca cada uno de ellos en la lista adecuada (par o impar).  \n",
    "    número=random.randint(0,100)     \n",
    "5. Una vez calculadas las listas, mostrar en pantalla el máximo, el mínimo y el número de elementos de cada lista :\n",
    "    \n",
    "        Even numbers: 23 Max:84 Min:2 \n",
    "        Odd  numbers: 27 Max:97 Min:3 "
   ]
  },
  {
   "cell_type": "markdown",
   "metadata": {},
   "source": [
    "### **Solución:** "
   ]
  },
  {
   "cell_type": "code",
   "execution_count": null,
   "metadata": {},
   "outputs": [],
   "source": [
    "import random as rnd\n",
    "even=[]\n",
    "odd=[]\n",
    "for i in range (50):\n",
    "    number=rnd.randint(0,100)\n",
    "    if (number%2)==0:\n",
    "        even.append(number)\n",
    "    else:\n",
    "        odd.append(number)\n",
    "print(even)\n",
    "print(odd)\n",
    "print(\"Even numbers:{0:d} Max:{1} Min:{2}\".format(len(even), max(even),min(even)))\n",
    "print(\"Odd numbers:{0:d} Max:{1} Min:{2}\".format(len(odd), max(odd),min(odd)))"
   ]
  },
  {
   "cell_type": "markdown",
   "metadata": {},
   "source": [
    "## Ejericio 20:\n",
    "\n",
    "Descrifrar una contraseña compuesta por 3 caracteres.\n",
    "\n",
    "* Caso 1. Sabemos que la contraseña está formada por una mayúscula, seguida de una minúscula y un número\n",
    "* Caso 2. Sólo sabemos que la contraseña está formada por 3 caracteres, de cualquier tipo.\n",
    "\n",
    "**Pasos:**\n",
    "\n",
    "1. Inicializar las cadenas de caracteres válidas (ya proporcionadas)\n",
    "2. Inicializar una contraseña secreta (ya proporcionada)\n",
    "3. Hacer los bucles y comparaciones necesarios para encontrar el secreto. Esto se llama ataque de fuerza bruta\n",
    "4. Añadir un contador para el número de intentos."
   ]
  },
  {
   "cell_type": "code",
   "execution_count": null,
   "metadata": {},
   "outputs": [],
   "source": [
    "upper=\"ABCDEFGHIJ\"\n",
    "lower=\"abcdefghij\"\n",
    "number=\"1234567890\"\n",
    "secret=\"Je1\""
   ]
  },
  {
   "cell_type": "markdown",
   "metadata": {},
   "source": [
    "### **Solución Caso 1:** "
   ]
  },
  {
   "cell_type": "code",
   "execution_count": null,
   "metadata": {},
   "outputs": [],
   "source": [
    "count=0\n",
    "for u in upper:\n",
    "    for l in lower:\n",
    "        for n in number:\n",
    "            guess=u+l+n\n",
    "            count+=1\n",
    "            if guess==secret:\n",
    "                print(\"Secret found: \"+guess)\n",
    "                break\n",
    "print(\"End of program. %d tries\"%(count))"
   ]
  },
  {
   "cell_type": "markdown",
   "metadata": {},
   "source": [
    "### **Solución Caso 2:** "
   ]
  },
  {
   "cell_type": "code",
   "execution_count": null,
   "metadata": {},
   "outputs": [],
   "source": [
    "all_char=upper+lower+number\n",
    "count=0\n",
    "for u in all_char:\n",
    "    for l in all_char:\n",
    "        for n in all_char:\n",
    "            guess=u+l+n\n",
    "            count+=1\n",
    "            if guess==secret:\n",
    "                print(\"Secret found: \"+guess)\n",
    "                break\n",
    "print(\"End of program. %d tries\"%count)"
   ]
  },
  {
   "cell_type": "markdown",
   "metadata": {},
   "source": [
    "## Ejercicio 21:\n",
    "\n",
    "### Disponemos de una baraja francesa formada por cuatro palos y 13 valores. Podemos simularlo con las siguientes variables\n",
    "\n",
    "* Palos: Corazones, Rombos, Picas, Treboles\n",
    "\n",
    "        palos=[\"♥\",\"♦\",\"♣\",\"♠\"]\n",
    "    \n",
    "* Valores: Del 1 al 13 (del 1 al 10 más Jota (11), Dama (12) y Rey(13))\n",
    "\n",
    "Genera todas las posibles combinaciones y almacénalas en una variable de tipo lista de tuplas similar a esta:\n",
    "\n",
    "        baraja=[(\"♥\",1,\"♥1\"),(\"♥\",2,\"♥2\"),...,(\"♠\",13,\"♠13\")]"
   ]
  },
  {
   "cell_type": "markdown",
   "metadata": {},
   "source": [
    "### **Solución:** "
   ]
  },
  {
   "cell_type": "code",
   "execution_count": null,
   "metadata": {},
   "outputs": [],
   "source": [
    "baraja=[]\n",
    "for p in [\"♥\",\"♦\",\"♣\",\"♠\"]:\n",
    "    for v in range(1,14):\n",
    "        baraja.append((p,v,p+str(v)))\n",
    "print(baraja)"
   ]
  },
  {
   "cell_type": "markdown",
   "metadata": {},
   "source": [
    "## Ejercicio 22:\n",
    "\n",
    "### Tenemos estas dos variables para simular una baraja francesa de 52 cartas:\n",
    "\n",
    "    palos=[\"♥\",\"♦\",\"♠\",\"♣\"]\n",
    "    valores=[1,2,3,4,5,6,7,8,9,10,11,12,13]\n",
    "\n",
    "\n",
    "Implementa un código que reparta 6 cartas aleatorias a 4 jugadores. Recuerda que no debería ser posible entregar la misma carta a dos personas. El resultado del código debería generar una salida como esta:\n",
    "\n",
    "\n",
    "    Jugador1: ♦10  ♥9   ♦7   ♦5   ♣1   ♠5   \n",
    "    Jugador2: ♥13  ♦3   ♣7   ♠1   ♦12  ♠11  \n",
    "    Jugador3: ♣8   ♥4   ♠10  ♥6   ♣5   ♣3   \n",
    "    Jugador4: ♥11  ♠4   ♦4   ♣12  ♠3   ♥10\n",
    "    \n",
    "\n",
    "Las funciones de la librería RANDOM pueden resultar de utilidad (shuffle, sample, randint,...)"
   ]
  },
  {
   "cell_type": "markdown",
   "metadata": {},
   "source": [
    "### **Solución 1:** "
   ]
  },
  {
   "cell_type": "code",
   "execution_count": null,
   "metadata": {},
   "outputs": [],
   "source": [
    "import random as rnd\n",
    "\n",
    "palos=[\"♥\",\"♦\",\"♠\",\"♣\"]\n",
    "valores=[1,2,3,4,5,6,7,8,9,10,11,12,13]\n",
    "\n",
    "baraja=[]\n",
    "for i in palos:\n",
    "    for j in valores:\n",
    "        baraja.append(i+str(j))"
   ]
  },
  {
   "cell_type": "code",
   "execution_count": null,
   "metadata": {},
   "outputs": [],
   "source": [
    "rnd.shuffle(baraja)\n",
    "juego={\"Jugador1\":baraja[0:6],\"Jugador2\":baraja[6:12],\"Jugador3\":baraja[12:18],\"Jugador4\":baraja[18:24]}\n",
    "for k,v in juego.items():\n",
    "    print(\"{0:7s}: {1:5s}{2:5s}{3:5s}{4:5s}{5:5s}{6:5s}\".format(k,v[0],v[1],v[2],v[3],v[4],v[5]))"
   ]
  },
  {
   "cell_type": "markdown",
   "metadata": {},
   "source": [
    "### **Solución 2:** "
   ]
  },
  {
   "cell_type": "code",
   "execution_count": null,
   "metadata": {},
   "outputs": [],
   "source": [
    "jugadores=dict(jugador1=[],jugador2=[],jugador3=[],jugador4=[])\n",
    "for jugador in jugadores.keys():\n",
    "    while len(jugadores[jugador])!=6:\n",
    "        carta=rnd.sample(palos,1)+rnd.sample(valores,1)\n",
    "        carta=carta[0]+str(carta[1])\n",
    "        if carta not in jugadores[\"jugador1\"] and carta not in jugadores[\"jugador2\"] and carta not in jugadores[\"jugador3\"] and carta not in jugadores[\"jugador4\"]:\n",
    "            jugadores[jugador].append(carta)\n",
    "for k,v in jugadores.items():\n",
    "    print(\"{0:7s}: {1:5s}{2:5s}{3:5s}{4:5s}{5:5s}{6:5s}\".format(k,v[0],v[1],v[2],v[3],v[4],v[5]))"
   ]
  },
  {
   "cell_type": "markdown",
   "metadata": {},
   "source": [
    "## Ejercicio 23:\n",
    "\n",
    "### Construir un código que genere un cartón de bingo aleatorio. \n",
    "\n",
    "El cartón de bingo tiene que tener 4 filas y 6 columnas. Los números tiene que ser 24 números aleatorios del 0 al 100 sin que se repita ninguno. El resultado del código debe imprimir un cartón como este:\n",
    "\n",
    "    | 26|  3| 79| 82| 61|100|\n",
    "    | 72| 92| 49| 60|  0| 21|\n",
    "    |  8| 51| 36| 33| 78| 65|\n",
    "    | 25|  1| 73|  5| 77|  4|\n",
    "    \n",
    "Recuordar que las funciones de la librería RANDOM pueden resultar de utilidad (shuffle, sample, randint,...)"
   ]
  },
  {
   "cell_type": "markdown",
   "metadata": {},
   "source": [
    "### **Solución:** "
   ]
  },
  {
   "cell_type": "code",
   "execution_count": null,
   "metadata": {},
   "outputs": [],
   "source": [
    "import random as rnd\n",
    "numeros=[]\n",
    "while len(numeros)!=24:\n",
    "    number=rnd.randint(0,100)\n",
    "    if number not in numeros:\n",
    "        numeros.append(number)\n",
    "print(numeros)"
   ]
  },
  {
   "cell_type": "code",
   "execution_count": null,
   "metadata": {},
   "outputs": [],
   "source": [
    "for i in range(4):\n",
    "    print(\"|{0:3d}|{1:3d}|{2:3d}|{3:3d}|{4:3d}|{5:3d}|\".format(numeros[i*6+0],numeros[i*6+1],numeros[i*6+2],numeros[i*6+3],numeros[i*6+4],numeros[i*6+5]))"
   ]
  },
  {
   "cell_type": "markdown",
   "metadata": {},
   "source": [
    "## Ejercicio 24:\n",
    "\n",
    "## Ejercicio 24:\n",
    "\n",
    "\n",
    "### Modifica el código proporcionado para conseguir el siguiente efecto:\n",
    "\n",
    "        sentence=\"Universidad\"\n",
    "        for character in range (1,len(sentence)+1):\n",
    "            print(\"%11s\" % sentence[:character])\n",
    "    \n",
    "\n",
    "                  d\n",
    "                 ad\n",
    "                dad\n",
    "               idad\n",
    "              sidad\n",
    "             rsidad\n",
    "            ersidad\n",
    "           versidad\n",
    "          iversidad\n",
    "         niversidad\n",
    "        Universidad"
   ]
  },
  {
   "cell_type": "markdown",
   "metadata": {},
   "source": [
    "### **Solución:** "
   ]
  },
  {
   "cell_type": "code",
   "execution_count": null,
   "metadata": {
    "scrolled": true
   },
   "outputs": [],
   "source": [
    "sentence=\"Universidad\"\n",
    "for character in range (1,len(sentence)+1):\n",
    "    print(\"%11s\" % sentence[len(sentence)-character:])"
   ]
  },
  {
   "cell_type": "markdown",
   "metadata": {},
   "source": [
    "## Ejercicio 25:\n",
    "\n",
    "### Queremos elevar una lista de números reales a la cuarta potencia, pero nuestra distribución de Python no dispone de la librería NUMPY. \n",
    "\n",
    "Realizar un código que permita elevar una lista de valores sin hacer uso de esta librería."
   ]
  },
  {
   "cell_type": "markdown",
   "metadata": {},
   "source": [
    "### **Solución:**"
   ]
  },
  {
   "cell_type": "code",
   "execution_count": null,
   "metadata": {},
   "outputs": [],
   "source": [
    "import math\n",
    "lista=[1,2,3,4,5,6]\n",
    "out=[]\n",
    "for i in lista:\n",
    "    out.append(i**4)\n",
    "out"
   ]
  },
  {
   "cell_type": "markdown",
   "metadata": {},
   "source": [
    "## Ejercicio 26:\n",
    "\n",
    "### Queremos calcular la raiz cuadrada de una lista de números reales pero nuestra distribución de python no dispone de la librería NUMPY. \n",
    "\n",
    "Realizar un código que permita calcular la raiz cuadrada de una lista de valores sin hacer uso de esta librería."
   ]
  },
  {
   "cell_type": "markdown",
   "metadata": {},
   "source": [
    "### **Solución:**"
   ]
  },
  {
   "cell_type": "code",
   "execution_count": null,
   "metadata": {},
   "outputs": [],
   "source": [
    "import math\n",
    "lista=[1,2,3,4,5,6]\n",
    "out=[]\n",
    "for i in lista:\n",
    "    out.append(math.sqrt(i))\n",
    "out"
   ]
  },
  {
   "cell_type": "markdown",
   "metadata": {},
   "source": [
    "## Ejercicio 27:\n",
    "\n",
    "### Disponemos de la siguiente URL: \n",
    "\n",
    "    \"www.datosdetrafico.com/api/v1/city=XXXX&day=DD&month=MM&year=YYYY\"\n",
    "    \n",
    "En función de los datos que escribamos en XXXX, DD, MM e YYYY accederemos a una web que nos devuelve el tráfico para esa ciudad en esa fecha. Por ejemplo, la URL:\n",
    "\n",
    "    \"www.datosdetrafico.com/api/v1/city=Cuenca&day=1&month=8&year=2019\"\n",
    "    \n",
    "Devolvería datos de tráfico para el 1 de agosto de 2019 para la ciudad de Cuenca. Necesitamos acceder a los los datos para las siguientes combinaciones:\n",
    "\n",
    "* Ciudades: Cuenca, Guadalajara, Madrid, Córdoba, Soria\n",
    "* Años: 2019\n",
    "* Meses: De Enero a Diciembre\n",
    "* Días 1,8,15,22 y 29\n",
    "\n",
    "Implementar un código que genere todas las URLs y las almacene en una variable de tipo lista"
   ]
  },
  {
   "cell_type": "markdown",
   "metadata": {},
   "source": [
    "### **Solución:** "
   ]
  },
  {
   "cell_type": "code",
   "execution_count": null,
   "metadata": {},
   "outputs": [],
   "source": [
    "lista=[]\n",
    "for city in [\"Cuenca\", \"Guadalajara\", \"Madrid\", \"Córdoba\",\"Soria\"]:\n",
    "    for mes in range(1,13):\n",
    "        for dia in [1,8,15,22,29]:\n",
    "            url= \"www.datosdetrafico.com/api/v1/city={}&day={}&month={}&year={}\".format(city,dia,mes,2019)\n",
    "            lista.append(url)"
   ]
  },
  {
   "cell_type": "markdown",
   "metadata": {},
   "source": [
    "## Ejercicio 28: \n",
    "\n",
    "### Simular el lanzamiento de una moneda\n",
    "    \n",
    "1. Importar las siguientes librerías: random, numpy y matplotlib\n",
    "2. Pedir al usuario que introduzca un número de monedas utilizadas en el experimento. Guárdalo en una variable llamada numberofcoins\n",
    "3. Generar radomamente tantos 0's o 1's como el número de monedas lanzadas deseadas.\n",
    "   * Para ello vamos a utilizar otro tipo de sentencia de bucle for que controlará el número de valores generados:\n",
    "        for i in range(1,numberofcoins_int +1):\n",
    "   * Simulamos la cara y la cruz de la moneda fipada con 0's y 1's. 0 significa cara y 1 significa cruz.\n",
    "   \n",
    "          coinvalue=random.randint(0,1)\n",
    "   \n",
    "4. Para cada moneda lanzada proporcione un mensaje. Se da un ejemplo de tres monedas lanzadas:\n",
    "\n",
    "        Flipping coin number:  1 we have obtained value:  1\n",
    "\n",
    "        Flipping coin number:  2 we have obtained value:  0\n",
    "\n",
    "        Flipping coin number:  3 we have obtained value:  1\n",
    "        \n",
    "5. Calcula el módulo del valor obtenido (1 o 0) para identificar si es par o impar\n",
    "\n",
    "6. Si el módulo = 0 entonces se incrementará en uno una nueva variable llamada cara. Esta variable contará las monedas lanzadas al aire que fueron cara. Para las que tengan módulo = 1 se llamará cruz a la variable que contará las monedas lanzadas que salido cruz.\n",
    "\n",
    "7. Proporcionar un mensaje de salida similar a \"After flipping 3 times a coin, we obtained 1 heads and 2 tails\"\n",
    "\n",
    "8. Cree una gráfico de barras utilizando la funcionalidad de trazado:\n",
    "\n",
    "    * Utilizar las funciones plt.yticks y plt.xticks proporcionándoles un arange de numpy: Para los yticks el arange será (0, 20, 1) y para los xticks será (0, 2, 1))\n",
    "    * Para imprimir una barra usa plt.bar(atrib1,atrib2) donde atrib1 valora 0 o 1 dependiendo de la barra que estemos imprimiendo y atrib 2 es la variable que contiene el número de 0's o 1's obtenidos.\n"
   ]
  },
  {
   "cell_type": "markdown",
   "metadata": {},
   "source": [
    "### **Solución:** "
   ]
  },
  {
   "cell_type": "code",
   "execution_count": null,
   "metadata": {},
   "outputs": [],
   "source": [
    "import random\n",
    "import numpy as np\n",
    "import matplotlib.pyplot as plt"
   ]
  },
  {
   "cell_type": "code",
   "execution_count": null,
   "metadata": {},
   "outputs": [],
   "source": [
    "numberofcoins=input(\"Write of flipping coins you want and hit ENTER: \")\n",
    "print(\"The number you entered is: \", numberofcoins)"
   ]
  },
  {
   "cell_type": "code",
   "execution_count": null,
   "metadata": {},
   "outputs": [],
   "source": [
    "print(type(numberofcoins))\n",
    "numberofcoins_int=int(numberofcoins)\n",
    "print(type(numberofcoins_int))"
   ]
  },
  {
   "cell_type": "code",
   "execution_count": null,
   "metadata": {},
   "outputs": [],
   "source": [
    "heads=0\n",
    "tails =0\n",
    "for i in range(1,numberofcoins_int +1):\n",
    "    coinvalue=random.randint(0,1)\n",
    "    print(\"\\nFlipping coin number: \",i, \"we have obtained value: \", coinvalue)\n",
    "    modulus=coinvalue%2\n",
    "    if modulus==0:\n",
    "        heads=heads + 1\n",
    "    else:\n",
    "        tails=tails + 1"
   ]
  },
  {
   "cell_type": "code",
   "execution_count": null,
   "metadata": {},
   "outputs": [],
   "source": [
    "print(\"After flipping %d times a coin, we obtained %d heads and %d tails\" %(numberofcoins_int, heads, tails))"
   ]
  },
  {
   "cell_type": "code",
   "execution_count": null,
   "metadata": {},
   "outputs": [],
   "source": [
    "plt.yticks(np.arange(0, int(numberofcoins), 2))\n",
    "plt.xticks(np.arange(0, 2, 1))\n",
    "plt.bar(0,heads)\n",
    "plt.bar(1,tails)\n",
    "plt.show()"
   ]
  },
  {
   "cell_type": "markdown",
   "metadata": {},
   "source": [
    "## Ejercicio 29: \n",
    "\n",
    "### Cálculo de resultados de una quiniela\n",
    "\n",
    "Disponemos de una quiniela con los siguientes 10 pronósticos:\n",
    "\n",
    "```python\n",
    "quiniela = ['1', '1', 'X', '1', 'X', '1', '2', 'X', '1', 'X']\n",
    "```\n",
    "\n",
    "Los equipos locales y visitantes de esta jornada son los siguientes:\n",
    "\n",
    "```python\n",
    "teamlocal=[\"Real Madrid\",\"FC Barcelona\",\"Real Betis\",\"Athletic\",\"Osasuna\",\n",
    "           \"Villarreal\",\"Atlético de Madrid\",\"Real Sociedad\",\"Valencia\",\"Mallorca\"]\n",
    "teamvisitante=[\"Girona\",\"Rayo Vallecano\",\"Celta de Vigo\",\"Getafe\",\"Sevilla\",\n",
    "               \"Almería\",\"Espanyol\",\"Real Valladolid\",\"Cádiz\",\"Elche\"]\n",
    "```\n",
    "\n",
    "Y los goles conseguidos en esta jornada:\n",
    "\n",
    "```python\n",
    "local = [3, 4, 1, 3, 3, 2, 0, 1, 1, 2]\n",
    "visitante = [4, 1, 1, 0, 2, 4, 4, 1, 2, 4]\n",
    "```\n",
    "\n",
    "Haz un programa que recorra todos los partidos de la jornada y genere una salida similar a esta:\n",
    "\n",
    "    En el partido Real Madrid          contra Girona               ha vencido el Girona\n",
    "    En el partido FC Barcelona         contra Rayo Vallecano       ha vencido el FC Barcelona\n",
    "    En el partido Real Betis           contra Celta de Vigo        ha terminado en empate\n",
    "    En el partido Athletic             contra Getafe               ha vencido el Athletic\n",
    "    En el partido Osasuna              contra Sevilla              ha vencido el Osasuna\n",
    "    En el partido Villarreal           contra Almería              ha vencido el Almería\n",
    "    En el partido Atlético de Madrid   contra Espanyol             ha vencido el Espanyol\n",
    "    En el partido Real Sociedad        contra Real Valladolid      ha terminado en empate\n",
    "    En el partido Valencia             contra Cádiz                ha vencido el Cádiz\n",
    "    En el partido Mallorca             contra Elche                ha vencido el Elche\n",
    "    ===============================================================================\n",
    "    El resultado de la quiniela es de 5 aciertos\n",
    "    \n",
    "    \n",
    "**NOTA 1**. El código debe esta preparado para que funcione la siguiente jornada símplemente actualizando los valores de las variables **quiniela**, **teamlocal**, **teamvisitante**, **local** y **visitante**.\n",
    "\n",
    "**NOTA 2**. Los símbolos de las quinielas significan:\n",
    "* \"1\" victoria del equipo local\n",
    "* \"2\" victoria del equipo visitante\n",
    "* \"X\" empate"
   ]
  },
  {
   "cell_type": "markdown",
   "metadata": {},
   "source": [
    "### **Solución:** "
   ]
  },
  {
   "cell_type": "code",
   "execution_count": 1,
   "metadata": {},
   "outputs": [],
   "source": [
    "quiniela = ['1', '1', 'X', '1', 'X', '1', '2', 'X', '1', 'X']\n",
    "teamlocal=[\"Real Madrid\",\"FC Barcelona\",\"Real Betis\",\"Athletic\",\"Osasuna\",\"Villarreal\",\"Atlético de Madrid\",\"Real Sociedad\",\"Valencia\",\"Mallorca\"]\n",
    "teamvisitante=[\"Girona\",\"Rayo Vallecano\",\"Celta de Vigo\",\"Getafe\",\"Sevilla\",\"Almería\",\"Espanyol\",\"Real Valladolid\",\"Cádiz\",\"Elche\"]\n",
    "local = [3, 4, 1, 3, 3, 2, 0, 1, 1, 2]\n",
    "visitante = [4, 1, 1, 0, 2, 4, 4, 1, 2, 4]"
   ]
  },
  {
   "cell_type": "code",
   "execution_count": null,
   "metadata": {},
   "outputs": [],
   "source": [
    "aciertos=0\n",
    "\n",
    "for i in range(len(quiniela)):\n",
    "    if local[i]>visitante[i]:\n",
    "        print(\"En el partido {0:20s} contra {1:20s} ha vencido el {0}\".format(teamlocal[i],teamvisitante[i]))\n",
    "        if quiniela[i]==\"1\":\n",
    "            aciertos=aciertos+1\n",
    "    elif local[i]<visitante[i]:\n",
    "        print(\"En el partido {0:20s} contra {1:20s} ha vencido el {1}\".format(teamlocal[i],teamvisitante[i]))\n",
    "        if quiniela[i]==\"2\":\n",
    "            aciertos=aciertos+1\n",
    "    else:\n",
    "        print(\"En el partido {0:20s} contra {1:20s} ha terminado en empate\".format(teamlocal[i],teamvisitante[i]))\n",
    "        if quiniela[i]==\"X\":\n",
    "            aciertos=aciertos+1\n",
    "        \n",
    "print(\"===============================================================================\")\n",
    "print(\"El resultado de la quiniela es de {} aciertos\".format(aciertos))"
   ]
  },
  {
   "cell_type": "markdown",
   "metadata": {},
   "source": [
    "## Ejercicio 30: \n",
    "\n",
    "### Generador de Titulares\n",
    "\n",
    "Disponemos de las siguientes variables para la generación automática de titulares:\n",
    "\n",
    "```python\n",
    "who = [\"Robot\", \"Dinosaurio\", \"Hipster\", \"Perrete\", \"Erasmus\"]\n",
    "how = [\"Terrorifico\", \"Cariñosón\", \"Desatado\", \"Peludo\", \"Ebrio\"]\n",
    "what = [\"Destruye\", \"Recoge\", \"Arrasa\", \"Vomita\"]\n",
    "where1 =[\"Centro\",\"Parque\",\"Palacio\",\"Campus\",\"Parking\"]\n",
    "where2 =[\"Madrid\", \"Carabanchel\", \"La universidad\", \"La residencia de estudiantes\"]\n",
    "```\n",
    "\n",
    "Realiza un código que pregunte al usuario cuantos titulares tiene que generar, y los genere aleatoriamente con el siguiente formato:\n",
    "\n",
    "    Un {WHO} {HOW} {WHAT} {WHERE1} {WHERE2}\n",
    "    \n",
    "Para obterner un resultado similar a este:\n",
    "\n",
    "    Número de titulares: 2\n",
    "    Un Robot peludo vomita el parking de la residencia de estudiantes\n",
    "    Un Erasmus terrorifico arrasa el centro de madrid"
   ]
  },
  {
   "cell_type": "markdown",
   "metadata": {},
   "source": [
    "### **Solución:** "
   ]
  },
  {
   "cell_type": "code",
   "execution_count": 1,
   "metadata": {},
   "outputs": [
    {
     "name": "stdout",
     "output_type": "stream",
     "text": [
      "numero de titulares: 2\n",
      "Un Erasmus peludo vomita el parking de la residencia de estudiantes\n",
      "Un Erasmus terrorifico arrasa el centro de madrid\n"
     ]
    }
   ],
   "source": [
    "import random\n",
    "\n",
    "who = [\"Robot\", \"Dinosaurio\", \"Hipster\", \"Perrete\", \"Erasmus\"]\n",
    "how = [\"Terrorifico\", \"Cariñosón\", \"Desatado\", \"Peludo\", \"Ebrio\"]\n",
    "what = [\"Destruye\", \"Recoge\", \"Arrasa\", \"Vomita\"]\n",
    "where1 =[\"Centro\",\"Parque\",\"Palacio\",\"Campus\",\"Parking\"]\n",
    "where2 =[\"Madrid\", \"Carabanchel\", \"La universidad\", \"La residencia de estudiantes\"]\n",
    "\n",
    "num = int(input(\"Número de titulares: \"))\n",
    "for i in range(num):\n",
    "    var1 = who[random.randint(0,len(who)-1)]\n",
    "    var2 = how[random.randint(0,len(how)-1)]\n",
    "    var3 = what[random.randint(0,len(what)-1)]\n",
    "    var4 = where1[random.randint(0,len(where1)-1)]\n",
    "    var5 = where2[random.randint(0,len(where2)-1)]\n",
    "    text = \"Un {} {} {} el {} de {}\".format(var1,var2.lower(),var3.lower(),var4.lower(),var5.lower())\n",
    "    print(text)"
   ]
  },
  {
   "cell_type": "markdown",
   "metadata": {},
   "source": [
    "## Ejercicio 31: \n",
    "\n",
    "### Conversor de dígitos\n",
    "\n",
    "Realiza un código que genere 10 números aleatorios entre 0 y 1000 y que los convierta en bolas del BINGO utilizando la siguiente variable:\n",
    "\n",
    "```python\n",
    "digits=[\"➊\",\"➋\",\"➌\",\"➍\",\"➎\",\"➏\",\"➐\",\"➑\",\"➒\"]\n",
    "```\n",
    "\n",
    "El resultado debe ser similar a esto:\n",
    "\n",
    "    617 ➏➊➐\n",
    "    531 ➎➌➊\n",
    "    375 ➌➐➎\n",
    "    451 ➍➎➊\n",
    "    362 ➌➏➋\n",
    "    678 ➏➐➑\n",
    "    317 ➌➊➐\n",
    "    911 ➒➊➊\n",
    "    132 ➊➌➋\n",
    "    856 ➑➎➏"
   ]
  },
  {
   "cell_type": "markdown",
   "metadata": {},
   "source": [
    "### **Solución:** "
   ]
  },
  {
   "cell_type": "code",
   "execution_count": 2,
   "metadata": {},
   "outputs": [
    {
     "name": "stdout",
     "output_type": "stream",
     "text": [
      "617 ➏➊➐\n",
      "531 ➎➌➊\n",
      "375 ➌➐➎\n",
      "451 ➍➎➊\n",
      "362 ➌➏➋\n",
      "678 ➏➐➑\n",
      "317 ➌➊➐\n",
      "911 ➒➊➊\n",
      "132 ➊➌➋\n",
      "856 ➑➎➏\n"
     ]
    }
   ],
   "source": [
    "digits=[\"➊\",\"➋\",\"➌\",\"➍\",\"➎\",\"➏\",\"➐\",\"➑\",\"➒\"]\n",
    "\n",
    "numbers=[]\n",
    "for i in range(10):\n",
    "    numbers.append(random.randint(0,1000))\n",
    "\n",
    "filtered=[]    \n",
    "for number in numbers:\n",
    "    number_str=str(number)\n",
    "    if \"0\" not in number_str:\n",
    "        filtered.append(number_str)\n",
    "           \n",
    "for number in filtered:\n",
    "    output=\"\"\n",
    "    for digit in number:\n",
    "        if digit==\"1\":\n",
    "            output=output+digits[0]\n",
    "        elif digit==\"2\":\n",
    "            output=output+digits[1]\n",
    "        elif digit==\"3\":\n",
    "            output=output+digits[2]  \n",
    "        elif digit==\"4\":\n",
    "            output=output+digits[3] \n",
    "        elif digit==\"5\":\n",
    "            output=output+digits[4]\n",
    "        elif digit==\"6\":\n",
    "            output=output+digits[5]\n",
    "        elif digit==\"7\":\n",
    "            output=output+digits[6]\n",
    "        elif digit==\"8\":\n",
    "            output=output+digits[7]\n",
    "        elif digit==\"9\":\n",
    "            output=output+digits[8] \n",
    "    print(number,output)"
   ]
  },
  {
   "cell_type": "markdown",
   "metadata": {},
   "source": [
    "## Ejercicio 32: \n",
    "\n",
    "### Estadísticas lanzando dados\n",
    "\n",
    "Implementar un programa que pregunte al usuario cuantos dados de 6 caras quiere lanzar. Una vez indicado, el programa debe simular 100000 tiradas de esos N dados y contar cuantas veces aparece cada puntuación. Es decir, si el usuario decide lanzar sólo 1 dado, el programa debe contar las veces que aparecen las puntuaciones del 1 al 6. Pero si el usuario decide lanzar 3 dados, el programa debe contar las veces que aparecen las puntuaciones del 1 al 18.\n",
    "\n",
    "Una vez realizada la simulación, el programa debe mostrar unas estadísicas similares a las siguientes en las que se presente el número de veces que se obtuvo cada puntuación y el porcentaje que supone respecto de las 100000 tiradas:\n",
    "\n",
    "        Enter the number of dices: 2\n",
    "        Simulating 100,000 rolls of a 2 dices...\n",
    "        Results\n",
    "          1 - 0 rolls - 0.0%\n",
    "          2 - 2720 rolls - 2.7%\n",
    "          3 - 5609 rolls - 5.6%\n",
    "          4 - 8078 rolls - 8.1%\n",
    "          5 - 11234 rolls - 11.2%\n",
    "          6 - 13968 rolls - 14.0%\n",
    "          7 - 16736 rolls - 16.7%\n",
    "          8 - 13906 rolls - 13.9%\n",
    "          9 - 10979 rolls - 11.0%\n",
    "          10 - 8435 rolls - 8.4%\n",
    "          11 - 5545 rolls - 5.5%\n",
    "          12 - 2790 rolls - 2.8%"
   ]
  },
  {
   "cell_type": "markdown",
   "metadata": {},
   "source": [
    "### Solución:"
   ]
  },
  {
   "cell_type": "code",
   "execution_count": 3,
   "metadata": {},
   "outputs": [
    {
     "name": "stdout",
     "output_type": "stream",
     "text": [
      "Enter the number of dices: 3\n",
      "Simulating 100,000 rolls of a 3 dices...\n",
      "Results\n",
      "  1 - 0 rolls - 0.0%\n",
      "  2 - 0 rolls - 0.0%\n",
      "  3 - 485 rolls - 0.5%\n",
      "  4 - 1379 rolls - 1.4%\n",
      "  5 - 2785 rolls - 2.8%\n",
      "  6 - 4528 rolls - 4.5%\n",
      "  7 - 6975 rolls - 7.0%\n",
      "  8 - 9706 rolls - 9.7%\n",
      "  9 - 11667 rolls - 11.7%\n",
      "  10 - 12522 rolls - 12.5%\n",
      "  11 - 12622 rolls - 12.6%\n",
      "  12 - 11520 rolls - 11.5%\n",
      "  13 - 9653 rolls - 9.7%\n",
      "  14 - 7005 rolls - 7.0%\n",
      "  15 - 4555 rolls - 4.6%\n",
      "  16 - 2749 rolls - 2.7%\n",
      "  17 - 1413 rolls - 1.4%\n",
      "  18 - 436 rolls - 0.4%\n"
     ]
    }
   ],
   "source": [
    "import random, time\n",
    "\n",
    "numberOfDices = int(input('Enter the number of dices: '))\n",
    "results = [0]*(numberOfDices*6)\n",
    "\n",
    "print('Simulating 100,000 rolls of a {} dices...'.format(numberOfDices))\n",
    "for i in range(100000):\n",
    "    total = 0\n",
    "    for j in range(numberOfDices):\n",
    "        total = total + random.randint(1, 6)\n",
    "    results[total-1] = results[total-1] + 1\n",
    "\n",
    "print('Results')\n",
    "for i in range(len(results)):\n",
    "    rolls = results[i]\n",
    "    percentage = round(rolls / 1000, 1)\n",
    "    print('  {} - {} rolls - {}%'.format(i+1, rolls, percentage))"
   ]
  },
  {
   "cell_type": "markdown",
   "metadata": {},
   "source": [
    "## Ejercicio 33: \n",
    "\n",
    "### Secuencias de Nucleótidos\n",
    "\n",
    "Dada la secuencia de ADN:\n",
    "\n",
    "    secuencia=['C', 'A', 'G', 'G', 'T', 'G', 'A', 'C', 'A', 'A', 'C', 'C', 'G', 'G', 'A', 'C', 'C', 'T', 'G', 'A', 'T', 'G', 'T', 'G', 'T', 'T', 'A', 'G', 'T', 'T', 'G', 'T', 'C', 'G', 'A', 'G', 'C', 'A', 'A', 'T', 'G', 'A', 'T', 'A', 'C', 'T', 'G', 'G', 'A', 'T', 'T', 'T', 'C', 'T', 'C', 'A', 'C', 'T', 'G', 'G']\n",
    "\n",
    "1. Encuentra la subsecuencia más larga de nucleótidos consecutivos que no contenga el nucleótido T.\n",
    "2. Proporciona la longitud de esa secuencia.\n",
    "3. Proporciona el índice en el que se inicia esa secuencia.\n",
    "\n",
    "**Ejemplo:**\n",
    "\n",
    "    secuencia=[ 'C', 'G', 'G', 'T', 'A', 'C', 'C', 'G', 'A', 'T', 'G', 'T', 'G',]\n",
    "    \n",
    "    La secuencia más larga sin el nucleótido T es:  ACCGA\n",
    "    La secuencia más larga tiene una longitud de: 5\n",
    "    La secuencia más larga se inicia en el indice: 4"
   ]
  },
  {
   "cell_type": "markdown",
   "metadata": {},
   "source": [
    "### Solución 1: Con bucle FOR"
   ]
  },
  {
   "cell_type": "code",
   "execution_count": 1,
   "metadata": {},
   "outputs": [
    {
     "name": "stdout",
     "output_type": "stream",
     "text": [
      "La secuencia más larga sin el nucleótido T es: GACAACCGGACC\n",
      "La secuencia más larga tiene una longitud de: 12\n",
      "La secuencia más larga se inicia en el índice: 5\n"
     ]
    }
   ],
   "source": [
    "secuencia = ['C', 'A', 'G', 'G', 'T', 'G', 'A', 'C', 'A', 'A', 'C', 'C', 'G', 'G', 'A', 'C', 'C', 'T', 'G', 'A', 'T', 'G', 'T', 'G', 'T', 'T', 'A', 'G', 'T', 'T', 'G', 'T', 'C', 'G', 'A', 'G', 'C', 'A', 'A', 'T', 'G', 'A', 'T', 'A', 'C', 'T', 'G', 'G', 'A', 'T', 'T', 'T', 'C', 'T', 'C', 'A', 'C', 'T', 'G', 'G']\n",
    "\n",
    "max_len = 0\n",
    "current_len = 0\n",
    "start_index = 0\n",
    "current_start = 0\n",
    "\n",
    "indice_y_secuencia=list(zip(range(len(secuencia)),secuencia))\n",
    "for i, nucleotido in indice_y_secuencia:\n",
    "    if nucleotido != 'T':\n",
    "        current_len += 1\n",
    "        if current_len > max_len:\n",
    "            max_len = current_len\n",
    "            start_index = current_start\n",
    "    else:\n",
    "        current_len = 0\n",
    "        current_start = i + 1\n",
    "\n",
    "maxsec=''.join(secuencia[start_index:start_index+max_len])\n",
    "                          \n",
    "print(\"La secuencia más larga sin el nucleótido T es: {}\".format(maxsec))\n",
    "print(\"La secuencia más larga tiene una longitud de: {}\".format(max_len))\n",
    "print(\"La secuencia más larga se inicia en el índice: {}\".format(start_index))"
   ]
  },
  {
   "cell_type": "markdown",
   "metadata": {},
   "source": [
    "### Solución 2: Con bucle WHILE"
   ]
  },
  {
   "cell_type": "code",
   "execution_count": 2,
   "metadata": {},
   "outputs": [
    {
     "name": "stdout",
     "output_type": "stream",
     "text": [
      "La secuencia más larga sin el nucleótido T es: GACAACCGGACC\n",
      "La secuencia más larga tiene una longitud de: 12\n",
      "La secuencia más larga se inicia en el índice: 5\n"
     ]
    }
   ],
   "source": [
    "secuencia = ['C', 'A', 'G', 'G', 'T', 'G', 'A', 'C', 'A', 'A', 'C', 'C', 'G', 'G', 'A', 'C', 'C', 'T', 'G', 'A', 'T', 'G', 'T', 'G', 'T', 'T', 'A', 'G', 'T', 'T', 'G', 'T', 'C', 'G', 'A', 'G', 'C', 'A', 'A', 'T', 'G', 'A', 'T', 'A', 'C', 'T', 'G', 'G', 'A', 'T', 'T', 'T', 'C', 'T', 'C', 'A', 'C', 'T', 'G', 'G']\n",
    "\n",
    "i = 0\n",
    "max_len = 0\n",
    "current_len = 0\n",
    "start_index = 0\n",
    "current_start = 0\n",
    "\n",
    "while i < len(secuencia):\n",
    "    if secuencia[i] != 'T':\n",
    "        current_len += 1\n",
    "        if current_len > max_len:\n",
    "            max_len = current_len\n",
    "            start_index = current_start\n",
    "    else:\n",
    "        current_len = 0\n",
    "        current_start = i + 1\n",
    "    i += 1\n",
    "    \n",
    "maxsec=''.join(secuencia[start_index:start_index+max_len])\n",
    "                          \n",
    "print(\"La secuencia más larga sin el nucleótido T es: {}\".format(maxsec))\n",
    "print(\"La secuencia más larga tiene una longitud de: {}\".format(max_len))\n",
    "print(\"La secuencia más larga se inicia en el índice: {}\".format(start_index))"
   ]
  },
  {
   "cell_type": "markdown",
   "metadata": {},
   "source": [
    "### Solución 3: Con SPLIT"
   ]
  },
  {
   "cell_type": "code",
   "execution_count": 3,
   "metadata": {},
   "outputs": [
    {
     "name": "stdout",
     "output_type": "stream",
     "text": [
      "La secuencia más larga sin el nucleótido T es: GACAACCGGACC\n",
      "La secuencia más larga tiene una longitud de: 12\n",
      "La secuencia más larga se inicia en el índice: 5\n"
     ]
    }
   ],
   "source": [
    "secuencia = ['C', 'A', 'G', 'G', 'T', 'G', 'A', 'C', 'A', 'A', 'C', 'C', 'G', 'G', 'A', 'C', 'C', 'T', 'G', 'A', 'T', 'G', 'T', 'G', 'T', 'T', 'A', 'G', 'T', 'T', 'G', 'T', 'C', 'G', 'A', 'G', 'C', 'A', 'A', 'T', 'G', 'A', 'T', 'A', 'C', 'T', 'G', 'G', 'A', 'T', 'T', 'T', 'C', 'T', 'C', 'A', 'C', 'T', 'G', 'G']\n",
    "\n",
    "subsecuencias = ''.join(secuencia).split('T')\n",
    "longitudes=[]\n",
    "for sec in subsecuencias:\n",
    "    longitudes.append(len(sec))\n",
    "\n",
    "maxlength=max(longitudes)\n",
    "maxsec_index=longitudes.index(maxlength)\n",
    "maxsec=subsecuencias[maxsec_index]\n",
    "indice=''.join(secuencia).index(maxsec)\n",
    "print(\"La secuencia más larga sin el nucleótido T es: {}\".format(maxsec))\n",
    "print(\"La secuencia más larga tiene una longitud de: {}\".format(maxlength))\n",
    "print(\"La secuencia más larga se inicia en el índice: {}\".format(indice))"
   ]
  },
  {
   "cell_type": "markdown",
   "metadata": {},
   "source": [
    "### Solución 4: Buscando T's"
   ]
  },
  {
   "cell_type": "code",
   "execution_count": 4,
   "metadata": {},
   "outputs": [
    {
     "name": "stdout",
     "output_type": "stream",
     "text": [
      "La secuencia más larga sin el nucleótido T es: GACAACCGGACC\n",
      "La secuencia más larga tiene una longitud de: 12\n",
      "La secuencia más larga se inicia en el índice: 5\n"
     ]
    }
   ],
   "source": [
    "secuencia = ['C', 'A', 'G', 'G', 'T', 'G', 'A', 'C', 'A', 'A', 'C', 'C', 'G', 'G', 'A', 'C', 'C', 'T', 'G', 'A', 'T', 'G', 'T', 'G', 'T', 'T', 'A', 'G', 'T', 'T', 'G', 'T', 'C', 'G', 'A', 'G', 'C', 'A', 'A', 'T', 'G', 'A', 'T', 'A', 'C', 'T', 'G', 'G', 'A', 'T', 'T', 'T', 'C', 'T', 'C', 'A', 'C', 'T', 'G', 'G']\n",
    "\n",
    "subsecuencias=[]\n",
    "longitudes=[]\n",
    "indice_inicial=0\n",
    "\n",
    "while \"T\" in secuencia:\n",
    "    indice_final=secuencia.index(\"T\")\n",
    "    subsec=secuencia[indice_inicial:indice_final]\n",
    "    subsecuencias.append(subsec)\n",
    "    longitudes.append(len(subsec))\n",
    "    secuencia[indice_final]=\"X\"\n",
    "    indice_inicial=indice_final+1\n",
    "        \n",
    "maxlength=max(longitudes)\n",
    "maxsec_index=longitudes.index(maxlength)\n",
    "maxsec=''.join(subsecuencias[maxsec_index])\n",
    "indice=''.join(secuencia).index(maxsec)\n",
    "print(\"La secuencia más larga sin el nucleótido T es: {}\".format(maxsec))\n",
    "print(\"La secuencia más larga tiene una longitud de: {}\".format(maxlength))\n",
    "print(\"La secuencia más larga se inicia en el índice: {}\".format(indice))"
   ]
  }
 ],
 "metadata": {
  "interpreter": {
   "hash": "321a562c32c1ef0f4d1bce6724f96cbf5562b75820608d2935414fe72bdf9c83"
  },
  "kernelspec": {
   "display_name": "Python 3",
   "language": "python",
   "name": "python3"
  },
  "language_info": {
   "codemirror_mode": {
    "name": "ipython",
    "version": 3
   },
   "file_extension": ".py",
   "mimetype": "text/x-python",
   "name": "python",
   "nbconvert_exporter": "python",
   "pygments_lexer": "ipython3",
   "version": "3.8.8"
  }
 },
 "nbformat": 4,
 "nbformat_minor": 4
}

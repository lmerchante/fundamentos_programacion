{
 "cells": [
  {
   "cell_type": "markdown",
   "metadata": {},
   "source": [
    "# TEMA 1: Variables, Expressions, Statements and Operators"
   ]
  },
  {
   "cell_type": "markdown",
   "metadata": {},
   "source": [
    "## **Ejercicio 1:**\n",
    "### Escribir un programa que pregunte al usuario por su nombre y lo imprima con todas sus letras en minúsculas y todas en mayúsculas"
   ]
  },
  {
   "cell_type": "markdown",
   "metadata": {},
   "source": [
    "### **Solución:** "
   ]
  },
  {
   "cell_type": "code",
   "execution_count": null,
   "metadata": {},
   "outputs": [],
   "source": [
    "name=input(\"What's your name\")\n",
    "print(\"UPPER: \",name.upper())\n",
    "print(\"LOWER: \",name.lower())"
   ]
  },
  {
   "cell_type": "markdown",
   "metadata": {},
   "source": [
    "## **Ejercicio 2:**\n",
    "### Escribir un programa en el que se definan las siguientes variables:\n",
    "+   Variable entera para el día\n",
    "+   Variable string para el mes\n",
    "+   Variable entera para el año\n",
    "+   Variable entera para las horas\n",
    "+   Variable entera para los minutos\n",
    "+   Variable real para los segundos\n",
    "\n",
    "\n",
    "### A partir de esas 6 variables construya una instrucción PRINT que genere una salida similar a esta: \n",
    "\n",
    "                 Ahora son las 11:30:34.67 del 1 de Enero de 2020"
   ]
  },
  {
   "cell_type": "markdown",
   "metadata": {},
   "source": [
    "### **Solución:**"
   ]
  },
  {
   "cell_type": "code",
   "execution_count": null,
   "metadata": {},
   "outputs": [],
   "source": [
    "dia=1\n",
    "mes=\"Enero\"\n",
    "año=2020\n",
    "hora=11\n",
    "minutos=30\n",
    "segundos=34.67\n",
    "print(\"Ahora son las %d:%d:%.2f del %d de %s de %d\"%(hora,minutos,segundos,dia,mes,año))"
   ]
  },
  {
   "cell_type": "markdown",
   "metadata": {},
   "source": [
    "## **Ejercicio 3:**\n",
    "### Escribir un programa que realice la siguiente operación aritmética:\n",
    "$$\n",
    "\\left(\\frac{12+4}{\\sqrt{144}-2}\\right)^3\n",
    "$$\n",
    "### **Solución:**"
   ]
  },
  {
   "cell_type": "code",
   "execution_count": null,
   "metadata": {},
   "outputs": [],
   "source": [
    "import numpy as np\n",
    "((12+4)/(np.sqrt(144)-2))**3"
   ]
  },
  {
   "cell_type": "markdown",
   "metadata": {},
   "source": [
    "## Ejercicio 4: \n",
    "### Un trabajador cobra 10€ la hora. El trabajador debe hacer 38 horas semanales. Teniendo en cuenta que el salario del trabajador es el 58% de lo que le cuesta a la empresa, calcular el coste total del empleado para la empresa y la parte que recibe el estado.\n",
    "\n",
    "### Solución:"
   ]
  },
  {
   "cell_type": "code",
   "execution_count": null,
   "metadata": {},
   "outputs": [],
   "source": [
    "parte_empleado=38*10*4\n",
    "coste_empresa=parte_empleado/0.58\n",
    "print(\"El coste para la empresa es %d\" % coste_empresa)\n",
    "parte_estado=coste_empresa*0.42\n",
    "print(\"El estado recibe %.2f\" % parte_estado)\n",
    "print(\"El empleado recibe %.2f\" % parte_empleado)"
   ]
  },
  {
   "cell_type": "markdown",
   "metadata": {},
   "source": [
    "## **Ejercicio 5:**\n",
    "### Escribir un programa que le pida al usuario el dividendo y el divisor y devuelva el cociente y el resto."
   ]
  },
  {
   "cell_type": "markdown",
   "metadata": {},
   "source": [
    "### **Solución:**"
   ]
  },
  {
   "cell_type": "code",
   "execution_count": null,
   "metadata": {},
   "outputs": [],
   "source": [
    "dividendo=int(input(\"dividendo: \"))\n",
    "divisor=int(input(\"divisor: \"))\n",
    "print(\"cociente: {}\".format(dividendo//divisor))\n",
    "print(\"resto: {}\".format(dividendo%divisor))"
   ]
  },
  {
   "cell_type": "markdown",
   "metadata": {},
   "source": [
    "## **Ejercicio 6:**\n",
    "### Escribir un programa que le pida al usuario una cantidad para invertir y el tipo de interés anual. El programa debe mostrar cómo evolucionan los ahorros durante los 10 primeros años."
   ]
  },
  {
   "cell_type": "markdown",
   "metadata": {},
   "source": [
    "### **Solución:**"
   ]
  },
  {
   "cell_type": "code",
   "execution_count": null,
   "metadata": {},
   "outputs": [],
   "source": [
    "inversion=int(input(\"dinero: \"))\n",
    "interes=float(input(\"porcentaje de interes: \"))\n",
    "print(\"Año: %d Ahorros: %.2f\" % (1,inversion*(1+interes/100)))\n",
    "print(\"Año: %d Ahorros: %.2f\" % (2,inversion*(1+interes/100)**2))\n",
    "print(\"Año: %d Ahorros: %.2f\" % (3,inversion*(1+interes/100)**3))\n",
    "print(\"Año: %d Ahorros: %.2f\" % (4,inversion*(1+interes/100)**4))\n",
    "print(\"Año: %d Ahorros: %.2f\" % (5,inversion*(1+interes/100)**5))\n",
    "print(\"Año: %d Ahorros: %.2f\" % (6,inversion*(1+interes/100)**6))\n",
    "print(\"Año: %d Ahorros: %.2f\" % (7,inversion*(1+interes/100)**7))\n",
    "print(\"Año: %d Ahorros: %.2f\" % (8,inversion*(1+interes/100)**8))\n",
    "print(\"Año: %d Ahorros: %.2f\" % (9,inversion*(1+interes/100)**9))\n",
    "print(\"Año: %d Ahorros: %.2f\" % (10,inversion*(1+interes/100)**10))"
   ]
  },
  {
   "cell_type": "markdown",
   "metadata": {},
   "source": [
    "## **Problema 7:**\n",
    "\n",
    "### 7.1 Escribir un programa que calcule la fuerza de atracción gravitatoria entre la tierra y un satélite en función de la masa del mismo de acuerdo con la fórmula:  \n",
    "$$\n",
    "F=G\\times\\frac{m_1\\times m_2}{r^2}\n",
    "$$ \n",
    "\n",
    "Ten en cuenta que:\n",
    "* el valor de la constante G es de $6.67384 \\times\\ 10^{-11} Nm^2kg^{-2}$\n",
    "* la masa de la tierra es $5.972\\times 10^{24}Kg$\n",
    "* la distancia de la órbita geoestacionaria es 35786Km sobre el nivel del mar\n",
    "* el radio de la tierra es de 6371Km. \n",
    "\n",
    "### 7.2 Calcula la fuerza de atracción para cinco pesos diferentes [1,10,100,1000,10000] y represéntalos con la función PLOT de la librería MATPLOTLIB."
   ]
  },
  {
   "cell_type": "markdown",
   "metadata": {},
   "source": [
    "### **Solución:**"
   ]
  },
  {
   "cell_type": "code",
   "execution_count": null,
   "metadata": {},
   "outputs": [],
   "source": [
    "import numpy as np\n",
    "import matplotlib.pyplot as plt\n",
    "\n",
    "masa_tierra=5.972 * 10**24\n",
    "masas_satelite=np.array([1,10,100,1000,10000])\n",
    "distancia=35786000+6371000\n",
    "G=6.67384*(10**-11)\n",
    "F=G*masa_tierra*masas_satelite/distancia**2\n",
    "plt.plot(masas_satelite,F)\n",
    "plt.xscale(\"log\")\n",
    "plt.show()"
   ]
  },
  {
   "cell_type": "markdown",
   "metadata": {},
   "source": [
    "## **Ejericio 8:**\n",
    "\n",
    "### Escribir un programa que reciba un ángulo en radianes y el código lo convierta en grados (sin decimales), minutos (sin decimales) y segundos (con 3 decimales) y lo saque por pantalla con sus símbolos. Es decir, algo parecido a esto:\n",
    "                    Radianes: 5\n",
    "                    5.00 radianes son 286º 28' 44.031\""
   ]
  },
  {
   "cell_type": "markdown",
   "metadata": {},
   "source": [
    "### **Solución:**"
   ]
  },
  {
   "cell_type": "code",
   "execution_count": null,
   "metadata": {},
   "outputs": [],
   "source": [
    "import numpy as np\n",
    "\n",
    "radianes=float(input(\"Radianes: \"))\n",
    "angulo=radianes*360/(2*np.pi)\n",
    "grados=np.floor(angulo)\n",
    "minutos=np.floor((angulo-grados)*60) \n",
    "segundos=((angulo-grados)*60-minutos)*60\n",
    "print(\"%.2f radianes son %.0fº %.0f' %.3f'' \"%(radianes, grados,minutos,segundos))"
   ]
  },
  {
   "cell_type": "markdown",
   "metadata": {},
   "source": [
    "## **Ejercicio 9:**\n",
    "\n",
    "### Genera la tabla de verdad para la siguiente expresión booleana:\n",
    "        NOT ((x AND y) OR (NOT y) AND (NOT x)) AND Y\n",
    "\n",
    "### Para ello tendrás que ejecutar esa expresión para todas las combinaciones de X e Y y formatear la salida para obtener algo así:\n",
    "\n",
    "|    X|    Y|   OUT|\n",
    "| -- | -- | -- |\n",
    "| True| True| False|\n",
    "| True|False| False|\n",
    "|False| True|  True|\n",
    "|False|False| False|"
   ]
  },
  {
   "cell_type": "markdown",
   "metadata": {},
   "source": [
    "### **Solución:**"
   ]
  },
  {
   "cell_type": "code",
   "execution_count": null,
   "metadata": {},
   "outputs": [],
   "source": [
    "print(\"%5s|%5s|%6s\"%(\"X\",\"Y\",\"OUT\"))\n",
    "print(\"--------------------\")\n",
    "\n",
    "x=True\n",
    "y=True\n",
    "out=not ((x and y) or (not y) and (not x)) and y\n",
    "print(\"%5s|%5s|%6s\"%(x,y,out))\n",
    "\n",
    "x=True\n",
    "y=False\n",
    "out=not ((x and y) or (not y) and (not x)) and y\n",
    "print(\"%5s|%5s|%6s\"%(x,y,out))\n",
    "\n",
    "x=False\n",
    "y=True\n",
    "out=not ((x and y) or (not y) and (not x)) and y\n",
    "print(\"%5s|%5s|%6s\"%(x,y,out))\n",
    "\n",
    "x=False\n",
    "y=False\n",
    "out=not ((x and y) or (not y) and (not x)) and y\n",
    "print(\"%5s|%5s|%6s\"%(x,y,out))"
   ]
  },
  {
   "cell_type": "markdown",
   "metadata": {},
   "source": [
    "## **Ejercicio 10:**\n",
    "### Genera las tablas de verdad para las operaciones booleanas AND, OR, XOR.\n",
    "\n",
    "Si no conoces estas funciones, clica en los siguientes enlaces para obtener más información:\n",
    "* [AND](https://es.wikipedia.org/wiki/Conjunci%C3%B3n_l%C3%B3gica)\n",
    "* [OR](https://es.wikipedia.org/wiki/Disyunci%C3%B3n_l%C3%B3gica)\n",
    "* [XOR](https://es.wikipedia.org/wiki/Disyunci%C3%B3n_exclusiva)"
   ]
  },
  {
   "cell_type": "markdown",
   "metadata": {},
   "source": [
    "### **Solución:**"
   ]
  },
  {
   "cell_type": "markdown",
   "metadata": {},
   "source": [
    "### AND:"
   ]
  },
  {
   "cell_type": "code",
   "execution_count": null,
   "metadata": {},
   "outputs": [],
   "source": [
    "print(\"%5s|%5s|%6s\"%(\"X\",\"Y\",\"OUT\"))\n",
    "print(\"--------------------\")\n",
    "x=True\n",
    "y=True\n",
    "out=x and y\n",
    "print(\"%5s|%5s|%6s\"%(x,y,out))\n",
    "x=True\n",
    "y=False\n",
    "out=x and y\n",
    "print(\"%5s|%5s|%6s\"%(x,y,out))\n",
    "x=False\n",
    "y=True\n",
    "out=x and y\n",
    "print(\"%5s|%5s|%6s\"%(x,y,out))\n",
    "x=False\n",
    "y=False\n",
    "out=x and y\n",
    "print(\"%5s|%5s|%6s\"%(x,y,out))"
   ]
  },
  {
   "cell_type": "markdown",
   "metadata": {},
   "source": [
    "### OR:"
   ]
  },
  {
   "cell_type": "code",
   "execution_count": null,
   "metadata": {},
   "outputs": [],
   "source": [
    "print(\"%5s|%5s|%6s\"%(\"X\",\"Y\",\"OUT\"))\n",
    "print(\"--------------------\")\n",
    "x=True\n",
    "y=True\n",
    "out=x or y\n",
    "print(\"%5s|%5s|%6s\"%(x,y,out))\n",
    "x=True\n",
    "y=False\n",
    "out=x or y\n",
    "print(\"%5s|%5s|%6s\"%(x,y,out))\n",
    "x=False\n",
    "y=True\n",
    "out=x or y\n",
    "print(\"%5s|%5s|%6s\"%(x,y,out))\n",
    "x=False\n",
    "y=False\n",
    "out=x or y\n",
    "print(\"%5s|%5s|%6s\"%(x,y,out))"
   ]
  },
  {
   "cell_type": "markdown",
   "metadata": {},
   "source": [
    "### XOR:"
   ]
  },
  {
   "cell_type": "code",
   "execution_count": null,
   "metadata": {},
   "outputs": [],
   "source": [
    "print(\"%5s|%5s|%6s\"%(\"X\",\"Y\",\"OUT\"))\n",
    "print(\"--------------------\")\n",
    "x=True\n",
    "y=True\n",
    "out=x != y\n",
    "print(\"%5s|%5s|%6s\"%(x,y,out))\n",
    "x=True\n",
    "y=False\n",
    "out=x != y\n",
    "print(\"%5s|%5s|%6s\"%(x,y,out))\n",
    "x=False\n",
    "y=True\n",
    "out=x != y\n",
    "print(\"%5s|%5s|%6s\"%(x,y,out))\n",
    "x=False\n",
    "y=False\n",
    "out=x != y\n",
    "print(\"%5s|%5s|%6s\"%(x,y,out))"
   ]
  },
  {
   "cell_type": "markdown",
   "metadata": {},
   "source": [
    "## Ejercicio 11:\n",
    "\n",
    "### Extraer dígitos de un número e invertirlo\n",
    "\n",
    "1. Pedir al usuario un número con 3 dígitos y almacenarlo en la variable denominada como number\n",
    "2. Crear 4 nuevas variables:\n",
    "\n",
    "    * units: Almacena las unidades del número dado\n",
    "    * rest1: Almacena las dos cifras restantes del número, después de quitar las unidades\n",
    "    * tens: Almacena las decenas del número dado\n",
    "    * hundreds: Almacena las centenas del número dado \n",
    "\n",
    "3. Proporcionar un mensaje como el siguiente pero con el número introducido por el usuario: \n",
    "        \n",
    "        El número introducido 123 tiene 3 unidades, 2 decenas y 1 centena\n",
    "        \n",
    "4. Crear una nueva variable \"inversa\" que almacenará el número invertido del dado como entrada.\n",
    "\n",
    "\n",
    "**IMPORTANTE: Sólo se permite dividir por 100**"
   ]
  },
  {
   "cell_type": "markdown",
   "metadata": {},
   "source": [
    "### **Solución:**"
   ]
  },
  {
   "cell_type": "code",
   "execution_count": null,
   "metadata": {},
   "outputs": [],
   "source": [
    "number=input(\"Write an integer number with 3 digits and hit ENTER: \")\n",
    "print(\"The number you entered is: \", number)\n",
    "\n",
    "print(type(number))\n",
    "number_int=int(number)\n",
    "print(type(number_int))\n",
    "\n",
    "units= number_int%10\n",
    "rest1= number_int//10\n",
    "tens= rest1%10\n",
    "hundreds= rest1//10 \n",
    "\n",
    "print(\"The introduced number %d has %d units, %d tens and %d hundreds \" %(number_int, units, tens , hundreds))\n",
    "\n",
    "reverse= units * 10**2 + tens * 10 + hundreds\n",
    "\n",
    "print (\"The reverse number of\", number_int, \"is\", reverse)"
   ]
  },
  {
   "cell_type": "markdown",
   "metadata": {},
   "source": [
    "## Ejercicio 12:\n",
    "### Identifica por qué el siguiente código da error\n",
    "    a=\"This is a variable type string\"  \n",
    "    b=True  \n",
    "    c=10.34  \n",
    "    print(\"Print three varaibles\"+a+b+c)"
   ]
  },
  {
   "cell_type": "markdown",
   "metadata": {},
   "source": [
    "### **Solución:**"
   ]
  },
  {
   "cell_type": "code",
   "execution_count": null,
   "metadata": {},
   "outputs": [],
   "source": [
    "a=\"This is a variable type string\"  \n",
    "b=True  \n",
    "c=10.34  \n",
    "print(\"Print three varaibles\",a,b,c)"
   ]
  },
  {
   "cell_type": "markdown",
   "metadata": {},
   "source": [
    "## Ejercicio 13:\n",
    "### Entender los parámetros de una función. Arregla el siguiente error"
   ]
  },
  {
   "cell_type": "code",
   "execution_count": null,
   "metadata": {},
   "outputs": [],
   "source": [
    "import math\n",
    "vector=[2,4,6,8,10]\n",
    "math.pow(vector,2)"
   ]
  },
  {
   "cell_type": "markdown",
   "metadata": {},
   "source": [
    "### **Solución:**"
   ]
  },
  {
   "cell_type": "markdown",
   "metadata": {},
   "source": [
    "Esta función solo acepta números escalares como parámetro, no listas"
   ]
  },
  {
   "cell_type": "code",
   "execution_count": null,
   "metadata": {},
   "outputs": [],
   "source": [
    "import math\n",
    "vector=[2,4,6,8,10]\n",
    "for i in vector:\n",
    "    print(math.pow(i,2))"
   ]
  },
  {
   "cell_type": "markdown",
   "metadata": {},
   "source": [
    "## Ejercicio 14: \n",
    "### Usando librerías y aliases. Arregla los siguientes códigos:"
   ]
  },
  {
   "cell_type": "markdown",
   "metadata": {},
   "source": [
    "### 14.1 Codigo"
   ]
  },
  {
   "cell_type": "code",
   "execution_count": null,
   "metadata": {},
   "outputs": [],
   "source": [
    "import numpy\n",
    "vector=[2,4,6,8,10]\n",
    "np.power(vector,2)"
   ]
  },
  {
   "cell_type": "markdown",
   "metadata": {},
   "source": [
    "### **Solución:**"
   ]
  },
  {
   "cell_type": "markdown",
   "metadata": {},
   "source": [
    "Importamos la librería con el nombre completo pero la invocábamos con un alias"
   ]
  },
  {
   "cell_type": "code",
   "execution_count": null,
   "metadata": {},
   "outputs": [],
   "source": [
    "import numpy\n",
    "vector=[2,4,6,8,10]\n",
    "numpy.power(vector,2)"
   ]
  },
  {
   "cell_type": "markdown",
   "metadata": {},
   "source": [
    "### 14.1 Codigo"
   ]
  },
  {
   "cell_type": "code",
   "execution_count": null,
   "metadata": {},
   "outputs": [],
   "source": [
    "import numpy as np\n",
    "import matplotlib as plt\n",
    "vector=[2,4,6,8,10]\n",
    "y=np.power(vector,2)\n",
    "plt.plot(vector,y)"
   ]
  },
  {
   "cell_type": "markdown",
   "metadata": {},
   "source": [
    "### **Solución:**"
   ]
  },
  {
   "cell_type": "markdown",
   "metadata": {},
   "source": [
    "No importamos bien la librería matplotlib"
   ]
  },
  {
   "cell_type": "code",
   "execution_count": null,
   "metadata": {},
   "outputs": [],
   "source": [
    "import numpy as np\n",
    "import matplotlib.pyplot as plt\n",
    "vector=[2,4,6,8,10]\n",
    "y=np.power(vector,2)\n",
    "plt.plot(vector,y)"
   ]
  },
  {
   "cell_type": "markdown",
   "metadata": {},
   "source": [
    "## Ejercicio 15: \n",
    "\n",
    "### PRINT statements. Corrige el siguiente código para que solo muestre 2 decimales"
   ]
  },
  {
   "cell_type": "code",
   "execution_count": null,
   "metadata": {},
   "outputs": [],
   "source": [
    "import numpy as np\n",
    "\n",
    "radius = 12.34\n",
    "volume = (4/3)*(np.pi*(radius**3))\n",
    "print(\"The volume of a sphere with radius %f.2 is %f.2\" % (radius,volume))"
   ]
  },
  {
   "cell_type": "markdown",
   "metadata": {},
   "source": [
    "### **Solución:**"
   ]
  },
  {
   "cell_type": "code",
   "execution_count": null,
   "metadata": {},
   "outputs": [],
   "source": [
    "import numpy as np\n",
    "\n",
    "radius = 12.34\n",
    "volume = (4/3)*(np.pi*(radius**3))\n",
    "print(\"The volume of a sphere with radius %.2f is %.2f\" % (radius,volume))"
   ]
  },
  {
   "cell_type": "markdown",
   "metadata": {},
   "source": [
    "## Ejercicio 16: \n",
    "### Input data. Corrige el error que genera el siguiente código"
   ]
  },
  {
   "cell_type": "code",
   "execution_count": null,
   "metadata": {},
   "outputs": [],
   "source": [
    "number=input(\"Introduce number from 0 to 9: \")\n",
    "type(number)\n",
    "print(\"This is your number squared\",number**2)"
   ]
  },
  {
   "cell_type": "markdown",
   "metadata": {},
   "source": [
    "### **Solución:**"
   ]
  },
  {
   "cell_type": "markdown",
   "metadata": {},
   "source": [
    "La funcion input devuelve un String"
   ]
  },
  {
   "cell_type": "code",
   "execution_count": null,
   "metadata": {},
   "outputs": [],
   "source": [
    "number=input(\"Introduce number from 0 to 9: \")\n",
    "print(type(number))\n",
    "print(\"This is your number squared\",int(number)**2)"
   ]
  },
  {
   "cell_type": "markdown",
   "metadata": {},
   "source": [
    "## Ejercicio 17: \n",
    "### Combinar la conversión de tipos con la gestión de cadenas. \n",
    "Corrige el siguiente código para que el resultado sea 492 (lo que debería ser) en vez de 444444."
   ]
  },
  {
   "cell_type": "code",
   "execution_count": null,
   "metadata": {},
   "outputs": [],
   "source": [
    "number=4\n",
    "print(type(number))\n",
    "print(\"Now we will calculate 444+44+4 = 492\")\n",
    "n1 = \"%s\" % number\n",
    "n2 = \"%s%s\" % (number,number)\n",
    "n3 = \"%s%s%s\" % (number,number,number)\n",
    "print(\"Result: \",n1+n2+n3)"
   ]
  },
  {
   "cell_type": "markdown",
   "metadata": {},
   "source": [
    "### **Solución:**"
   ]
  },
  {
   "cell_type": "code",
   "execution_count": null,
   "metadata": {},
   "outputs": [],
   "source": [
    "number=4\n",
    "print(type(number))\n",
    "print(\"Now we will calculate 444+44+4 = 492\")\n",
    "n1 = int(\"%s\" % number)\n",
    "n2 = int(\"%s%s\" % (number,number))\n",
    "n3 = int(\"%s%s%s\" % (number,number,number))\n",
    "print(\"Result: \"+str(n1+n2+n3))"
   ]
  },
  {
   "cell_type": "markdown",
   "metadata": {},
   "source": [
    "## Ejercicio 18: \n",
    "### Corrige el siguiente código para calcular la fuerza de atracción gravitatoria sabiendo que responde a:\n",
    "\n",
    "$$ F=G\\frac{m_1m_2}{r^2} $$"
   ]
  },
  {
   "cell_type": "code",
   "execution_count": null,
   "metadata": {},
   "outputs": [],
   "source": [
    "import math\n",
    "import numpy as np\n",
    "import matplotlib.pyplot as plt\n",
    "\n",
    "G=6.673*np.power(10,-11)\n",
    "R=6371000               # earth radius in m\n",
    "r=np.logspace(0,8,20)   # distance in m\n",
    "M=5.972*np.power(10,24) # mass in kg\n",
    "m = 1000                # satellite mass in kg\n",
    "f=G*M*m/np.power(R+r,2)\n",
    "f"
   ]
  },
  {
   "cell_type": "markdown",
   "metadata": {},
   "source": [
    "### **Solución:**"
   ]
  },
  {
   "cell_type": "markdown",
   "metadata": {},
   "source": [
    "Se podría resolver de diferentes maneras:\n",
    "\n",
    " * usar 10**-11\n",
    " * usar math.pow(10,-11)\n",
    " * usar np.power(10.0,-11)"
   ]
  },
  {
   "cell_type": "code",
   "execution_count": null,
   "metadata": {},
   "outputs": [],
   "source": [
    "import math\n",
    "import numpy as np\n",
    "import matplotlib.pyplot as plt\n",
    "\n",
    "G=6.673*np.power(10.0,-11)\n",
    "R=6371000               # earth radius in m\n",
    "r=np.logspace(0,8,20)   # distance in m\n",
    "M=5.972*np.power(10.0,24) # mass in kg\n",
    "m = 1000                # satellite mass in kg\n",
    "f=G*M*m/np.power(R+r,2)\n",
    "f"
   ]
  },
  {
   "cell_type": "markdown",
   "metadata": {},
   "source": [
    "## Ejercicio 19:\n",
    "\n",
    "### Corrige los siguientes códigos\n",
    "\n",
    "### **19.1 Formateo de PRINTS**"
   ]
  },
  {
   "cell_type": "code",
   "execution_count": null,
   "metadata": {},
   "outputs": [],
   "source": [
    "# Code 1\n",
    "var1= 2\n",
    "var2= 3.5\n",
    "var3 =\"Hola\"\n",
    "\n",
    "print(\"variable 1 is %d variable 2 is  %d and variable 3 is %d \" %(var1, var2, var3)"
   ]
  },
  {
   "cell_type": "markdown",
   "metadata": {},
   "source": [
    "### **Solución:**"
   ]
  },
  {
   "cell_type": "code",
   "execution_count": null,
   "metadata": {},
   "outputs": [],
   "source": [
    "# Code 1 Solution\n",
    "var1= 2\n",
    "var2= 3.5\n",
    "var3 =\"Hola\"\n",
    "\n",
    "print(\"variable 1 is %d variable 2 is %.1f and variable 3 is %s \" %(var1, var2, var3))"
   ]
  },
  {
   "cell_type": "markdown",
   "metadata": {},
   "source": [
    "### **19.2 Nombres de variables**"
   ]
  },
  {
   "cell_type": "code",
   "execution_count": null,
   "metadata": {},
   "outputs": [],
   "source": [
    "# Code 2 \n",
    "1variable = 2\n",
    "2variable = 7\n",
    "var_suma = 1variable + 2variable\n",
    "print(var_suma)"
   ]
  },
  {
   "cell_type": "markdown",
   "metadata": {},
   "source": [
    "### **Solución:**"
   ]
  },
  {
   "cell_type": "code",
   "execution_count": null,
   "metadata": {},
   "outputs": [],
   "source": [
    "# Code 2 Solution\n",
    "variable1 = 2\n",
    "variable2 = 7\n",
    "var_suma = variable1 + variable2\n",
    "print(var_suma)"
   ]
  },
  {
   "cell_type": "markdown",
   "metadata": {},
   "source": [
    "### **19.3 Variables e INPUTS**"
   ]
  },
  {
   "cell_type": "code",
   "execution_count": null,
   "metadata": {},
   "outputs": [],
   "source": [
    "# Code 3\n",
    "amount_€=input(\"Write an amount in euros and hit ENTER: \")\n",
    "amount_$ = amount_€ * 1,10\n",
    "print (\"%.2f  euros is equivalent to %.2f dollars\" %(amount_€, amount_$))\n"
   ]
  },
  {
   "cell_type": "markdown",
   "metadata": {},
   "source": [
    "### **Solución:**"
   ]
  },
  {
   "cell_type": "code",
   "execution_count": null,
   "metadata": {},
   "outputs": [],
   "source": [
    "# Code 3\n",
    "amount_eur=input(\"Write an amount in euros and hit ENTER: \")\n",
    "amount_eur_int= float (amount_eur)\n",
    "amount_dol = amount_eur_int * 1.10\n",
    "print (\"%.2f  euros is equivalent to %.2f dollars\" %(amount_eur_int, amount_dol))"
   ]
  }
 ],
 "metadata": {
  "interpreter": {
   "hash": "d652f12e86d4907f3226fd0eca720165fd18d0c760b9e442a689f9a4e2e2c276"
  },
  "kernelspec": {
   "display_name": "Python 3",
   "language": "python",
   "name": "python3"
  },
  "language_info": {
   "codemirror_mode": {
    "name": "ipython",
    "version": 3
   },
   "file_extension": ".py",
   "mimetype": "text/x-python",
   "name": "python",
   "nbconvert_exporter": "python",
   "pygments_lexer": "ipython3",
   "version": "3.8.8"
  }
 },
 "nbformat": 4,
 "nbformat_minor": 2
}

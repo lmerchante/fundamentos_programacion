{
 "cells": [
  {
   "cell_type": "markdown",
   "metadata": {},
   "source": [
    "# TEMA 1: Variables, Expressions, Statements and Operators"
   ]
  },
  {
   "cell_type": "markdown",
   "metadata": {},
   "source": [
    "## **Ejercicio 1:**\n",
    "### Escribir un programa que pregunte al usuario por su nombre y lo imprima con todas sus letras en minúsculas y todas en mayúsculas"
   ]
  },
  {
   "cell_type": "markdown",
   "metadata": {},
   "source": [
    "### **Solución:** "
   ]
  },
  {
   "cell_type": "code",
   "execution_count": null,
   "metadata": {},
   "outputs": [],
   "source": []
  },
  {
   "cell_type": "markdown",
   "metadata": {},
   "source": [
    "## **Ejercicio 2:**\n",
    "### Escribir un programa en el que se definan las siguientes variables:\n",
    "+   Variable entera para el día\n",
    "+   Variable string para el mes\n",
    "+   Variable entera para el año\n",
    "+   Variable entera para las horas\n",
    "+   Variable entera para los minutos\n",
    "+   Variable real para los segundos\n",
    "\n",
    "\n",
    "### A partir de esas 6 variables construya una instrucción PRINT que genere una salida similar a esta: \n",
    "\n",
    "                 Ahora son las 11:30:34.67 del 1 de Enero de 2020"
   ]
  },
  {
   "cell_type": "markdown",
   "metadata": {},
   "source": [
    "### **Solución:**"
   ]
  },
  {
   "cell_type": "code",
   "execution_count": null,
   "metadata": {},
   "outputs": [],
   "source": []
  },
  {
   "cell_type": "markdown",
   "metadata": {},
   "source": [
    "## **Ejercicio 3:**\n",
    "### Escribir un programa que realice la siguiente operación aritmética:\n",
    "$$\n",
    "\\left(\\frac{12+4}{\\sqrt{144}-2}\\right)^3\n",
    "$$\n",
    "### **Solución:**"
   ]
  },
  {
   "cell_type": "code",
   "execution_count": null,
   "metadata": {},
   "outputs": [],
   "source": []
  },
  {
   "cell_type": "markdown",
   "metadata": {},
   "source": [
    "## Ejercicio 4: \n",
    "### Un trabajador cobra 10€ la hora. El trabajador debe hacer 38 horas semanales. Teniendo en cuenta que el salario del trabajador es el 58% de lo que le cuesta a la empresa, calcular el coste total del empleado para la empresa y la parte que recibe el estado.\n",
    "\n",
    "### Solución:"
   ]
  },
  {
   "cell_type": "code",
   "execution_count": null,
   "metadata": {},
   "outputs": [],
   "source": []
  },
  {
   "cell_type": "markdown",
   "metadata": {},
   "source": [
    "## **Ejercicio 5:**\n",
    "### Escribir un programa que le pida al usuario el dividendo y el divisor y devuelva el cociente y el resto."
   ]
  },
  {
   "cell_type": "markdown",
   "metadata": {},
   "source": [
    "### **Solución:**"
   ]
  },
  {
   "cell_type": "code",
   "execution_count": null,
   "metadata": {},
   "outputs": [],
   "source": []
  },
  {
   "cell_type": "markdown",
   "metadata": {},
   "source": [
    "## **Ejercicio 6:**\n",
    "### Escribir un programa que le pida al usuario una cantidad para invertir y el tipo de interés anual. El programa debe mostrar cómo evolucionan los ahorros durante los 10 primeros años."
   ]
  },
  {
   "cell_type": "markdown",
   "metadata": {},
   "source": [
    "### **Solución:**"
   ]
  },
  {
   "cell_type": "code",
   "execution_count": null,
   "metadata": {},
   "outputs": [],
   "source": []
  },
  {
   "cell_type": "markdown",
   "metadata": {},
   "source": [
    "## **Problema 7:**\n",
    "\n",
    "### 7.1 Escribir un programa que calcule la fuerza de atracción gravitatoria entre la tierra y un satélite en función de la masa del mismo de acuerdo con la fórmula:  \n",
    "$$\n",
    "F=G\\times\\frac{m_1\\times m_2}{r^2}\n",
    "$$ \n",
    "\n",
    "Ten en cuenta que:\n",
    "* el valor de la constante G es de $6.67384 \\times\\ 10^{-11} Nm^2kg^{-2}$\n",
    "* la masa de la tierra es $5.972\\times 10^{24}Kg$\n",
    "* la distancia de la órbita geoestacionaria es 35786Km sobre el nivel del mar\n",
    "* el radio de la tierra es de 6371Km. \n",
    "\n",
    "### 7.2 Calcula la fuerza de atracción para cinco pesos diferentes [1,10,100,1000,10000] y represéntalos con la función PLOT de la librería MATPLOTLIB."
   ]
  },
  {
   "cell_type": "markdown",
   "metadata": {},
   "source": [
    "### **Solución:**"
   ]
  },
  {
   "cell_type": "code",
   "execution_count": null,
   "metadata": {},
   "outputs": [],
   "source": []
  },
  {
   "cell_type": "markdown",
   "metadata": {},
   "source": [
    "## **Ejericio 8:**\n",
    "\n",
    "### Escribir un programa que reciba un ángulo en radianes y el código lo convierta en grados (sin decimales), minutos (sin decimales) y segundos (con 3 decimales) y lo saque por pantalla con sus símbolos. Es decir, algo parecido a esto:\n",
    "                    Radianes: 5\n",
    "                    5.00 radianes son 286º 28' 44.031\""
   ]
  },
  {
   "cell_type": "markdown",
   "metadata": {},
   "source": [
    "### **Solución:**"
   ]
  },
  {
   "cell_type": "code",
   "execution_count": null,
   "metadata": {},
   "outputs": [],
   "source": []
  },
  {
   "cell_type": "markdown",
   "metadata": {},
   "source": [
    "## **Ejercicio 9:**\n",
    "\n",
    "### Genera la tabla de verdad para la siguiente expresión booleana:\n",
    "        NOT ((x AND y) OR (NOT y) AND (NOT x)) AND Y\n",
    "\n",
    "### Para ello tendrás que ejecutar esa expresión para todas las combinaciones de X e Y y formatear la salida para obtener algo así:\n",
    "\n",
    "|    X|    Y|   OUT|\n",
    "| -- | -- | -- |\n",
    "| True| True| False|\n",
    "| True|False| False|\n",
    "|False| True|  True|\n",
    "|False|False| False|"
   ]
  },
  {
   "cell_type": "markdown",
   "metadata": {},
   "source": [
    "### **Solución:**"
   ]
  },
  {
   "cell_type": "code",
   "execution_count": null,
   "metadata": {},
   "outputs": [],
   "source": []
  },
  {
   "cell_type": "markdown",
   "metadata": {},
   "source": [
    "## **Ejercicio 10:**\n",
    "### Genera las tablas de verdad para las operaciones booleanas AND, OR, XOR.\n",
    "\n",
    "Si no conoces estas funciones, clica en los siguientes enlaces para obtener más información:\n",
    "* [AND](https://es.wikipedia.org/wiki/Conjunci%C3%B3n_l%C3%B3gica)\n",
    "* [OR](https://es.wikipedia.org/wiki/Disyunci%C3%B3n_l%C3%B3gica)\n",
    "* [XOR](https://es.wikipedia.org/wiki/Disyunci%C3%B3n_exclusiva)"
   ]
  },
  {
   "cell_type": "markdown",
   "metadata": {},
   "source": [
    "### **Solución:**"
   ]
  },
  {
   "cell_type": "markdown",
   "metadata": {},
   "source": [
    "### AND:"
   ]
  },
  {
   "cell_type": "code",
   "execution_count": null,
   "metadata": {},
   "outputs": [],
   "source": []
  },
  {
   "cell_type": "markdown",
   "metadata": {},
   "source": [
    "### OR:"
   ]
  },
  {
   "cell_type": "code",
   "execution_count": null,
   "metadata": {},
   "outputs": [],
   "source": []
  },
  {
   "cell_type": "markdown",
   "metadata": {},
   "source": [
    "### XOR:"
   ]
  },
  {
   "cell_type": "code",
   "execution_count": null,
   "metadata": {},
   "outputs": [],
   "source": []
  },
  {
   "cell_type": "markdown",
   "metadata": {},
   "source": [
    "## Ejercicio 11:\n",
    "\n",
    "### Extraer dígitos de un número e invertirlo\n",
    "\n",
    "1. Pedir al usuario un número con 3 dígitos y almacenarlo en la variable denominada como number\n",
    "2. Crear 4 nuevas variables:\n",
    "\n",
    "    * units: Almacena las unidades del número dado\n",
    "    * rest1: Almacena las dos cifras restantes del número, después de quitar las unidades\n",
    "    * tens: Almacena las decenas del número dado\n",
    "    * hundreds: Almacena las centenas del número dado \n",
    "\n",
    "3. Proporcionar un mensaje como el siguiente pero con el número introducido por el usuario: \n",
    "        \n",
    "        El número introducido 123 tiene 3 unidades, 2 decenas y 1 centena\n",
    "        \n",
    "4. Crear una nueva variable \"inversa\" que almacenará el número invertido del dado como entrada.\n",
    "\n",
    "\n",
    "**IMPORTANTE: Sólo se permite dividir por 100**"
   ]
  },
  {
   "cell_type": "markdown",
   "metadata": {},
   "source": [
    "### **Solución:**"
   ]
  },
  {
   "cell_type": "code",
   "execution_count": null,
   "metadata": {},
   "outputs": [],
   "source": []
  },
  {
   "cell_type": "markdown",
   "metadata": {},
   "source": [
    "## Ejercicio 12:\n",
    "### Identifica por qué el siguiente código da error\n",
    "    a=\"This is a variable type string\"  \n",
    "    b=True  \n",
    "    c=10.34  \n",
    "    print(\"Print three varaibles\"+a+b+c)"
   ]
  },
  {
   "cell_type": "markdown",
   "metadata": {},
   "source": [
    "### **Solución:**"
   ]
  },
  {
   "cell_type": "code",
   "execution_count": null,
   "metadata": {},
   "outputs": [],
   "source": []
  },
  {
   "cell_type": "markdown",
   "metadata": {},
   "source": [
    "## Ejercicio 13:\n",
    "### Entender los parámetros de una función. Arregla el siguiente error"
   ]
  },
  {
   "cell_type": "code",
   "execution_count": 5,
   "metadata": {},
   "outputs": [
    {
     "ename": "TypeError",
     "evalue": "must be real number, not list",
     "output_type": "error",
     "traceback": [
      "\u001b[0;31m---------------------------------------------------------------------------\u001b[0m",
      "\u001b[0;31mTypeError\u001b[0m                                 Traceback (most recent call last)",
      "Input \u001b[0;32mIn [5]\u001b[0m, in \u001b[0;36m<module>\u001b[0;34m\u001b[0m\n\u001b[1;32m      1\u001b[0m \u001b[38;5;28;01mimport\u001b[39;00m \u001b[38;5;21;01mmath\u001b[39;00m\n\u001b[1;32m      2\u001b[0m vector\u001b[38;5;241m=\u001b[39m[\u001b[38;5;241m2\u001b[39m,\u001b[38;5;241m4\u001b[39m,\u001b[38;5;241m6\u001b[39m,\u001b[38;5;241m8\u001b[39m,\u001b[38;5;241m10\u001b[39m]\n\u001b[0;32m----> 3\u001b[0m \u001b[43mmath\u001b[49m\u001b[38;5;241;43m.\u001b[39;49m\u001b[43mpow\u001b[49m\u001b[43m(\u001b[49m\u001b[43mvector\u001b[49m\u001b[43m,\u001b[49m\u001b[38;5;241;43m2\u001b[39;49m\u001b[43m)\u001b[49m\n",
      "\u001b[0;31mTypeError\u001b[0m: must be real number, not list"
     ]
    }
   ],
   "source": [
    "import math\n",
    "vector=[2,4,6,8,10]\n",
    "math.pow(vector,2)"
   ]
  },
  {
   "cell_type": "markdown",
   "metadata": {},
   "source": [
    "### **Solución:**"
   ]
  },
  {
   "cell_type": "code",
   "execution_count": null,
   "metadata": {},
   "outputs": [],
   "source": []
  },
  {
   "cell_type": "markdown",
   "metadata": {},
   "source": [
    "## Ejercicio 14: \n",
    "### Usando librerías y aliases. Arregla los siguientes códigos:"
   ]
  },
  {
   "cell_type": "code",
   "execution_count": 6,
   "metadata": {},
   "outputs": [
    {
     "ename": "NameError",
     "evalue": "name 'np' is not defined",
     "output_type": "error",
     "traceback": [
      "\u001b[0;31m---------------------------------------------------------------------------\u001b[0m",
      "\u001b[0;31mNameError\u001b[0m                                 Traceback (most recent call last)",
      "Input \u001b[0;32mIn [6]\u001b[0m, in \u001b[0;36m<module>\u001b[0;34m\u001b[0m\n\u001b[1;32m      1\u001b[0m \u001b[38;5;28;01mimport\u001b[39;00m \u001b[38;5;21;01mnumpy\u001b[39;00m\n\u001b[1;32m      2\u001b[0m vector\u001b[38;5;241m=\u001b[39m[\u001b[38;5;241m2\u001b[39m,\u001b[38;5;241m4\u001b[39m,\u001b[38;5;241m6\u001b[39m,\u001b[38;5;241m8\u001b[39m,\u001b[38;5;241m10\u001b[39m]\n\u001b[0;32m----> 3\u001b[0m \u001b[43mnp\u001b[49m\u001b[38;5;241m.\u001b[39mpower(vector,\u001b[38;5;241m2\u001b[39m)\n",
      "\u001b[0;31mNameError\u001b[0m: name 'np' is not defined"
     ]
    }
   ],
   "source": [
    "import numpy\n",
    "vector=[2,4,6,8,10]\n",
    "np.power(vector,2)"
   ]
  },
  {
   "cell_type": "markdown",
   "metadata": {},
   "source": [
    "### **Solución:**"
   ]
  },
  {
   "cell_type": "code",
   "execution_count": null,
   "metadata": {},
   "outputs": [],
   "source": []
  },
  {
   "cell_type": "code",
   "execution_count": 7,
   "metadata": {},
   "outputs": [
    {
     "ename": "AttributeError",
     "evalue": "module 'matplotlib' has no attribute 'plot'",
     "output_type": "error",
     "traceback": [
      "\u001b[0;31m---------------------------------------------------------------------------\u001b[0m",
      "\u001b[0;31mAttributeError\u001b[0m                            Traceback (most recent call last)",
      "Input \u001b[0;32mIn [7]\u001b[0m, in \u001b[0;36m<module>\u001b[0;34m\u001b[0m\n\u001b[1;32m      3\u001b[0m vector\u001b[38;5;241m=\u001b[39m[\u001b[38;5;241m2\u001b[39m,\u001b[38;5;241m4\u001b[39m,\u001b[38;5;241m6\u001b[39m,\u001b[38;5;241m8\u001b[39m,\u001b[38;5;241m10\u001b[39m]\n\u001b[1;32m      4\u001b[0m y\u001b[38;5;241m=\u001b[39mnp\u001b[38;5;241m.\u001b[39mpower(vector,\u001b[38;5;241m2\u001b[39m)\n\u001b[0;32m----> 5\u001b[0m \u001b[43mplt\u001b[49m\u001b[38;5;241;43m.\u001b[39;49m\u001b[43mplot\u001b[49m(vector,y)\n",
      "File \u001b[0;32m~/miniforge3/envs/pandasenv/lib/python3.10/site-packages/matplotlib/_api/__init__.py:222\u001b[0m, in \u001b[0;36mcaching_module_getattr.<locals>.__getattr__\u001b[0;34m(name)\u001b[0m\n\u001b[1;32m    220\u001b[0m \u001b[38;5;28;01mif\u001b[39;00m name \u001b[38;5;129;01min\u001b[39;00m props:\n\u001b[1;32m    221\u001b[0m     \u001b[38;5;28;01mreturn\u001b[39;00m props[name]\u001b[38;5;241m.\u001b[39m\u001b[38;5;21m__get__\u001b[39m(instance)\n\u001b[0;32m--> 222\u001b[0m \u001b[38;5;28;01mraise\u001b[39;00m \u001b[38;5;167;01mAttributeError\u001b[39;00m(\n\u001b[1;32m    223\u001b[0m     \u001b[38;5;124mf\u001b[39m\u001b[38;5;124m\"\u001b[39m\u001b[38;5;124mmodule \u001b[39m\u001b[38;5;132;01m{\u001b[39;00m\u001b[38;5;28mcls\u001b[39m\u001b[38;5;241m.\u001b[39m\u001b[38;5;18m__module__\u001b[39m\u001b[38;5;132;01m!r}\u001b[39;00m\u001b[38;5;124m has no attribute \u001b[39m\u001b[38;5;132;01m{\u001b[39;00mname\u001b[38;5;132;01m!r}\u001b[39;00m\u001b[38;5;124m\"\u001b[39m)\n",
      "\u001b[0;31mAttributeError\u001b[0m: module 'matplotlib' has no attribute 'plot'"
     ]
    }
   ],
   "source": [
    "import numpy as np\n",
    "import matplotlib as plt\n",
    "vector=[2,4,6,8,10]\n",
    "y=np.power(vector,2)\n",
    "plt.plot(vector,y)"
   ]
  },
  {
   "cell_type": "markdown",
   "metadata": {},
   "source": [
    "### **Solución:**"
   ]
  },
  {
   "cell_type": "markdown",
   "metadata": {},
   "source": []
  },
  {
   "cell_type": "markdown",
   "metadata": {},
   "source": [
    "## Ejercicio 15: \n",
    "\n",
    "### PRINT statements. Corrige el siguiente código para que solo muestre 2 decimales"
   ]
  },
  {
   "cell_type": "code",
   "execution_count": null,
   "metadata": {},
   "outputs": [],
   "source": [
    "import numpy as np\n",
    "\n",
    "radius = 12.34\n",
    "volume = (4/3)*(np.pi*(radius**3))\n",
    "print(\"The volume of a sphere with radius %f.2 is %f.2\" % (radius,volume))"
   ]
  },
  {
   "cell_type": "markdown",
   "metadata": {},
   "source": [
    "### **Solución:**"
   ]
  },
  {
   "cell_type": "code",
   "execution_count": null,
   "metadata": {},
   "outputs": [],
   "source": []
  },
  {
   "cell_type": "markdown",
   "metadata": {},
   "source": [
    "## Ejercicio 16: \n",
    "### Input data. Corrige el error que genera el siguiente código"
   ]
  },
  {
   "cell_type": "code",
   "execution_count": 8,
   "metadata": {},
   "outputs": [
    {
     "ename": "TypeError",
     "evalue": "unsupported operand type(s) for ** or pow(): 'str' and 'int'",
     "output_type": "error",
     "traceback": [
      "\u001b[0;31m---------------------------------------------------------------------------\u001b[0m",
      "\u001b[0;31mTypeError\u001b[0m                                 Traceback (most recent call last)",
      "Input \u001b[0;32mIn [8]\u001b[0m, in \u001b[0;36m<module>\u001b[0;34m\u001b[0m\n\u001b[1;32m      1\u001b[0m number\u001b[38;5;241m=\u001b[39m\u001b[38;5;28minput\u001b[39m(\u001b[38;5;124m\"\u001b[39m\u001b[38;5;124mIntroduce number from 0 to 9: \u001b[39m\u001b[38;5;124m\"\u001b[39m)\n\u001b[1;32m      2\u001b[0m \u001b[38;5;28mtype\u001b[39m(number)\n\u001b[0;32m----> 3\u001b[0m \u001b[38;5;28mprint\u001b[39m(\u001b[38;5;124m\"\u001b[39m\u001b[38;5;124mThis is your number squared\u001b[39m\u001b[38;5;124m\"\u001b[39m,\u001b[43mnumber\u001b[49m\u001b[38;5;241;43m*\u001b[39;49m\u001b[38;5;241;43m*\u001b[39;49m\u001b[38;5;241;43m2\u001b[39;49m)\n",
      "\u001b[0;31mTypeError\u001b[0m: unsupported operand type(s) for ** or pow(): 'str' and 'int'"
     ]
    }
   ],
   "source": [
    "number=input(\"Introduce number from 0 to 9: \")\n",
    "type(number)\n",
    "print(\"This is your number squared\",number**2)"
   ]
  },
  {
   "cell_type": "markdown",
   "metadata": {},
   "source": [
    "### **Solución:**"
   ]
  },
  {
   "cell_type": "code",
   "execution_count": null,
   "metadata": {},
   "outputs": [],
   "source": []
  },
  {
   "cell_type": "markdown",
   "metadata": {},
   "source": [
    "## Ejercicio 17: \n",
    "### Combinar la conversión de tipos con la gestión de cadenas. \n",
    "Corrige el siguiente código para que el resultado sea 492 (lo que debería ser) en vez de 444444."
   ]
  },
  {
   "cell_type": "code",
   "execution_count": 3,
   "metadata": {},
   "outputs": [
    {
     "name": "stdout",
     "output_type": "stream",
     "text": [
      "<class 'int'>\n",
      "Now we will calculate 444+44+4 = 492\n",
      "Result:  444444\n"
     ]
    }
   ],
   "source": [
    "number=4\n",
    "print(type(number))\n",
    "print(\"Now we will calculate 444+44+4 = 492\")\n",
    "n1 = \"%s\" % number\n",
    "n2 = \"%s%s\" % (number,number)\n",
    "n3 = \"%s%s%s\" % (number,number,number)\n",
    "print(\"Result: \",n1+n2+n3)"
   ]
  },
  {
   "cell_type": "markdown",
   "metadata": {},
   "source": [
    "### **Solución:**"
   ]
  },
  {
   "cell_type": "code",
   "execution_count": null,
   "metadata": {},
   "outputs": [],
   "source": []
  },
  {
   "cell_type": "markdown",
   "metadata": {},
   "source": [
    "## Ejercicio 18: \n",
    "### Corrige el siguiente código para calcular la fuerza de atracción gravitatoria sabiendo que responde a:\n",
    "\n",
    "$$ F=G\\frac{m_1m_2}{r^2} $$"
   ]
  },
  {
   "cell_type": "code",
   "execution_count": 4,
   "metadata": {},
   "outputs": [
    {
     "ename": "ValueError",
     "evalue": "Integers to negative integer powers are not allowed.",
     "output_type": "error",
     "traceback": [
      "\u001b[0;31m---------------------------------------------------------------------------\u001b[0m",
      "\u001b[0;31mValueError\u001b[0m                                Traceback (most recent call last)",
      "Input \u001b[0;32mIn [4]\u001b[0m, in \u001b[0;36m<module>\u001b[0;34m\u001b[0m\n\u001b[1;32m      2\u001b[0m \u001b[38;5;28;01mimport\u001b[39;00m \u001b[38;5;21;01mnumpy\u001b[39;00m \u001b[38;5;28;01mas\u001b[39;00m \u001b[38;5;21;01mnp\u001b[39;00m\n\u001b[1;32m      3\u001b[0m \u001b[38;5;28;01mimport\u001b[39;00m \u001b[38;5;21;01mmatplotlib\u001b[39;00m\u001b[38;5;21;01m.\u001b[39;00m\u001b[38;5;21;01mpyplot\u001b[39;00m \u001b[38;5;28;01mas\u001b[39;00m \u001b[38;5;21;01mplt\u001b[39;00m\n\u001b[0;32m----> 5\u001b[0m G\u001b[38;5;241m=\u001b[39m\u001b[38;5;241m6.673\u001b[39m\u001b[38;5;241m*\u001b[39m\u001b[43mnp\u001b[49m\u001b[38;5;241;43m.\u001b[39;49m\u001b[43mpower\u001b[49m\u001b[43m(\u001b[49m\u001b[38;5;241;43m10\u001b[39;49m\u001b[43m,\u001b[49m\u001b[38;5;241;43m-\u001b[39;49m\u001b[38;5;241;43m11\u001b[39;49m\u001b[43m)\u001b[49m\n\u001b[1;32m      6\u001b[0m R\u001b[38;5;241m=\u001b[39m\u001b[38;5;241m6371000\u001b[39m               \u001b[38;5;66;03m# earth radius in m\u001b[39;00m\n\u001b[1;32m      7\u001b[0m r\u001b[38;5;241m=\u001b[39mnp\u001b[38;5;241m.\u001b[39mlogspace(\u001b[38;5;241m0\u001b[39m,\u001b[38;5;241m8\u001b[39m,\u001b[38;5;241m20\u001b[39m)   \u001b[38;5;66;03m# distance in m\u001b[39;00m\n",
      "\u001b[0;31mValueError\u001b[0m: Integers to negative integer powers are not allowed."
     ]
    }
   ],
   "source": [
    "import math\n",
    "import numpy as np\n",
    "import matplotlib.pyplot as plt\n",
    "\n",
    "G=6.673*np.power(10,-11)\n",
    "R=6371000               # earth radius in m\n",
    "r=np.logspace(0,8,20)   # distance in m\n",
    "M=5.972*np.power(10,24) # mass in kg\n",
    "m = 1000                # satellite mass in kg\n",
    "f=G*M*m/np.power(R+r,2)\n",
    "f"
   ]
  },
  {
   "cell_type": "markdown",
   "metadata": {},
   "source": [
    "### **Solución:**"
   ]
  },
  {
   "cell_type": "code",
   "execution_count": null,
   "metadata": {},
   "outputs": [],
   "source": []
  },
  {
   "cell_type": "markdown",
   "metadata": {},
   "source": [
    "## Ejercicio 19:\n",
    "\n",
    "### Corrige los siguientes códigos\n",
    "\n",
    "### **19.1 Formateo de PRINTS**"
   ]
  },
  {
   "cell_type": "code",
   "execution_count": 2,
   "metadata": {},
   "outputs": [
    {
     "ename": "SyntaxError",
     "evalue": "unexpected EOF while parsing (<ipython-input-2-67d0414f37b0>, line 6)",
     "output_type": "error",
     "traceback": [
      "\u001b[1;36m  File \u001b[1;32m\"<ipython-input-2-67d0414f37b0>\"\u001b[1;36m, line \u001b[1;32m6\u001b[0m\n\u001b[1;33m    print(\"variable 1 is %d variable 2 is  %d and variable 3 is %d \" %(var1, var2, var3)\u001b[0m\n\u001b[1;37m                                                                                        ^\u001b[0m\n\u001b[1;31mSyntaxError\u001b[0m\u001b[1;31m:\u001b[0m unexpected EOF while parsing\n"
     ]
    }
   ],
   "source": [
    "# Code 1\n",
    "var1= 2\n",
    "var2= 3.5\n",
    "var3 =\"Hola\"\n",
    "\n",
    "print(\"variable 1 is %d variable 2 is  %d and variable 3 is %d \" %(var1, var2, var3)"
   ]
  },
  {
   "cell_type": "markdown",
   "metadata": {},
   "source": [
    "### **Solución:**"
   ]
  },
  {
   "cell_type": "code",
   "execution_count": null,
   "metadata": {},
   "outputs": [],
   "source": []
  },
  {
   "cell_type": "markdown",
   "metadata": {},
   "source": [
    "### **19.2 Nombres de variables**"
   ]
  },
  {
   "cell_type": "code",
   "execution_count": 3,
   "metadata": {},
   "outputs": [
    {
     "ename": "SyntaxError",
     "evalue": "invalid syntax (<ipython-input-3-565338998c9a>, line 2)",
     "output_type": "error",
     "traceback": [
      "\u001b[1;36m  File \u001b[1;32m\"<ipython-input-3-565338998c9a>\"\u001b[1;36m, line \u001b[1;32m2\u001b[0m\n\u001b[1;33m    1variable = 2\u001b[0m\n\u001b[1;37m     ^\u001b[0m\n\u001b[1;31mSyntaxError\u001b[0m\u001b[1;31m:\u001b[0m invalid syntax\n"
     ]
    }
   ],
   "source": [
    "# Code 2 \n",
    "1variable = 2\n",
    "2variable = 7\n",
    "var_suma = 1variable + 2variable\n",
    "print(var_suma)"
   ]
  },
  {
   "cell_type": "markdown",
   "metadata": {},
   "source": [
    "### **Solución:**"
   ]
  },
  {
   "cell_type": "code",
   "execution_count": null,
   "metadata": {},
   "outputs": [],
   "source": []
  },
  {
   "cell_type": "markdown",
   "metadata": {},
   "source": [
    "### **19.3 Variables e INPUTS**"
   ]
  },
  {
   "cell_type": "code",
   "execution_count": 4,
   "metadata": {},
   "outputs": [
    {
     "ename": "SyntaxError",
     "evalue": "invalid character in identifier (<ipython-input-4-8e1058730a8c>, line 2)",
     "output_type": "error",
     "traceback": [
      "\u001b[1;36m  File \u001b[1;32m\"<ipython-input-4-8e1058730a8c>\"\u001b[1;36m, line \u001b[1;32m2\u001b[0m\n\u001b[1;33m    amount_€=input(\"Write an amount in euros and hit ENTER: \")\u001b[0m\n\u001b[1;37m           ^\u001b[0m\n\u001b[1;31mSyntaxError\u001b[0m\u001b[1;31m:\u001b[0m invalid character in identifier\n"
     ]
    }
   ],
   "source": [
    "# Code 3\n",
    "amount_€=input(\"Write an amount in euros and hit ENTER: \")\n",
    "amount_$ = amount_€ * 1,10\n",
    "print (\"%.2f  euros is equivalent to %.2f dollars\" %(amount_€, amount_$))\n"
   ]
  },
  {
   "cell_type": "markdown",
   "metadata": {},
   "source": [
    "### **Solución:**"
   ]
  },
  {
   "cell_type": "code",
   "execution_count": null,
   "metadata": {},
   "outputs": [],
   "source": []
  }
 ],
 "metadata": {
  "interpreter": {
   "hash": "d652f12e86d4907f3226fd0eca720165fd18d0c760b9e442a689f9a4e2e2c276"
  },
  "kernelspec": {
   "display_name": "Python 3",
   "language": "python",
   "name": "python3"
  },
  "language_info": {
   "codemirror_mode": {
    "name": "ipython",
    "version": 3
   },
   "file_extension": ".py",
   "mimetype": "text/x-python",
   "name": "python",
   "nbconvert_exporter": "python",
   "pygments_lexer": "ipython3",
   "version": "3.8.8"
  }
 },
 "nbformat": 4,
 "nbformat_minor": 2
}

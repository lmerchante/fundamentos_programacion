{
 "cells": [
  {
   "cell_type": "markdown",
   "metadata": {},
   "source": [
    "# **TEMA 5: Functions**"
   ]
  },
  {
   "cell_type": "markdown",
   "metadata": {},
   "source": [
    "## Ejercicio 1:\n",
    "\n",
    "### Escribir un código de gestión de notas de una asignatura.\n",
    "\n",
    "Para ello habrá que implementar las siguientes funciones:\n",
    "\n",
    "* Escribe una función **Read()** que pregunte tantas notas como el usuario quiera (se le pedirá al inicio cuantas quiere introducir).\n",
    "\n",
    "* Escribe una función **Display()** que imprima el vector de notas.\n",
    "* Escribe una funcion **Repetitions()** que imprima la frecuencia de notas entre el 0 y el 10. \n",
    "\n",
    "        Introduce the number of grades: 12 \n",
    "        =================\n",
    "        Introduce grade: 3 \n",
    "        Introduce grade: 4 \n",
    "        Introduce grade: 5 \n",
    "        Introduce grade: 6 \n",
    "        Introduce grade: 4 \n",
    "        Introduce grade: 4 \n",
    "        Introduce grade: 6 \n",
    "        Introduce grade: 7 \n",
    "        Introduce grade: 4 \n",
    "        Introduce grade: 5 \n",
    "        Introduce grade: 6 \n",
    "        Introduce grade: 4 \n",
    "\n",
    "        Vector of grades\n",
    "        =================\n",
    "        3 4 5 6 4 4 6 7 4 5 6 4 \n",
    "\n",
    "        Frequencies \n",
    "        =================\n",
    "        Grade 0: 0 \n",
    "        Grade 1: 0 \n",
    "        Grade 2: 0 \n",
    "        Grade 3: 1 \n",
    "        Grade 4: 5 \n",
    "        Grade 5: 2 \n",
    "        Grade 6: 3 \n",
    "        Grade 7: 1 \n",
    "        Grade 8: 0 \n",
    "        Grade 9: 0 \n",
    "        Grade 10: 0 \n",
    "\n",
    "\n",
    "\n",
    "**Nota:** Recordar validar que todos los números introducidos por el usuario son valores positivos entre el 0 y el 10."
   ]
  },
  {
   "cell_type": "markdown",
   "metadata": {},
   "source": [
    "### **Solución:** "
   ]
  },
  {
   "cell_type": "code",
   "execution_count": null,
   "metadata": {},
   "outputs": [],
   "source": [
    "def Read(num):\n",
    "    lista=[]\n",
    "    for i in range(num):\n",
    "        x=int(input(\"what's the grade \"+str(i+1)+\":  \"))\n",
    "        while x<0 or x>10:\n",
    "            print(\"Error, must be in range [0,10]\")\n",
    "            x=int(input(\"what's the grade \"+str(num+1)+\":  \"))\n",
    "        lista.append(x)\n",
    "    return lista\n",
    "        \n",
    "def Display(lista):\n",
    "    print(\"List of grades:\")\n",
    "    print(lista)\n",
    "    \n",
    "    \n",
    "def Repetitions(lista):\n",
    "    freq=[0,0,0,0,0,0,0,0,0,0,0]\n",
    "    for grade in lista:\n",
    "        freq[grade]+=1\n",
    "    return freq"
   ]
  },
  {
   "cell_type": "code",
   "execution_count": null,
   "metadata": {},
   "outputs": [],
   "source": [
    "num=int(input(\"How many grades? \"))\n",
    "grades=[]\n",
    "grades=Read(num)\n",
    "Display(grades)\n",
    "frecuencies=Repetitions(grades)\n",
    "print(\"Frequencies\")\n",
    "for i in range(len(frecuencies)):\n",
    "    print(\"Grade %2d: %4d students\" % (i,frecuencies[i]))"
   ]
  },
  {
   "cell_type": "markdown",
   "metadata": {},
   "source": [
    "## Ejercicio 2:\n",
    "\n",
    "### Escribe una función MyPower que eleve un número a una determinada potencia.\n",
    "\n",
    "El código debe solicitar al usuario que introduzca la base y el exponente (recordar validar que el exponente sea positivo). A continuación el código llamará a la función MyPower(). La función recibe la base y el exponente y devuelve el resultado para mostrarlo por pantalla.\n",
    "\n",
    "**NOTA:** Usar bucles para la implementación de **MyPower**\n",
    "\n",
    "        introduce una base: 3.5\n",
    "        introduce un exponente (entero positivo): -4\n",
    "        introduce un exponente (entero positivo): 4\n",
    "        MyResult:      150.0625"
   ]
  },
  {
   "cell_type": "markdown",
   "metadata": {},
   "source": [
    "### **Solución:** "
   ]
  },
  {
   "cell_type": "code",
   "execution_count": null,
   "metadata": {},
   "outputs": [],
   "source": [
    "def MyPower(base, exp):\n",
    "    res=1\n",
    "    for i in range(exp):\n",
    "        res*=base\n",
    "    return res"
   ]
  },
  {
   "cell_type": "code",
   "execution_count": null,
   "metadata": {},
   "outputs": [],
   "source": [
    "base = float(input(\"introduce una base: \"))\n",
    "exponente=-1\n",
    "while exponente<0:\n",
    "    exponente = int(input(\"introduce un exponente (entero positivo): \"))\n",
    "\n",
    "resultado=MyPower(base,exponente)\n",
    "print(\"MyResult:     \",resultado)"
   ]
  },
  {
   "cell_type": "markdown",
   "metadata": {},
   "source": [
    "## Ejercicio 3:\n",
    "\n",
    "### Escribe un programa que extraiga los números primos de entre los valores proporcionados en una lista y los copie en otra.\n",
    "\n",
    "Para ello:\n",
    "\n",
    "* Escribir una función **Read_List(N)** que pida al usuario N números y los almacene en una lista\n",
    "* Escribir una función **IsPrime(numero)** que compruebe si un número es primo o no. La función debe devolver 1 y si el número es primo y 0 si no lo es.\n",
    "* Escribir una función **CopyPrime(lista)** que devolverá una lista con los números primos de la lista introducida como parámetro. Usa la funcion IsPrime() para comprobar si son primos.\n",
    "* Por ultimo crea una función **Display(lista)** que imprima la lista introducida.\n",
    "\n",
    "La lógica del programa que será la siguiente:\n",
    "\n",
    "     N=10\n",
    "     L1=Read_List(N)\n",
    "     print(\"List 1: \",end=\"\")\n",
    "     Display(L1)\n",
    "\n",
    "     L2=CopyPrime(L1)\n",
    "     print(\"List 2: \",end=\"\")\n",
    "     Display(L2)"
   ]
  },
  {
   "cell_type": "markdown",
   "metadata": {},
   "source": [
    "### **Solución:** "
   ]
  },
  {
   "cell_type": "code",
   "execution_count": null,
   "metadata": {},
   "outputs": [],
   "source": [
    "import math\n",
    "\n",
    "def Read_List(n):\n",
    "    list1=[]\n",
    "    for i in range(n):\n",
    "        num=int(input(\"Element \"+str(i+1)+\":  \"))\n",
    "        list1.append(num)\n",
    "    return list1\n",
    "\n",
    "def Display(any_list):\n",
    "    for elem in any_list:\n",
    "        print(\"%4d\" % elem, end=\"\")\n",
    "    print(\"\\n\")\n",
    "\n",
    "def IsPrime(num):\n",
    "    res=1 #we assume num is prime\n",
    "    n=2\n",
    "    while n<=math.sqrt(num) and res==1: \n",
    "        if num % n == 0:\n",
    "            res=0  #num is divisible, hence not prime\n",
    "        n+=1\n",
    "    return res\n",
    "\n",
    "def CopyPrime(L1):\n",
    "    res=[]\n",
    "    for elem in L1:\n",
    "        if IsPrime(elem):\n",
    "            res.append(elem)\n",
    "    return res"
   ]
  },
  {
   "cell_type": "code",
   "execution_count": null,
   "metadata": {},
   "outputs": [],
   "source": [
    "N=5\n",
    "L1=Read_List(N)\n",
    "print(\"List 1: \",end=\"\")\n",
    "Display(L1)\n",
    "\n",
    "L2=CopyPrime(L1)\n",
    "print(\"List 2: \",end=\"\")\n",
    "Display(L2)"
   ]
  },
  {
   "cell_type": "markdown",
   "metadata": {},
   "source": [
    "## Ejercicio 4:\n",
    "\n",
    "### Dado el siguiente diccionario películas:\n",
    "\n",
    "    peliculas={\"Goonies\":[1985,120,75,1], \"Tiburon\":[1975,170,150,3], \"ET\":[1982,190,75,2], \"Titanic\":[1997,25,17,25]}\n",
    "\n",
    "Explicación:\n",
    "\n",
    "- Clave: string--> título de la película\n",
    "- Valor: lista--> [año, recaudación total en millones, coste en millones, premios]\n",
    "\n",
    "Desarrollar una función que reciba el diccionario como argumento y que calcule:\n",
    "\n",
    "* la película más rentable (recaudación-coste)\n",
    "* la que más premios ha tenido \n",
    "* las muestre por pantalla\n",
    "\n",
    "La salida será:\n",
    "\n",
    "    La película de mayor rentabilidad es : ET con un beneficio neto de 115.00 Millones de dólares.\n",
    "    La película con más premios es: Titanic con 25 premios."
   ]
  },
  {
   "cell_type": "markdown",
   "metadata": {},
   "source": [
    "### **Solución:** "
   ]
  },
  {
   "cell_type": "code",
   "execution_count": null,
   "metadata": {},
   "outputs": [],
   "source": [
    "def Analizar(peliculas):\n",
    "    rent=0\n",
    "    premios=0\n",
    "    for peli in peliculas:\n",
    "        rentabilidad = peliculas[peli][1]-peliculas[peli][2] #recaudación menos coste\n",
    "        if rentabilidad>rent:\n",
    "            rent=rentabilidad\n",
    "            peli_rentable=peli\n",
    "        if peliculas[peli][3]>premios:\n",
    "            premios=peliculas[peli][3]\n",
    "            peli_premio=peli\n",
    "    return [peli_rentable,peli_premio]  #devuelvo 2 strings\n",
    "\n",
    "\n",
    "\n",
    "# Testing my function\n",
    "movies={\"Goonies\":[1985,120,75,1],\"Tiburon\":[1975,170,150,3],\"ET\":[1982,190,75,2],\"Titanic\":[1997,25,17,25]}\n",
    "[prof,award]=Analizar(movies)\n",
    "\n",
    "print(\"Most profitable movie: \"+prof, end=\"\")\n",
    "profit=movies[prof][1]-movies[prof][2]\n",
    "print(\"  with a profit of $%d millions\" % profit)\n",
    "\n",
    "print(\"Most awarded movies: \"+award, end=\"\")\n",
    "print(\"  with %d awards\" % movies[award][3])"
   ]
  },
  {
   "cell_type": "markdown",
   "metadata": {},
   "source": [
    "## Ejercicio 5:\n",
    "\n",
    "### Crear 5 funciones de Python: \n",
    "\n",
    "    - sumar(a,b)\n",
    "    - restar(a,b)\n",
    "    - multiplicar(a,b)\n",
    "    - dividir(a,b)\n",
    "    - calculadora()\n",
    "    \n",
    "La funcion sumar deberá sumar los dos números introducidos como parámetros, lo mismo para restar, multiplicar y dividir. \n",
    "Por último la función calculadora perdirá al usuario dos números y el tipo de operacion a realizar (sumar, restar, multiplicar o dividir). La funcion deberá preguntar al usuario después de cada operación si desea realizar un nuevo cálculo y repetir el proceso en caso de que la respuesta sea afirmativa."
   ]
  },
  {
   "cell_type": "markdown",
   "metadata": {},
   "source": [
    "### **Solución:** "
   ]
  },
  {
   "cell_type": "code",
   "execution_count": null,
   "metadata": {},
   "outputs": [],
   "source": [
    "def sumar(a,b):\n",
    "    return a+b\n",
    "def restar(a,b):\n",
    "    return a-b\n",
    "def multiplicar(a,b):\n",
    "    return a*b\n",
    "def dividir(a,b):\n",
    "    return a/b\n",
    "\n",
    "def calculadora():\n",
    "    quiere_otra_operacion = 'SI'\n",
    "    while quiere_otra_operacion == 'SI':\n",
    "        print('Bienvenido \\nIntroduce que operación deseas realizar:\\n  - 1. Sumar\\n  - 2. Restar\\n  - 3. Multiplicar\\n  - 4. Dividir')\n",
    "        opcion = int(input('Opción:'))\n",
    "        print('Introduce los dos numeros que quieres usar')\n",
    "        a = float(input('a: '))\n",
    "        b = float(input('b: '))\n",
    "        \n",
    "        if opcion == 1:\n",
    "            print('Resultado: '+str(sumar(a,b)))\n",
    "        elif opcion == 2:\n",
    "            print('Resultado: '+str(restar(a,b)))\n",
    "        elif opcion == 3:\n",
    "            print('Resultado: '+str(multiplicar(a,b)))\n",
    "        elif opcion == 4:\n",
    "            print('Resultado: '+str(multiplicar(a,b)))\n",
    "        else: \n",
    "            print('Operación inválida')\n",
    "        \n",
    "        \n",
    "        quiere_otra_operacion = input('Quiere hacer otra operacion? SI/NO').upper()\n",
    "\n",
    "calculadora()"
   ]
  },
  {
   "cell_type": "markdown",
   "metadata": {},
   "source": [
    "## Ejercicio 6:\n",
    "\n",
    "### Escribir una funcion que a partir de un cierto importe en euros diga el el mínimo número de monedas y billetes necesarios para alcanzar esa cifra. \n",
    "\n",
    "Dicho importa será introducido por el usuario. Utilizar la siguiente lista de elementos que incluyen desde monedas de 1 céntimo hasta billetes de 500 €. \n",
    "\n",
    "        T=[500,200,100,50,20,10,5,2,1,.5,.2,.1,.05,.02,.01]\n",
    "    \n",
    "Ejemplo de ejecución:\n",
    "\n",
    "    Disponemos de 1358.33 euros.\n",
    "    Se pueden descomponer en:\n",
    "    2 de 500 €\n",
    "    1 de 200 €\n",
    "    1 de 100 €\n",
    "    1 de 50 €\n",
    "    0 de 20 €\n",
    "    0 de 10 €\n",
    "    1 de 5 €\n",
    "    1 de 2 €\n",
    "    1 de 1 €\n",
    "    0 de 0.5 €\n",
    "    1 de 0.2 €\n",
    "    1 de 0.1 €\n",
    "    0 de 0.05 €\n",
    "    1 de 0.02 €\n",
    "    1 de 0.01 €\n",
    "    \n",
    "Mejóralo imprimiendo sólamente las líneas en las que el número de monedas sea diferente de 0"
   ]
  },
  {
   "cell_type": "markdown",
   "metadata": {},
   "source": [
    "### **Solución:** "
   ]
  },
  {
   "cell_type": "code",
   "execution_count": null,
   "metadata": {},
   "outputs": [],
   "source": [
    "def distribuir_monedas():\n",
    "    \n",
    "    T=[500,200,100,50,20,10,5,2,1,.5,.2,.1,.05,.02,.01]\n",
    "    S=[0]*15 #salida por tipo de billete y moneda\n",
    "    total = float(input('Introduce el dinero que quieres distribuir: '))\n",
    "    resto = total\n",
    "    print('Disponemos de',total,'euros.')\n",
    "    print('Se pueden descomponer en:')\n",
    "    for i in range(len(T)):\n",
    "        S[i] = resto // T[i]\n",
    "        monedas=int(round(S[i],4))\n",
    "        resto = round(resto - S[i]*T[i],3) #hay que redondear porque python al hacer las restas no pone el resultado sino una aproximación muy buena, si no lo ponemos verá que obtenemos una mala distribucion de las monedas de 1 y 2céntimos\n",
    "        if monedas!=0: print(monedas,'de',T[i],'€')\n",
    "\n",
    "distribuir_monedas()"
   ]
  },
  {
   "cell_type": "markdown",
   "metadata": {},
   "source": [
    "## Ejercicio 7:\n",
    "\n",
    "### Algunos números enteros se pueden expresar como la suma de los cubos de otros dos números enteros.\n",
    "\n",
    "Por ejemplo el número $35 = 2^3 + 3^3$\n",
    "    \n",
    "### **Ej. 7.1** \n",
    "\n",
    "Escribir una función `Combinaciones(num)` que devuelva una lista con las parejas de enteros cuya suma de cubos valga num. \n",
    "Por ejemplo: \n",
    "\n",
    "* `Combinaciones(35)` devuelve la lista: [2, 3]\n",
    "* `Combinaciones(36)` devuelve una lista vacía porque no hay ninguna pareja de enteros que sumados al cubo de 36\n",
    "* `Combinaciones(1729)` devuelve la lista: [[1, 12], [9, 10]]\n",
    "    \n",
    "### **Ej. 7.2** \n",
    "\n",
    "Escribir un bucle que devuelva todos los números entre 0 y 100 que se puedan definir como suma de cubos de dos enteros.\n",
    "Si no has resuelto el apartado 7.1., deja indicada la llamada a la función `Combinaciones(num)`"
   ]
  },
  {
   "cell_type": "markdown",
   "metadata": {},
   "source": [
    "### **Solución 7.1:**"
   ]
  },
  {
   "cell_type": "code",
   "execution_count": null,
   "metadata": {},
   "outputs": [],
   "source": [
    "def Combinaciones(numero):\n",
    "    lista=[]\n",
    "    for i in range(numero):\n",
    "        for j in range(i,numero):\n",
    "            sum=i**3 + j**3\n",
    "            if sum==numero:\n",
    "                lista.append([i,j])\n",
    "    return lista"
   ]
  },
  {
   "cell_type": "markdown",
   "metadata": {},
   "source": [
    "### **Solución 7.2:**"
   ]
  },
  {
   "cell_type": "code",
   "execution_count": null,
   "metadata": {},
   "outputs": [],
   "source": [
    "# 100 primeros números\n",
    "for a in range(100):\n",
    "    c=Combinaciones(a)\n",
    "    if len(c)>0:\n",
    "        print(a,': ',c)"
   ]
  },
  {
   "cell_type": "markdown",
   "metadata": {},
   "source": [
    "## Ejercicio 8:\n",
    "\n",
    "Conversor de Unidades Universal\n",
    "\n",
    "Vamos a crear un programa que va a procesar una **lista** cuyos **elementos** son, a su vez  **listas de tres elementos (cantidad, unidad origen y unidad de destino)**.  El procesamiento consiste en transformar las cantidades expresadas en la unidad origen, en cantidades expresadas en la unidad destino. Por ejemplo:\n",
    "\n",
    "        [ [2,'semanas', 'días'], [5,'minutos', 'segundos'], ... ]\n",
    "\n",
    "La primera tarea implicaría convertir 2 semanas en días y la segunda tarea 5 minutos en segundos.\n",
    "\n",
    "Para realizar la transformación, hay que aplicar un factor de conversión. En el ejemplo anterior el primer factor sería 7 (días por semana) y el segundo sería 60 (segundos por minuto). Los factores de todas las conversiones están en el **diccionario**:    \n",
    "\n",
    "        transformaciones = {'minutos_segundos':60 ,\n",
    "                            'horas_minutos': 60,    \n",
    "                            'dias_horas':24,\n",
    "                            'semanas_dias':7,    \n",
    "                            'lustros_años':5,\n",
    "\n",
    "'kilometros_metros':1000}"
   ]
  },
  {
   "cell_type": "markdown",
   "metadata": {},
   "source": [
    "### Ej 8.1 Función ExisteConversion\n",
    "\n",
    "Implementar una función que verifique si el diccionario de transformaciones contiene el factor de conversión deseado. Para ello hay que construir una función que reciba dos valores : \n",
    "\n",
    "* una variable tipo **LIST** que contenga una tarea de conversión: [cantidad, unidad origen y unidad de destino]\n",
    "* el diccionario **transformaciones** con las conversiones conocidas.    \n",
    "\n",
    "Y devuelva: \n",
    "\n",
    "* una variable **INT** que tome el valor 1 si la el factor de conversión existe en el diccionario o 0 en caso contrario\n",
    "\n",
    "Por ejemplo:\n",
    "\n",
    "    existe = ExisteConversion([5,'minutos', 'segundos'],  transformaciones)\n",
    "    print(existe)\n",
    "    1\n",
    "  \n",
    "    existe = ExisteConversion([5,'millas', 'kilometros'],  transformaciones)\n",
    "    print(existe)\n",
    "    0     "
   ]
  },
  {
   "cell_type": "code",
   "execution_count": null,
   "metadata": {},
   "outputs": [],
   "source": [
    "def ExisteConversion(   ):\n",
    "    \n",
    "    return"
   ]
  },
  {
   "cell_type": "markdown",
   "metadata": {},
   "source": [
    "### **Solución 8.1:** "
   ]
  },
  {
   "cell_type": "code",
   "execution_count": null,
   "metadata": {},
   "outputs": [],
   "source": [
    "def ExisteConversion(elemento,dictTransf ):\n",
    "    cadClave=elemento[1] + \"_\"+ elemento[2]\n",
    "    if cadClave in dictTransf.keys():\n",
    "        res= 1\n",
    "    else:\n",
    "        res= 0\n",
    "    return res"
   ]
  },
  {
   "cell_type": "markdown",
   "metadata": {},
   "source": [
    "### Ej 8.2 Función Transforma\n",
    "\n",
    "Implementar una función que realice la conversión de unidades. Dicha función debe recibir dos argumentos :\n",
    "\n",
    "* una variable tipo **LIST** que contenga una tarea de conversión: [cantidad, unidad origen y unidad de destino]\n",
    "* el diccionario transformaciones con las conversiones conocidas. \n",
    "\n",
    "Y devuelva: \n",
    "    \n",
    "* una variable numérica con el valor transformado\n",
    "\n",
    "Por ejemplo:\n",
    "\n",
    "    num = Transforma([5,'minutos', 'segundos'],  transformaciones)\n",
    "    print(num)\n",
    "    300   "
   ]
  },
  {
   "cell_type": "code",
   "execution_count": null,
   "metadata": {},
   "outputs": [],
   "source": [
    "def Transforma(   ):\n",
    "\n",
    "     \n",
    "    return"
   ]
  },
  {
   "cell_type": "markdown",
   "metadata": {},
   "source": [
    "### **Solución 8.2:** "
   ]
  },
  {
   "cell_type": "code",
   "execution_count": null,
   "metadata": {},
   "outputs": [],
   "source": [
    "def Transforma(elemento, dictTransf ):\n",
    "    clave=elemento[1] + \"_\"+ elemento[2]\n",
    "    factor=dictTransf[clave]\n",
    "    nueva_cantidad=elemento[0]* factor    \n",
    "    return nueva_cantidad"
   ]
  },
  {
   "cell_type": "markdown",
   "metadata": {},
   "source": [
    "### Ej 8.3 Programa Principal\n",
    "\n",
    "Implementa el código que a partir del diccionario **transformaciones** convierta la lista de elementos:\n",
    "\n",
    "       ListaATransformar=[ [2,'semanas', 'dias'], [15,'minutos', 'segundos'], [3, 'siglos', 'años'],\n",
    "                          [70, 'kilogramos', 'gramos'], [5,'kilometros', 'metros'] ]\n",
    "\n",
    "Y que devuelva como resultado:\n",
    "\n",
    "        2 semanas equivalen a 14 dias     \n",
    "        15 minutos equivalen a 900 segundos    \n",
    "        No he podido transformar 3 siglos en años   \n",
    "        No he podido transformar 70 kilogramos en gramos   \n",
    "        5 kilometros equivalen a 5000 metros \n",
    "        \n",
    "Si no has conseguido resolver los apartados 8.1 y 8.2, resuélvelo dejando indicada las llamadas a las funciones **ExisteConversion** y **Transforma**."
   ]
  },
  {
   "cell_type": "markdown",
   "metadata": {},
   "source": [
    "### **Solución 8.3:** "
   ]
  },
  {
   "cell_type": "code",
   "execution_count": null,
   "metadata": {},
   "outputs": [],
   "source": [
    "transformaciones={'minutos_segundos':60 ,'horas_minutos': 60,'dias_horas':24,'semanas_dias':7,\n",
    "                  'lustros_años':5, 'kilometros_metros':1000}\n",
    "\n",
    "ListaATransformar=[[2,'semanas', 'dias'], [15,'minutos', 'segundos'], [3, 'siglos', 'años'],\n",
    "                   [70, 'kilogramos', 'gramos'], [5,'kilometros', 'metros'] ]\n",
    "\n",
    "ListaSalida=[]\n",
    "for tarea in ListaATransformar:\n",
    "    if ExisteConversion(tarea, transformaciones):\n",
    "        ListaSalida.append(Transforma(tarea, transformaciones))\n",
    "    else:\n",
    "        ListaSalida.append(\"N/A\")\n",
    "        \n",
    "print(\"\\n\\n*** RESULTADO ***\\n\")\n",
    "for i in range(len(ListaSalida)):\n",
    "    if (ListaSalida[i]!=\"N/A\"):\n",
    "        print(\"{0} {1} equivalen a {2} {3}\".format(ListaATransformar[i][0],ListaATransformar[i][1],ListaSalida[i],ListaATransformar[i][2]))\n",
    "    else:\n",
    "        print(\"No he podido transformar {0} {1} en {2}\".format(ListaATransformar[i][0], ListaATransformar[i][1], ListaATransformar[i][2]))"
   ]
  },
  {
   "cell_type": "markdown",
   "metadata": {},
   "source": [
    "## Ejercicio 9:\n",
    "\n",
    "\n",
    "### Implementar un juego del ahorcado para dos jugadores.\n",
    "\n",
    "El funcionamiento será el siguiente:\n",
    "\n",
    "- El juego tiene que repetirse todas las veces que los usuarios quieran\n",
    "- El jugador 1 introduce una palabra secreta y define el número de intentos para el jugador 2\n",
    "- El jugador 2 tendrá tantos intentos como se indique al principio del juego\n",
    "\n",
    "El programa utilizará las siguientes funciones:\n",
    "\n",
    "- **pedirPalabra()** pide al jugador una palabra\n",
    "- **imprimirPanel()** imprime letra por letra la palabra desconocida. Sólo mostrará la letra si esta ya ha sido elegida y un guión bajo **_** si la letra no ha sido adivinada aún.\n",
    "- **isdone(palabraSecreta,letrasAdivinadas)** función que devolverá **True** si todas las letras de palabraSecreta están en la lista letrasAdivinadas\n",
    "- **main()** que definirá toda la lógica del juego."
   ]
  },
  {
   "cell_type": "markdown",
   "metadata": {},
   "source": [
    "### **Solución:** "
   ]
  },
  {
   "cell_type": "code",
   "execution_count": null,
   "metadata": {},
   "outputs": [],
   "source": [
    "def pedirPalabra():\n",
    "        return input('JUGADOR 1: Introduce la palabra secreta: ')\n",
    "\n",
    "def imprimirPanel(palabraSecreta,letrasAdivinadas):\n",
    "    for i in palabraSecreta:\n",
    "        if i.lower() in letrasAdivinadas:\n",
    "            print(i,end=\" \")\n",
    "        else:\n",
    "            print(\"_\",end=\" \")\n",
    "    print(\"\")\n",
    "\n",
    "def isdone(palabraSecreta,letrasAdivinadas): \n",
    "    if len([True for i in palabraSecreta.lower() if i in letrasAdivinadas])==len(palabraSecreta): return True\n",
    "    else: return False\n",
    "\n",
    "\n",
    "def main():\n",
    "        quiereJugarOtraVez = 'S'\n",
    "        while(quiereJugarOtraVez == 'S'):\n",
    "                print('Bienvenidos:')\n",
    "                palabraSecreta = pedirPalabra()\n",
    "                errores=int(input('Cuantos errores puede cometer el JUGADOR 2 para adivinar la palabra? ')) #numero de intentos que tendrá el jugador\n",
    "                finished=False\n",
    "                letrasCorrectas=[]\n",
    "                letrasIncorrectas=[]\n",
    "                while errores!=0:\n",
    "                        print(\"Tienes {} intentos\".format(errores))\n",
    "                        letra=input(\"Introduce una letra: \").lower()\n",
    "                        if len(letra) == 1:\n",
    "                                if letra in letrasCorrectas or letra in letrasIncorrectas: \n",
    "                                        print(\"Ya has intentado esta letra\")\n",
    "                                        imprimirPanel(palabraSecreta,letrasCorrectas)\n",
    "                                elif letra in palabraSecreta.lower():\n",
    "                                        letrasCorrectas.append(letra)\n",
    "                                        imprimirPanel(palabraSecreta,letrasCorrectas)\n",
    "                                        if isdone(palabraSecreta,letrasCorrectas): break\n",
    "                                else:\n",
    "                                        print(\"Esta letra no está en la palabra\")\n",
    "                                        letrasIncorrectas.append(letra)\n",
    "                                        imprimirPanel(palabraSecreta,letrasCorrectas)\n",
    "                                        errores-=1\n",
    "                        else:\n",
    "                                print('Introduce una sola letra')\n",
    "                if isdone(palabraSecreta,letrasCorrectas): \n",
    "                        print(\"Enhorabuena, ganador: JUGADOR 2\")\n",
    "                else: \n",
    "                        print(\"Has perdido, ganador JUGADOR 1. La palabra secreta era: \",palabraSecreta)\n",
    "                quiereJugarOtraVez = input('Queréis jugar otra vez? S/N: ').upper()\n",
    "                \n",
    "main()"
   ]
  },
  {
   "cell_type": "markdown",
   "metadata": {},
   "source": [
    "## Ejercicio 10:\n",
    "\n",
    "### Calculo de Hashes.\n",
    "\n",
    "Cuando se habla de calcular el *hash* de una variable, estamos hablando de calcular una \"*huella dactilar*\" única para esa variable. Por ejemplo, si ejecutas este código, obtenemos un string de 64 caracteres de longitud que son únicos para el string **\"Prueba\"**."
   ]
  },
  {
   "cell_type": "code",
   "execution_count": 10,
   "metadata": {},
   "outputs": [
    {
     "name": "stdout",
     "output_type": "stream",
     "text": [
      "ac3f091ca34109c5427afb46cf83b296e2004ca9e55d3b0da8aa7434f47c69ed\n"
     ]
    }
   ],
   "source": [
    "from hashlib import sha256\n",
    "\n",
    "variable=\"Prueba\"\n",
    "print(sha256(variable.encode()).hexdigest() )"
   ]
  },
  {
   "cell_type": "markdown",
   "metadata": {},
   "source": [
    "Si cambiamos uno sólo de sus caracteres, el string devuelto es completamente diferente:"
   ]
  },
  {
   "cell_type": "code",
   "execution_count": 11,
   "metadata": {},
   "outputs": [
    {
     "name": "stdout",
     "output_type": "stream",
     "text": [
      "efec84b7ddd36ca70268eaaa3781632ace1611e1b2751092fac0fbd86cf9d010\n"
     ]
    }
   ],
   "source": [
    "variable=\"PruebA\"\n",
    "print(sha256(variable.encode()).hexdigest())"
   ]
  },
  {
   "cell_type": "markdown",
   "metadata": {},
   "source": [
    "Queremos forzar a que el *hash* de un diccionario tenga la propiedad de comenzar siempre por 3 ceros. Para ello, tenemos que ir haciendo modificaciones en el contenido del diccionario y calculando su hash hasta que ese string comience por tres ceros. Por ejemplo:"
   ]
  },
  {
   "cell_type": "code",
   "execution_count": 12,
   "metadata": {},
   "outputs": [
    {
     "name": "stdout",
     "output_type": "stream",
     "text": [
      "0bddccff076ad785df25f801244c51eb2f7e42fa098b5fac062ca44be4b8f93e\n"
     ]
    }
   ],
   "source": [
    "dict1={\"dummy\":0, \"nombre\":\"Luis\"}\n",
    "print(sha256(str(dict1).encode()).hexdigest())"
   ]
  },
  {
   "cell_type": "code",
   "execution_count": 13,
   "metadata": {},
   "outputs": [
    {
     "name": "stdout",
     "output_type": "stream",
     "text": [
      "00039a2d344b7dcc8f83ab3eb4b1d23ad21c5e1fc8dd9b61b54a590a47d5a09a\n"
     ]
    }
   ],
   "source": [
    "dict2={\"dummy\":8066, \"nombre\":\"Luis\"}\n",
    "print(sha256(str(dict2).encode()).hexdigest())"
   ]
  },
  {
   "cell_type": "markdown",
   "metadata": {},
   "source": [
    "El diccionario **dict1** no cumple la propiedad, pero el diccionario **dict2** sí. Para conseguirlo hemos tenido que ir aumentando el valor de la clave **\"dummy\"** 8066 veces hasta que el *hash* ha empezado por tres ceros"
   ]
  },
  {
   "cell_type": "markdown",
   "metadata": {},
   "source": [
    "### Ej 10.1.\n",
    "\n",
    "Implementa una función que reciba un diccionario y devuelva ese mismo diccionario con un campo **\"dummy\"** con un valor tal que al calcular su \"huella dactilar\" esta empiece por tres ceros. Este código debería funcionar para cualquier diccionario, ya que la función se debe limitar a añadir un atributo **\"dummy\"** y a ir aumentando su valor hasta que se cumpla la propiedad. El **return** de la función debe devolver dos variables, el diccionario con el valor adecuado de la variable **\"dummy\"** y su **huella dactilar**.\n",
    "\n",
    "**Ejemplo de ejecución:**\n",
    "<img src=\"img/salida.jpg\" width=\"500\"/>"
   ]
  },
  {
   "cell_type": "markdown",
   "metadata": {},
   "source": [
    "### **Solución 10.1:** "
   ]
  },
  {
   "cell_type": "code",
   "execution_count": 14,
   "metadata": {},
   "outputs": [],
   "source": [
    "def ajusta_dummy(diccionarioIn):\n",
    "    diccionarioOut=diccionarioIn.copy()\n",
    "    diccionarioOut[\"dummy\"]=0\n",
    "    while sha256(str(diccionarioOut).encode()).hexdigest()[0:3]!=\"000\":\n",
    "        diccionarioOut[\"dummy\"]=diccionarioOut[\"dummy\"]+1\n",
    "    return diccionarioOut, sha256(str(diccionarioOut).encode()).hexdigest()"
   ]
  },
  {
   "cell_type": "code",
   "execution_count": 15,
   "metadata": {},
   "outputs": [
    {
     "data": {
      "text/plain": [
       "({'nombre': 'Luis', 'dummy': 58},\n",
       " '000129a7e54120b7dc34db994c32c8134301e76c22c10b903b592b35f1f035d5')"
      ]
     },
     "execution_count": 15,
     "metadata": {},
     "output_type": "execute_result"
    }
   ],
   "source": [
    "dIn={'nombre': 'Luis'}\n",
    "ajusta_dummy(dIn)"
   ]
  },
  {
   "cell_type": "markdown",
   "metadata": {},
   "source": [
    "### Ej 10.2.\n",
    "\n",
    "Aplica la función anterior a la lista de diccionarios **listaIN** y almacena los diccionarios resultantes en otra lista **listaOUT**.\n",
    "\n",
    "        listaIN = [{\"nombre\":\"Luis\"},{\"nombre\":\"Teo\"},{\"nombre\":\"Beatriz\"},{\"nombre\":\"Marina\"},{\"nombre\":\"Lucio\"},{\"nombre\":\"Amparo\"}]\n",
    "\n",
    "Si no has resuelto el apartado anterior, puedes dejar indicada la invocación a la función **ajusta_dummy**."
   ]
  },
  {
   "cell_type": "markdown",
   "metadata": {},
   "source": [
    "### **Solución 10.2:** "
   ]
  },
  {
   "cell_type": "code",
   "execution_count": 16,
   "metadata": {},
   "outputs": [],
   "source": [
    "listaIN=[{\"nombre\":\"Luis\"},{\"nombre\":\"Teo\"},{\"nombre\":\"Beatriz\"},{\"nombre\":\"Marina\"},{\"nombre\":\"Lucio\"},{\"nombre\":\"Amparo\"}]\n",
    "listaOUT=[]\n",
    "for d in listaIN:\n",
    "    listaOUT.append(ajusta_dummy(d)[0])"
   ]
  },
  {
   "cell_type": "markdown",
   "metadata": {},
   "source": [
    "### Ej 10.3.\n",
    "\n",
    "Genera un informe con el valor de la variable **dummy** para cada uno de los diccionarios de la lista **listaOUT**. La salida debe ser parecida a la siguiente:\n",
    "\n",
    "        El diccionario de    Luis ha necesitado    58 iteracciones\n",
    "        El diccionario de     Teo ha necesitado 17796 iteracciones\n",
    "        El diccionario de Beatriz ha necesitado  1591 iteracciones\n",
    "        El diccionario de  Marina ha necesitado  7385 iteracciones\n",
    "        El diccionario de   Lucio ha necesitado  1800 iteracciones\n",
    "        El diccionario de  Amparo ha necesitado   974 iteracciones\n",
    "\n",
    "Si no has resuelto el ejercicio anterior, puedes utilizar la siguiente lista de diccionarios:\n",
    "\n",
    "        listaOUT=[{'nombre': 'Luis', 'dummy': 58}, {'nombre': 'Teo', 'dummy': 17796}, {'nombre': 'Beatriz', 'dummy': 1591}, {'nombre': 'Marina', 'dummy': 7385}, {'nombre': 'Lucio', 'dummy': 1800}, {'nombre': 'Amparo', 'dummy': 974}]"
   ]
  },
  {
   "cell_type": "markdown",
   "metadata": {},
   "source": [
    "### **Solución 10.3:** "
   ]
  },
  {
   "cell_type": "code",
   "execution_count": 17,
   "metadata": {},
   "outputs": [
    {
     "name": "stdout",
     "output_type": "stream",
     "text": [
      "El diccionario de    Luis ha necesitado    58 iteracciones\n",
      "El diccionario de     Teo ha necesitado 17796 iteracciones\n",
      "El diccionario de Beatriz ha necesitado  1591 iteracciones\n",
      "El diccionario de  Marina ha necesitado  7385 iteracciones\n",
      "El diccionario de   Lucio ha necesitado  1800 iteracciones\n",
      "El diccionario de  Amparo ha necesitado   974 iteracciones\n"
     ]
    }
   ],
   "source": [
    "for d in listaOUT:\n",
    "    print(\"El diccionario de %7s ha necesitado %5d iteracciones\" % (d[\"nombre\"],d[\"dummy\"]))"
   ]
  },
  {
   "cell_type": "code",
   "execution_count": null,
   "metadata": {},
   "outputs": [],
   "source": []
  }
 ],
 "metadata": {
  "interpreter": {
   "hash": "31f2aee4e71d21fbe5cf8b01ff0e069b9275f58929596ceb00d14d90e3e16cd6"
  },
  "kernelspec": {
   "display_name": "Python 3",
   "language": "python",
   "name": "python3"
  },
  "language_info": {
   "codemirror_mode": {
    "name": "ipython",
    "version": 3
   },
   "file_extension": ".py",
   "mimetype": "text/x-python",
   "name": "python",
   "nbconvert_exporter": "python",
   "pygments_lexer": "ipython3",
   "version": "3.8.8"
  }
 },
 "nbformat": 4,
 "nbformat_minor": 2
}

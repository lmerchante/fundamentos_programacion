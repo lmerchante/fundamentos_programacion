{
 "cells": [
  {
   "cell_type": "markdown",
   "metadata": {},
   "source": [
    "# **TEMA 2: Data types and Data structures**"
   ]
  },
  {
   "cell_type": "markdown",
   "metadata": {},
   "source": [
    "Intentar evitar en la medida de lo posible el uso de bucles para favorecer el aprendizaje de las diferentes estructuras de datos de Python"
   ]
  },
  {
   "cell_type": "markdown",
   "metadata": {},
   "source": [
    "## Ejercicio 1:\n",
    "\n",
    "### Construye una variable de tipo “lista” con 10 números. Y realiza las siguientes acciones:\n",
    "\n",
    "1. Suma su contenido usando la función “sum()”\n",
    "2. Multiplica la lista por un número entero (cada uno de los términos), imprímela e intenta sumar todo su contenido de nuevo (cada término ya multiplicado por el número entero)\n",
    "3. Multiplica la lista por un número decimal, imprímela e intenta sumarla de nuevo. ¿Que error da?\n",
    "4. Crea un array de numpy a partir de la lista y repite las tres operaciones anteriores\n",
    "\n",
    "Nota las diferencias de trabajar con listas a trabajar con arrays de NUMPY. \n",
    "¿Se ha solucionado el error al multiplicar cada elemento de la lista por un decimal cuando usamos Numpy?"
   ]
  },
  {
   "cell_type": "markdown",
   "metadata": {},
   "source": [
    "### **Solución:** "
   ]
  },
  {
   "cell_type": "code",
   "execution_count": null,
   "metadata": {},
   "outputs": [],
   "source": []
  },
  {
   "cell_type": "markdown",
   "metadata": {},
   "source": [
    "## Ejercicio 2:\n",
    "### La flota de vehículos de una empresa de transporte junto con su capacidad se describe en el diccionario:\n",
    "\n",
    "    diccionario={\"taxi1\":4,\"taxi2\":4,\"taxi3\":7,\"taxi4\":7,\"minibus1\":20,\"minibus2\":20,\"minibus3\":20,\"bus1\":45,\"bus2\":45}\n",
    "\n",
    "Calcular el máximo número de pasajeros que puede transportar simultáneamente con toda su flota."
   ]
  },
  {
   "cell_type": "markdown",
   "metadata": {},
   "source": [
    "### **Solución:** "
   ]
  },
  {
   "cell_type": "code",
   "execution_count": null,
   "metadata": {},
   "outputs": [],
   "source": []
  },
  {
   "cell_type": "markdown",
   "metadata": {},
   "source": [
    "## Ejercicio 3:\n",
    "\n",
    "### Escribir un código de Python que le pida al usuario que introduzca una frase y el código devuelva el número de palabras que la constituyen."
   ]
  },
  {
   "cell_type": "markdown",
   "metadata": {},
   "source": [
    "### **Solución:** "
   ]
  },
  {
   "cell_type": "code",
   "execution_count": null,
   "metadata": {},
   "outputs": [],
   "source": []
  },
  {
   "cell_type": "markdown",
   "metadata": {},
   "source": [
    "## Ejercicio 4:\n",
    "### A partir de las siguientes listas de alumnos premiados y premios construir:\n",
    "\n",
    "* una lista de tuplas\n",
    "* una tupla de tuplas\n",
    "* un diccionario que emparejen cada estudiante con su premio\n",
    "\n",
    "    premiados=[\"Lea\",\"Diego\",\"Luna\",\"Elias\",\"Fran\"]\n",
    "    premios=[\"Matrícula gratis\",\"Beca estudios\",\"Beca comedor\",\"Tarjeta transporte\",\"Tasas gratis\"]"
   ]
  },
  {
   "cell_type": "markdown",
   "metadata": {},
   "source": [
    "### **Solución:** "
   ]
  },
  {
   "cell_type": "code",
   "execution_count": null,
   "metadata": {},
   "outputs": [],
   "source": []
  },
  {
   "cell_type": "markdown",
   "metadata": {},
   "source": [
    "## Ejercicio 5:\n",
    "### Escribir un código de Python que le pida al usuario que introduzca una cadena de más de 10 caracteres. \n",
    "\n",
    "El código debe construir una nueva cadena utilizando los 2 primeros caracteres, los 2 caracteres intermedios y los 2 últimos caracteres de la cadena introducida por el usuario. Además, en caso de que la cadena resultante contenga alguna “e” (mayúscula o minúscula), el código debe reemplazarla por un 3."
   ]
  },
  {
   "cell_type": "markdown",
   "metadata": {},
   "source": [
    "### **Solución:** "
   ]
  },
  {
   "cell_type": "code",
   "execution_count": null,
   "metadata": {},
   "outputs": [],
   "source": []
  },
  {
   "cell_type": "markdown",
   "metadata": {},
   "source": [
    "## Ejercicio 6:\n",
    "\n",
    "### Escribir un código de Python que solicite aleatoriamente al usuario 5 entradas de datos de los siguientes tipos:\n",
    "\n",
    "- Introduce STRING:\n",
    "- Introduce INT:\n",
    "- Introduce FLOAT:\n",
    "- Introduce COMPLEX (a+bj):\n",
    "- Introduce BOOL:\n",
    "\n",
    "Notar que al ser elecciones aleatorias, un usuario podría ser requerido a introducir cinco veces el mismo tipo de datos.\n",
    "Utilizar la función **random.randint** que generará en cada ocasión un número aleatorio entre 0 y 4 que debería servir para elegir enter las cinco posibilidades.\n",
    "\n",
    "Al final, el código de imprimir el contenido y el tipo de datos de cada variable. Notar que dos ejecuciones consecutivas pueden realizar preguntas diferentes:\n",
    "\n",
    "\n",
    "     Introduce FLOAT: 4.5\n",
    "     Introduce STRING: Madrid\n",
    "     Introduce INT: 5\n",
    "     Introduce STRING: Cuenca\n",
    "     Introduce FLOAT: 6.7\n",
    "     Var1 es <class 'float'> y vale 4.5\n",
    "     Var2 es <class 'str'> y vale Madrid\n",
    "     Var3 es <class 'int'> y vale 5\n",
    "     Var4 es <class 'str'> y vale Cuenca\n",
    "     Var5 es <class 'float'> y vale 6.7"
   ]
  },
  {
   "cell_type": "markdown",
   "metadata": {},
   "source": [
    "### **Solución:** "
   ]
  },
  {
   "cell_type": "code",
   "execution_count": null,
   "metadata": {},
   "outputs": [],
   "source": []
  },
  {
   "cell_type": "markdown",
   "metadata": {},
   "source": [
    "## Ejercicio 7:\n",
    "### Escribe un programa en Python que permita al usuario introducir 5 nombres de vehículos con sus 5 precios. \n",
    "\n",
    "El código debe ir almacenando en un diccionario toda esta información en el que la clave será el nombre del vehículo y el valor será el precio. Una vez introducidos todos, el código debe devolver por pantalla cual es el precio total de los cinco vehículos, cuál es el precio medio, cual es el vehículo más caro y cuál es el vehículo más barato.\n",
    "\n",
    "     Modelo1: A\n",
    "     Precio1: 0\n",
    "     Modelo2: B\n",
    "     Precio2: 10\n",
    "     Modelo3: C\n",
    "     Precio3: 20\n",
    "     Modelo4: D\n",
    "     Precio4: 30\n",
    "     Modelo5: E\n",
    "     Precio5: 40\n",
    "     El precio total es:  100.0\n",
    "     El precio medio es:  20.0\n",
    "     El modelo más barato es:  A\n",
    "     El modelo más caro es:  E"
   ]
  },
  {
   "cell_type": "markdown",
   "metadata": {},
   "source": [
    "### **Solución:** "
   ]
  },
  {
   "cell_type": "code",
   "execution_count": null,
   "metadata": {},
   "outputs": [],
   "source": []
  },
  {
   "cell_type": "markdown",
   "metadata": {},
   "source": [
    "## Ejercicio 8:\n",
    "### Escribe un código Python que sea capaz de concatenar dos diccionarios en uno sólo. \n",
    "Para simplificar el código, vamos a suponer que ninguno de los dos diccionarios comparte ninguna clave."
   ]
  },
  {
   "cell_type": "markdown",
   "metadata": {},
   "source": [
    "### **Solución:** "
   ]
  },
  {
   "cell_type": "code",
   "execution_count": null,
   "metadata": {},
   "outputs": [],
   "source": []
  },
  {
   "cell_type": "markdown",
   "metadata": {},
   "source": [
    "## Ejercicio 9:\n",
    "### Escribe un código de Python que le pida al usuario que introduzca una cadena aleatoria de caracteres. \n",
    "El código debe devolver el número de vocales, consonantes y espacios. Si el usuario introduce números, consideralos como si fueran consonantes\n",
    "\n",
    "    Introduce cadena de caracteres: abdcefghijklmnOP QRSTUVW Yz \n",
    "    La cadena abdcefghijklmnOP QRSTUVW Yz contiene 5 vocales, 2 espacios y 20 consonantes"
   ]
  },
  {
   "cell_type": "markdown",
   "metadata": {},
   "source": [
    "### **Solución:** "
   ]
  },
  {
   "cell_type": "code",
   "execution_count": null,
   "metadata": {},
   "outputs": [],
   "source": []
  },
  {
   "cell_type": "markdown",
   "metadata": {},
   "source": [
    "## Ejercicio 10:\n",
    "\n",
    "### Escribe un código de Python que le pida al usuario que introduzca una cadena aleatoria de caracteres. \n",
    "El código debe generar dos cadenas nuevas, una con todos los caracteres que ocupen posiciones pares y otra con todos los caracteres que ocupen posiciones impares.\n",
    "\n",
    "    Introduce cadena de caracteres: EeSsTtOo EeSs LlAa CcAaDdEeNnAa IpMaPrA R \n",
    "    Substring PAR: ESTO ES LA CADENA IMPAR \n",
    "    Substring IMPAR: esto es la cadena par"
   ]
  },
  {
   "cell_type": "markdown",
   "metadata": {},
   "source": [
    "### **Solución:** "
   ]
  },
  {
   "cell_type": "code",
   "execution_count": null,
   "metadata": {},
   "outputs": [],
   "source": []
  },
  {
   "cell_type": "markdown",
   "metadata": {},
   "source": [
    "## Ejercicio 11:\n",
    "\n",
    "### Extraer email de un STRING procedente del código funete de una web.\n",
    "\n",
    "Para ello sigue los siguientes pasos:\n",
    "\n",
    "1. Copia la siguiente información en una variable: \n",
    "\n",
    "            \"<p class=info street>C/ Alberto Aguilera, 25 - 28015 Madrid</p>\n",
    "\t\t\t<p class=info phone>Tel.:(+34) 91 542 28 00</p>\n",
    "\t\t\t<p class=info mail><a href= mailto: oia@spammers.edu > oia@spammers.edu </a></p>\n",
    "\t\t    </div>\"\n",
    "            \n",
    "2. Localiza la posición del carácter '@' .\n",
    "3. Copia 20 caracteres antes del '@' y 20 después en un nuevo string\n",
    "4. Limpia el email para que quede lo más limpio posible\n",
    "5. Imprime el email por pantalla"
   ]
  },
  {
   "cell_type": "markdown",
   "metadata": {},
   "source": [
    "### **Solución:** "
   ]
  },
  {
   "cell_type": "code",
   "execution_count": null,
   "metadata": {},
   "outputs": [],
   "source": []
  },
  {
   "cell_type": "markdown",
   "metadata": {},
   "source": [
    "## Ejercicio 12\n",
    "\n",
    "### Crea un diccionario con 5 palabras (claves) y sus definiciones (valores):\n",
    "\n",
    "    dog: a highly variable domestic mammal (Canis familiaris) closely related to the gray wolf.\n",
    "    cat: a carnivorous mammal (Felis catus) long domesticated as a pet and for catching rats and mice.\n",
    "    mouse: any of numerous small rodents (as of the genus Mus) with pointed snout, rather small ears, elongated body, and slender tail.\n",
    "    bird: any of a class (Aves) of warm-blooded vertebrates distinguished by having the body more or less completely covered with feathers and the forelimbs modified as wings\n",
    "    fish: an aquatic animal —usually used in combination\n",
    "    \n",
    "1. Muestra la longitud del diccionario .\n",
    "2. Pedir al usuario que busque una definición. Si existe, mostrar la definición en pantalla, si no, mostrar un mensaje de error.\n",
    "3. Mostrar todos los elementos del Diccionario.\n",
    "4. Cambie la definición de bird por \"the young of a feathered vertebrate\"."
   ]
  },
  {
   "cell_type": "markdown",
   "metadata": {},
   "source": [
    "### **Solución:** "
   ]
  },
  {
   "cell_type": "code",
   "execution_count": null,
   "metadata": {},
   "outputs": [],
   "source": []
  },
  {
   "cell_type": "markdown",
   "metadata": {},
   "source": [
    "## Ejericicio  13\n",
    "\n",
    "### Utiliza el diccionario definido en la siguiente celda y la teoría de bucles para generar la siguiente salida:\n",
    "\n",
    "    In spain with capital madrid there is a population of 46.78 millons\n",
    "    In france with capital paris there is a population of 66.03 millons\n",
    "    In germany with capital berlin there is a population of 80.62 millons\n",
    "    In norway with capital oslo there is a population of 5.08 millons\n",
    "    In italy with capital rome there is a population of 60.37 millons\n",
    "    In grece with capital athens there is a population of 10.72 millons\n",
    "    In austria with capital vienna there is a population of 8.86 millons\n",
    "    In slovakia with capital bratislava there is a population of 5.45 millons\n",
    "    The average population of those countries is: 35489375 people"
   ]
  },
  {
   "cell_type": "code",
   "execution_count": null,
   "metadata": {},
   "outputs": [],
   "source": [
    "europe = { 'spain': { 'capital':'madrid', 'population':46.777 },\n",
    "           'france': { 'capital':'paris', 'population':66.033 },\n",
    "           'germany': { 'capital':'berlin', 'population':80.622 },\n",
    "           'norway': { 'capital':'oslo', 'population':5.084 },\n",
    "           'italy': { 'capital':'rome', 'population':60.365 },\n",
    "           'grece': { 'capital':'athens', 'population':10.721 },\n",
    "           'austria': { 'capital':'vienna', 'population':8.859 },\n",
    "           'slovakia': { 'capital':'bratislava', 'population':5.454 }\n",
    "         }"
   ]
  },
  {
   "cell_type": "markdown",
   "metadata": {},
   "source": [
    "### **Solución:** "
   ]
  },
  {
   "cell_type": "code",
   "execution_count": null,
   "metadata": {},
   "outputs": [],
   "source": []
  },
  {
   "cell_type": "markdown",
   "metadata": {},
   "source": [
    "## Ejercicio 14:\n",
    "\n",
    "### Corrige el error del siguiente código:"
   ]
  },
  {
   "cell_type": "code",
   "execution_count": null,
   "metadata": {},
   "outputs": [],
   "source": [
    "tuple=\"a\",\"b\",\"c\", d\"\n",
    "print(tuple[4])\n",
    "print(tuple)\n",
    "tuple[4]=\"z\""
   ]
  },
  {
   "cell_type": "markdown",
   "metadata": {},
   "source": [
    "### **Solución:** "
   ]
  },
  {
   "cell_type": "code",
   "execution_count": null,
   "metadata": {},
   "outputs": [],
   "source": []
  },
  {
   "cell_type": "markdown",
   "metadata": {},
   "source": [
    "## Ejercicio 15:\n",
    "### 15.1 Corregir el siguiente código que pretende crear un diccionario con las siguientes claves (clientes) y valores (telefonos)"
   ]
  },
  {
   "cell_type": "code",
   "execution_count": null,
   "metadata": {},
   "outputs": [],
   "source": [
    "telefonos=[66675665, 67889990, 657456655, 6234456458]\n",
    "clientes=[\"Paco\", \"Elisa\",\"David\", \"Rocio\",\"Frachesca\"]\n",
    "usuarios={}\n",
    "for i in range(len(clientes)):\n",
    "    usuarios[i]=telefonos[i]\n",
    "print(usuarios)"
   ]
  },
  {
   "cell_type": "markdown",
   "metadata": {},
   "source": [
    "### **Solución:** "
   ]
  },
  {
   "cell_type": "code",
   "execution_count": null,
   "metadata": {},
   "outputs": [],
   "source": []
  },
  {
   "cell_type": "markdown",
   "metadata": {},
   "source": [
    "### 15.2 Crear un diccionario con las siguientes claves (identificadores) y valores (usuarios)"
   ]
  },
  {
   "cell_type": "code",
   "execution_count": null,
   "metadata": {},
   "outputs": [],
   "source": [
    "identificadores=[123, 222, 323, 432]\n",
    "usuarios= \"Alvaro\", \"Manuel\",\"Elena\" \"Gonzalo\"\n",
    "alumnos={}\n",
    "for i in identificadores:\n",
    "    alumno[i]=usuarios[i]\n",
    "print(alumnos)"
   ]
  },
  {
   "cell_type": "markdown",
   "metadata": {},
   "source": [
    "### **Solución:** "
   ]
  },
  {
   "cell_type": "code",
   "execution_count": null,
   "metadata": {},
   "outputs": [],
   "source": []
  }
 ],
 "metadata": {
  "interpreter": {
   "hash": "d652f12e86d4907f3226fd0eca720165fd18d0c760b9e442a689f9a4e2e2c276"
  },
  "kernelspec": {
   "display_name": "Python 3",
   "language": "python",
   "name": "python3"
  },
  "language_info": {
   "codemirror_mode": {
    "name": "ipython",
    "version": 3
   },
   "file_extension": ".py",
   "mimetype": "text/x-python",
   "name": "python",
   "nbconvert_exporter": "python",
   "pygments_lexer": "ipython3",
   "version": "3.8.8"
  }
 },
 "nbformat": 4,
 "nbformat_minor": 2
}

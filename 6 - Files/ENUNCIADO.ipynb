{
 "cells": [
  {
   "cell_type": "markdown",
   "metadata": {},
   "source": [
    "# **TEMA 6: Files**"
   ]
  },
  {
   "cell_type": "markdown",
   "metadata": {},
   "source": [
    "## Ejercicio 1:\n",
    "\n",
    "### Escribir un código que almacene en un fichero autores y libros y que posteriormente permita realizar consultas.\n",
    "\n",
    "Crear una función **Creacion(file, n)** que le pida al usuario n veces el nombre de un autor y un libro y lo añada al archivo cuyo nombre se le pasa como parametro a la funcion. \n",
    "\n",
    "Una vez creado el archivo, debe escribir las siguientes funciones:\n",
    "\n",
    "* **Display(f)** para visualización del contenido del archivo mostrando los libros y autores contenidos.\n",
    "* **Search(f,nombre)** para buscar todos los libros escritos por un autor. Muestre los títulos y el número de libros escritos por ese autor. Si el nombre del autor no existe en el archivo, muestra un mensaje de error.\n",
    "* **Menu()** para mostrar las 3 opciones que le daremos al usuario: \n",
    "    1. Mostrar el contenido del fichero\n",
    "    2. Buscar libros de un autor\n",
    "    3. Salir."
   ]
  },
  {
   "cell_type": "markdown",
   "metadata": {},
   "source": [
    "### **Solución:**"
   ]
  },
  {
   "cell_type": "code",
   "execution_count": null,
   "metadata": {},
   "outputs": [],
   "source": []
  },
  {
   "cell_type": "markdown",
   "metadata": {},
   "source": [
    "## Ejercicio 2:\n",
    "\n",
    "### Escribe un programa que pida al usuario ciudades y temperaturas y genere un fichero \"temperaturas.txt\" que almacenará una ciudad por línea:\n",
    "\n",
    "        ciudad1;temperatura1\n",
    "        ciudad2;temperatura2\n",
    "        ciudad3;temperatura3\n",
    "\n",
    "Para ello habrá que crear las siguietnes funcionas:\n",
    "\n",
    "* **read_temps()**. Esta función pedirá datos al usuario hasta que este escribe la palabra 'exit'. La función devolverá un diccionario con las ciudades como claves y las temperaturas como valores \n",
    "\n",
    "        {ciudad1: temperatura1, ciudad2: temperatura2, ...}.\n",
    "\n",
    "* **write_temps(temps)**. Esta función volcará el diccionario de temperaturas a un fichero CSV\n",
    "* **read_display()**. Esta función leerá el contenido del fichero **temperaturas.txt** y lo mostrará por pantalla. Después de haber sacado por pantalla todas las ciudades mostrará un mensaje con la ciudad que ha tenido la temperatura máxima:\n",
    "        \n",
    "        --- Reading data from user     \n",
    "        City name: cuenca\n",
    "        Average temperature for cuenca: 34\n",
    "        City name [exit to finish]: madrid\n",
    "        Average temperature for madrid: 33\n",
    "        City name [exit to finish]: oviedo\n",
    "        Average temperature for oviedo: 15\n",
    "        City name [exit to finish]: exit\n",
    "        \n",
    "        --- Writing data to file\n",
    "        \n",
    "        --- Reading data from file\n",
    "        City name       Avg Temp\n",
    "        cuenca            34.0ºC\n",
    "        madrid            33.0ºC\n",
    "        oviedo            15.0ºC\n",
    "        Maximum average temperature:   34.0ºC for cuenca"
   ]
  },
  {
   "cell_type": "markdown",
   "metadata": {},
   "source": [
    "### **Solución:**"
   ]
  },
  {
   "cell_type": "code",
   "execution_count": null,
   "metadata": {},
   "outputs": [],
   "source": []
  },
  {
   "cell_type": "markdown",
   "metadata": {},
   "source": [
    "## Ejercicio 3\n",
    "\n",
    "### Ejercicio 3.1:\n",
    "\n",
    "Crear un archivo de texto con un editor de texto estándar (.txt). El archivo debe contener la transacción de venta de productos de una tienda. El archivo contendrá para cada transacción el nombre_del_producto, las unidades vendidas y el precio unitario separados por ;\n",
    "\n",
    "        printer;7;12.05\n",
    "        monitor;12;23.06\n",
    "        hard disk;1;90.85\n",
    "        speaker;6;78.20\n",
    "    \n",
    "Escribir una funcion **Read_TXT(filename)** que:\n",
    "1. lea el archivo de texto\n",
    "2. cree una lista para cada producto [printer,7,12.05] \n",
    "3. cree una lista **transacciones** que contenga todas las listas anteriores\n",
    "4. devuelva la lista **transacciones**\n",
    "\n",
    "Escribir una función **Write_DAT(filename,transacciones)** que reciba como argumento el nombre del fichero de texto y la lista de transacciones y cree un archivo binario utilizando la librería **pickle**.\n",
    "\n",
    "Para verificar que el programa esté funcionando correctamente, crear una función **Read_DAT(filename)** que muestre por pantalla todas las transacciones.\n",
    "\n",
    "El programa principal debería ser algo similar a esto:\n",
    "\n",
    "        print(\"Reading TXT file\")\n",
    "        print(\"================\")\n",
    "        trx=Read_TXT(\"transactions.txt\")\n",
    "        print(\"Writing binary\")\n",
    "        print(\"==============\")\n",
    "        Write_DAT(\"binary\",trx)\n",
    "        print(\"Reading binary\")\n",
    "        print(\"==============\")\n",
    "        Read_DAT(\"binary\")\n",
    "\n",
    "Y la salida paracerse a esto:\n",
    "\n",
    "        Reading TXT file\n",
    "        ================\n",
    "        Writing binary\n",
    "        ==============\n",
    "        Reading binary\n",
    "        ==============\n",
    "        Product     units  price\n",
    "        ------------------------\n",
    "        printer         7  12.05\n",
    "        monitor        12  23.06\n",
    "        hard disk       1  90.85\n",
    "        speaker         6  78.20"
   ]
  },
  {
   "cell_type": "markdown",
   "metadata": {},
   "source": [
    "### **Solución 3.1:**"
   ]
  },
  {
   "cell_type": "code",
   "execution_count": null,
   "metadata": {},
   "outputs": [],
   "source": []
  },
  {
   "cell_type": "markdown",
   "metadata": {},
   "source": [
    "### Ejercicio 3.2:\n",
    "\n",
    "Escribir un programa que utilice el archivo binario anterior. Crear las siguientes funciones:\n",
    "\n",
    " 1. **searchTrx(filename, product)**. Debe leer el fichero binario, buscar las transacciones del producto pasado por argumento y sacarlas por pantalla\n",
    "\n",
    "        searchTrx(\"binary.dat\",\"printer\")\n",
    "        Product: printer Units: 7 PricePerUnite: 12.05\n",
    " \n",
    " 2. **totalTrx(filename)**. Debe leer el fichero binario y crear un nuevo archivo \"total_sales.txt\" para sumar las ventas totales de todos los productos. Cada línea de este nuevo archivo indicará el nombre de un producto y los ingresos totales de venta de ese producto (multiplicando num_units * unit_price).\n",
    " \n",
    "        totalTrx(\"binary.dat\")\n",
    "\n",
    "El archivo deberá tener un formato como este:\n",
    "\n",
    "        product       units unitary_price   total\n",
    "        printer           7         12.05   84.35\n",
    "        monitor          12         23.06  276.72\n",
    "        hard disk         1         90.85   90.85\n",
    "        speaker           6         78.20  469.20"
   ]
  },
  {
   "cell_type": "markdown",
   "metadata": {},
   "source": [
    "### **Solución 3.2:**"
   ]
  },
  {
   "cell_type": "code",
   "execution_count": null,
   "metadata": {},
   "outputs": [],
   "source": []
  },
  {
   "cell_type": "markdown",
   "metadata": {},
   "source": [
    "## Ejercicio 4:\n",
    "\n",
    "### Codificar un programa que controle el número de ventas de un vivero.\n",
    "\n",
    "El vivero sólo vende dos tipos de plantas:\n",
    "\n",
    "| Tipo de planta (A=verduras,B=ornamentales) | Precio |\n",
    "|--------------------------------------------|--------|\n",
    "| TIPO A                                     | 7€     |\n",
    "| TIPO B                                     | 16€    |\n",
    "\n",
    "El programa principal comienza pidiendo al usuario que introduzca el número de pedidos de clientes que desea grabar en el fichero binario **\"pedidos.dat\"**. El programa llamará a la función **Leer_y_Grabar_Pedidos(filename, num_clientes)** a la que se le pasará el nombre del fichero y el número de clientes que solicitan pedidos. \n",
    "\n",
    "La función **Leer_y_Grabar_Pedidos(filename, num_clientes)** solicitará para cada cliente:\n",
    "\n",
    "* nombre del cliente\n",
    "* número de plantas tipo A.\n",
    "* número de plantas tipo B.\n",
    "\n",
    "Una vez grabado el fichero **\"pedidos.dat\"**, desde el programa principal se llamará a la función **Mostrar_Fichero_Binario(filename, precios)**, pasando como argumento el nombre del fichero binario y una lista con el precio de los dos tipos de plantas. Por cada cliente debe mostrar el coste de la compra de plantas de cada tipo, así como el coste total de ese cliente.\n",
    "\n",
    "A continuación, el programa principal solicitará un valor denominado importe_maximo que se pasará a la función **Calcular_Maximos_Clientes(filename,maximo, precios)** junto con la lista de precios de los dos tipos de plantas. Esta función creará el fichero **\"maximo.csv\"** en el que se registrarán aquellos clientes que hayan superado en la compra el valor indicado en importe_maximo.\n",
    "\n",
    "Por último, mostrar el contenido del fichero **\"maximo.csv\"** llamando a la funcion **Mostrar_Fichero_Texto()**\n",
    "\n",
    "El programa principal podría responder al siguiente código:\n",
    "\n",
    "        precios=[7,16]\n",
    "        print(\"Grabar pedidos en fichero binario\")\n",
    "        print(\"=================================\")\n",
    "        num_col=int(input(\"Introduzca el número de pedidos del sistema: \"))\n",
    "        Leer_y_Grabar_Pedidos(\"pedidos.dat\", num_col)\n",
    "        print()\n",
    "        print(\"Contenido fichero binario\")\n",
    "        print(\"=========================\")\n",
    "        Mostrar_Fichero_Binario(\"pedidos.dat\",precios) \n",
    "        print()\n",
    "        print(\"Filtrar por máximo\")\n",
    "        print(\"==================\")\n",
    "        importe_maximo=float(input(\"Introduzca importe máximo: \"))\n",
    "        Calcular_Maximos_Clientes(\"pedidos.dat\",importe_maximo, precios)\n",
    "        print()\n",
    "        print(\"Contenido fichero texto\")\n",
    "        print(\"=======================\")\n",
    "        Mostrar_Fichero_Texto()\n",
    "\n",
    "Y la salida debería ser algo así:\n",
    "\n",
    "        Grabar pedidos en fichero binario\n",
    "        =================================\n",
    "        Introduzca el número de pedidos del sistema: 4\n",
    "        Introduzca cliente: Luis\n",
    "        Introduzca número de plantas de tipo A: 4\n",
    "        Introduzca número de plantas de tipo B: 5\n",
    "        Introduzca cliente: Lucia\n",
    "        Introduzca número de plantas de tipo A: 7\n",
    "        Introduzca número de plantas de tipo B: 8\n",
    "        Introduzca cliente: Leo\n",
    "        Introduzca número de plantas de tipo A: 3\n",
    "        Introduzca número de plantas de tipo B: 10\n",
    "        Introduzca cliente: Amancio\n",
    "        Introduzca número de plantas de tipo A: 10\n",
    "        Introduzca número de plantas de tipo B: 1\n",
    "\n",
    "        Contenido fichero binario\n",
    "        =========================\n",
    "        Cliente: Luis       Plantas Tipo A: 4 Total A: 28.0 Plantas Tipo B: 5 Total B: 80.0 Coste Total Plantas: 108.00\n",
    "        Cliente: Lucia      Plantas Tipo A: 7 Total A: 49.0 Plantas Tipo B: 8 Total B: 128.0 Coste Total Plantas: 177.00\n",
    "        Cliente: Leo        Plantas Tipo A: 3 Total A: 21.0 Plantas Tipo B: 10 Total B: 160.0 Coste Total Plantas: 181.00\n",
    "        Cliente: Amancio    Plantas Tipo A: 10 Total A: 70.0 Plantas Tipo B: 1 Total B: 16.0 Coste Total Plantas: 86.00\n",
    "\n",
    "        Filtrar por máximo\n",
    "        ==================\n",
    "        Introduzca importe máximo: 120\n",
    "\n",
    "        Contenido fichero texto\n",
    "        =======================\n",
    "        Lucia 177\n",
    "        Leo 181"
   ]
  },
  {
   "cell_type": "markdown",
   "metadata": {},
   "source": [
    "### **Solución:**"
   ]
  },
  {
   "cell_type": "code",
   "execution_count": null,
   "metadata": {},
   "outputs": [],
   "source": []
  },
  {
   "cell_type": "markdown",
   "metadata": {},
   "source": [
    "## Ejercicio 5:\n",
    "\n",
    "### Escribir un programa capaz de gestionar el almacén de una ferretería.\n",
    "\n",
    "Primero necesitan crear un catálogo de piezas, que almacenaremos en un diccionario (al que llamaremos **catalogo**), siguiendo los siguientes pasos:\n",
    "\n",
    "- Solicitar por teclado el número de piezas del catálogo.\n",
    "- Por cada pieza, pedir el código de la pieza (numérico de tipo entero, y que será la clave del diccionario), y su precio.\n",
    "\n",
    "Una vez generado el diccionario, el programa mostrará un menú con las siguientes opciones:\n",
    "\n",
    "- Stock almacén: Crearemos una lista llamada **stock_almacen** con las piezas que se encuentren en ese momento en el almacén. Para ello preguntaremos al usuario por teclado el código de la pieza y el número de unidades existentes. Antes de añadir la pieza a la lista stock_almacen, comprobaremos que el código es válido accediendo al diccionario **catalogo** mediante la función Busqueda_De_Pieza(). \n",
    "- Venta Pieza: Solicitaremos por teclado el código de pieza a vender y el número de unidades. Comprobaremos en la lista stock_almacen que la pieza existe y que disponemos de unidades suficientes para la venta. En caso de error, el programa mostrará un mensaje al usuario indicando que no se ha podido realizar la venta. En caso afirmativo, el programa actualizará la lista stock_almacen con las unidades actualizadas.\n",
    "- Informe de almacén: Nos piden generar un informe con las piezas existentes en el almacén, mostrando por cada pieza, su código, número de unidades y valor total por tipo de pieza. Una vez generado, nos piden mostrar el valor total de todas las piezas existentes en el almacén.\n",
    "- Copia de seguridad en fichero: Si el usuario selecciona esta opción, generará un nuevo fichero binario llamado “almacen.dat” con los datos de las piezas existentes en ese momento en el almacén."
   ]
  },
  {
   "cell_type": "markdown",
   "metadata": {},
   "source": [
    "### **Solución:**"
   ]
  },
  {
   "cell_type": "code",
   "execution_count": null,
   "metadata": {},
   "outputs": [],
   "source": []
  },
  {
   "cell_type": "markdown",
   "metadata": {},
   "source": [
    "## Ejercicio 6:\n",
    "\n",
    "### Escribir un programa python para evaluar las ventas e impuestos de las sucursales de una cadena de comida rápida. \n",
    "\n",
    "Para controlar el tipo de producto, crearemos un diccionario llamado **tipo_comida** que contendrá todos los tipos de comida disponibles junto con su precio, siendo la clave el tipo de comida. \n",
    "\n",
    "| Tipo de comida | Precio |\n",
    "|----------------|--------|\n",
    "| hamburguesa    | 8      |\n",
    "| pizza          | 15     |\n",
    "| pollo          | 10     |\n",
    "| sándwich       | 7      |\n",
    "\n",
    "Crear otro diccionario llamado **ventas_comida** que contendrá la cantidad total vendida de cada tipo de comida (ej. hamburguesa : 500), siendo la clave el tipo de comida como en el caso anterior. La cadena calculará el porcentaje de IVA en función de la cantidad vendida de cada producto según la siguiente tabla:\n",
    "\n",
    "| Ventas en Euros | % IVA |\n",
    "|---------------|-------|\n",
    "| 1 a 100       | 8     |\n",
    "| 100-300       | 10    |\n",
    "| Más de 300    | 15    |\n",
    "\n",
    "Escribir un programa con las siguientes opciones:\n",
    "\n",
    "- En primer lugar, el programa deberá pedir los tipos de comida por teclado, su precio y el número de unidades vendidas, rellenando los campos correspondientes del diccionario **tipo_comida** y **ventas_comida**, y comprobando que los valores introducidos son números positivos y reales y que el producto no ha sido previamente dado de alta. \n",
    "\n",
    "-\tUna vez introducidos los datos, se mostrará un menú mediante la función **Menu()** que devolverá la opción seleccionada por el usuario. Este menú se podrá ejecutar desde el programa principal tantas veces como se desee hasta que el usuario seleccione la opción 4 (Salir). En caso de seleccionar una opción distinta, el programa mostrará un mensaje de error y volverá a mostrar las opciones del Menu. Las opciones son las siguientes:\n",
    "\n",
    "    1. Informe de ventas \n",
    "    2. Producto Estrella \n",
    "    3. Copia de seguridad\n",
    "    4. Salir\n",
    "\n",
    "\n",
    "* **Informe de ventas**. Si el usuario selecciona la opción 1 del menú, se generará un informe que muestre las ventas por cada tipo de producto, el total de ventas y los impuestos que deberán pagar de la siguiente manera:\n",
    "\n",
    "| Tipo de comida | Ventas | IVA, Euros | Total, Ventas, Euros |\n",
    "|----------------|--------|------------|----------------------|\n",
    "| pollo          | 900.0  | 72         | 828.0                |\n",
    "| hamburguesa    | 1200.0 | 120        | 1080.0               |\n",
    "| pizza          | 4200.0 | 420.0      | 3780.0               |\n",
    "| sándwich       | 2666.0 | 399.0      | 2261.0               |\n",
    "\n",
    "* **Producto Estrella**. Si el usuario selecciona la opción 2, producto estrella, el programa llamará a la función a la función **Estrella(ventas_comida)**, que devolverá al programa principal el producto con mayor número de unidades vendidas en ese mes. Desde el programa principal se mostrará el nombre del producto junto con las unidades vendidas.\n",
    "\n",
    "* **Copia de Seguridad**. Si el usuario selecciona la opción 3, generará un nuevo fichero binario llamado “productos.dat” con los datos de los productos vendidos hasta ese momento (una línea por cada producto y número de unidades vendidas).\n",
    "\n",
    "* **Salir** Si el usuario selecciona la opción 4, salir, se debe leer y mostrar el contenido del fichero **“productos.dat”**.\n",
    "\n",
    "\n",
    "\n",
    "        Introduce el numero de comidas distintas del restaurante:4 \n",
    "        \n",
    "        Introduce el tipo de comida: hamburguesa \n",
    "        Introduce precio: 8 \n",
    "        Introduce las unidades vendidas:150 \n",
    "        \n",
    "        Introduce el tipo de comida: pollo \n",
    "        Introduce precio: 10 \n",
    "        Introduce las unidades vendidas:90 \n",
    "        \n",
    "        Introduce el tipo de comida: pizza \n",
    "        Introduce precio: 15 \n",
    "        Introduce las unidades vendidas:280 \n",
    "        \n",
    "        Introduce el tipo de comida: pollo \n",
    "        PRODUCTO YA DADO DE ALTA \n",
    "        \n",
    "        Introduce el tipo de comida: sándwich \n",
    "        Introduce precio: 7 \n",
    "        Introduce las unidades vendidas:380 \n",
    "        \n",
    "        1.- Informe de ventas \n",
    "        2.- Producto Estrella \n",
    "        3.- Copia de seguridad \n",
    "        4.- Salir \n",
    "        \n",
    "        Introduzca opción: 1 \n",
    "\n",
    "        Informe VENTAS \n",
    "        =============\n",
    "        Tipo de Comida Ventas IVA Total (Euros)   \n",
    "        ============== ======= == =========== \n",
    "        hamburguesa     1200  120       1080 \n",
    "        pollo            900   72        828 \n",
    "        pizza           4200  420       3780 \n",
    "        sándwich        2660  399       2261 \n",
    "\n",
    "        1.- Informe de ventas \n",
    "        2.- Producto Estrella \n",
    "        3.- Copia de seguridad \n",
    "        4.- Salir \n",
    "        \n",
    "        Introduzca opción: 2 \n",
    "\n",
    "        El producto estrella de este mes ha sido: sándwich con 380 unidades vendidas \n",
    "\n",
    "        1.- Informe de ventas \n",
    "        2.- Producto Estrella \n",
    "        3.- Copia de seguridad \n",
    "        4.- Salir \n",
    "        \n",
    "        Introduzca opción: 3 \n",
    "        \n",
    "        Copla de seguridad realizada con éxito. \n",
    "        1.- Informe de ventas \n",
    "        2.- Producto Estrella \n",
    "        3.- Copia de seguridad \n",
    "        4.- Salir \n",
    "        \n",
    "        Introduzca opción: 4 \n",
    "        \n",
    "        Fichero PRODUCTOS.DAT \n",
    "        =======================\n",
    "        Comida Unidades \n",
    "        ====== ========\n",
    "        hamburguesa 130 \n",
    "        pollo        90 \n",
    "        pizza       280 \n",
    "        sándwich    380 "
   ]
  },
  {
   "cell_type": "markdown",
   "metadata": {},
   "source": [
    "### **Solución:**"
   ]
  },
  {
   "cell_type": "code",
   "execution_count": null,
   "metadata": {},
   "outputs": [],
   "source": []
  },
  {
   "cell_type": "markdown",
   "metadata": {},
   "source": [
    "## Ejercicio 7:\n",
    "\n",
    "\n",
    "El fichero **\"english-spanish.txt\"** (almacenado en la subcarpeta files) contiene las palabras más frecuentes utilizadas en inglés y su correspondiente traducción al español.\n",
    "\n",
    "### **Ejercicio 7.1** \n",
    "\n",
    "Lee el fichero **\"english-spanish.txt\"** y genera un diccionario en el que las claves sean las palabras en inglés y los valores las palabras en español. Ten presente que en fichero **\"english-spanish.txt\"** puede contener varias traducciones para la misma palabra, por ejemplo:\n",
    "\n",
    "        will;testamento\n",
    "        will;voluntad\n",
    "        \n",
    "En estos casos, la variable diccionario contendrá la primera traducción que aparezca en el fichero."
   ]
  },
  {
   "cell_type": "markdown",
   "metadata": {},
   "source": [
    "### **Solución 7.1:**"
   ]
  },
  {
   "cell_type": "code",
   "execution_count": null,
   "metadata": {},
   "outputs": [],
   "source": []
  },
  {
   "cell_type": "markdown",
   "metadata": {},
   "source": [
    "### **Ejercicio 7.2:** \n",
    "\n",
    "### Genera una función `Translate(text,dicc)` que reciba un texto sencillo y el diccionario generado en el apartado anterior y devuelva un string con la traducción palabra a palabra del texto de entrada. \n",
    "\n",
    "En caso de incluir una palabra para la que no existe traducción, la función debe dejar la palabra original pero resaltada con comillas. Por ejemplo:\n",
    "\n",
    "        Translate(\"February is the best month. Because February only has 28 days\",dicctionary)\n",
    "        \"febrero es el mejor mes. porque febrero solo tiene '28' 'days' \"\n",
    "\n",
    "En caso de no haber realizado el apartado anterior puedes hacer uso de este diccionario:\n",
    "\n",
    "        dicctionary={\"february\":\"febrero\", \"is\":\"es\", \n",
    "                     \"the\":\"el\", \"best\":\"mejor\", \n",
    "                     \"month\":\"mes\", \"because\":\"porque\",\n",
    "                     \"only\":\"solo\",\"has\":\"tiene\"}"
   ]
  },
  {
   "cell_type": "markdown",
   "metadata": {},
   "source": [
    "### **Solución 7.2:**"
   ]
  },
  {
   "cell_type": "code",
   "execution_count": null,
   "metadata": {},
   "outputs": [],
   "source": []
  },
  {
   "cell_type": "markdown",
   "metadata": {},
   "source": [
    "### **Ejercicio 7.3:**\n",
    "\n",
    "### Implementa un código que invierta el diccionario de manera que podamos utilizarlo para traducir del español al inglés.\n",
    "\n",
    "    Translate(\"Febrero es el mejor mes. Porque solo tiene 20 días\",new_dict)\n",
    "    \"february is the best month. because only has '20' 'días' \""
   ]
  },
  {
   "cell_type": "markdown",
   "metadata": {},
   "source": [
    "### **Solución 7.3:**"
   ]
  },
  {
   "cell_type": "code",
   "execution_count": 6,
   "metadata": {},
   "outputs": [],
   "source": []
  },
  {
   "cell_type": "markdown",
   "metadata": {},
   "source": [
    "## Ejercicio 8. \n",
    "\n",
    "### Implementar un asistente para el juego APALABRADOS.\n",
    "\n",
    "Crea un código que encuentre todas las palabras del vocabulario español que se corresponden con una variable **STRING** con un patrón de tipo: **\"\\_ri_o_\"**. Por ejemplo, para ese patrón, el código debe devolver todas las palabras de longitud 6 que tengan esas letras en las mismas posiciones: **['crisol', 'frijol', 'frisol', 'primor']**\n",
    "\n",
    "### Ejercicio 8.1:\n",
    "\n",
    "Leer todas las palabras del lenguaje español contenido en el fichero **spanish_words.txt** (guardado en la subcarpeta files) y almacenarlo en una lista de nombre **spanish_words**. No olvidar usar el encoding **utf8**."
   ]
  },
  {
   "cell_type": "markdown",
   "metadata": {},
   "source": [
    "### **Solución 8.1:**"
   ]
  },
  {
   "cell_type": "code",
   "execution_count": null,
   "metadata": {},
   "outputs": [],
   "source": []
  },
  {
   "cell_type": "markdown",
   "metadata": {},
   "source": [
    "### Ejercicio 8.2:\n",
    "\n",
    "Crea una función **search_words** que reciba dos argumentos: la lista de palabras del apartado anterior y una variable STRING con un patrón del tipo **\"\\_ri_o_\"**. La función debe devolver todas las palabras del diccionario español que tengan la misma longitud que el patrón y que contengan esas letras en esas posiciones.\n",
    "            \n",
    "Por ejemplo:\n",
    "\n",
    "        patron = \"_ri_o_\"\n",
    "        c=search_words(spanish_words, patron)\n",
    "        print(c)\n",
    "\n",
    "        ['crisol', 'frijol', 'frisol', 'primor']\n",
    "\n",
    "**NOTA.** El código debe funcionar para cualquier patron. Si no has conseguido resolver el ejercicio 8.1, puedes implementar la función igualmente invocando a la función como:\n",
    "\n",
    "        search_words([\"azul\", \"gris\", \"iris\", \"crin\", \"viernes\"], \"_ri_\")"
   ]
  },
  {
   "cell_type": "code",
   "execution_count": null,
   "metadata": {},
   "outputs": [],
   "source": [
    "def search_words(spanish_words, patron):\n",
    "    candidates=[]\n",
    "\n",
    "\n",
    "    return candidates"
   ]
  },
  {
   "cell_type": "markdown",
   "metadata": {},
   "source": [
    "### **Solución 8.2:**"
   ]
  },
  {
   "cell_type": "code",
   "execution_count": null,
   "metadata": {},
   "outputs": [],
   "source": []
  },
  {
   "cell_type": "markdown",
   "metadata": {},
   "source": [
    "## Ejercicio 9.\n",
    "\n",
    "Tenemos un fichero CSV que contiene instrucciones como estas:\n",
    "\n",
    "    Operation,Parameter\n",
    "    SHIFT,3\n",
    "    REVERSE,\n",
    "    REPLACE,A,R\n",
    "    ADD,Z\n",
    "\n",
    "Las operaciones signfican lo siguiente:\n",
    "\n",
    "* SHIFT,N - realizar un desplazamiento circular de N unidades en un STRING\n",
    "* REVERSE -  invertir un STRING\n",
    "* REPLACE,A,B - reemplazar el caracter A por el caracter B en un STRING\n",
    "* ADD,Z - añade el caracter Z al final de un STRING\n",
    "\n",
    "Así, las instrucciones anteriores aplicadas al string: \"UNIVERSIDAD\" resultaría en:\n",
    "\n",
    "1. SHIFT,3 --> VERSIDADUNI\n",
    "2. REVERSE --> INUDADISREV\n",
    "3. REPLACE,A,R --> INUDRDISREV\n",
    "4. ADD,Z --> INUDRDISREVZ\n",
    "\n",
    "Siendo la salida de todo este proceso la cadena de caracteres \"INUDRDISREVZ\"\n"
   ]
  },
  {
   "cell_type": "markdown",
   "metadata": {},
   "source": [
    "### Ejercicio 9.1:\n",
    "\n",
    "Lee el fichero **\"transformaciones.txt\"** y genera una lista llamada **transformaciones** que contenga todas las operaciones."
   ]
  },
  {
   "cell_type": "markdown",
   "metadata": {},
   "source": [
    "### **Solución 9.1:**"
   ]
  },
  {
   "cell_type": "code",
   "execution_count": 2,
   "metadata": {},
   "outputs": [],
   "source": []
  },
  {
   "cell_type": "markdown",
   "metadata": {},
   "source": [
    "### Ejercicio 9.2:\n",
    "\n",
    "Crea una función llamada **transforma(palabra, operaciones)** que recibe dos argumentos:\n",
    "\n",
    "* **palabra** es una variable tipo STRING sobre la que se aplicarán las transformaciones\n",
    "* **operaciones** es una variable tipo LIST que contiene la lista de operaciones\n",
    "\n",
    "La función debe devolver el STRING contenido en **palabra** tras aplicarle las transformaciones de la lista **operaciones**\n",
    "\n",
    "**NOTA.** Si no has resuelto el Ej1. utiliza la lista ['SHIFT,3', 'REVERSE,', 'REPLACE,A,R', 'ADD,Z']"
   ]
  },
  {
   "cell_type": "markdown",
   "metadata": {},
   "source": [
    "### **Solución 9.2:**"
   ]
  },
  {
   "cell_type": "code",
   "execution_count": 3,
   "metadata": {},
   "outputs": [],
   "source": []
  },
  {
   "cell_type": "code",
   "execution_count": 4,
   "metadata": {},
   "outputs": [
    {
     "data": {
      "text/plain": [
       "'INUDRDISREVZ'"
      ]
     },
     "execution_count": 4,
     "metadata": {},
     "output_type": "execute_result"
    }
   ],
   "source": [
    "transforma(\"UNIVERSIDAD\",transformaciones)"
   ]
  },
  {
   "cell_type": "markdown",
   "metadata": {},
   "source": [
    "### Ejercicio 9.3:\n",
    "\n",
    "Aplica la función anterior a la lista de palabras:\n",
    "\n",
    "    palabras=[\"UNIVERSIDAD\",\"LABORATORIO\",\"CAPIBARA\",\"MELBOURNE\"]\n",
    "\n",
    "El resultado debe guardarse en un fichero CSV con la siguiente configuración:\n",
    "\n",
    "    Original,Transformada\n",
    "    UNIVERSIDAD,INUDRDISREVZ\n",
    "    LABORATORIO,BRLOIROTRROZ\n",
    "    CAPIBARA,PRCRRRBIZ\n",
    "    MELBOURNE,LEMENRUOBZ\n",
    "    \n",
    "NOTA, si no has resuelto el ejercicio 2 puedes invocar a la función **transforma(palabra,operaciones)** aunque no la hayas programado."
   ]
  },
  {
   "cell_type": "markdown",
   "metadata": {},
   "source": [
    "### **Solución 9.3:**"
   ]
  },
  {
   "cell_type": "code",
   "execution_count": null,
   "metadata": {},
   "outputs": [],
   "source": []
  },
  {
   "cell_type": "markdown",
   "metadata": {},
   "source": [
    "## Ejercicio 10."
   ]
  },
  {
   "cell_type": "markdown",
   "metadata": {},
   "source": [
    "El fichero  *Mensajesecreto.csv* contiene un CSV con varias líneas que contiene un mensaje secreto.\n",
    "\n",
    "El CSV contiene tres campos:\n",
    "\n",
    "    frase;tipolinea;posición\n",
    "\n",
    "El significado de cada campo es el siguiente:\n",
    "\n",
    "* **frase**: Un cadena que emplearemos para sacar caracteres o palabras y componer el mensaje secreto\n",
    "\n",
    "* **tipolinea**: Puede valer 1 o 2:\n",
    "   - Si vale 1 haremos referencia a caracteres\n",
    "   - Si vale 2 haremos referencia a palabras\n",
    "   \n",
    "* **posición**: Valor numérico:\n",
    "    - Si el campo **tipolínea** vale 1, el campo **posición** hace referencia al caracter que ocupa esa posición en la **frase**\n",
    "    - Si el campo **tipolínea** vale 2, el campo **posición** hace referencia a la palabra que ocupa esa posición en la **frase**\n",
    "\n",
    "Imaginemos que el contenido de nuestro fichero es el siguiente:   \n",
    "\n",
    "<div style=\"border: 2px solid #a1a1a1; padding: 10px; border-radius: 10px; background-color: #f4f4f4;\">\n",
    "    \n",
    "frase;tipolinea;posición  \n",
    "Hoy **comienza** el otoño;2;1  \n",
    "Lo más probable es que llueva;1;6  \n",
    "En dos horas m**e** voy a casa;1;14    \n",
    "H.R.Giger diseñó **l**a criatura de Alien;1;17  \n",
    "Un descafeinado con leche, por favor;1;19  \n",
    "Hoy tengo el **examen** de conducir;2;3  \n",
    "</div>\n",
    "\n",
    "De la primera línea seleccionamos la palabra **comienza** (porque es la palabra que ocupa la posición 1), de la tercera y cuarta línea los caracteres **e** y **l** (porque son los caracteres que ocupan las posiciones 14 y 17 respectivamente), de la sexta línea la palabra **examen** (porque es la palabra que ocupa la posición 3), y de las líneas 2 y 5 seleccionamos dos espacios (porque son los caracteres que ocupan las posiciones 6 y 19 respectivamente). Uniendo todo, resulta el mensaje secreto: \"comienza el examen\""
   ]
  },
  {
   "cell_type": "markdown",
   "metadata": {},
   "source": [
    "### Ejercicio 10.1:\n",
    "\n",
    "Implementa una función LeerLineas(filename) que reciba el nombre del fichero y devuelva una lista con las líneas del fichero csv."
   ]
  },
  {
   "cell_type": "code",
   "execution_count": 5,
   "metadata": {},
   "outputs": [],
   "source": [
    "def LeeLineas(filename):\n",
    "    \n",
    "    return lista"
   ]
  },
  {
   "cell_type": "markdown",
   "metadata": {},
   "source": [
    "### **Solución 10.1:**"
   ]
  },
  {
   "cell_type": "code",
   "execution_count": null,
   "metadata": {},
   "outputs": [],
   "source": []
  },
  {
   "cell_type": "markdown",
   "metadata": {},
   "source": [
    "### Ejercicio 10.2:\n",
    "Implementa una función **TrataLinea(linea)** que recibe una cadena de caracteres que se corresponde a una línea completa del fichero csv y devuelve otra cadena que se corresponde con el trozo del mensaje secreto que se extrae de esa línea. El siguiente ejemplo extrae la palabra *examen* puesto que es la palabra que ocupa la posición 3:\n",
    "\n",
    "<div style=\"border: 2px solid #a1a1a1; padding: 10px; border-radius: 10px; background-color: #f4f4f4;\">\n",
    "\n",
    "```python\n",
    "msg=TrataLinea(\"Hoy tengo el examen de conducir;2;3\")\n",
    "print(msg)\n",
    "```\n",
    "examen\n",
    "</div>\n",
    "\n",
    "**NOTA:** Si no has resuleto el ejercicio 1 puedes crearte la lista de líneas manualmente"
   ]
  },
  {
   "cell_type": "code",
   "execution_count": 6,
   "metadata": {},
   "outputs": [],
   "source": [
    "def TrataLinea(linea):\n",
    " \n",
    "    return trozofrase"
   ]
  },
  {
   "cell_type": "markdown",
   "metadata": {},
   "source": [
    "### **Solución 10.2:**"
   ]
  },
  {
   "cell_type": "code",
   "execution_count": null,
   "metadata": {},
   "outputs": [],
   "source": []
  },
  {
   "cell_type": "markdown",
   "metadata": {},
   "source": [
    "### Ejercicio 10.3:\n",
    "Implementa el programa principal que decodifica el mensaje secreto. El programa principal debe invocar a las funciones **LeeLineas(filename)** y **TrataLinea(linea)** para terminar imprimiendo el mensaje secreto reconstruido a partir de las líneas del CSV. \n",
    "\n",
    "**NOTA:** Si no has resuelto los ejericios 1 y 2, puedes dejar indicadas las llamadas a las funciones."
   ]
  },
  {
   "cell_type": "code",
   "execution_count": null,
   "metadata": {},
   "outputs": [],
   "source": [
    "def main():\n",
    "    \n",
    "    \n",
    "    return"
   ]
  },
  {
   "cell_type": "markdown",
   "metadata": {},
   "source": [
    "### **Solución 10.3:**"
   ]
  },
  {
   "cell_type": "code",
   "execution_count": null,
   "metadata": {},
   "outputs": [],
   "source": []
  }
 ],
 "metadata": {
  "interpreter": {
   "hash": "d652f12e86d4907f3226fd0eca720165fd18d0c760b9e442a689f9a4e2e2c276"
  },
  "kernelspec": {
   "display_name": "Python 3",
   "language": "python",
   "name": "python3"
  },
  "language_info": {
   "codemirror_mode": {
    "name": "ipython",
    "version": 3
   },
   "file_extension": ".py",
   "mimetype": "text/x-python",
   "name": "python",
   "nbconvert_exporter": "python",
   "pygments_lexer": "ipython3",
   "version": "3.8.8"
  }
 },
 "nbformat": 4,
 "nbformat_minor": 4
}

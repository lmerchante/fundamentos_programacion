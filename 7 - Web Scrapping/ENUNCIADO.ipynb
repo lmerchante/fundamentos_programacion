{
 "cells": [
  {
   "cell_type": "markdown",
   "metadata": {},
   "source": [
    "# TEMA 7 - WEB SCRAPPING"
   ]
  },
  {
   "cell_type": "markdown",
   "metadata": {},
   "source": [
    "Para estos ejercicios necesitarás, entre otras, las librerías beautifulsoup4 y requests.\n",
    "Para instalarlas ejecuta en una celda del jupyter:\n",
    "    \n",
    "    !pip install requests\n",
    "    !pip install beautifulsoup4"
   ]
  },
  {
   "cell_type": "markdown",
   "metadata": {},
   "source": [
    "## Ejercicio 1\n",
    "\n",
    "### Antes de empezar con el web scrapping es conveniente recordar la gestión de errores. \n",
    "\n",
    "Es por ello necesario que en este primer programa se implemente el código necesario para verificar si una página existe o no. Capturaremos los errores HTTP y URL y en caso de que no de ninguno pintaremos el html de la página. Ejecutaremos el código frente a:\n",
    "\n",
    "- [https://www.elmundo.es](https://www.elmundo.es)\n",
    "- [https://gmail.com/fichero.asp](https://gmail.com/fichero.asp)\n",
    "- [https://www.meloinvento123.es](https://www.meloinvento123.es)\n"
   ]
  },
  {
   "cell_type": "markdown",
   "metadata": {},
   "source": [
    "### **Solución:**"
   ]
  },
  {
   "cell_type": "code",
   "execution_count": null,
   "metadata": {},
   "outputs": [],
   "source": []
  },
  {
   "cell_type": "markdown",
   "metadata": {},
   "source": [
    "### Ejercicio 2:\n",
    "\n",
    "### Escribe el código necesario para descargar y mostrar el contenido del fichero robot.txt de la web https://www.elmundo.es"
   ]
  },
  {
   "cell_type": "markdown",
   "metadata": {},
   "source": [
    "### **Solución:**"
   ]
  },
  {
   "cell_type": "code",
   "execution_count": null,
   "metadata": {},
   "outputs": [],
   "source": []
  },
  {
   "cell_type": "markdown",
   "metadata": {},
   "source": [
    "## Ejercicio 3:\n",
    "\n",
    "### Escribe el código necesario para obtener todas las url de imágenes disponibles en la web [https://es.wikipedia.org/wiki/Nueva_York_(estado)](https://es.wikipedia.org/wiki/Nueva_York_(estado))"
   ]
  },
  {
   "cell_type": "markdown",
   "metadata": {},
   "source": [
    "### **Solución:**"
   ]
  },
  {
   "cell_type": "code",
   "execution_count": null,
   "metadata": {},
   "outputs": [],
   "source": []
  },
  {
   "cell_type": "markdown",
   "metadata": {},
   "source": [
    "## Ejercicio 4:\n",
    "\n",
    "### Escribe el código necesario para listar todos los ficheros .zip que contienen los viajes del servicio de préstamo de bicicletas en la ciudad de Nueva York: [https://s3.amazonaws.com/tripdata/](https://s3.amazonaws.com/tripdata/)"
   ]
  },
  {
   "cell_type": "markdown",
   "metadata": {},
   "source": [
    "### **Solución:**"
   ]
  },
  {
   "cell_type": "code",
   "execution_count": null,
   "metadata": {},
   "outputs": [],
   "source": []
  }
 ],
 "metadata": {
  "interpreter": {
   "hash": "31f2aee4e71d21fbe5cf8b01ff0e069b9275f58929596ceb00d14d90e3e16cd6"
  },
  "kernelspec": {
   "display_name": "Python 3",
   "language": "python",
   "name": "python3"
  },
  "language_info": {
   "codemirror_mode": {
    "name": "ipython",
    "version": 3
   },
   "file_extension": ".py",
   "mimetype": "text/x-python",
   "name": "python",
   "nbconvert_exporter": "python",
   "pygments_lexer": "ipython3",
   "version": "3.8.8"
  }
 },
 "nbformat": 4,
 "nbformat_minor": 2
}

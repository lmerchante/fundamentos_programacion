{
 "cells": [
  {
   "cell_type": "markdown",
   "metadata": {},
   "source": [
    "# **TEMA 3: Conditionals**"
   ]
  },
  {
   "cell_type": "markdown",
   "metadata": {},
   "source": [
    "## Ejercicio 1:\n",
    "### Para calcular el salario semanal de un trabajador es necesario conocer el número de horas trabajadas y el precio al que se paga cada hora de trabajo. \n",
    "\n",
    "Si se pasan de 40 horas semanales, las horas extraordinarias se pagan a 1.5 veces la hora ordinaria. Escribir el código del programa que calcula el salario mensual de un trabajador y lo muestra por pantalla.\n",
    "\n",
    "    Introduzca el número de horas trabajadas durante la semana: 56\n",
    "    Introduzca el precio al que se pagará la hora: 10.5\n",
    "    \n",
    "    Horas trabajadas: 56.00\n",
    "    Horas extraordinarias: 16.00\n",
    "    Precio hora: 10.50\n",
    "    Salario: 444.00"
   ]
  },
  {
   "cell_type": "markdown",
   "metadata": {},
   "source": [
    "### **Solución:** "
   ]
  },
  {
   "cell_type": "code",
   "execution_count": null,
   "metadata": {},
   "outputs": [],
   "source": [
    "num=float(input(\"Introduzca el número de horas trabajadas durante la semana: \"))\n",
    "precio=float(input(\"Introduzca el precio al que se pagará la hora: \"))\n",
    "horas_ext=0\n",
    "if (num<=40):\n",
    "    total=num*precio\n",
    "else:\n",
    "    horas_ext=num-40\n",
    "    total=40*precio+1.5*precio*horas_ext\n",
    "print(\"Horas trabajadas: {0:.2f}\\nHoras extraordinarias: {1:.2f}\\nPrecio hora: {2:.2f}\\nSalario: {3:.2f}\".\\\n",
    "      format(num, horas_ext, precio, total ))"
   ]
  },
  {
   "cell_type": "markdown",
   "metadata": {},
   "source": [
    "## Ejercicio 2:\n",
    "### Escribir un programa que solicite el precio de una colonia y el sexo (h/m) del cliente y realice un 25% de descuento si el sexo del cliente es hombre.\n",
    "\n",
    "    Introduzca sexo (h/m): h\n",
    "    Introduzca pvp: 123.568\n",
    "    \n",
    "    Precio: 123.57\n",
    "    Sexo: h\n",
    "    Descuento: 30.89\n",
    "    Precio final: 92.68 "
   ]
  },
  {
   "cell_type": "markdown",
   "metadata": {},
   "source": [
    "### **Solución:** "
   ]
  },
  {
   "cell_type": "code",
   "execution_count": null,
   "metadata": {},
   "outputs": [],
   "source": [
    "sexo=input('Introduzca sexo (h/m): ')\n",
    "pvp=float(input('Introduzca pvp: '))\n",
    "dto=0\n",
    "if (sexo=='h'):\n",
    "    dto=pvp*0.25\n",
    "\n",
    "print(\"Precio: {0:.2f}\\nSexo: {1:s}\\nDescuento: {2:.2f}\\nPrecio final: {3:.2f} \".format(pvp, sexo, dto,pvp-dto))"
   ]
  },
  {
   "cell_type": "markdown",
   "metadata": {},
   "source": [
    "## Ejercicio 3:\n",
    "### Escribir un programa que solicite el precio de una colonia y el sexo (h/m) del cliente y realice un 25% de descuento si el sexo del cliente es hombre y 50% si es mujer.\n",
    "\n",
    "    Introduzca sexo (h/m): m\n",
    "    Introduzca pvp: 158.365\n",
    "    \n",
    "    Precio: 158.37 \n",
    "    Sexo: m \n",
    "    Descuento: 79.18 \n",
    "    Precio final: 79.18 "
   ]
  },
  {
   "cell_type": "markdown",
   "metadata": {},
   "source": [
    "### **Solución:** "
   ]
  },
  {
   "cell_type": "code",
   "execution_count": null,
   "metadata": {},
   "outputs": [],
   "source": [
    "sexo=input('Introduzca sexo (h/m): ')\n",
    "pvp=float(input('Introduzca pvp: '))\n",
    "dto=0\n",
    "if (sexo=='h'):\n",
    "    dto=pvp*0.25\n",
    "else:\n",
    "    dto=pvp*0.50\n",
    "\n",
    "print(\"Precio: {0:.2f}\\nSexo: {1:s}\\nDescuento: {2:.2f}\\nPrecio final: {3:.2f} \".format(pvp, sexo, dto,pvp-dto))\n"
   ]
  },
  {
   "cell_type": "markdown",
   "metadata": {},
   "source": [
    "## Ejercicio 4:\n",
    "### Programa que solicite el precio de una colonia, la edad  y el sexo (h/m) del cliente y realice un 25% de descuento si el sexo del cliente es hombre y 50% si es mujer y tiene una edad entre 18 y 25 años.\n",
    "\n",
    "    Introduzca sexo (h/m): m \n",
    "    Intro edad: 16 \n",
    "    Introduzca pvp: 123.789 \n",
    "    \n",
    "    Precio: 123.79 \n",
    "    Sexo: m \n",
    "    Edad: 16 \n",
    "    Descuento: 0.00 \n",
    "    Precio final: 123.79"
   ]
  },
  {
   "cell_type": "markdown",
   "metadata": {},
   "source": [
    "### **Solución:** "
   ]
  },
  {
   "cell_type": "code",
   "execution_count": null,
   "metadata": {},
   "outputs": [],
   "source": [
    "sexo=input(\"Introduzca sexo (h/m): \")\n",
    "edad=int(input(\"Intro edad: \"))\n",
    "pvp=float(input(\"Introduzca pvp: \"))\n",
    "dto=0\n",
    "if (sexo=='h'):\n",
    "    dto==pvp*0.75\n",
    "    print(\"Tiene un descuento de: \", pvp*0.75)\n",
    "else:\n",
    "    if (sexo=='m' and edad>=18 and edad<=25):\n",
    "        dto=dto*0.50\n",
    "print(\"Precio: {0:.2f}\\nSexo: {1:s}\\nEdad: {2:2d}\\nDescuento: {3:.2f}\\nPrecio final: {4:.2f} \".format(pvp, sexo, edad, dto,pvp-dto))"
   ]
  },
  {
   "cell_type": "markdown",
   "metadata": {},
   "source": [
    "## Ejercicio 5:\n",
    "\n",
    "### Escribir un programa que pida el número de día de la semana que es (1-7) y muestre el dia que corresponde lunes-domingo.\n",
    "\n",
    "Si se introduce un número o caracter invalido, el programa debe advertir que es un input incorrecto.\n",
    "\n",
    "    Introduzca dia de la semana: 2 \n",
    "    Martes "
   ]
  },
  {
   "cell_type": "markdown",
   "metadata": {},
   "source": [
    "### **Solución:** "
   ]
  },
  {
   "cell_type": "code",
   "execution_count": null,
   "metadata": {},
   "outputs": [],
   "source": [
    "#if anidados\n",
    "#Introduzca dia de la semana e imprima lunes, martes, etc\n",
    "dia=int(input(\"Introduzca dia de la semana: \"))\n",
    "if (dia==1):\n",
    "    print(\"Lunes\")\n",
    "elif (dia==2):\n",
    "    print(\"Martes\")\n",
    "elif (dia==3):\n",
    "    print(\"Miércoles\")\n",
    "elif (dia==4):\n",
    "    print(\"Jueves\")\n",
    "elif (dia==5):\n",
    "    print(\"Viernes\")\n",
    "elif (dia==6):\n",
    "    print(\"Sabado\")\n",
    "elif (dia==7):\n",
    "    print(\"Domingo\")\n",
    "else:\n",
    "    print(\"Dia incorrecto\")"
   ]
  },
  {
   "cell_type": "markdown",
   "metadata": {},
   "source": [
    "## Ejercicio 6:\n",
    "### Escribir un programa que muestre un menú para calcular áreas de figuras geométricas.\n",
    "\n",
    "El menú debe proporcionar la posibilidad de calcular el área de un circulo, de un rectángulo o de un cuadrado. Dependiendo de la opción seleccionada, el programa deberá pedir argumentos adicionales (base, altura, radio,...). El código deberá mostrar un error si la opción seleccionada no es válida.\n",
    "\n",
    "    Menu\n",
    "    ===============\n",
    "    1.- Área del circulo \n",
    "    2.- Área del rectángulo \n",
    "    3.- Área del triángulo \n",
    "    Introduzca opcion: 3 \n",
    "\n",
    "    Introduzca la base: 5 \n",
    "    Introduzca la altura: 3 \n",
    "    Área. 7.50 \n",
    "\n",
    "\n",
    "\n",
    "    Menu:\n",
    "    ============= \n",
    "    1.- Área del circulo \n",
    "    2.- Área del rectángulo \n",
    "    3.- Área del triángulo \n",
    "    Introduzca opcion: 4 \n",
    "    \n",
    "    Opción incorrecta "
   ]
  },
  {
   "cell_type": "markdown",
   "metadata": {},
   "source": [
    "### **Solución:** "
   ]
  },
  {
   "cell_type": "code",
   "execution_count": null,
   "metadata": {},
   "outputs": [],
   "source": [
    "import math\n",
    "\n",
    "print(\"Menu\")\n",
    "print(\"====\")\n",
    "print(\"1.- Área del círculo\")\n",
    "print(\"2.- Área del rectángulo\")\n",
    "print(\"3.- Área del triángulo\")\n",
    "opc=int(input(\"Introduzca opcion: \"))\n",
    "if(opc==1):\n",
    "    radio=float(input(\"Introduzca el radio: \"))\n",
    "    area=math.pi*radio*radio\n",
    "elif(opc==2):\n",
    "    lado1=float(input(\"Introduzca lado1: \"))\n",
    "    lado2=float(input(\"Introduzca lado2: \"))\n",
    "    area=lado1*lado2\n",
    "elif(opc==3):\n",
    "    base=float(input(\"Introduzca la base: \"))\n",
    "    altura=float(input(\"Introduzca la altura: \"))\n",
    "    area=base*altura/2\n",
    "else:\n",
    "    print(\"Opción incorrecta\")\n",
    "    \n",
    "if(opc==1 or opc==3 or opc==3):\n",
    "    print(\"Area= {0:.2f}\".format(area))"
   ]
  },
  {
   "cell_type": "markdown",
   "metadata": {},
   "source": [
    "## Ejercicio 7:\n",
    "\n",
    "### Escribir un programa que pida los coeficientes a, b, y c de una ecuación de segundo grado $ ax^2+bx+c=0 $\n",
    "\n",
    "El código de calcular y mostrar como salida las raíces de la ecuación. Notar que es necesario distinguir entre los siguientes casos:\n",
    "\n",
    "-  Solución degenerada (a = 0, b = 0).\n",
    "-  Solución lineal (a = 0).\n",
    "-  Solución doble (discriminante = 0).\n",
    "-  Dos raíces (discriminante > 0).\n",
    "-  Raíces complejas (discriminante < 0).\n",
    "\n",
    "\n",
    "    Introduzca coeficiente de a: 0 \n",
    "    Introduzca coeficiente de b: 0 \n",
    "    Introduzca coeficiente de c: 3 \n",
    "    Solución DEGENARA\n",
    "    \n",
    "    Introduzca coeficiente de a: 0 \n",
    "    Introduzca coeficiente de b: 3 \n",
    "    Introduzca coeficiente de c: 4 \n",
    "    No es una ecuacion de segundo grado, solución LINEAL \n",
    "\n",
    "    Introduzca coeficiente de a: 1 \n",
    "    Introduzca coeficiente de b: 5 \n",
    "    Introduzca coeficiente de c: 2 \n",
    "    Solucion 1: -0.44 \n",
    "    Solucion 2: -4.56 "
   ]
  },
  {
   "cell_type": "markdown",
   "metadata": {},
   "source": [
    "### **Solución:** "
   ]
  },
  {
   "cell_type": "code",
   "execution_count": null,
   "metadata": {},
   "outputs": [],
   "source": [
    "import math\n",
    "\n",
    "a=float(input(\"Introduzca coeficiente de a: \"))\n",
    "b=float(input(\"Introduzca coeficiente de b: \"))\n",
    "c=float(input(\"Introduzca coeficiente de c: \"))\n",
    "\n",
    "if (a==0 and b==0):\n",
    "    print(\"Solución DEGENARA\")\n",
    "else:\n",
    "    if(a==0):\n",
    "         print(\"No es una ecuacion de segundo grado, solución LINEAL\");\n",
    "    else:\n",
    "        d=b*b-4*a*c\n",
    "        if (d==0):\n",
    "            x1=-b/(2*a)\n",
    "            x2=x1\n",
    "            print(\"Solucion 1: {0:.2f}\\nSolucion 2: {1:.2f}\".format(x1,x2))\n",
    "        else:\n",
    "            if (d>0):\n",
    "                x1=(-b+math.sqrt(d))/(2*a)\n",
    "                x2=(-b-math.sqrt(d))/(2*a)\n",
    "                print(\"Solucion 1: {0:.2f}\\nSolucion 2: {1:.2f}\".format(x1,x2))\n",
    "            else:\n",
    "                r=-b/(2*a)\n",
    "                i=math.sqrt(-d)/(2*a)\n",
    "                print(\"Solucion 1: {0:.2f}+{1:.2f}i\\nSolucion 2: {0:.2f}-{1:.2f}i\\n\".format(r,i))\n"
   ]
  },
  {
   "cell_type": "markdown",
   "metadata": {},
   "source": [
    "## Ejercicio 8:\n",
    "### Escribir un programa que solicite una hora en formato hh, mm y ss.\n",
    "\n",
    "El código debe almacenar los valores en tres variables correspondientes a las horas, minutos y segundos. El programa deberá mostrar la hora que será dentro de un segundo. \n",
    "\n",
    "    Introduzca hora: 12 \n",
    "    Introduzca minutos: 5 \n",
    "    Introduzca segundos: 6 \n",
    "    Hora introducida:12:05:06 \n",
    "    Hora + 1 segundo:12:05:07\n",
    "\n",
    "    Introduzca hora: 2 \n",
    "    Introduzca minutos: 34 \n",
    "    Introduzca segundos: 59 \n",
    "    Hora introducida:02:34:59 \n",
    "    Hora + 1 segundo:02:35:00\n",
    "\n",
    "    Introduzca hora: 13 \n",
    "    Introduzca minutos: 59 \n",
    "    Introduzca segundos: 59 \n",
    "    Hora introducida:13:59:59 \n",
    "    Hora + 1 segundo:14:00:00\n",
    "\n",
    "    Introduzca hora: 23 \n",
    "    Introduzca minutos: 59 \n",
    "    Introduzca segundos: 59 \n",
    "    Hora introducida:23:59:59 \n",
    "    Hora + 1 segundo:00:00:00 \n",
    "    \n",
    "**HACERLO CON DOS VERSIONES**. Una primera implementando detectando todos los casos complicados mediante condicionales y una segunda utilizando la librería de python **datetime**"
   ]
  },
  {
   "cell_type": "markdown",
   "metadata": {},
   "source": [
    "### **Solución 1:** "
   ]
  },
  {
   "cell_type": "code",
   "execution_count": null,
   "metadata": {},
   "outputs": [],
   "source": [
    "hh=int(input(\"Introduzca hora: \"))\n",
    "mm=int(input(\"Introduzca minutos: \"))\n",
    "ss=int(input(\"Introduzca segundos: \"))\n",
    "print(\"Hora introducida:{0:02d}:{1:02d}:{2:02d}\".format(hh,mm,ss))\n",
    "ss=ss+1\n",
    "if (ss==60):\n",
    "    ss=0\n",
    "    mm=mm+1\n",
    "    if(mm==60):\n",
    "        mm=0\n",
    "        hh=hh+1\n",
    "        if(hh==24):\n",
    "            hh=0\n",
    "print(\"Hora + 1 segundo:{0:02d}:{1:02d}:{2:02d}\".format(hh,mm,ss))"
   ]
  },
  {
   "cell_type": "markdown",
   "metadata": {},
   "source": [
    "### **Solución 2:**  "
   ]
  },
  {
   "cell_type": "code",
   "execution_count": null,
   "metadata": {},
   "outputs": [],
   "source": [
    "import datetime\n",
    "\n",
    "hh=int(input(\"Introduzca hora: \"))\n",
    "mm=int(input(\"Introduzca minutos: \"))\n",
    "ss=int(input(\"Introduzca segundos: \"))\n",
    "date = str(hh) + ':' + str(mm) + ':' + str(ss)\n",
    "conversion_datetime = datetime.datetime.strptime(date, \"%H:%M:%S\")\n",
    "print(\"Hora introducida:{0:02d}:{1:02d}:{2:02d}\".format(conversion_datetime.hour,conversion_datetime.minute,conversion_datetime.second))\n",
    "\n",
    "hours_added = datetime.timedelta(seconds = 1) # este es el intervalo de tiempo que vamos a sumarle a nuestro resultado\n",
    "suma = conversion_datetime + hours_added\n",
    "print(\"Hora introducida:{0:02d}:{1:02d}:{2:02d}\".format(suma.hour,suma.minute,suma.second))"
   ]
  },
  {
   "cell_type": "markdown",
   "metadata": {},
   "source": [
    "## Ejercicio 9:\n",
    "\n",
    "### 9.1 Escribir un programa que solicite un año y decida si es bisiesto. \n",
    "\n",
    "Un año es bisiesto si cumple las siguientes condiciones simultáneamente:\n",
    "\n",
    "* es divisible por 4 pero no por 100\n",
    "* sí es divisible por 400"
   ]
  },
  {
   "cell_type": "markdown",
   "metadata": {},
   "source": [
    "### **Solución:** "
   ]
  },
  {
   "cell_type": "code",
   "execution_count": null,
   "metadata": {},
   "outputs": [],
   "source": [
    "aa=int(input(\"Introduzca un año: \"))\n",
    "if( (aa%4==0 and aa%100!=0) or aa%400==0):\n",
    "    print(\"El año es bisiesto\")\n",
    "else:\n",
    "    print(\"El año NO es bisiesto\")"
   ]
  },
  {
   "cell_type": "markdown",
   "metadata": {},
   "source": [
    "### 9.2  Escribir un programa que solicite un dia, un mes y un año.\n",
    "\n",
    "Si se introduce una fecha inválida como por ejemplo un 29 de febrero de un año no bisiesto, el código debe imprimir un error. Si la fecha es correcta, el código debe imprimir la fecha del día posterior al introducido.\n",
    "\n",
    "    Introduzca dia: 28 \n",
    "    Introduzca mes: 2 \n",
    "    Introduzca año: 2000 \n",
    "    La fecha del dia siguiente es: 29 ,  2 , 2000\n",
    "    \n",
    "    Introduzca dia: 29 \n",
    "    Introduzca mes: 2 \n",
    "    Introduzca año: 2001 \n",
    "    Error, la fecha introducida no es correcta"
   ]
  },
  {
   "cell_type": "markdown",
   "metadata": {},
   "source": [
    "### **Solución:** "
   ]
  },
  {
   "cell_type": "code",
   "execution_count": null,
   "metadata": {},
   "outputs": [],
   "source": [
    "dia=int(input(\"Introduzca dia: \"))\n",
    "mes=int(input(\"Introduzca mes: \"))\n",
    "año=int(input(\"Introduzca año: \"))\n",
    "sw_fecha_inc=0\n",
    "\n",
    "if(mes==1 or mes==3 or mes==5 or mes==7 or mes==8 or mes==10 or mes==12):\n",
    "    if (dia<1 or dia>31):\n",
    "        print(\"Error, la fecha introducida no es correcta\\n\")\n",
    "        sw_fecha_inc=1\n",
    "    else:\n",
    "        dia=dia+1\n",
    "        if(dia==32):\n",
    "            dia=1 \n",
    "            mes=mes+1 \n",
    "            if (mes==13 ):\n",
    "                mes=1\n",
    "                año=año+1\n",
    "                \n",
    "elif(mes==4 or mes==6 or mes==9 or mes==11):\n",
    "    if (dia<1 or dia>30):\n",
    "        print(\"Error, la fecha introducida no es correcta\\n\")\n",
    "        sw_fecha_inc=1\n",
    "    else:\n",
    "        dia=dia+1\n",
    "        if (dia==31):\n",
    "            dia = 1\n",
    "            mes=mes+1\n",
    "            \n",
    "elif(mes==2):\n",
    "    if ((año%4==0 and año%100!=0) or (año%400==0)):\n",
    "        if (dia<1 or dia>29):\n",
    "            print(\"Error, la fecha introducida no es correcta\\n\")\n",
    "            sw_fecha_inc=1\n",
    "        else:\n",
    "            dia=dia+1\n",
    "            if(dia==30):\n",
    "                dia=1\n",
    "                mes=mes+1\n",
    "    else:\n",
    "        if(dia<1 or dia > 28):\n",
    "            print(\"Error, la fecha introducida no es correcta\\n\")\n",
    "            sw_fecha_inc=1\n",
    "        else:\n",
    "            dia=dia+1\n",
    "            if (dia==29):\n",
    "               dia=1\n",
    "               mes=mes+1\n",
    "else:\n",
    "    printf(\"Error, la fecha introducida no es correcta\\n\")\n",
    "    sw_fecha_inc=1                           \n",
    "if(sw_fecha_inc==0):\n",
    "    print(\"\\nLa fecha del dia siguiente es: {0:2d} , {1:2d} , {2:2d}\\n\".format(dia, mes, año))\n"
   ]
  },
  {
   "cell_type": "markdown",
   "metadata": {},
   "source": [
    "## Ejercicio 10:\n",
    "### Escribir un programa que pida una letra y la convierta de minúscula a mayúscula o de mayúscula a minúscula. \n",
    "Si el carácter introducido no es una letra, hay que indicar si es un número o un espacio en blanco."
   ]
  },
  {
   "cell_type": "markdown",
   "metadata": {},
   "source": [
    "### **Solución:** "
   ]
  },
  {
   "cell_type": "code",
   "execution_count": null,
   "metadata": {},
   "outputs": [],
   "source": [
    "letra=input(\"Introduzca una letra: \")\n",
    "if (letra.isalpha()):\n",
    "    if(letra.isupper()):\n",
    "        print(letra.lower())\n",
    "    else:\n",
    "        print(letra.upper())        \n",
    "elif(letra.isdigit()):\n",
    "    print(\"Ha introducido un número\")\n",
    "elif (letra.isspace()):\n",
    "    print(\"Ha introducido un espacio en blanco\")   "
   ]
  },
  {
   "cell_type": "markdown",
   "metadata": {},
   "source": [
    "## Ejercicio 11:\n",
    "\n",
    "### Escribir un programa que pida tres valores enteros y los muestre por pantalla en orden decreciente.\n",
    "\n",
    "    Introduzca numerol: 3 \n",
    "    Introduzca numero2: 6 \n",
    "    Introduzca numero3: 1 \n",
    "    6.00>3.00>1.00 \n"
   ]
  },
  {
   "cell_type": "markdown",
   "metadata": {},
   "source": [
    "### **Solución:** "
   ]
  },
  {
   "cell_type": "code",
   "execution_count": null,
   "metadata": {},
   "outputs": [],
   "source": [
    "n1=float(input(\"Introduzca numero1: \"))\n",
    "n2=float(input(\"Introduzca numero2: \"))\n",
    "n3=float(input(\"Introduzca numero3: \"))\n",
    "mayor=max(n1, n2, n3)\n",
    "menor=min(n1, n2, n3)\n",
    "medio=n1+n2+n3-mayor-menor\n",
    "print(\"{0:.2f}>{1:.2f}>{2:.2f}\".format(mayor, medio, menor))"
   ]
  },
  {
   "cell_type": "markdown",
   "metadata": {},
   "source": [
    "## Ejercicio 12:\n",
    "\n",
    "### Escribir un programa completo que realice las siguientes operaciones:\n",
    "\n",
    "- Pedir al usuario el valor de x \n",
    "- Si x > 0 calcular  $y=\\frac{1}{2}\\sqrt{3x^2+5x}$ y si x <0 calcular  $y=\\frac{1}{2}(3x^2+5x)$\n",
    "- Mostrar los valores finales de x e y"
   ]
  },
  {
   "cell_type": "markdown",
   "metadata": {},
   "source": [
    "### **Solución:** "
   ]
  },
  {
   "cell_type": "code",
   "execution_count": null,
   "metadata": {},
   "outputs": [],
   "source": [
    "import math\n",
    "x=float(input(\"Introduzca el valor de x: \"))\n",
    "if(x>=0):\n",
    "    y=1/2*math.sqrt(3*x*x+5*x)\n",
    "else:\n",
    "    y=1/2*(3*x*x+5*x)\n",
    "print(\"x={0:.2f}\".format(x))\n",
    "print(\"y={0:.2f}\".format(y))"
   ]
  },
  {
   "cell_type": "markdown",
   "metadata": {},
   "source": [
    "## Ejercicio 13:\n",
    "\n",
    "### Escribir un programa que pida una nota de un alumno (número real) y escriba las calificaciones correspondientes de acuerdo con el siguiente criterio:\n",
    "\n",
    "- Suspenso:  de 0 a < 5.0 \t\n",
    "- Aprobado:  de 5 a <7.0 \t               \n",
    "- Notable:   de 7.0 a <9.0 \t\n",
    "- Sobresaliente: de 9.0 a <10 \t\n",
    "- MH: 10\n",
    "\n",
    "Si la nota es negativa o mayor que 10 se debe mostrar un mensaje de error."
   ]
  },
  {
   "cell_type": "markdown",
   "metadata": {},
   "source": [
    "### **Solución:** "
   ]
  },
  {
   "cell_type": "code",
   "execution_count": null,
   "metadata": {},
   "outputs": [],
   "source": [
    "nota=float(input(\"Indique la nota a convertir: \"))\n",
    "if(nota>=0 and nota<5):\n",
    "    print(\"Suspenso\\n\")\n",
    "elif(nota>=5 and nota<7):\n",
    "    print(\"Aprobado\\n\")\n",
    "elif(nota>=7 and nota<9):\n",
    "    print(\"Notable\\n\")\n",
    "elif(nota>=9 and nota<10):\n",
    "    print(\"Sobresaliente\\n\")\n",
    "elif(nota==10):\n",
    "    printf(\"Matricula de Honor\\n\")\n",
    "else:\n",
    "    print(\"Nota incorrecta\\n\")"
   ]
  },
  {
   "cell_type": "markdown",
   "metadata": {},
   "source": [
    "## Ejercicio 14:\n",
    "\n",
    "### Se va a realizar un programa para el cálculo de la resistencia equivalente de dos resistencias conectadas en serie o en paralelo. \n",
    "\n",
    "Para el valor R1 de la resistencia 1 y el valor R2 de la resistencia 2, el cálculo de la resistencia equivalente sería:\n",
    "\n",
    "- En serie :\tReq_Serie = R1 + R2\n",
    "- En paralelo: \tReq_Paralelo = (R1 * R2) / (R1 + R2)\n",
    "\n",
    "El programa además de solicitar el valor de la resistencia, pedirá que se introduzca una s o una p dependiendo del tipo de acoplamiento."
   ]
  },
  {
   "cell_type": "markdown",
   "metadata": {},
   "source": [
    "### **Solución:** "
   ]
  },
  {
   "cell_type": "code",
   "execution_count": null,
   "metadata": {},
   "outputs": [],
   "source": [
    "r1=float(input(\"Introduzca el valor de la resistencia r1: \")) \n",
    "r2=float(input(\"Introduzca el valor de la resistencia r2: \")) \n",
    "opc=input(\"Introduzca p o s dependiendo del tipo de conexión: \")\n",
    "if(opc=='p'):\n",
    "    res_eq=(r1*r2)/(r1+r2)\n",
    "else:\n",
    "    res_eq=r1+r2\n",
    "print(\"\\nLa resistecia equivalente a las resistencias concectadas  es {0:.2f}\".format(res_eq))\n"
   ]
  },
  {
   "cell_type": "markdown",
   "metadata": {},
   "source": [
    "## Ejercicio 15:\n",
    "\n",
    "### Los alumnos de un curso se han dividido en dos grupos A y B de acuerdo al sexo y el nombre. \n",
    "\n",
    "El grupo A está formado por las mujeres con un nombre anterior a la M y los hombres con un nombre posterior a la N y el grupo B por el resto. Escribir un programa que pregunte al usuario su nombre y sexo, y muestre por pantalla el grupo que le corresponde"
   ]
  },
  {
   "cell_type": "markdown",
   "metadata": {},
   "source": [
    "### **Solución:** "
   ]
  },
  {
   "cell_type": "code",
   "execution_count": null,
   "metadata": {},
   "outputs": [],
   "source": [
    "nombre = input(\"Introduzca nombre: \")\n",
    "sexo = input(\"Introduzca H/M: \")\n",
    "if (sexo == \"M\" and nombre.lower() < 'm') or (sexo == \"H\" and nombre.lower() > 'n'):\n",
    "    grupo = \"A\"\n",
    "else:\n",
    "    grupo = \"B\"\n",
    "print(\"Tu grupo es \" + grupo)"
   ]
  },
  {
   "cell_type": "markdown",
   "metadata": {},
   "source": [
    "## Ejercicio 16:\n",
    "\n",
    "### Escribir un programa que pregunte al usuario su renta anual y muestre por pantalla el tipo impositivo que le corresponde.\n",
    "\n",
    "Los tramos impositivos para la declaración de la renta en un determinado país son los siguientes:\n",
    "\n",
    "|     Renta en euros     | Tipo inpositivo |\n",
    "|:----------------------:|:---------------:|\n",
    "| < 10 000               | 5%              |\n",
    "| entre 10 000 y 20 0000 | 15%             |\n",
    "| entre 20 000 y 35 0000 | 20%             |\n",
    "| entre 35 000 y 60 0000 | 30%             |\n",
    "| Más de 60 000          | 45%             |"
   ]
  },
  {
   "cell_type": "markdown",
   "metadata": {},
   "source": [
    "### **Solución:** "
   ]
  },
  {
   "cell_type": "code",
   "execution_count": null,
   "metadata": {},
   "outputs": [],
   "source": [
    "renta=float(input(\"Introduzca su renta: \"))\n",
    "if renta<10000:\n",
    "    irpf=5\n",
    "elif renta<20000:\n",
    "    irpf=15\n",
    "elif renta<35000:\n",
    "    irpf=20\n",
    "elif renta<60000:\n",
    "    irpf=30\n",
    "else:\n",
    "    irpf=45\n",
    "print(\"Su IRPF es {}%\".format(irpf))\n"
   ]
  },
  {
   "cell_type": "markdown",
   "metadata": {},
   "source": [
    "## Ejercicio 17:\n",
    "\n",
    "### Para tributar un determinado impuesto se debe ser mayor de 16 años y tener unos ingresos iguales o superiores a 1000 € mensuales. \n",
    "\n",
    "Escribir un programa que pregunte al usuario su edad y sus ingresos mensuales y muestre por pantalla si el usuario tiene que tributar o no."
   ]
  },
  {
   "cell_type": "markdown",
   "metadata": {},
   "source": [
    "### **Solución:** "
   ]
  },
  {
   "cell_type": "code",
   "execution_count": null,
   "metadata": {},
   "outputs": [],
   "source": [
    "edad = int(input(\"Introduzca su edad: \"))\n",
    "ingresos = float(input(\"Introduzca ingresos mensuales: \"))\n",
    "if edad > 16 and ingresos >= 1000:\n",
    "    print(\"Tienes que cotizar\")\n",
    "else:\n",
    "    print(\"No tienes que cotizar\")\n"
   ]
  },
  {
   "cell_type": "markdown",
   "metadata": {},
   "source": [
    "## Ejercicio 18:\n",
    "\n",
    "### Calcular de forma el precio que debe cobrar un cine a sus clientes por entrar. \n",
    "\n",
    "El programa debe preguntar al usuario la edad del cliente y mostrar el precio de la entrada. Si el cliente es menor de 4 años puede entrar gratis, si tiene entre 4 y 18 años debe pagar 5€ y si es mayor de 18 años, 10€."
   ]
  },
  {
   "cell_type": "markdown",
   "metadata": {},
   "source": [
    "### **Solución:** "
   ]
  },
  {
   "cell_type": "code",
   "execution_count": null,
   "metadata": {},
   "outputs": [],
   "source": [
    "edad = int(input(\"Introduzca edad: \"))\n",
    "if edad < 4:\n",
    "    precio = 0\n",
    "elif edad <= 18:\n",
    "    precio = 4\n",
    "else:\n",
    "    precio = 10\n",
    "print(\"El precio de la entrada es {0:.2f}\".format(precio))"
   ]
  },
  {
   "cell_type": "markdown",
   "metadata": {},
   "source": [
    "## Ejercicio 19:\n",
    "\n",
    "### Escribir un programa que calcule el número de monedas que debe devolver una máquina expendedora\n",
    "\n",
    "- Nuestra máquina expendedora sólo vende productos por menos de 2 euros.\n",
    "- Por lo tanto, la cantidad máxima que el cliente puede introducir es de 2 EUR.\n",
    "- Nuestra máquina puede devolver el cambio en monedas de 1.00, 0.50, 0.20, 0.10 o 0.05 EUR\n",
    "- Observe que el algoritmo no requiere bucles, sólo condicionales\n",
    "\n",
    "**PASOS**\n",
    "\n",
    "1. Es mejor trabajar en céntimos que en euros, porque se puede utilizar int en lugar de float. Sin embargo, desde el punto de vista del usuario, todas las operaciones de entrada/salida deben utilizar euros.\n",
    "2. Pedir la cantidad introducida en la máquina y el precio del producto (no validar las entradas porque la validación requiere bucles)\n",
    "3. Calcular el cambio a devolver\n",
    "4. Calcular cuántas monedas de cada tipo deben ser devueltas.\n",
    "5. Tenga en cuenta que la única moneda que puede repetirse es la de 20 céntimos.\n",
    "6. Ejecuta el programa utilizando diferentes ejemplos\n",
    "\n",
    "        Cantidad: 2,00 Precio: 1,35 Cambio: 1x50c 1x10c 1x5\n",
    "        Importe: 1,50 Precio: 1,05 Cambio: 2x20c 1x5c"
   ]
  },
  {
   "cell_type": "markdown",
   "metadata": {},
   "source": [
    "### **Solución:** "
   ]
  },
  {
   "cell_type": "code",
   "execution_count": null,
   "metadata": {},
   "outputs": [],
   "source": [
    "#amount=float(input(\"Amount: \"))\n",
    "amount=1.5\n",
    "#price=float(input(\"Price: \"))\n",
    "price=1.05"
   ]
  },
  {
   "cell_type": "code",
   "execution_count": null,
   "metadata": {},
   "outputs": [],
   "source": [
    "amount_int=int(amount*100)\n",
    "price_int=int(price*100)\n",
    "change=amount_int-price_int\n",
    "\n",
    "coins_100=0\n",
    "coins_50=0\n",
    "coins_20=0\n",
    "coins_10=0\n",
    "coins_5=0\n",
    "\n",
    "if change>=100: \n",
    "    change-=100\n",
    "    coins_100+=1\n",
    "    \n",
    "if change>=50:\n",
    "    change-=50\n",
    "    coins_50+=1\n",
    "    \n",
    "if change>=20:\n",
    "    change-=20\n",
    "    coins_20+=1\n",
    "    \n",
    "if change>=20:\n",
    "    change-=20\n",
    "    coins_20+=1\n",
    "    \n",
    "if change>=10:\n",
    "    change-=10\n",
    "    coins_10+=1\n",
    "    \n",
    "if change>=5:\n",
    "    change-=5\n",
    "    coins_5+=1\n",
    "\n",
    "print(\"Amount:%5.2f  Price:%5.2f  Change:\"%(amount_int/100, price_int/100))\n",
    "print(\"%d coins of 1 EUR\"%coins_100)\n",
    "print(\"%d coins of 0.50 EUR\"%coins_50)\n",
    "print(\"%d coins of 0.20 EUR\"%coins_20)\n",
    "print(\"%d coins of 0.10 EUR\"%coins_10)\n",
    "print(\"%d coins of 0.05 EUR\"%coins_5)"
   ]
  },
  {
   "cell_type": "markdown",
   "metadata": {},
   "source": [
    "## Ejercicio 20:\n",
    "\n",
    "### Ejercicio corregir errores de los siguientes códigos"
   ]
  },
  {
   "cell_type": "markdown",
   "metadata": {},
   "source": [
    "### 20.1 Código"
   ]
  },
  {
   "cell_type": "code",
   "execution_count": null,
   "metadata": {},
   "outputs": [],
   "source": [
    "if abc in lower: print(\"found)"
   ]
  },
  {
   "cell_type": "markdown",
   "metadata": {},
   "source": [
    "### **Solución:** "
   ]
  },
  {
   "cell_type": "code",
   "execution_count": null,
   "metadata": {},
   "outputs": [],
   "source": [
    "if \"abc\" in lower: print(\"found\")"
   ]
  },
  {
   "cell_type": "markdown",
   "metadata": {},
   "source": [
    "### 20.2 Código\n",
    "\n",
    "Pista: Qué pasa con char=\"H\" o char=\"A\" o char=\"$\" "
   ]
  },
  {
   "cell_type": "code",
   "execution_count": null,
   "metadata": {},
   "outputs": [],
   "source": [
    "char=\"h\"\n",
    "\n",
    "vowels=\"aeiou\"\n",
    "consonants=\"bcdfghjklmnpqrstvwxyz\"\n",
    "\n",
    "if char in vowels:\n",
    "    print(\"This is a lowercase vowel\")\n",
    "elif char in consonants:\n",
    "    print(\"This is a lowercase consonant\")"
   ]
  },
  {
   "cell_type": "markdown",
   "metadata": {},
   "source": [
    "### **Solución:** "
   ]
  },
  {
   "cell_type": "code",
   "execution_count": null,
   "metadata": {},
   "outputs": [],
   "source": [
    "# ANSWER\n",
    "char=\"A\"\n",
    "\n",
    "vowels=\"aeiou\"\n",
    "consonants=\"bcdfghjklmnpqrstvwxyz\"\n",
    "\n",
    "if char in vowels:\n",
    "    print(\"This is a lowercase vowel\")\n",
    "elif char in consonants:\n",
    "    print(\"This is a lowercase consonant\")\n",
    "else:\n",
    "    print(\"This must be an upper case letter or a symbol\")\n"
   ]
  },
  {
   "cell_type": "markdown",
   "metadata": {},
   "source": [
    "### 20.3 Código"
   ]
  },
  {
   "cell_type": "code",
   "execution_count": null,
   "metadata": {},
   "outputs": [],
   "source": [
    "F=102\n",
    "if F>=100.4:\n",
    "    print(\"Fever\")\n",
    "elif F>=98.6:\n",
    "    print(\"Normal\")\n",
    "else:\n",
    "    print(\"Wrong reading\")\n",
    "    \n",
    "#Previous code is correct. Fix the following code:\n",
    "if F>98.6 and F<100.4:\n",
    "    print(\"Normal\")\n",
    "if F>100.4:\n",
    "    print(\"Fever\")\n",
    "if F<98.6:\n",
    "    print(\"Wrong reading\")"
   ]
  },
  {
   "cell_type": "markdown",
   "metadata": {},
   "source": [
    "### **Solución:** "
   ]
  },
  {
   "cell_type": "code",
   "execution_count": null,
   "metadata": {},
   "outputs": [],
   "source": [
    "#ANSWER\n",
    "F=102\n",
    "if F>=100.4:\n",
    "    print(\"Fever\")\n",
    "elif F>=98.6:\n",
    "    print(\"Normal\")\n",
    "else:\n",
    "    print(\"Wrong reading\")\n",
    "    \n",
    "#Previous code is correct. Fix the following code:\n",
    "if F>=98.6 and F<100.4:\n",
    "    print(\"Normal\")\n",
    "if F>=100.4:\n",
    "    print(\"Fever\")\n",
    "if F<98.6:\n",
    "    print(\"Wrong reading\")"
   ]
  },
  {
   "cell_type": "markdown",
   "metadata": {},
   "source": [
    "## Ejercicio 21\n",
    "\n",
    "### Euromillón\n",
    "\n",
    "El euromillón consiste en elegir 5 números no repetidos entre el 1 y el 50 y dos números adicionales llamados *estrellas de la suerte* entre el 1 y el 12, también diferentes entre sí. El premio máximo que se puede ganar es de 230.000.000€ y el coste de hacer una apuesta a los 7 números es de 2.50€.\n",
    "\n",
    "### Ejercicio 21.1\n",
    "\n",
    "Calcular las probabilidades de acertar los 7 números teniendo en cuenta que la fórmula para calcular el número de combinaciones de N números cogidos de K en K es:\n",
    "\n",
    "$$C(N,K)=\\frac{N!}{K!\\cdot(N-K)!}$$"
   ]
  },
  {
   "cell_type": "markdown",
   "metadata": {},
   "source": [
    "### **Solución:** "
   ]
  },
  {
   "cell_type": "code",
   "execution_count": 2,
   "metadata": {},
   "outputs": [
    {
     "name": "stdout",
     "output_type": "stream",
     "text": [
      "La probabilidad de acertar es de 7.1511238420185165e-09 lo que equivale a 1 entre 139838160.0\n"
     ]
    }
   ],
   "source": [
    "import math\n",
    "\n",
    "N=50\n",
    "K=5\n",
    "combinaciones_numeros=math.factorial(N)/(math.factorial(K)*math.factorial(N-K))\n",
    "prob_acierto_numeros=1/combinaciones_numeros\n",
    "\n",
    "N=12\n",
    "K=2\n",
    "combinaciones_estrellas=math.factorial(N)/(math.factorial(K)*math.factorial(N-K))\n",
    "prob_acierto_estrellas=1/combinaciones_estrellas\n",
    "\n",
    "prob_acierto_total=prob_acierto_numeros*prob_acierto_estrellas\n",
    "print(\"La probabilidad de acertar es de {} lo que equivale a 1 entre {}\".format(prob_acierto_total,1/prob_acierto_total))"
   ]
  },
  {
   "cell_type": "markdown",
   "metadata": {},
   "source": [
    "### Ejercicio 21.2\n",
    "\n",
    "Realizar 1000000 simulaciones y calcular el dinero invertido y el total de los precios recaudados sabiendo que los premios varían dependiendo de los ciertos. Por ejemplo, para una semana en la que se haya acumulado el bote máximo de 230.000.000€ los premios serían:\n",
    "\n",
    "|Categoría | Aciertos (Numeros + Estrellas)| Premios|\n",
    "|:----: |:----: |---|\n",
    "|1ª | (5 + 2) |230.000.000€|\n",
    "|2ª | (5 + 1) |179.820,08€|\n",
    "|3ª | (5 + 0) |21.013,46€|\n",
    "|4ª | (4 + 2) |1.496,04€|\n",
    "|5ª | (4 + 1) |102,72€|\n",
    "|6ª | (3 + 2) |72,32€|\n",
    "|7ª | (4 + 0) |29,91€|\n",
    "|8ª | (2 + 2) |17,84€|\n",
    "|9ª | (3 + 1) |10,71€|\n",
    "|10ª| (3 + 0) |7,59€|\n",
    "|11ª| (1 + 2) |8,65€|\n",
    "|12ª| (2 + 1) |5,61€|\n",
    "|13ª| (2 + 0) |3,57€|"
   ]
  },
  {
   "cell_type": "markdown",
   "metadata": {},
   "source": [
    "### **Solución:** "
   ]
  },
  {
   "cell_type": "code",
   "execution_count": null,
   "metadata": {},
   "outputs": [],
   "source": [
    "numeros=input(\"Elige tu combinación separada por comas, los dos últimos son las estrellas\")\n",
    "apuesta=[int(i)for i in numeros.split(\",\")]\n",
    "print(apuesta)\n",
    "ingresos=0\n",
    "for i in range(1000000):\n",
    "    comb_numeros=random.sample(range(1,51),5)\n",
    "    comb_estrellas=random.sample(range(1,13),2)\n",
    "    aciertos_numeros=sum([1 if i in comb_numeros else 0 for i in apuesta[:5]])\n",
    "    aciertos_estrellas=sum([1 if i in comb_estrellas else 0 for i in apuesta[5:]])\n",
    "    if aciertos_numeros==5 and aciertos_estrellas==2: \n",
    "        ingresos=ingresos+230000000\n",
    "    elif aciertos_numeros==5 and aciertos_estrellas==1: \n",
    "        ingresos=ingresos+179820.08\n",
    "    elif aciertos_numeros==5 and aciertos_estrellas==0: \n",
    "        ingresos=ingresos+21013.46   \n",
    "    elif aciertos_numeros==4 and aciertos_estrellas==2: \n",
    "        ingresos=ingresos+1496.04  \n",
    "    elif aciertos_numeros==4 and aciertos_estrellas==1: \n",
    "        ingresos=ingresos+102.72\n",
    "    elif aciertos_numeros==3 and aciertos_estrellas==2: \n",
    "        ingresos=ingresos+72.32\n",
    "    elif aciertos_numeros==4 and aciertos_estrellas==0: \n",
    "        ingresos=ingresos+29.91\n",
    "    elif aciertos_numeros==2 and aciertos_estrellas==2: \n",
    "        ingresos=ingresos+17.84\n",
    "    elif aciertos_numeros==3 and aciertos_estrellas==1: \n",
    "        ingresos=ingresos+10.71\n",
    "    elif aciertos_numeros==3 and aciertos_estrellas==0: \n",
    "        ingresos=ingresos+7.59\n",
    "    elif aciertos_numeros==1 and aciertos_estrellas==2: \n",
    "        ingresos=ingresos+8.65\n",
    "    elif aciertos_numeros==2 and aciertos_estrellas==1: \n",
    "        ingresos=ingresos+5.61        \n",
    "    elif aciertos_numeros==2 and aciertos_estrellas==0: \n",
    "        ingresos=ingresos+3.57\n",
    "\n",
    "print(\"dinero invertido:{}€\".format(1000000*2.5))\n",
    "print(\"dinero recuperado:{}€\".format(ingresos))"
   ]
  }
 ],
 "metadata": {
  "interpreter": {
   "hash": "d652f12e86d4907f3226fd0eca720165fd18d0c760b9e442a689f9a4e2e2c276"
  },
  "kernelspec": {
   "display_name": "Python 3",
   "language": "python",
   "name": "python3"
  },
  "language_info": {
   "codemirror_mode": {
    "name": "ipython",
    "version": 3
   },
   "file_extension": ".py",
   "mimetype": "text/x-python",
   "name": "python",
   "nbconvert_exporter": "python",
   "pygments_lexer": "ipython3",
   "version": "3.8.8"
  }
 },
 "nbformat": 4,
 "nbformat_minor": 2
}

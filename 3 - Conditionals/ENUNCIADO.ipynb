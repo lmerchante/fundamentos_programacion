{
 "cells": [
  {
   "cell_type": "markdown",
   "metadata": {},
   "source": [
    "# **TEMA 3: Conditionals**"
   ]
  },
  {
   "cell_type": "markdown",
   "metadata": {},
   "source": [
    "## Ejercicio 1:\n",
    "### Para calcular el salario semanal de un trabajador es necesario conocer el número de horas trabajadas y el precio al que se paga cada hora de trabajo. \n",
    "\n",
    "Si se pasan de 40 horas semanales, las horas extraordinarias se pagan a 1.5 veces la hora ordinaria. Escribir el código del programa que calcula el salario mensual de un trabajador y lo muestra por pantalla.\n",
    "\n",
    "    Introduzca el número de horas trabajadas durante la semana: 56\n",
    "    Introduzca el precio al que se pagará la hora: 10.5\n",
    "    \n",
    "    Horas trabajadas: 56.00\n",
    "    Horas extraordinarias: 16.00\n",
    "    Precio hora: 10.50\n",
    "    Salario: 444.00"
   ]
  },
  {
   "cell_type": "markdown",
   "metadata": {},
   "source": [
    "### **Solución:** "
   ]
  },
  {
   "cell_type": "code",
   "execution_count": null,
   "metadata": {},
   "outputs": [],
   "source": []
  },
  {
   "cell_type": "markdown",
   "metadata": {},
   "source": [
    "## Ejercicio 2:\n",
    "### Escribir un programa que solicite el precio de una colonia y el sexo (h/m) del cliente y realice un 25% de descuento si el sexo del cliente es hombre.\n",
    "\n",
    "    Introduzca sexo (h/m): h\n",
    "    Introduzca pvp: 123.568\n",
    "    \n",
    "    Precio: 123.57\n",
    "    Sexo: h\n",
    "    Descuento: 30.89\n",
    "    Precio final: 92.68 "
   ]
  },
  {
   "cell_type": "markdown",
   "metadata": {},
   "source": [
    "### **Solución:** "
   ]
  },
  {
   "cell_type": "code",
   "execution_count": null,
   "metadata": {},
   "outputs": [],
   "source": []
  },
  {
   "cell_type": "markdown",
   "metadata": {},
   "source": [
    "## Ejercicio 3:\n",
    "### Escribir un programa que solicite el precio de una colonia y el sexo (h/m) del cliente y realice un 25% de descuento si el sexo del cliente es hombre y 50% si es mujer.\n",
    "\n",
    "    Introduzca sexo (h/m): m\n",
    "    Introduzca pvp: 158.365\n",
    "    \n",
    "    Precio: 158.37 \n",
    "    Sexo: m \n",
    "    Descuento: 79.18 \n",
    "    Precio final: 79.18 "
   ]
  },
  {
   "cell_type": "markdown",
   "metadata": {},
   "source": [
    "### **Solución:** "
   ]
  },
  {
   "cell_type": "code",
   "execution_count": null,
   "metadata": {},
   "outputs": [],
   "source": []
  },
  {
   "cell_type": "markdown",
   "metadata": {},
   "source": [
    "## Ejercicio 4:\n",
    "### Programa que solicite el precio de una colonia, la edad  y el sexo (h/m) del cliente y realice un 25% de descuento si el sexo del cliente es hombre y 50% si es mujer y tiene una edad entre 18 y 25 años.\n",
    "\n",
    "    Introduzca sexo (h/m): m \n",
    "    Intro edad: 16 \n",
    "    Introduzca pvp: 123.789 \n",
    "    \n",
    "    Precio: 123.79 \n",
    "    Sexo: m \n",
    "    Edad: 16 \n",
    "    Descuento: 0.00 \n",
    "    Precio final: 123.79"
   ]
  },
  {
   "cell_type": "markdown",
   "metadata": {},
   "source": [
    "### **Solución:** "
   ]
  },
  {
   "cell_type": "code",
   "execution_count": null,
   "metadata": {},
   "outputs": [],
   "source": []
  },
  {
   "cell_type": "markdown",
   "metadata": {},
   "source": [
    "## Ejercicio 5:\n",
    "\n",
    "### Escribir un programa que pida el número de día de la semana que es (1-7) y muestre el dia que corresponde lunes-domingo.\n",
    "\n",
    "Si se introduce un número o caracter invalido, el programa debe advertir que es un input incorrecto.\n",
    "\n",
    "    Introduzca dia de la semana: 2 \n",
    "    Martes "
   ]
  },
  {
   "cell_type": "markdown",
   "metadata": {},
   "source": [
    "### **Solución:** "
   ]
  },
  {
   "cell_type": "code",
   "execution_count": null,
   "metadata": {},
   "outputs": [],
   "source": []
  },
  {
   "cell_type": "markdown",
   "metadata": {},
   "source": [
    "## Ejercicio 6:\n",
    "### Escribir un programa que muestre un menú para calcular áreas de figuras geométricas.\n",
    "\n",
    "El menú debe proporcionar la posibilidad de calcular el área de un circulo, de un rectángulo o de un cuadrado. Dependiendo de la opción seleccionada, el programa deberá pedir argumentos adicionales (base, altura, radio,...). El código deberá mostrar un error si la opción seleccionada no es válida.\n",
    "\n",
    "    Menu\n",
    "    ===============\n",
    "    1.- Área del circulo \n",
    "    2.- Área del rectángulo \n",
    "    3.- Área del triángulo \n",
    "    Introduzca opcion: 3 \n",
    "\n",
    "    Introduzca la base: 5 \n",
    "    Introduzca la altura: 3 \n",
    "    Área. 7.50 \n",
    "\n",
    "\n",
    "\n",
    "    Menu:\n",
    "    ============= \n",
    "    1.- Área del circulo \n",
    "    2.- Área del rectángulo \n",
    "    3.- Área del triángulo \n",
    "    Introduzca opcion: 4 \n",
    "    \n",
    "    Opción incorrecta "
   ]
  },
  {
   "cell_type": "markdown",
   "metadata": {},
   "source": [
    "### **Solución:** "
   ]
  },
  {
   "cell_type": "code",
   "execution_count": null,
   "metadata": {},
   "outputs": [],
   "source": []
  },
  {
   "cell_type": "markdown",
   "metadata": {},
   "source": [
    "## Ejercicio 7:\n",
    "\n",
    "### Escribir un programa que pida los coeficientes a, b, y c de una ecuación de segundo grado $ ax^2+bx+c=0 $\n",
    "\n",
    "El código de calcular y mostrar como salida las raíces de la ecuación. Notar que es necesario distinguir entre los siguientes casos:\n",
    "\n",
    "-  Solución degenerada (a = 0, b = 0).\n",
    "-  Solución lineal (a = 0).\n",
    "-  Solución doble (discriminante = 0).\n",
    "-  Dos raíces (discriminante > 0).\n",
    "-  Raíces complejas (discriminante < 0).\n",
    "\n",
    "\n",
    "    Introduzca coeficiente de a: 0 \n",
    "    Introduzca coeficiente de b: 0 \n",
    "    Introduzca coeficiente de c: 3 \n",
    "    Solución DEGENARA\n",
    "    \n",
    "    Introduzca coeficiente de a: 0 \n",
    "    Introduzca coeficiente de b: 3 \n",
    "    Introduzca coeficiente de c: 4 \n",
    "    No es una ecuacion de segundo grado, solución LINEAL \n",
    "\n",
    "    Introduzca coeficiente de a: 1 \n",
    "    Introduzca coeficiente de b: 5 \n",
    "    Introduzca coeficiente de c: 2 \n",
    "    Solucion 1: -0.44 \n",
    "    Solucion 2: -4.56 "
   ]
  },
  {
   "cell_type": "markdown",
   "metadata": {},
   "source": [
    "### **Solución:** "
   ]
  },
  {
   "cell_type": "code",
   "execution_count": null,
   "metadata": {},
   "outputs": [],
   "source": []
  },
  {
   "cell_type": "markdown",
   "metadata": {},
   "source": [
    "## Ejercicio 8:\n",
    "### Escribir un programa que solicite una hora en formato hh, mm y ss.\n",
    "\n",
    "El código debe almacenar los valores en tres variables correspondientes a las horas, minutos y segundos. El programa deberá mostrar la hora que será dentro de un segundo. \n",
    "\n",
    "    Introduzca hora: 12 \n",
    "    Introduzca minutos: 5 \n",
    "    Introduzca segundos: 6 \n",
    "    Hora introducida:12:05:06 \n",
    "    Hora + 1 segundo:12:05:07\n",
    "\n",
    "    Introduzca hora: 2 \n",
    "    Introduzca minutos: 34 \n",
    "    Introduzca segundos: 59 \n",
    "    Hora introducida:02:34:59 \n",
    "    Hora + 1 segundo:02:35:00\n",
    "\n",
    "    Introduzca hora: 13 \n",
    "    Introduzca minutos: 59 \n",
    "    Introduzca segundos: 59 \n",
    "    Hora introducida:13:59:59 \n",
    "    Hora + 1 segundo:14:00:00\n",
    "\n",
    "    Introduzca hora: 23 \n",
    "    Introduzca minutos: 59 \n",
    "    Introduzca segundos: 59 \n",
    "    Hora introducida:23:59:59 \n",
    "    Hora + 1 segundo:00:00:00 \n",
    "    \n",
    "**HACERLO CON DOS VERSIONES**. Una primera implementando detectando todos los casos complicados mediante condicionales y una segunda utilizando la librería de python **datetime**"
   ]
  },
  {
   "cell_type": "markdown",
   "metadata": {},
   "source": [
    "### **Solución 1:** "
   ]
  },
  {
   "cell_type": "code",
   "execution_count": null,
   "metadata": {},
   "outputs": [],
   "source": []
  },
  {
   "cell_type": "markdown",
   "metadata": {},
   "source": [
    "### **Solución 2:**  "
   ]
  },
  {
   "cell_type": "code",
   "execution_count": null,
   "metadata": {},
   "outputs": [],
   "source": []
  },
  {
   "cell_type": "markdown",
   "metadata": {},
   "source": [
    "## Ejercicio 9:\n",
    "\n",
    "### 9.1 Escribir un programa que solicite un año y decida si es bisiesto. \n",
    "\n",
    "Un año es bisiesto si cumple las siguientes condiciones simultáneamente:\n",
    "\n",
    "* es divisible por 4 pero no por 100\n",
    "* sí es divisible por 400"
   ]
  },
  {
   "cell_type": "markdown",
   "metadata": {},
   "source": [
    "### **Solución:** "
   ]
  },
  {
   "cell_type": "code",
   "execution_count": null,
   "metadata": {},
   "outputs": [],
   "source": []
  },
  {
   "cell_type": "markdown",
   "metadata": {},
   "source": [
    "### 9.2  Escribir un programa que solicite un dia, un mes y un año.\n",
    "\n",
    "Si se introduce una fecha inválida como por ejemplo un 29 de febrero de un año no bisiesto, el código debe imprimir un error. Si la fecha es correcta, el código debe imprimir la fecha del día posterior al introducido.\n",
    "\n",
    "    Introduzca dia: 28 \n",
    "    Introduzca mes: 2 \n",
    "    Introduzca año: 2000 \n",
    "    La fecha del dia siguiente es: 29 ,  2 , 2000\n",
    "    \n",
    "    Introduzca dia: 29 \n",
    "    Introduzca mes: 2 \n",
    "    Introduzca año: 2001 \n",
    "    Error, la fecha introducida no es correcta"
   ]
  },
  {
   "cell_type": "markdown",
   "metadata": {},
   "source": [
    "### **Solución:** "
   ]
  },
  {
   "cell_type": "code",
   "execution_count": null,
   "metadata": {},
   "outputs": [],
   "source": []
  },
  {
   "cell_type": "markdown",
   "metadata": {},
   "source": [
    "## Ejercicio 10:\n",
    "### Escribir un programa que pida una letra y la convierta de minúscula a mayúscula o de mayúscula a minúscula. \n",
    "Si el carácter introducido no es una letra, hay que indicar si es un número o un espacio en blanco."
   ]
  },
  {
   "cell_type": "markdown",
   "metadata": {},
   "source": [
    "### **Solución:** "
   ]
  },
  {
   "cell_type": "code",
   "execution_count": null,
   "metadata": {},
   "outputs": [],
   "source": []
  },
  {
   "cell_type": "markdown",
   "metadata": {},
   "source": [
    "## Ejercicio 11:\n",
    "\n",
    "### Escribir un programa que pida tres valores enteros y los muestre por pantalla en orden decreciente.\n",
    "\n",
    "    Introduzca numerol: 3 \n",
    "    Introduzca numero2: 6 \n",
    "    Introduzca numero3: 1 \n",
    "    6.00>3.00>1.00 \n"
   ]
  },
  {
   "cell_type": "markdown",
   "metadata": {},
   "source": [
    "### **Solución:** "
   ]
  },
  {
   "cell_type": "code",
   "execution_count": null,
   "metadata": {},
   "outputs": [],
   "source": []
  },
  {
   "cell_type": "markdown",
   "metadata": {},
   "source": [
    "## Ejercicio 12:\n",
    "\n",
    "### Escribir un programa completo que realice las siguientes operaciones:\n",
    "\n",
    "- Pedir al usuario el valor de x \n",
    "- Si x > 0 calcular  $y=\\frac{1}{2}\\sqrt{3x^2+5x}$ y si x <0 calcular  $y=\\frac{1}{2}(3x^2+5x)$\n",
    "- Mostrar los valores finales de x e y"
   ]
  },
  {
   "cell_type": "markdown",
   "metadata": {},
   "source": [
    "### **Solución:** "
   ]
  },
  {
   "cell_type": "code",
   "execution_count": null,
   "metadata": {},
   "outputs": [],
   "source": []
  },
  {
   "cell_type": "markdown",
   "metadata": {},
   "source": [
    "## Ejercicio 13:\n",
    "\n",
    "### Escribir un programa que pida una nota de un alumno (número real) y escriba las calificaciones correspondientes de acuerdo con el siguiente criterio:\n",
    "\n",
    "- Suspenso:  de 0 a < 5.0 \t\n",
    "- Aprobado:  de 5 a <7.0 \t               \n",
    "- Notable:   de 7.0 a <9.0 \t\n",
    "- Sobresaliente: de 9.0 a <10 \t\n",
    "- MH: 10\n",
    "\n",
    "Si la nota es negativa o mayor que 10 se debe mostrar un mensaje de error."
   ]
  },
  {
   "cell_type": "markdown",
   "metadata": {},
   "source": [
    "### **Solución:** "
   ]
  },
  {
   "cell_type": "code",
   "execution_count": null,
   "metadata": {},
   "outputs": [],
   "source": []
  },
  {
   "cell_type": "markdown",
   "metadata": {},
   "source": [
    "## Ejercicio 14:\n",
    "\n",
    "### Se va a realizar un programa para el cálculo de la resistencia equivalente de dos resistencias conectadas en serie o en paralelo. \n",
    "\n",
    "Para el valor R1 de la resistencia 1 y el valor R2 de la resistencia 2, el cálculo de la resistencia equivalente sería:\n",
    "\n",
    "- En serie :\tReq_Serie = R1 + R2\n",
    "- En paralelo: \tReq_Paralelo = (R1 * R2) / (R1 + R2)\n",
    "\n",
    "El programa además de solicitar el valor de la resistencia, pedirá que se introduzca una s o una p dependiendo del tipo de acoplamiento."
   ]
  },
  {
   "cell_type": "markdown",
   "metadata": {},
   "source": [
    "### **Solución:** "
   ]
  },
  {
   "cell_type": "code",
   "execution_count": null,
   "metadata": {},
   "outputs": [],
   "source": []
  },
  {
   "cell_type": "markdown",
   "metadata": {},
   "source": [
    "## Ejercicio 15:\n",
    "\n",
    "### Los alumnos de un curso se han dividido en dos grupos A y B de acuerdo al sexo y el nombre. \n",
    "\n",
    "El grupo A está formado por las mujeres con un nombre anterior a la M y los hombres con un nombre posterior a la N y el grupo B por el resto. Escribir un programa que pregunte al usuario su nombre y sexo, y muestre por pantalla el grupo que le corresponde"
   ]
  },
  {
   "cell_type": "markdown",
   "metadata": {},
   "source": [
    "### **Solución:** "
   ]
  },
  {
   "cell_type": "code",
   "execution_count": null,
   "metadata": {},
   "outputs": [],
   "source": []
  },
  {
   "cell_type": "markdown",
   "metadata": {},
   "source": [
    "## Ejercicio 16:\n",
    "\n",
    "### Escribir un programa que pregunte al usuario su renta anual y muestre por pantalla el tipo impositivo que le corresponde.\n",
    "\n",
    "Los tramos impositivos para la declaración de la renta en un determinado país son los siguientes:\n",
    "\n",
    "|     Renta en euros     | Tipo inpositivo |\n",
    "|:----------------------:|:---------------:|\n",
    "| < 10 000               | 5%              |\n",
    "| entre 10 000 y 20 0000 | 15%             |\n",
    "| entre 20 000 y 35 0000 | 20%             |\n",
    "| entre 35 000 y 60 0000 | 30%             |\n",
    "| Más de 60 000          | 45%             |"
   ]
  },
  {
   "cell_type": "markdown",
   "metadata": {},
   "source": [
    "### **Solución:** "
   ]
  },
  {
   "cell_type": "code",
   "execution_count": null,
   "metadata": {},
   "outputs": [],
   "source": []
  },
  {
   "cell_type": "markdown",
   "metadata": {},
   "source": [
    "## Ejercicio 17:\n",
    "\n",
    "### Para tributar un determinado impuesto se debe ser mayor de 16 años y tener unos ingresos iguales o superiores a 1000 € mensuales. \n",
    "\n",
    "Escribir un programa que pregunte al usuario su edad y sus ingresos mensuales y muestre por pantalla si el usuario tiene que tributar o no."
   ]
  },
  {
   "cell_type": "markdown",
   "metadata": {},
   "source": [
    "### **Solución:** "
   ]
  },
  {
   "cell_type": "code",
   "execution_count": null,
   "metadata": {},
   "outputs": [],
   "source": []
  },
  {
   "cell_type": "markdown",
   "metadata": {},
   "source": [
    "## Ejercicio 18:\n",
    "\n",
    "### Calcular de forma el precio que debe cobrar un cine a sus clientes por entrar. \n",
    "\n",
    "El programa debe preguntar al usuario la edad del cliente y mostrar el precio de la entrada. Si el cliente es menor de 4 años puede entrar gratis, si tiene entre 4 y 18 años debe pagar 5€ y si es mayor de 18 años, 10€."
   ]
  },
  {
   "cell_type": "markdown",
   "metadata": {},
   "source": [
    "### **Solución:** "
   ]
  },
  {
   "cell_type": "code",
   "execution_count": null,
   "metadata": {},
   "outputs": [],
   "source": []
  },
  {
   "cell_type": "markdown",
   "metadata": {},
   "source": [
    "## Ejercicio 19:\n",
    "\n",
    "### Escribir un programa que calcule el número de monedas que debe devolver una máquina expendedora\n",
    "\n",
    "- Nuestra máquina expendedora sólo vende productos por menos de 2 euros.\n",
    "- Por lo tanto, la cantidad máxima que el cliente puede introducir es de 2 EUR.\n",
    "- Nuestra máquina puede devolver el cambio en monedas de 1.00, 0.50, 0.20, 0.10 o 0.05 EUR\n",
    "- Observe que el algoritmo no requiere bucles, sólo condicionales\n",
    "\n",
    "**PASOS**\n",
    "\n",
    "1. Es mejor trabajar en céntimos que en euros, porque se puede utilizar int en lugar de float. Sin embargo, desde el punto de vista del usuario, todas las operaciones de entrada/salida deben utilizar euros.\n",
    "2. Pedir la cantidad introducida en la máquina y el precio del producto (no validar las entradas porque la validación requiere bucles)\n",
    "3. Calcular el cambio a devolver\n",
    "4. Calcular cuántas monedas de cada tipo deben ser devueltas.\n",
    "5. Tenga en cuenta que la única moneda que puede repetirse es la de 20 céntimos.\n",
    "6. Ejecuta el programa utilizando diferentes ejemplos\n",
    "\n",
    "        Cantidad: 2,00 Precio: 1,35 Cambio: 1x50c 1x10c 1x5\n",
    "        Importe: 1,50 Precio: 1,05 Cambio: 2x20c 1x5c"
   ]
  },
  {
   "cell_type": "markdown",
   "metadata": {},
   "source": [
    "### **Solución:** "
   ]
  },
  {
   "cell_type": "code",
   "execution_count": null,
   "metadata": {},
   "outputs": [],
   "source": []
  },
  {
   "cell_type": "markdown",
   "metadata": {},
   "source": [
    "## Ejercicio 20:\n",
    "\n",
    "### Ejercicio corregir errores de los siguientes códigos"
   ]
  },
  {
   "cell_type": "markdown",
   "metadata": {},
   "source": [
    "### 20.1 Código"
   ]
  },
  {
   "cell_type": "code",
   "execution_count": null,
   "metadata": {},
   "outputs": [],
   "source": [
    "if abc in lower: print(\"found)"
   ]
  },
  {
   "cell_type": "markdown",
   "metadata": {},
   "source": [
    "### **Solución:** "
   ]
  },
  {
   "cell_type": "code",
   "execution_count": null,
   "metadata": {},
   "outputs": [],
   "source": []
  },
  {
   "cell_type": "markdown",
   "metadata": {},
   "source": [
    "### 20.2 Código\n",
    "\n",
    "Pista: Qué pasa con char=\"H\" o char=\"A\" o char=\"$\" "
   ]
  },
  {
   "cell_type": "code",
   "execution_count": null,
   "metadata": {},
   "outputs": [],
   "source": [
    "char=\"h\"\n",
    "\n",
    "vowels=\"aeiou\"\n",
    "consonants=\"bcdfghjklmnpqrstvwxyz\"\n",
    "\n",
    "if char in vowels:\n",
    "    print(\"This is a lowercase vowel\")\n",
    "elif char in consonants:\n",
    "    print(\"This is a lowercase consonant\")"
   ]
  },
  {
   "cell_type": "markdown",
   "metadata": {},
   "source": [
    "### **Solución:** "
   ]
  },
  {
   "cell_type": "code",
   "execution_count": null,
   "metadata": {},
   "outputs": [],
   "source": []
  },
  {
   "cell_type": "markdown",
   "metadata": {},
   "source": [
    "### 20.3 Código"
   ]
  },
  {
   "cell_type": "code",
   "execution_count": null,
   "metadata": {},
   "outputs": [],
   "source": [
    "F=102\n",
    "if F>=100.4:\n",
    "    print(\"Fever\")\n",
    "elif F>=98.6:\n",
    "    print(\"Normal\")\n",
    "else:\n",
    "    print(\"Wrong reading\")\n",
    "    \n",
    "#Previous code is correct. Fix the following code:\n",
    "if F>98.6 and F<100.4:\n",
    "    print(\"Normal\")\n",
    "if F>100.4:\n",
    "    print(\"Fever\")\n",
    "if F<98.6:\n",
    "    print(\"Wrong reading\")"
   ]
  },
  {
   "cell_type": "markdown",
   "metadata": {},
   "source": [
    "### **Solución:** "
   ]
  },
  {
   "cell_type": "code",
   "execution_count": null,
   "metadata": {},
   "outputs": [],
   "source": []
  }
 ],
 "metadata": {
  "interpreter": {
   "hash": "d652f12e86d4907f3226fd0eca720165fd18d0c760b9e442a689f9a4e2e2c276"
  },
  "kernelspec": {
   "display_name": "Python 3",
   "language": "python",
   "name": "python3"
  },
  "language_info": {
   "codemirror_mode": {
    "name": "ipython",
    "version": 3
   },
   "file_extension": ".py",
   "mimetype": "text/x-python",
   "name": "python",
   "nbconvert_exporter": "python",
   "pygments_lexer": "ipython3",
   "version": "3.8.8"
  }
 },
 "nbformat": 4,
 "nbformat_minor": 2
}

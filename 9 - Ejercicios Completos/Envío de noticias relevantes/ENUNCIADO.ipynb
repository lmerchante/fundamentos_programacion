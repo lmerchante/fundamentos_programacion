{
 "cells": [
  {
   "cell_type": "markdown",
   "metadata": {},
   "source": [
    "# Extracción de titulares relevantes\n",
    "\n",
    "Esta práctica consiste en hacer scrapping de la web de un periódico online y terminar enviando un correo con todos los artículos que concuerden con unos determinados criterios de búsqueda.\n",
    "\n",
    "El enunciado proporciona todo el código que sea necesario y que no se haya visto en clase.\n",
    "\n",
    "El propósito de un código como este sería automatizar este script para que se ejecute todos los días y nos llegen al correo sólo aquellas noticias que nos interesan."
   ]
  },
  {
   "cell_type": "markdown",
   "metadata": {},
   "source": [
    "### Lee el código de fuente de un periódico ONLINE"
   ]
  },
  {
   "cell_type": "code",
   "execution_count": 1,
   "metadata": {},
   "outputs": [],
   "source": [
    "from urllib.request import urlopen\n",
    "from bs4 import BeautifulSoup\n",
    "html = urlopen(\"https://elpais.com/\")\n",
    "source=html.read()\n",
    "source_str=source.decode(\"utf-8\")\n",
    "soup=BeautifulSoup(source_str)"
   ]
  },
  {
   "cell_type": "markdown",
   "metadata": {},
   "source": [
    "### Extraer la lista de titulares y sus URLs\n",
    "\n",
    "Tras revisar su código, vemos que sus artículos siempre se encuentran en una sección de tipo:\n",
    "        \n",
    "        <article>...</article>\n",
    "\n",
    "El código siguiente nos permite sacar la lista de artículos"
   ]
  },
  {
   "cell_type": "code",
   "execution_count": 2,
   "metadata": {},
   "outputs": [],
   "source": [
    "lista_de_titulares=[]\n",
    "lista_de_links=[]\n",
    "articles=soup.find_all(\"article\")\n",
    "for i in articles:\n",
    "    titular=i.header.text\n",
    "    url=i.header.a.get(\"href\")\n",
    "    lista_de_titulares.append(titular)\n",
    "    lista_de_links.append(url)"
   ]
  },
  {
   "cell_type": "markdown",
   "metadata": {},
   "source": [
    "Revisamos algunos de los titulares:"
   ]
  },
  {
   "cell_type": "code",
   "execution_count": 3,
   "metadata": {},
   "outputs": [
    {
     "data": {
      "text/plain": [
       "['Podemos convoca la mesa de crisis de la coalición por una “injerencia” de Calviño en la reforma laboral',\n",
       " 'El\\xa0PSOE acepta perfiles duros del PP para renovar el Constitucional\\xa0']"
      ]
     },
     "execution_count": 3,
     "metadata": {},
     "output_type": "execute_result"
    }
   ],
   "source": [
    "lista_de_titulares[:2]"
   ]
  },
  {
   "cell_type": "markdown",
   "metadata": {},
   "source": [
    "Revisamos algunos de los links:"
   ]
  },
  {
   "cell_type": "code",
   "execution_count": 4,
   "metadata": {},
   "outputs": [
    {
     "data": {
      "text/plain": [
       "['/espana/2021-10-22/podemos-solicita-una-reunion-urgente-de-la-mesa-de-seguimiento-del-acuerdo-del-gobierno-de-coalicion.html',\n",
       " '/espana/2021-10-21/el-gobierno-y-el-pp-cierran-el-pacto-para-la-renovacion-de-las-altas-instituciones-salvo-el-poder-judicial.html',\n",
       " '/internacional/2021-10-22/la-practica-de-la-reconstruccion-del-himen-pervive-en-afganistan.html',\n",
       " '/espana/madrid/2021-10-22/anatomia-de-lagasca-99-ricos-latinoamericanos-sociedades-opacas-y-el-alquiler-mas-caro-de-madrid.html',\n",
       " 'https://elpais.com/opinion/editoriales/',\n",
       " '/opinion/2021-10-22/el-federalismo-y-la-magia.html']"
      ]
     },
     "execution_count": 4,
     "metadata": {},
     "output_type": "execute_result"
    }
   ],
   "source": [
    "lista_de_links[:6]"
   ]
  },
  {
   "cell_type": "markdown",
   "metadata": {},
   "source": [
    "### Ej1. Corregir las URLs\n",
    "\n",
    "Si nos fijamos, algunas URLs tienen la dirección completa (direccionamiento absoluto) y a otras le falta el \"https://www.elpais.com\" (direccionamiento relativo). \n",
    "\n",
    "Escribe una función que reciba la lista de URLs **lista_de_links** y devuelva otra lista corregida. \n",
    "\n",
    "Ojo, sól hay que corregir aquellas direcciones que no empiecen por http. Las que ya contengan una dirección absoluta, no hay que modificarlas."
   ]
  },
  {
   "cell_type": "markdown",
   "metadata": {},
   "source": [
    "**SOLUCION**"
   ]
  },
  {
   "cell_type": "code",
   "execution_count": null,
   "metadata": {},
   "outputs": [],
   "source": [
    "def corrige_url(lista):\n",
    "\n",
    "    return lista_corregida"
   ]
  },
  {
   "cell_type": "markdown",
   "metadata": {},
   "source": [
    "### Ej2. Escribe un código para limitar el número de palabras del titular\n",
    "\n",
    "Escribe una función que reciba una frase en una variable **frase** y devuelva la frase truncada a un determinado número de palabras que también se le pasa como argumento **num**. Si la frase contiene menos palabras, no se ve afectada. Si la frase contiene más palabras, se trunca y se le añaden tres puntos suspensivos. Por ejemplo:\n",
    "\n",
    "    trunca(\"Una negociación larga y llena de obstáculos\",10)\n",
    "    'Una negociación larga y llena de obstáculos'\n",
    "    \n",
    "    trunca(\"Una negociación larga y llena de obstáculos\",5)\n",
    "    'Una negociación larga y llena ...'"
   ]
  },
  {
   "cell_type": "markdown",
   "metadata": {},
   "source": [
    "**SOLUCION**"
   ]
  },
  {
   "cell_type": "code",
   "execution_count": 113,
   "metadata": {},
   "outputs": [],
   "source": [
    "def trunca(frase, num):\n",
    "\n",
    "    return frase_truncada"
   ]
  },
  {
   "cell_type": "markdown",
   "metadata": {},
   "source": [
    "### Ej3. Escribe un código para imprimir los titulares en este formato\n",
    "\n",
    "Si revisamos la lista de titulares extraida al principio de la práctica, notamos que en los titulares aparecen unos símbolos extraños. Implementa una función **imprime_titulares** que corrija los símbolos extraños y muestra por pantalla todos los titulares recolectados y truncados en caso de que superen una longitud máxima de palabras. Por ejemplo:\n",
    "\n",
    "        imprime_titulares(lista_de_titulares,10)\n",
    "        \n",
    "        Hemos capturado 4 titulares: \n",
    "          - El PSOE acepta perfiles duros del PP para renovar el ...\n",
    "          - Una negociación larga y llena de obstáculos\n",
    "          - Reconstruirse el himen o jugarse la vida: la práctica pervive ...\n",
    "          - Anatomía de Lagasca 99: ricos latinoamericanos, el alquiler más caro ...\n",
    "\n",
    "Para ello tendrás que utilizar la función **trunca** implementada en el apartado anterior. Fíjate que esta función no tiene sentencia **return**"
   ]
  },
  {
   "cell_type": "markdown",
   "metadata": {},
   "source": [
    "**SOLUCION**"
   ]
  },
  {
   "cell_type": "code",
   "execution_count": null,
   "metadata": {},
   "outputs": [],
   "source": [
    "def imprime_titulares(lista, num):\n",
    "    "
   ]
  },
  {
   "cell_type": "markdown",
   "metadata": {},
   "source": [
    "### Ej4. Filtrado de titulares\n",
    "\n",
    "Escribe el código de una funcion que reciba la lista de titulares, una lista de palabras clave y una variable string **logica** que sólo puede tomar dos valores \"AND\" y \"OR\". Implementa un código que filtre los titulares atendiendo al contenido de la variable **logica**:\n",
    "\n",
    "* Si **logica** es \"OR\", entonces sólo pasarán los titulares que incluyan alguna de las keywords\n",
    "* Si **logica** es \"AND\", entonces sólo pasarán los titulares que incluyan todas las keywords\n",
    "* Si no se le pasa valor a la variable lógica, por defecto, tomará el valor \"OR\"\n",
    "\n",
    "\n",
    "        filtrado(lista_de_titulares,[\"España\", \"Covid\"], logica=\"OR\")\n",
    "        \n",
    "        ['Los contagios de covid en España se estancan en el nivel de riesgo bajo',\n",
    "         'España alcanza un acuerdo con EE UU para mantener la ‘tasa Google’ hasta 2023',\n",
    "         'El idioma que traje conmigo: así suena África oriental en España']\n",
    "         \n",
    "        filtrado(lista_de_titulares,[\"España\", \"Covid\"], logica=\"AND\")\n",
    "        \n",
    "        ['Los contagios de covid en España se estancan en el nivel de riesgo bajo']\n",
    "        "
   ]
  },
  {
   "cell_type": "markdown",
   "metadata": {},
   "source": [
    "**SOLUCION**"
   ]
  },
  {
   "cell_type": "code",
   "execution_count": null,
   "metadata": {},
   "outputs": [],
   "source": [
    "def filtrado(lista, keywords, logica=\"OR\"):\n",
    "\n",
    "    return lista_filtrada"
   ]
  },
  {
   "cell_type": "markdown",
   "metadata": {},
   "source": [
    "### Ej5. Redacción de un correo\n",
    "\n",
    "Escribe una función que utilizando la lista filtrada de titulares **lista_filtrada** readacte un correo informando al usuario que para las keywords seleccionadas se han econtrado los siguientes titulares. No olvida incluir la URL del artículo. \n",
    "Generar una variable de tipo STRING **correo** que tenga una pinta similar a la sig\n",
    "\n",
    "    body=correo(lista_de_titulares, lista_de_links_corregida, lista_filtrada, [\"España\", \"Covid\"])\n",
    "    print(body)\n",
    "    \n",
    "    Hola,\n",
    "    esta es la lista de artículos que coincide con tus keywords: España,Covid\n",
    "      - Los contagios de covid en España se estancan en el nivel de riesgo bajo\n",
    "        https://www.elpais.com/sociedad/2021-10-22/los-contagios-de-covid-en-espana-se-estancan-en-el-nivel-de-riesgo-bajo.html\n",
    "      - España alcanza un acuerdo con EE UU para mantener la ‘tasa Google’ hasta 2023\n",
    "        https://www.elpais.com/economia/2021-10-21/espana-alcanza-un-acuerdo-con-ee-uu-para-mantener-la-tasa-google-hasta-2023.html\n",
    "      - El idioma que traje conmigo: así suena África oriental en España\n",
    "        https://www.elpais.com/planeta-futuro/2021-10-21/el-idioma-que-traje-conmigo-asi-suena-africa-oriental-en-espana.html\n",
    "    Bye "
   ]
  },
  {
   "cell_type": "markdown",
   "metadata": {},
   "source": [
    "**SOLUCION**"
   ]
  },
  {
   "cell_type": "code",
   "execution_count": null,
   "metadata": {},
   "outputs": [],
   "source": [
    "def genera_correo(lista_titulares, links_corregidos, lista_filtrada, keywords):\n",
    "\n",
    "    return correo"
   ]
  },
  {
   "cell_type": "markdown",
   "metadata": {},
   "source": [
    "### Envía un correo\n",
    "\n",
    "Por último, utiliza la función proporcionada en la celda siguiente para enviar el correo construido con la función **genera_correo** y verifica que lo recibes correctamente."
   ]
  },
  {
   "cell_type": "code",
   "execution_count": 17,
   "metadata": {},
   "outputs": [],
   "source": [
    "import smtplib\n",
    "from email.message import EmailMessage\n",
    "\n",
    "def send(email_from,email_to,password, body):\n",
    "    msg = EmailMessage()\n",
    "    msg['Subject'] = 'Automated mail with news stories'\n",
    "    msg['From'] = email_from\n",
    "    msg['To'] = email_to\n",
    "    msg.set_content(body)\n",
    "    server = smtplib.SMTP('smtp.office365.com', 587)\n",
    "    server.ehlo()\n",
    "    server.starttls()\n",
    "    server.ehlo()\n",
    "    server.login(email_from, password)\n",
    "    server.send_message(msg)\n",
    "    server.rset()\n",
    "    server.quit()"
   ]
  }
 ],
 "metadata": {
  "kernelspec": {
   "display_name": "Python 3",
   "language": "python",
   "name": "python3"
  },
  "language_info": {
   "codemirror_mode": {
    "name": "ipython",
    "version": 3
   },
   "file_extension": ".py",
   "mimetype": "text/x-python",
   "name": "python",
   "nbconvert_exporter": "python",
   "pygments_lexer": "ipython3",
   "version": "3.8.8"
  }
 },
 "nbformat": 4,
 "nbformat_minor": 4
}

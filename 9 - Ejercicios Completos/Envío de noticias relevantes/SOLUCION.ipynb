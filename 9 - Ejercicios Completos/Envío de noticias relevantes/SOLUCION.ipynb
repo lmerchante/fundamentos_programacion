{
 "cells": [
  {
   "cell_type": "markdown",
   "metadata": {},
   "source": [
    "# Extracción de titulares relevantes\n",
    "\n",
    "Esta práctica consiste en hacer scrapping de la web de un periódico online y terminar enviando un correo con todos los artículos que concuerden con unos determinados criterios de búsqueda.\n",
    "\n",
    "El enunciado proporciona todo el código que sea necesario y que no se haya visto en clase.\n",
    "\n",
    "El propósito de un código como este sería automatizar este script para que se ejecute todos los días y nos llegen al correo sólo aquellas noticias que nos interesan."
   ]
  },
  {
   "cell_type": "markdown",
   "metadata": {},
   "source": [
    "### Lee el código de fuente de un periódico ONLINE"
   ]
  },
  {
   "cell_type": "code",
   "execution_count": 1,
   "metadata": {},
   "outputs": [],
   "source": [
    "from urllib.request import urlopen\n",
    "from bs4 import BeautifulSoup\n",
    "html = urlopen(\"https://elpais.com/\")\n",
    "source=html.read()\n",
    "source_str=source.decode(\"utf-8\")\n",
    "soup=BeautifulSoup(source_str)"
   ]
  },
  {
   "cell_type": "markdown",
   "metadata": {},
   "source": [
    "### Extraer la lista de titulares y sus URLs\n",
    "\n",
    "Tras revisar su código, vemos que sus artículos siempre se encuentran en una sección de tipo:\n",
    "        \n",
    "        <article>...</article>\n",
    "\n",
    "El código siguiente nos permite sacar la lista de artículos"
   ]
  },
  {
   "cell_type": "code",
   "execution_count": 2,
   "metadata": {},
   "outputs": [],
   "source": [
    "lista_de_titulares=[]\n",
    "lista_de_links=[]\n",
    "articles=soup.find_all(\"article\")\n",
    "for i in articles:\n",
    "    titular=i.header.text\n",
    "    url=i.header.a.get(\"href\")\n",
    "    lista_de_titulares.append(titular)\n",
    "    lista_de_links.append(url)"
   ]
  },
  {
   "cell_type": "markdown",
   "metadata": {},
   "source": [
    "Revisamos algunos de los titulares:"
   ]
  },
  {
   "cell_type": "code",
   "execution_count": 3,
   "metadata": {},
   "outputs": [
    {
     "data": {
      "text/plain": [
       "['Podemos convoca la mesa de crisis de la coalición por una “injerencia” de Calviño en la reforma laboral',\n",
       " 'El\\xa0PSOE acepta perfiles duros del PP para renovar el Constitucional\\xa0']"
      ]
     },
     "execution_count": 3,
     "metadata": {},
     "output_type": "execute_result"
    }
   ],
   "source": [
    "lista_de_titulares[:2]"
   ]
  },
  {
   "cell_type": "markdown",
   "metadata": {},
   "source": [
    "Revisamos algunos de los links:"
   ]
  },
  {
   "cell_type": "code",
   "execution_count": 4,
   "metadata": {},
   "outputs": [
    {
     "data": {
      "text/plain": [
       "['/espana/2021-10-22/podemos-solicita-una-reunion-urgente-de-la-mesa-de-seguimiento-del-acuerdo-del-gobierno-de-coalicion.html',\n",
       " '/espana/2021-10-21/el-gobierno-y-el-pp-cierran-el-pacto-para-la-renovacion-de-las-altas-instituciones-salvo-el-poder-judicial.html',\n",
       " '/internacional/2021-10-22/la-practica-de-la-reconstruccion-del-himen-pervive-en-afganistan.html',\n",
       " '/espana/madrid/2021-10-22/anatomia-de-lagasca-99-ricos-latinoamericanos-sociedades-opacas-y-el-alquiler-mas-caro-de-madrid.html',\n",
       " 'https://elpais.com/opinion/editoriales/',\n",
       " '/opinion/2021-10-22/el-federalismo-y-la-magia.html']"
      ]
     },
     "execution_count": 4,
     "metadata": {},
     "output_type": "execute_result"
    }
   ],
   "source": [
    "lista_de_links[:6]"
   ]
  },
  {
   "cell_type": "markdown",
   "metadata": {},
   "source": [
    "### Ej1. Corregir las URLs\n",
    "\n",
    "Si nos fijamos, algunas URLs tienen la dirección completa (direccionamiento absoluto) y a otras le falta el \"https://www.elpais.com\" (direccionamiento relativo). \n",
    "\n",
    "Escribe una función que reciba la lista de URLs **lista_de_links** y devuelva otra lista corregida. \n",
    "\n",
    "Ojo, sól hay que corregir aquellas direcciones que no empiecen por http. Las que ya contengan una dirección absoluta, no hay que modificarlas."
   ]
  },
  {
   "cell_type": "code",
   "execution_count": null,
   "metadata": {},
   "outputs": [],
   "source": [
    "def corrige_url(lista):\n",
    "\n",
    "    return lista_corregida"
   ]
  },
  {
   "cell_type": "markdown",
   "metadata": {},
   "source": [
    "**SOLUCION**"
   ]
  },
  {
   "cell_type": "code",
   "execution_count": 5,
   "metadata": {},
   "outputs": [],
   "source": [
    "def corrige_url(lista):\n",
    "    lista_corregida=[]\n",
    "    for url in lista:\n",
    "        if url.lower()[:4]!=\"http\":\n",
    "            lista_corregida.append(\"https://www.elpais.com\"+url.lower())\n",
    "        else:\n",
    "            lista_corregida.append(url.lower())\n",
    "    return lista_corregida"
   ]
  },
  {
   "cell_type": "code",
   "execution_count": 6,
   "metadata": {},
   "outputs": [
    {
     "data": {
      "text/plain": [
       "['https://www.elpais.com/espana/2021-10-22/podemos-solicita-una-reunion-urgente-de-la-mesa-de-seguimiento-del-acuerdo-del-gobierno-de-coalicion.html',\n",
       " 'https://www.elpais.com/espana/2021-10-21/el-gobierno-y-el-pp-cierran-el-pacto-para-la-renovacion-de-las-altas-instituciones-salvo-el-poder-judicial.html',\n",
       " 'https://www.elpais.com/internacional/2021-10-22/la-practica-de-la-reconstruccion-del-himen-pervive-en-afganistan.html',\n",
       " 'https://www.elpais.com/espana/madrid/2021-10-22/anatomia-de-lagasca-99-ricos-latinoamericanos-sociedades-opacas-y-el-alquiler-mas-caro-de-madrid.html',\n",
       " 'https://elpais.com/opinion/editoriales/',\n",
       " 'https://www.elpais.com/opinion/2021-10-22/el-federalismo-y-la-magia.html']"
      ]
     },
     "execution_count": 6,
     "metadata": {},
     "output_type": "execute_result"
    }
   ],
   "source": [
    "lista_de_links_corregida=corrige_url(lista_de_links)\n",
    "lista_de_links_corregida[:6]"
   ]
  },
  {
   "cell_type": "markdown",
   "metadata": {},
   "source": [
    "### Ej2. Escribe un código para limitar el número de palabras del titular\n",
    "\n",
    "Escribe una función que reciba una frase en una variable **frase** y devuelva la frase truncada a un determinado número de palabras que también se le pasa como argumento **num**. Si la frase contiene menos palabras, no se ve afectada. Si la frase contiene más palabras, se trunca y se le añaden tres puntos suspensivos. Por ejemplo:\n",
    "\n",
    "    trunca(\"Una negociación larga y llena de obstáculos\",10)\n",
    "    'Una negociación larga y llena de obstáculos'\n",
    "    \n",
    "    trunca(\"Una negociación larga y llena de obstáculos\",5)\n",
    "    'Una negociación larga y llena ...'"
   ]
  },
  {
   "cell_type": "code",
   "execution_count": 113,
   "metadata": {},
   "outputs": [],
   "source": [
    "def trunca(frase, num):\n",
    "\n",
    "    return frase_truncada"
   ]
  },
  {
   "cell_type": "markdown",
   "metadata": {},
   "source": [
    "**SOLUCION**"
   ]
  },
  {
   "cell_type": "code",
   "execution_count": 7,
   "metadata": {},
   "outputs": [],
   "source": [
    "def trunca(frase, num):\n",
    "    palabras=frase.split(\" \")\n",
    "    if len(palabras) <= num:\n",
    "        return frase\n",
    "    else:\n",
    "        return \" \".join(palabras[:num]+[\"...\"])"
   ]
  },
  {
   "cell_type": "code",
   "execution_count": 8,
   "metadata": {},
   "outputs": [
    {
     "data": {
      "text/plain": [
       "'Una negociación larga y llena de obstáculos'"
      ]
     },
     "execution_count": 8,
     "metadata": {},
     "output_type": "execute_result"
    }
   ],
   "source": [
    "trunca(\"Una negociación larga y llena de obstáculos\",10)"
   ]
  },
  {
   "cell_type": "code",
   "execution_count": 9,
   "metadata": {},
   "outputs": [
    {
     "data": {
      "text/plain": [
       "'Una negociación larga y llena ...'"
      ]
     },
     "execution_count": 9,
     "metadata": {},
     "output_type": "execute_result"
    }
   ],
   "source": [
    "trunca(\"Una negociación larga y llena de obstáculos\",5)"
   ]
  },
  {
   "cell_type": "markdown",
   "metadata": {},
   "source": [
    "### Ej3. Escribe un código para imprimir los titulares en este formato\n",
    "\n",
    "Si revisamos la lista de titulares extraida al principio de la práctica, notamos que en los titulares aparecen unos símbolos extraños. Implementa una función **imprime_titulares** que corrija los símbolos extraños y muestra por pantalla todos los titulares recolectados y truncados en caso de que superen una longitud máxima de palabras. Por ejemplo:\n",
    "\n",
    "        imprime_titulares(lista_de_titulares,10)\n",
    "        \n",
    "        Hemos capturado 4 titulares: \n",
    "          - El PSOE acepta perfiles duros del PP para renovar el ...\n",
    "          - Una negociación larga y llena de obstáculos\n",
    "          - Reconstruirse el himen o jugarse la vida: la práctica pervive ...\n",
    "          - Anatomía de Lagasca 99: ricos latinoamericanos, el alquiler más caro ...\n",
    "\n",
    "Para ello tendrás que utilizar la función **trunca** implementada en el apartado anterior. Fíjate que esta función no tiene sentencia **return**"
   ]
  },
  {
   "cell_type": "code",
   "execution_count": null,
   "metadata": {},
   "outputs": [],
   "source": [
    "def imprime_titulares(lista, num):\n",
    "    "
   ]
  },
  {
   "cell_type": "markdown",
   "metadata": {},
   "source": [
    "**SOLUCION**"
   ]
  },
  {
   "cell_type": "code",
   "execution_count": 10,
   "metadata": {},
   "outputs": [],
   "source": [
    "def imprime_titulares(lista, num):\n",
    "    print(\"Hemos capturado {} titulares: \".format(len(lista)))\n",
    "    for titular in lista:\n",
    "        titular=titular.replace(u'\\xa0', u' ')\n",
    "        print(\"  -\",trunca(titular,num))"
   ]
  },
  {
   "cell_type": "code",
   "execution_count": 11,
   "metadata": {},
   "outputs": [
    {
     "name": "stdout",
     "output_type": "stream",
     "text": [
      "Hemos capturado 123 titulares: \n",
      "  - Podemos convoca la mesa de crisis de la coalición por ...\n",
      "  - El PSOE acepta perfiles duros del PP para renovar el ...\n",
      "  - Reconstruirse el himen o jugarse la vida: la práctica pervive ...\n",
      "  - Anatomía de Lagasca 99: ricos latinoamericanos, el alquiler más caro ...\n",
      "  - EDITORIALLa derecha en el diván\n",
      "  - El federalismo y la magia\n",
      "  - El factor político del final del terrorismo\n",
      "  - Fumando Facebook\n",
      "  - Una atmósfera envenenada por el terror\n",
      "  - Telémaco ya no espera a Ulises\n",
      "  - Confusión\n",
      "  - Carolina Durante y la chica del suéter \n",
      "  - Albiol afronta la amenaza de ser inhabilitado tras la moción ...\n",
      "  - ERC, PNV y Bildu se distancian del Gobierno en la ...\n",
      "  - La Guardia Civil concluye que Laura Borràs “dio indicaciones” para ...\n",
      "  - El Ejecutivo aplaza a la próxima legislatura los límites al ...\n",
      "  - Alec Baldwin mata accidentalmente a una directora de fotografía con ...\n",
      "  - La red social de Donald Trump, ‘hackeada’ antes de su ...\n",
      "  - Evergrande esquiva la quiebra tras pagar los intereses millonarios de ...\n",
      "  - El líder de una de las pandillas amenaza con matar ...\n",
      "  - Mario Picazo: “Cuanta más energía se le mete al planeta, ...\n",
      "  - Buckingham revela ahora que Isabel II pasó la noche del ...\n",
      "  - Sevilla se convierte en el Olimpo del baloncesto español\n",
      "  - A los jueces de Masterchef se les atraganta la pandemia: ...\n",
      "  - Haz musaka como si fueras de Grecia\n",
      "  - “Cada vez que nos cierran una puerta, abrimos otra”. La ...\n",
      "  - ‘Podcast’ | Capítulo 2 de Los Papeles: en la cima\n",
      "  - Ai Weiwei: memorias de un hombre sin hogar\n",
      "  - Gerard Esteva, un nuevo capitán de la derecha en Barcelona ...\n",
      "  - Los Mossos destapan un fraude millonario con falsos vinos de ...\n",
      "  - Angela Merkel se despide de Bruselas tras 107 cumbres europeas\n",
      "  - Narcolanchas y coches de lujo convertidos en chatarra frente a ...\n",
      "  - Los 16.000 profesores que aspiran a una plaza de titular ...\n",
      "  - Los contagios de covid en España se estancan en el ...\n",
      "  - La UE alerta del riesgo de nuevas variantes en los ...\n",
      "  - La ola de enfermos sin vacunar satura los hospitales de ...\n",
      "  - Johnson ignora la alerta de la comunidad médica ante el ...\n",
      "  - La tuberculosis se transmite con la respiración como el coronavirus ...\n",
      "  - Al rescate de animales domésticos cercados por la lava entre ...\n",
      "  - Un misterioso Equipo A se atribuye el rescate de los ...\n",
      "  - ¿Por qué la lava no funde el propio volcán?\n",
      "  - Angustia ante la evacuación en Tazacorte: “Nos tenía que tocar ...\n",
      "  - ¿Cómo invertir en el futuro?\n",
      "  - La Flaviaugusta romana vuelve a la luz con un misterio\n",
      "  - Alexandre Desplat, el compositor más deseado del cine de autor\n",
      "  - En casa del abuelo Fernando Fernán Gómez\n",
      "  - Elizabeth Siddal, mucho más que una musa\n",
      "  - El circo clásico de carpa se pone en pie de ...\n",
      "  - Retina SQL: diálogos improbables, un debate sobre los posibles futuros ...\n",
      "  - La pizpireta ‘Blossom’ es ahora una polemista: cómo Mayim Bialik ...\n",
      "  - ¿Es para tanto ‘El juego del calamar’?\n",
      "  - Un estudio de producción liderado por mujeres para cambiar el ...\n",
      "  - Steinem: “El autoritarismo comienza con el control sobre el cuerpo ...\n",
      "  - En el foso: las crónicas de Carrère sobre los atentados ...\n",
      "  - La verdad sobre el caso Carmen Mola\n",
      "  - Nadie escucha a los jóvenes de la Generación Z\n",
      "  - Rota, una vida entre dos mundos\n",
      "  - El Congreso de EE UU declara en desacato a Steve ...\n",
      "  - Un conservador católico con siete hijos, la esperanza de la ...\n",
      "  - La extradición a EE UU de tres piezas clave del ...\n",
      "  - Meritxell Batet aplaza su decisión sobre el diputado Alberto Rodríguez ...\n",
      "  - La Generalitat cuestiona que el Tribunal de Cuentas pueda negarse ...\n",
      "  - Asalto a la comisaría de las puertas abiertas\n",
      "  - Renault estima la pérdida de medio millón de vehículos en ...\n",
      "  - La Reserva Federal prohíbe a sus altos funcionarios comprar acciones ...\n",
      "  - Hacienda impone otra multa de 63 millones a Cemex\n",
      "  - Madrid admite ahora que los niños solo se podrán quitar ...\n",
      "  - Hallado en Florida el cadáver del novio de la ‘instagrammer’ ...\n",
      "  - Argentina: prohibido jugar al fútbol por ser niñas\n",
      "  - La lava engulló un colegio público: sus maestras montaron uno ...\n",
      "  - Comedores escolares en modo de supervivencia\n",
      "  - La niña tiesto y otras mil formas de arte para ...\n",
      "  - El Consejo de Seguridad Nuclear investiga por qué dos trabajadores ...\n",
      "  - El cambio climático amenaza los esfuerzos para erradicar las enfermedades ...\n",
      "  - Arenales del Sol se libra de su hotel en ruinas ...\n",
      "  - Demostrada la existencia de células madre en el cerebro que ...\n",
      "  - Los vikingos ya estaban en América hace ahora justo 1.000 ...\n",
      "  - Reconstruidos los rostros de tres momias egipcias con ADN de ...\n",
      "  - Una feria para evitar que el talento tecnológico se vaya ...\n",
      "  - España alcanza un acuerdo con EE UU para mantener la ...\n",
      "  - La polémica tecnología del reconocimiento facial acecha a los niños ...\n",
      "  - La asfixia del fútbol\n",
      "  - El balón rueda en Silicon Valley, por Andoni Zubizarreta\n",
      "  - Teresa Perales: “La barrera con la que no puedo es ...\n",
      "  - ‘La crónica francesa’: otra monería hueca de Wes Anderson\n",
      "  - Andrés Parra: “Pablo Escobar es un chiste al lado de ...\n",
      "  - Cuatro excelentes apuestas negras de cuatro editoriales pequeñas\n",
      "  - Évole recupera su interpretación de ‘Grita’ de Pau Donés para ...\n",
      "  - Ruby Rose revela que sufrió unas condiciones de trabajo abusivas ...\n",
      "  - ‘Vigil’ : ¿es tan buena o tan mala como dicen?, ...\n",
      "  - A la modernidad de la joyería a través del arte ...\n",
      "  - El jugador 1 de ‘El juego del calamar’ habla sobre ...\n",
      "  - Meghan Markle aboga ante el Senado de EE UU por ...\n",
      "  - Wes Gordon: “Diseño para la mujer que vive cada minuto ...\n",
      "  - Elizabeth Wittlin, la dama polaca de Lavapiés\n",
      "  - Claudia Salas: “La fama te lo pone todo muy bonito ...\n",
      "  - “¿Alguna vez le has pagado la cena y sentías que ...\n",
      "  - Isabel II y Angela Merkel, cazadoras de asesinos: en la ...\n",
      "  - Pearl Jam, cómo sobrevivir al ‘grunge’ en 10 pasos\n",
      "  - Oro rojo y fondo verde en La Vera\n",
      "  - Ocho libros para viajar este otoño\n",
      "  - Alexéi Navalni, el agitador que desafía a Putin\n",
      "  - Furor por las ‘apps’ de meditación: ¿revolución del bienestar o ...\n",
      "  - Cómo evitar que la inflación se coma su hucha\n",
      "  - El gran ganador de la escasez de chips en el ...\n",
      "  - Las otras Carmen Mola: así fueron las grandes ‘estafas’ del ...\n",
      "  - Pier Paolo Pasolini, elogio de la herejía\n",
      "  - El idioma que traje conmigo: así suena África oriental en ...\n",
      "  - El matrimonio infantil, ese atentado contra las niñas\n",
      "  - Impuesto de matriculación 2022: cuándo subirá y cómo pagarlo\n",
      "  - Así es el XEV Yoyo, un electrodoméstico sobre ruedas\n",
      "  - Ensalada de uvas con aliño tailandés\n",
      "  - Ñoquis de calabaza con mantequilla y salvia\n",
      "  - Cinc restaurants per xalar amb les verdures\n",
      "  - Hofmannsthal aborda el desig desconeixent la sexualitat femenina\n",
      "  - Evita las manchas y los pelos de mascotas con esta ...\n",
      "  - Los mejores sacos térmicos de semillas para aplicar frío o ...\n",
      "  - Más de la mitad de las renovables triplica su beneficio ...\n",
      "  - La anécdota de Calderón con LeBron James: \"Se acerca mi ...\n",
      "  - Así explica el prestigioso ‘The Economist’ quién es Ayuso: solo ...\n",
      "  - \"Hazard se irá del Real Madrid si no le dan ...\n",
      "  - Epic Games regala 10 euros por suscribirse a sus correos: ...\n",
      "  - Inscríbete en el taller de periodismo de datos\n"
     ]
    }
   ],
   "source": [
    "imprime_titulares(lista_de_titulares,10)"
   ]
  },
  {
   "cell_type": "markdown",
   "metadata": {},
   "source": [
    "### Ej4. Filtrado de titulares\n",
    "\n",
    "Escribe el código de una funcion que reciba la lista de titulares, una lista de palabras clave y una variable string **logica** que sólo puede tomar dos valores \"AND\" y \"OR\". Implementa un código que filtre los titulares atendiendo al contenido de la variable **logica**:\n",
    "\n",
    "* Si **logica** es \"OR\", entonces sólo pasarán los titulares que incluyan alguna de las keywords\n",
    "* Si **logica** es \"AND\", entonces sólo pasarán los titulares que incluyan todas las keywords\n",
    "* Si no se le pasa valor a la variable lógica, por defecto, tomará el valor \"OR\"\n",
    "\n",
    "\n",
    "        filtrado(lista_de_titulares,[\"España\", \"Covid\"], logica=\"OR\")\n",
    "        \n",
    "        ['Los contagios de covid en España se estancan en el nivel de riesgo bajo',\n",
    "         'España alcanza un acuerdo con EE UU para mantener la ‘tasa Google’ hasta 2023',\n",
    "         'El idioma que traje conmigo: así suena África oriental en España']\n",
    "         \n",
    "        filtrado(lista_de_titulares,[\"España\", \"Covid\"], logica=\"AND\")\n",
    "        \n",
    "        ['Los contagios de covid en España se estancan en el nivel de riesgo bajo']\n",
    "        "
   ]
  },
  {
   "cell_type": "code",
   "execution_count": null,
   "metadata": {},
   "outputs": [],
   "source": [
    "def filtrado(lista, keywords, logica=\"OR\"):\n",
    "\n",
    "    return lista_filtrada"
   ]
  },
  {
   "cell_type": "markdown",
   "metadata": {},
   "source": [
    "**SOLUCION**"
   ]
  },
  {
   "cell_type": "code",
   "execution_count": 12,
   "metadata": {},
   "outputs": [],
   "source": [
    "def filtrado(lista, keywords, logica=\"OR\"):\n",
    "    keywords= [k.lower() for k in keywords]\n",
    "    lista_filtrada=[]\n",
    "    for titular in lista:\n",
    "        titular=titular.replace(u'\\xa0', u' ')\n",
    "        palabras=titular.split(\" \")\n",
    "        palabras=[p.lower() for p in palabras]\n",
    "        if logica==\"OR\":\n",
    "            for p in palabras:\n",
    "                if p in keywords:\n",
    "                    # Con encontrar una sóla de las keywords en el titular ya es suficiente\n",
    "                    lista_filtrada.append(titular)\n",
    "                    break\n",
    "        elif logica==\"AND\":\n",
    "            keys_found=0\n",
    "            for k in keywords:\n",
    "                if k in palabras:\n",
    "                    keys_found=keys_found+1\n",
    "            if keys_found==len(keywords):\n",
    "                lista_filtrada.append(titular)\n",
    "    return lista_filtrada"
   ]
  },
  {
   "cell_type": "code",
   "execution_count": 13,
   "metadata": {},
   "outputs": [
    {
     "data": {
      "text/plain": [
       "['Los contagios de covid en España se estancan en el nivel de riesgo bajo']"
      ]
     },
     "execution_count": 13,
     "metadata": {},
     "output_type": "execute_result"
    }
   ],
   "source": [
    "lista_filtrada=filtrado(lista_de_titulares,[\"España\", \"Covid\"], logica=\"AND\")\n",
    "lista_filtrada"
   ]
  },
  {
   "cell_type": "code",
   "execution_count": 14,
   "metadata": {},
   "outputs": [
    {
     "data": {
      "text/plain": [
       "['Los contagios de covid en España se estancan en el nivel de riesgo bajo',\n",
       " 'España alcanza un acuerdo con EE UU para mantener la ‘tasa Google’ hasta 2023',\n",
       " 'El idioma que traje conmigo: así suena África oriental en España']"
      ]
     },
     "execution_count": 14,
     "metadata": {},
     "output_type": "execute_result"
    }
   ],
   "source": [
    "lista_filtrada=filtrado(lista_de_titulares,[\"España\", \"Covid\"], logica=\"OR\")\n",
    "lista_filtrada"
   ]
  },
  {
   "cell_type": "markdown",
   "metadata": {},
   "source": [
    "### Ej5. Redacción de un correo\n",
    "\n",
    "Escribe una función que utilizando la lista filtrada de titulares **lista_filtrada** readacte un correo informando al usuario que para las keywords seleccionadas se han econtrado los siguientes titulares. No olvida incluir la URL del artículo. \n",
    "Generar una variable de tipo STRING **correo** que tenga una pinta similar a la sig\n",
    "\n",
    "    body=correo(lista_de_titulares, lista_de_links_corregida, lista_filtrada, [\"España\", \"Covid\"])\n",
    "    print(body)\n",
    "    \n",
    "    Hola,\n",
    "    esta es la lista de artículos que coincide con tus keywords: España,Covid\n",
    "      - Los contagios de covid en España se estancan en el nivel de riesgo bajo\n",
    "        https://www.elpais.com/sociedad/2021-10-22/los-contagios-de-covid-en-espana-se-estancan-en-el-nivel-de-riesgo-bajo.html\n",
    "      - España alcanza un acuerdo con EE UU para mantener la ‘tasa Google’ hasta 2023\n",
    "        https://www.elpais.com/economia/2021-10-21/espana-alcanza-un-acuerdo-con-ee-uu-para-mantener-la-tasa-google-hasta-2023.html\n",
    "      - El idioma que traje conmigo: así suena África oriental en España\n",
    "        https://www.elpais.com/planeta-futuro/2021-10-21/el-idioma-que-traje-conmigo-asi-suena-africa-oriental-en-espana.html\n",
    "    Bye "
   ]
  },
  {
   "cell_type": "code",
   "execution_count": null,
   "metadata": {},
   "outputs": [],
   "source": [
    "def genera_correo(lista_titulares, links_corregidos, lista_filtrada, keywords):\n",
    "\n",
    "    return correo"
   ]
  },
  {
   "cell_type": "markdown",
   "metadata": {},
   "source": [
    "**SOLUCION**"
   ]
  },
  {
   "cell_type": "code",
   "execution_count": 15,
   "metadata": {},
   "outputs": [],
   "source": [
    "def genera_correo(lista_titulares, links_corregidos, lista_filtrada, keywords):\n",
    "    correo=\"Hola,\\nesta es la lista de artículos que coincide con tus keywords: \"\n",
    "    correo=correo+\",\".join(keywords)\n",
    "    correo=correo+\"\\n\"\n",
    "    titulares=[t.replace(u'\\xa0', u' ').lower() for t in lista_titulares]\n",
    "    for titular in lista_filtrada:\n",
    "        indice=titulares.index(titular.lower())\n",
    "        correo=correo+\"  - {}\\n    {}\\n\".format(titular,links_corregidos[indice])\n",
    "    correo=correo+\"Bye\"\n",
    "    return correo"
   ]
  },
  {
   "cell_type": "code",
   "execution_count": 16,
   "metadata": {},
   "outputs": [
    {
     "name": "stdout",
     "output_type": "stream",
     "text": [
      "Hola,\n",
      "esta es la lista de artículos que coincide con tus keywords: España,Covid\n",
      "  - Los contagios de covid en España se estancan en el nivel de riesgo bajo\n",
      "    https://www.elpais.com/sociedad/2021-10-22/los-contagios-de-covid-en-espana-se-estancan-en-el-nivel-de-riesgo-bajo.html\n",
      "  - España alcanza un acuerdo con EE UU para mantener la ‘tasa Google’ hasta 2023\n",
      "    https://www.elpais.com/economia/2021-10-21/espana-alcanza-un-acuerdo-con-ee-uu-para-mantener-la-tasa-google-hasta-2023.html\n",
      "  - El idioma que traje conmigo: así suena África oriental en España\n",
      "    https://www.elpais.com/planeta-futuro/2021-10-21/el-idioma-que-traje-conmigo-asi-suena-africa-oriental-en-espana.html\n",
      "Bye\n"
     ]
    }
   ],
   "source": [
    "body=genera_correo(lista_de_titulares, lista_de_links_corregida, lista_filtrada, [\"España\", \"Covid\"])\n",
    "print(body)"
   ]
  },
  {
   "cell_type": "markdown",
   "metadata": {},
   "source": [
    "### Envía un correo\n",
    "\n",
    "Por último, utiliza la función proporcionada en la celda siguiente para enviar el correo construido con la función **genera_correo** y verifica que lo recibes correctamente."
   ]
  },
  {
   "cell_type": "code",
   "execution_count": 17,
   "metadata": {},
   "outputs": [],
   "source": [
    "import smtplib\n",
    "from email.message import EmailMessage\n",
    "\n",
    "def send(email_from,email_to,password, body):\n",
    "    msg = EmailMessage()\n",
    "    msg['Subject'] = 'Automated mail with news stories'\n",
    "    msg['From'] = email_from\n",
    "    msg['To'] = email_to\n",
    "    msg.set_content(body)\n",
    "    server = smtplib.SMTP('smtp.office365.com', 587)\n",
    "    server.ehlo()\n",
    "    server.starttls()\n",
    "    server.ehlo()\n",
    "    server.login(email_from, password)\n",
    "    server.send_message(msg)\n",
    "    server.rset()\n",
    "    server.quit()"
   ]
  },
  {
   "cell_type": "code",
   "execution_count": 18,
   "metadata": {},
   "outputs": [],
   "source": [
    "send(email_from=\"xxxxxxx@comillas.edu\",email_to=\"xxxxxxx@comillas.edu\",password=\"ESCRIBE AQUI TU CONTRASEÑA\", body=body)"
   ]
  }
 ],
 "metadata": {
  "kernelspec": {
   "display_name": "Python 3",
   "language": "python",
   "name": "python3"
  },
  "language_info": {
   "codemirror_mode": {
    "name": "ipython",
    "version": 3
   },
   "file_extension": ".py",
   "mimetype": "text/x-python",
   "name": "python",
   "nbconvert_exporter": "python",
   "pygments_lexer": "ipython3",
   "version": "3.8.8"
  }
 },
 "nbformat": 4,
 "nbformat_minor": 4
}

{
 "cells": [
  {
   "cell_type": "markdown",
   "metadata": {},
   "source": [
    "# Colores de frutas\n",
    "\n",
    "Se dispone del fichero de texto CSV llamado **frutas.csv** con la siguiente estructura:    \n",
    "\n",
    "        Uva;negra;amarilla;roja;verde    \n",
    "        Manzana;amarilla;roja;verde;marrón;blanca;bicolor\n",
    "\n",
    "El fichero **no contiene cabecera** y se compone de un primer campo con el nombre de una fruta, seguido de un número **VARIABLE** de campos que representan variedades de colores para esa fruta."
   ]
  },
  {
   "cell_type": "markdown",
   "metadata": {},
   "source": [
    "## Ej1. Función LeerFichero (1 pto.)\n",
    "\n",
    "Escribe la función **LeerFichero** que recibe el **fichero** como único argumento de entrada y devuelve el **diccionario dicColors** como única salida. El diccionario **dicColors** hay que crearlo y rellenarlo dentro de la función. El diccionario **dicColors** tendrá como claves los nombres de los colores y como valores una lista con las frutas que están disponibles en ese color dentro del fichero **frutas.csv**.\n",
    "\n",
    "El contenido del fichero tiene esta pinta: \n",
    "\n",
    "    Uva;negra;amarilla;roja;verde  \n",
    "    Manzana;amarilla;roja;verde;marrón;blanca;bicolor  \n",
    "    Sandía;roja;amarilla  \n",
    "    ....\n",
    "\n",
    "El Diccionario **dicColors** que hay que devolver deberá tener la siguiente apariencia:\n",
    "\n",
    "    'negra': ['Uva', 'Mora'],     \n",
    "    'amarilla': ['Uva', 'Manzana', 'Sandía', 'Pera', 'Kiwi', 'Naranja', 'Piña', 'Guayaba', 'Plátano', 'Limón', 'Melón', 'Fresa', 'Papaya'], \n",
    "    ..."
   ]
  },
  {
   "cell_type": "code",
   "execution_count": null,
   "metadata": {},
   "outputs": [],
   "source": [
    "def LeerFichero(f):\n",
    "    \n",
    "    "
   ]
  },
  {
   "cell_type": "markdown",
   "metadata": {},
   "source": [
    "#### SOLUCIÓN."
   ]
  },
  {
   "cell_type": "code",
   "execution_count": 7,
   "metadata": {},
   "outputs": [],
   "source": [
    "def LeerFichero(f):\n",
    "    dicColors={}\n",
    "    \n",
    "    for linea in f:\n",
    "        data=linea.split(';')\n",
    "        for i in range(0, len(data)):\n",
    "            if i==0:\n",
    "                fruta=data[i]\n",
    "            else:\n",
    "                color=data[i].rstrip(\"\\n\")         # quitar \\n del final si lo hay\n",
    "                if color in dicColors:\n",
    "                    dicColors[color].append(fruta)\n",
    "                else:\n",
    "                    dicColors[color]=[fruta]          \n",
    "    return dicColors  "
   ]
  },
  {
   "cell_type": "markdown",
   "metadata": {},
   "source": [
    "## Ej2. Función ObtenColores (2 Ptos.)\n",
    "\n",
    "Escribe la función **ObtenColores** que recibe el diccionario **dicColors** creado en el apartado anterior y devuelve **dos elementos: una lista y un número entero**.\n",
    "\n",
    "La lista **listColors** se creará y rellenará dentro de la función y contendrá los colores menos frecuentes (los que se dan en menor número de frutas). La función devolverá la lista **listColors** con los colores menos frecuentes y un número entero que represeta el número de frutas en los que se dan esos colores. \n",
    "\n",
    "**Ejemplo de ejecución:**\n",
    "\n",
    "    ObtenColores(dicColors)\n",
    "\n",
    "    (['rosacea', 'rosa', 'azul'], 1)\n",
    "\n",
    "**NOTA: Si no has conseguido crear el diccionario dicColors en el apartado anterior, puedes crearlo a mano con estos valores** \n",
    "\n",
    "    'negra': ['Uva', 'Mora'],  \n",
    "    'amarilla':['Uva','Manzana','Sandía','Pera','Kiwi','Naranja','Piña','Guayaba','Plátano','Limón','Melón','Fresa','Papaya'],  \n",
    "    'roja': ['Uva','Manzana','Sandía','Melocotón','Naranja','Guayaba','Mora','Fresa','Frambuesa'],  \n",
    "    'verde': ['Uva', 'Manzana', 'Pera', 'Kiwi', 'Lima'],  \n",
    "    'marrón': ['Manzana', 'Pera', 'Dátil'],  \n",
    "    'blanca': ['Manzana', 'Coco', 'Plátano', 'Melón', 'Chirimoya', 'Guanabana'],  \n",
    "    'bicolor': ['Manzana', 'Melocotón', 'Pitaya'],  \n",
    "    'naranja': ['Melocotón', 'Naranja', 'Melón', 'Papaya'],  \n",
    "    'rosacea': ['Melocotón'],  \n",
    "    'rosa': ['Guayaba'],  \n",
    "    'azul': ['Arandano']"
   ]
  },
  {
   "cell_type": "code",
   "execution_count": null,
   "metadata": {},
   "outputs": [],
   "source": [
    "def ObtenColores(dicColors):\n",
    "    \n",
    "    "
   ]
  },
  {
   "cell_type": "markdown",
   "metadata": {},
   "source": [
    "#### SOLUCIÓN 1."
   ]
  },
  {
   "cell_type": "code",
   "execution_count": 8,
   "metadata": {},
   "outputs": [],
   "source": [
    "def ObtenColores(dicColors):\n",
    "    \n",
    "    minimo=100000\n",
    "    listColors=[]\n",
    "\n",
    "    for color in dicColors.keys():\n",
    "        listfruits= dicColors[color]\n",
    "        if (len(listfruits)== minimo):\n",
    "            listColors.append(color)\n",
    "        elif (len(listfruits)< minimo):\n",
    "            minimo=len(listfruits)      # nuevo mínimo\n",
    "            listColors=[color]          # nueva lista\n",
    "\n",
    "    return listColors, minimo  "
   ]
  },
  {
   "cell_type": "markdown",
   "metadata": {},
   "source": [
    "#### SOLUCIÓN 2."
   ]
  },
  {
   "cell_type": "code",
   "execution_count": 9,
   "metadata": {},
   "outputs": [],
   "source": [
    "def ObtenColores(dicColors):\n",
    "    listColors=[]\n",
    "    minimo=min([len(i) for i in dicColors.values()])\n",
    "    for k,v in dicColors.items():\n",
    "        if len(v)==minimo:\n",
    "            listColors.append(k)\n",
    "    return listColors, minimo"
   ]
  },
  {
   "cell_type": "markdown",
   "metadata": {},
   "source": [
    "## Ej3. PintarDiagrama (1 pto.)\n",
    "\n",
    "Escribe la función **PintarDiagrama** que recibe el diccionario **dicColors** y no devuelve nada. La función debe pintar un gráfico de barras que tenga en el eje X los diferentes colores y en el eje Y el número de frutas que se dan para cada color. El gráfico de barras deberá replicar la imagen que aparece en el apartado 4.\n",
    "\n",
    "**Nota:** Si no has obtenido el diccionario **dicColors** en pasos anteriores, puedes contruirlo a mano con los valores del apartado 2"
   ]
  },
  {
   "cell_type": "code",
   "execution_count": null,
   "metadata": {},
   "outputs": [],
   "source": [
    "def PintarDiagrama(dicColors):\n",
    "    \n",
    "    \n",
    "    "
   ]
  },
  {
   "cell_type": "markdown",
   "metadata": {},
   "source": [
    "#### SOLUCIÓN."
   ]
  },
  {
   "cell_type": "code",
   "execution_count": 10,
   "metadata": {},
   "outputs": [],
   "source": [
    "import matplotlib.pyplot as plt\n",
    "\n",
    "def PintarDiagrama(dicColors):\n",
    "    \n",
    "    colores=list(dicColors.keys())\n",
    "    numero_frutas=[]\n",
    "    for k in colores:\n",
    "        numero_frutas.append(len(dicColors[k]))\n",
    "\n",
    "    plt.bar(colores,numero_frutas)\n",
    "    plt.xlabel('Variedad de Colores')\n",
    "    plt.ylabel('Número de frutas que tienen ese color')\n",
    "    plt.title(\"Análisis de Frutas y sus Colores\")\n",
    "    plt.xticks(rotation=-45)\n",
    "    plt.show()"
   ]
  },
  {
   "attachments": {},
   "cell_type": "markdown",
   "metadata": {},
   "source": [
    "## Ej4. Programa principal (2 ptos.)\n",
    "\n",
    "En este apartado se pide crear un programa que cumpla con los siguientes requisitos:\n",
    "\n",
    "* El programa tiene que mostrar contínuamente un menú principal hasta que el usuario seleccione la opción salir.\n",
    "* Se debe validar que la opción introducida sea correcta y en caso contrario mostrar un mensaje de error antes de volver a pedir una nueva opción\n",
    "  \n",
    "**Ejemplo de ejecución:** \n",
    "\n",
    "\n",
    "    MENU\n",
    "    1. Lee fichero de entrada\n",
    "    2. Obtener lista de colores que menos frutas tienen\n",
    "    3. Pintar diagrama de barras\n",
    "    4. Salir\n",
    "\n",
    "    Introduce una opción: 7\n",
    "    ERROR: Opción no válida.\n",
    "\n",
    "    MENU\n",
    "    1. Lee fichero de entrada\n",
    "    2. Obtener lista de colores que menos frutas tienen\n",
    "    3. Pintar diagrama de barras\n",
    "    4. Salir\n",
    "    \n",
    "    Introduce una opción: 2\n",
    "    ERROR: Ejecute primero la opción 1\n",
    "\n",
    "    MENU\n",
    "    1. Lee fichero de entrada\n",
    "    2. Obtener lista de colores que menos frutas tienen\n",
    "    3. Pintar diagrama de barras\n",
    "    4. Salir\n",
    "    \n",
    "    Introduce una opción: 1\n",
    "    Fichero Leido correctamente\n",
    "\n",
    "    MENU\n",
    "    1. Lee fichero de entrada\n",
    "    2. Obtener lista de colores que menos frutas tienen\n",
    "    3. Pintar diagrama de barras\n",
    "    4. Salir\n",
    "    \n",
    "    Introduce una opción: 2\n",
    "    Los colores menos frecuentes son: \n",
    "    rosacea\n",
    "    rosa\n",
    "    azul\n",
    "\n",
    "    MENU\n",
    "    1. Lee fichero de entrada\n",
    "    2. Obtener lista de colores que menos frutas tienen\n",
    "    3. Pintar diagrama de barras\n",
    "    4. Salir\n",
    "    \n",
    "    Introduce una opción: 3\n",
    "\n",
    "<img src=\"img/grafico.jpg\" width=\"400\"/>\n",
    "\n",
    "\n",
    "    MENU\n",
    "    1. Lee fichero de entrada\n",
    "    2. Obtener lista de colores que menos frutas tienen\n",
    "    3. Pintar diagrama de barras\n",
    "    4. Salir\n",
    "    \n",
    "    Introduce una opción: 4\n",
    "    \n",
    "    Gracias por usar el programa. Adios"
   ]
  },
  {
   "cell_type": "markdown",
   "metadata": {},
   "source": [
    "**SOLUCIÓN:**"
   ]
  },
  {
   "cell_type": "code",
   "execution_count": 80,
   "metadata": {},
   "outputs": [],
   "source": [
    "opc=-1\n",
    "dicColors={}\n",
    "      \n",
    "while (opc!=4):\n",
    "    print(\"\\n#### MENU ####\")\n",
    "    print(\"1. Lee fichero de entrada\")\n",
    "    print(\"2. Obtener lista de colores que menos frutas tienen\")\n",
    "    print(\"3. Pintar diagrama de barras\")\n",
    "    print(\"4. Salir\\n\")\n",
    "    opc= int(input(\"Introduce una opción: \"))\n",
    "    \n",
    "    if(opc<1 or opc>4):\n",
    "            print(\"ERROR: Opción no válida.\")      \n",
    "    else:     \n",
    "        if (opc==1):\n",
    "            f=open(\"frutas.csv\",\"r\", encoding=\"utf8\")\n",
    "            dicColors=LeerFichero(f)\n",
    "            print(\"Fichero Leido correctamente\")\n",
    "            f.close()\n",
    "        elif (opc==2):\n",
    "            if(len(dicColors)==0):\n",
    "                print(\"ERROR: Ejecute primero la opción 1\")\n",
    "            else:\n",
    "                listColors=[]\n",
    "                res=ObtenColores(dicColors)\n",
    "                print(\"Los colores menos frecuentes son: \")\n",
    "                for i in res[0]:\n",
    "                    print(i)  \n",
    "        elif (opc==3):\n",
    "            if(len(dicColors)==0):\n",
    "                print(\"ERROR: Ejecute primero la opción 1\")\n",
    "            else:\n",
    "                PintarDiagrama(dicColors)\n",
    "        else:\n",
    "             print(\"Gracias por usar el programa. Adios\")"
   ]
  }
 ],
 "metadata": {
  "kernelspec": {
   "display_name": "Python 3",
   "language": "python",
   "name": "python3"
  },
  "language_info": {
   "codemirror_mode": {
    "name": "ipython",
    "version": 3
   },
   "file_extension": ".py",
   "mimetype": "text/x-python",
   "name": "python",
   "nbconvert_exporter": "python",
   "pygments_lexer": "ipython3",
   "version": "3.8.8"
  }
 },
 "nbformat": 4,
 "nbformat_minor": 4
}

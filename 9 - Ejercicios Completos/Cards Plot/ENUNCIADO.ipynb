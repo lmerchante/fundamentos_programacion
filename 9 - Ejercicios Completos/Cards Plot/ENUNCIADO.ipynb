{
 "cells": [
  {
   "cell_type": "markdown",
   "metadata": {},
   "source": [
    "# Juego de Cartas visual"
   ]
  },
  {
   "cell_type": "markdown",
   "metadata": {},
   "source": [
    "## Ej1. Lectura de ficheros\n",
    "\n",
    "El fichero \"cards.txt\" es un fichero de texto que contiene 13 símbolos en formato string. Cada símbolo ocupa 11 líneas. Hay que leer esos 13 símbolos y construir un diccionario similar a este:\n",
    "\n",
    "        cards={1: <........>,\n",
    "                 2: <........>,\n",
    "                 .\n",
    "                 .\n",
    "                 13: <........>}\n",
    "#### **Solución:**"
   ]
  },
  {
   "cell_type": "code",
   "execution_count": null,
   "metadata": {},
   "outputs": [],
   "source": []
  },
  {
   "cell_type": "markdown",
   "metadata": {},
   "source": [
    "## Ej2. Salvado a fichero binario\n",
    "\n",
    "Guarda el diccionario del ejercicio anterior a un fichero binario llamado \"backup.dat\". Comprueba que se ha guardado correctamente volviendo a leerlo en otra variable diferente.\n",
    "#### **Solución:**"
   ]
  },
  {
   "cell_type": "code",
   "execution_count": null,
   "metadata": {},
   "outputs": [],
   "source": []
  },
  {
   "attachments": {},
   "cell_type": "markdown",
   "metadata": {},
   "source": [
    "## Ej3. Crea una función que devuelva y presente N cartas\n",
    "\n",
    "Utiliza el diccionario generado en el apartado anterior para imprimir una secuencia de N cartas. Para ello habrá que crear una función llamada **print_cards** que recibirá como argumento el diccionario del ejercicio anterior y un número entero N de cartas que queremos imprimir. El código debe imprimir los símbolos uno al lado del otro. Para ello habrá que dividir las cartas en lineas y hacer un código que vaya imprimiendo la primera linea de las N cartas, la segunda linea de las N cartas, la tercera línea de  las N cartas,....\n",
    "\n",
    "El resultado debe ser similar a este:\n",
    "\n",
    "![output.png](output.png)\n",
    "#### **Solución:**"
   ]
  },
  {
   "cell_type": "code",
   "execution_count": null,
   "metadata": {},
   "outputs": [],
   "source": []
  },
  {
   "cell_type": "markdown",
   "metadata": {},
   "source": [
    "## Ejercicios propuestos. \n",
    "\n",
    "* Haz un código que añada un string: \"Corazones\",\"Picas\",\"Trevoles\",\"Diamantes\" a cada una de las cartas\n",
    "* Genera una baraja completa\n",
    "* Haz un código que te genere N cartas no repetidas de una baraja completa, con su número y su palo"
   ]
  }
 ],
 "metadata": {
  "kernelspec": {
   "display_name": "Python 3",
   "language": "python",
   "name": "python3"
  },
  "language_info": {
   "codemirror_mode": {
    "name": "ipython",
    "version": 3
   },
   "file_extension": ".py",
   "mimetype": "text/x-python",
   "name": "python",
   "nbconvert_exporter": "python",
   "pygments_lexer": "ipython3",
   "version": "3.8.8"
  }
 },
 "nbformat": 4,
 "nbformat_minor": 2
}

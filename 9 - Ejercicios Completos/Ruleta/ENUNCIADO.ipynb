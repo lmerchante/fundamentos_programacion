{
 "cells": [
  {
   "cell_type": "markdown",
   "metadata": {},
   "source": [
    "# Ruleta"
   ]
  },
  {
   "cell_type": "markdown",
   "metadata": {},
   "source": [
    "El examen consiste en programar un juego en el que hay que advinar el título de una película elegida al azar. El código casi completo del juego se proporciona al final del enunciado. La tarea del alumno consiste en programar las funciones que faltan para que el juego funcione como en el ejemplo proporcionado en la figura.\n",
    "\n",
    "Los pasos serían los siguientes:\n",
    "\n",
    "1. Elegir un título al azar del fichero \"movies.txt\"\n",
    "2. El usuario intenta adivinarlo\n",
    "3. Si acierta, el juego termina y recibe la máxima puntuación\n",
    "4. Si no acierta el juego muestra una letra de entre las disponibles en el título\n",
    "5. El usuario vuelve a intentarlo\n",
    "6. Cada vez que se muestra una letra la puntuación disminuye proporcionalmente\n",
    "7. El juego termina cuando el usuario a adivinado el título o cuando ya han salido todas las letras menos una (ya que no tendría sentido una nueva iteracción, al añadir una nueva letra ya se mostraria el título completo)"
   ]
  },
  {
   "cell_type": "markdown",
   "metadata": {},
   "source": [
    "![image.png](img/image.png)"
   ]
  },
  {
   "cell_type": "markdown",
   "metadata": {},
   "source": [
    "### Ej1. Implementa una función que elija un título de película aleatorio de entre los títulos del fichero \"movies.txt\".\n",
    "\n",
    "    def gen_secret():\n",
    "        #Variables de entrada a la función: NINGUNO\n",
    "        #Variables de salida de la función: Título de película secreto\n",
    "\n",
    "        return secret\n",
    "        \n",
    "![image.png](img/image2.png)"
   ]
  },
  {
   "cell_type": "markdown",
   "metadata": {},
   "source": [
    "#### SOLUCION."
   ]
  },
  {
   "cell_type": "code",
   "execution_count": 14,
   "metadata": {},
   "outputs": [],
   "source": []
  },
  {
   "cell_type": "markdown",
   "metadata": {},
   "source": [
    "### Ej2. Implementa una función que reciba el título de película secreto y la lista de letras que han salido en el progreso del juego. La función debe imprimir el panel del juego consistente en un guión por cada letra que todavía no haya salido o la letra correspondiente si ya ha salido en el progreso del juego.\n",
    "\n",
    "    def print_panel(secret, letters):\n",
    "        # Variables de entrada a la función: \n",
    "        #    - secret: variable tipo STRING con el título de película secreto\n",
    "        #    - letters: variable tipo LIST con las letras que han salido hasta el momento\n",
    "        #Variables de salida de la función: NINGUNA\n",
    "\n",
    "#### NOTA. Recordad que hay que respetar los espacios de la frase\n",
    "\n",
    "![image.png](img/image3.png)"
   ]
  },
  {
   "cell_type": "markdown",
   "metadata": {},
   "source": [
    "#### SOLUCION."
   ]
  },
  {
   "cell_type": "code",
   "execution_count": 7,
   "metadata": {},
   "outputs": [],
   "source": []
  },
  {
   "cell_type": "markdown",
   "metadata": {},
   "source": [
    "### Ej3. Implementa una función que cada vez que sea invocada devuelva una letra de entre las disponibles en título de la película secreto. La función debe recibir el título secreto como argumento y la lista de letras que han salido hasta el momento durante el progreso del juego.\n",
    "\n",
    "    def new_letter(secret, letters):\n",
    "        # Variables de entrada a la función:\n",
    "        #    - secret: variable tipo STRING con el título de la película secreto\n",
    "        #    - letters: variable tipo LIST con las letras que han salido hasta el momento\n",
    "        # Variables de salida:\n",
    "        #    - new_letter: nueva letra aleatoria\n",
    "        \n",
    "        return new_letter\n",
    "        \n",
    "#### NOTA. Para obtener una lista con las letras únicas de la frase secreta puedes utilizar el siguiente comando. Recordar que los espacios no deberían ser considerados caracteres a la hora de ser elegibles por la función.\n",
    "\n",
    "    lista_letras= list(set(secret))"
   ]
  },
  {
   "cell_type": "markdown",
   "metadata": {},
   "source": [
    "#### SOLUCION."
   ]
  },
  {
   "cell_type": "code",
   "execution_count": 2,
   "metadata": {},
   "outputs": [],
   "source": []
  },
  {
   "cell_type": "markdown",
   "metadata": {},
   "source": [
    "### Ej4. La siguiente función calcula la puntuación:\n",
    "\n",
    "    def get_points(secret,letters):\n",
    "\n",
    "        # Variables de entrada a la función:\n",
    "        #    - secret: variable tipo STRING con el título de película secreto\n",
    "        #    - letters: variable tipo LIST con las letras que han salido hasta el momento\n",
    "        # Variables de salida:\n",
    "        #    - points: puntuación\n",
    "        \n",
    "El jugador compienza con 100 puntos que obtendra si adivina la película antes de empezar. Cada vez que se genere una letra nueva el jugador perderá la parte proporcional de los 100 puntos. Recordar que el juego sólo muestra letras presentes en la película secreta, por lo que si el título continene 10 letras diferentes (los espacios no cuentan), cada letra nueva generada supondrá una pérdida de 10 puntos.\n",
    "\n",
    "**IMPORTANTE** Para resolver este ejercicio tienes que invocar este método en el código del juego que está al final del notebook. Las secciones que invocan a esta función y que tienes que sustituir por el código adecuado aparecen de esta manera:\n",
    "\n",
    "![image.png](img/image4.png)\n"
   ]
  },
  {
   "cell_type": "code",
   "execution_count": 3,
   "metadata": {},
   "outputs": [],
   "source": []
  },
  {
   "cell_type": "markdown",
   "metadata": {},
   "source": [
    "### Ej5. Implementa una función que reciba dos argumentos: el título de la película secreto y la propuesta del jugador. La función debe devolver una variable buleana igual a TRUE en caso de que el jugador haya acertado el título secreto e igual a FALSE en caso contrario\n",
    "\n",
    "    def check_answer(secret, guess):\n",
    "        # Variables de entrada a la función:\n",
    "        #    - secret: variable tipo STRING con el título de película secreto\n",
    "        #    - guess: título propuesto por el jugador\n",
    "        # Variables de salida:\n",
    "        #    - boolean: True si el jugador a hacertado la película secreta o False en caso contrario\n",
    "        \n",
    "        return boolean"
   ]
  },
  {
   "cell_type": "markdown",
   "metadata": {},
   "source": [
    "#### SOLUCION."
   ]
  },
  {
   "cell_type": "code",
   "execution_count": 4,
   "metadata": {},
   "outputs": [],
   "source": []
  },
  {
   "cell_type": "markdown",
   "metadata": {},
   "source": [
    "### Ej6. Implementa una función que decida si el juego ha terminado. La función debe recibir el tíulo de la película secreto y el número de letras que han salido hasta el momento. Si sólo queda una letra por salir, la función debe imprimir un mensaje por pantalla anunciando que el juego ha terminado, imprimiendo el título de la película secreto y devolviendo una variable booleana con valor TRUE. Si por el contrario quedan dos o más letras por salir, la función no debe imprimir nada y devolver una variable booleana con valor FALSE.\n",
    "\n",
    "    def check_end(secret, letters):\n",
    "        # Variables de entrada a la función:\n",
    "        #    - secret: variable tipo STRING con el título de película secreto\n",
    "        #    - letters: variable tipo LIST con las letras que han salido hasta el momento\n",
    "        # Variables de salida:\n",
    "        #    - boolean: True si sólo queda una letra por salir o False si quedan más\n",
    "        \n",
    "        return boolean"
   ]
  },
  {
   "cell_type": "markdown",
   "metadata": {},
   "source": [
    "#### SOLUCION."
   ]
  },
  {
   "cell_type": "code",
   "execution_count": 5,
   "metadata": {},
   "outputs": [],
   "source": []
  },
  {
   "cell_type": "markdown",
   "metadata": {},
   "source": [
    "### Juego Completo.\n",
    "\n",
    "Esta es la implementación del juego completo. Revisa el código e implementa las funciones descritas en los apartados anteriores"
   ]
  },
  {
   "cell_type": "code",
   "execution_count": null,
   "metadata": {},
   "outputs": [],
   "source": [
    "secret=get_secret()\n",
    "letters=[]\n",
    "print_panel(secret, letters)\n",
    "\n",
    "while check_end(secret,letters)==False:\n",
    "\n",
    "    guess=input(\"Cual es tu propuesta? \")\n",
    "    if check_answer(guess, secret)==True:\n",
    "        print(\"Feliciades!! Lo adivinaste antes de agotar las pistas!!\")\n",
    "        ######################################################\n",
    "        ### aquí tienes que invocar a la función get_points ##\n",
    "        ### para que de una salida similar a la del ejemplo ##\n",
    "        ######################################################\n",
    "        break\n",
    "    else:\n",
    "        print(\"Error!!\")\n",
    "        ######################################################\n",
    "        ### aquí tienes que invocar a la función get_points ##\n",
    "        ### para que de una salida similar a la del ejemplo ##\n",
    "        ######################################################\n",
    "        letra=new_letter(secret, letters)\n",
    "        letters.append(letra)\n",
    "        print(\"\")\n",
    "        print_panel(secret, letters)"
   ]
  },
  {
   "cell_type": "markdown",
   "metadata": {},
   "source": [
    "#### SOLUCION."
   ]
  },
  {
   "cell_type": "code",
   "execution_count": null,
   "metadata": {},
   "outputs": [],
   "source": []
  }
 ],
 "metadata": {
  "kernelspec": {
   "display_name": "Python 3",
   "language": "python",
   "name": "python3"
  },
  "language_info": {
   "codemirror_mode": {
    "name": "ipython",
    "version": 3
   },
   "file_extension": ".py",
   "mimetype": "text/x-python",
   "name": "python",
   "nbconvert_exporter": "python",
   "pygments_lexer": "ipython3",
   "version": "3.8.8"
  }
 },
 "nbformat": 4,
 "nbformat_minor": 4
}

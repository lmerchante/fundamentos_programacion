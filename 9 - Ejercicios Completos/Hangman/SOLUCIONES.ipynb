{
 "cells": [
  {
   "cell_type": "markdown",
   "metadata": {},
   "source": [
    "# Ahorcado"
   ]
  },
  {
   "cell_type": "markdown",
   "metadata": {},
   "source": [
    "## Instale desde la consola de anaconda la librería unidecode\n",
    "    conda install unidecode"
   ]
  },
  {
   "cell_type": "markdown",
   "metadata": {},
   "source": [
    "## Read file with spanish words and remove accents\n",
    "## Lea el archivo \"spanish_words.txt\" y extraiga las palabras eliminando las tildes. Para ello, utlice la siguiente línea de código:"
   ]
  },
  {
   "cell_type": "code",
   "execution_count": null,
   "metadata": {},
   "outputs": [],
   "source": [
    "import unidecode\n",
    "unidecode.unidecode(\"Instrucción de eliminación de acentos\")"
   ]
  },
  {
   "cell_type": "markdown",
   "metadata": {},
   "source": [
    "**Solución**"
   ]
  },
  {
   "cell_type": "code",
   "execution_count": 3,
   "metadata": {},
   "outputs": [
    {
     "name": "stdout",
     "output_type": "stream",
     "text": [
      "Number of words:  80383\n",
      "Example of some elements [('a', 1), ('aaronita', 8), ('aaronico', 8), ('aba', 3), ('ababa', 5)]\n"
     ]
    }
   ],
   "source": [
    "import unidecode\n",
    "lista=[]\n",
    "with open(\"spanish_words.txt\",\"r\",encoding=\"utf8\") as file:\n",
    "    for word in file:\n",
    "        # remove accents and \\n\n",
    "        word_without_accents=unidecode.unidecode(word[:-1])\n",
    "        # create a list with elements of type: (word, length)\n",
    "        lista.append((word_without_accents,len(word_without_accents)))\n",
    "print(\"Number of words: \",len(lista))\n",
    "print(\"Example of some elements\",lista[:5])"
   ]
  },
  {
   "cell_type": "markdown",
   "metadata": {},
   "source": [
    "## Pida al usuario la longitud de la palabra a adivinar y obtenga una palabra aleatoria de esa longitud\n",
    "\n",
    "**Solución**"
   ]
  },
  {
   "cell_type": "code",
   "execution_count": 4,
   "metadata": {},
   "outputs": [],
   "source": [
    "import random\n",
    "def returnWord(lista,length):\n",
    "    candidates=[w for w,l in lista if l==length]\n",
    "    return random.choice(candidates)"
   ]
  },
  {
   "cell_type": "code",
   "execution_count": 5,
   "metadata": {},
   "outputs": [
    {
     "name": "stdout",
     "output_type": "stream",
     "text": [
      "Enter length of word: 7\n"
     ]
    }
   ],
   "source": [
    "length=int(input(\"Enter length of word: \"))"
   ]
  },
  {
   "cell_type": "code",
   "execution_count": 6,
   "metadata": {},
   "outputs": [],
   "source": [
    "secret=returnWord(lista,length)"
   ]
  },
  {
   "cell_type": "markdown",
   "metadata": {},
   "source": [
    "\n",
    "## Implementar una función que imprima el panel secreto con las letras seleccionadas\n",
    "Por ejemplo:\n",
    "\n",
    "        secret=\"friendship\"\n",
    "        letters=[\"d\",\"f\",\"p\"]\n",
    "        printpanel(secret,letters)\n",
    "        \n",
    "        f____d___p\n",
    "        \n",
    "O:\n",
    "\n",
    "        secret=\"friendship\"\n",
    "        letters=[\"i\",\"d\",\"f\",\"p\"]\n",
    "        printpanel(secret,letters)\n",
    "        \n",
    "        f_i__d__ip\n",
    "\n",
    "**Solución**"
   ]
  },
  {
   "cell_type": "code",
   "execution_count": 7,
   "metadata": {},
   "outputs": [],
   "source": [
    "def printpanel(secret,words):\n",
    "    for i in secret:\n",
    "        if i.lower() in words:\n",
    "            print(i,end=\"\")\n",
    "        else:\n",
    "            print(\"_\",end=\"\")\n",
    "    print(\"\")"
   ]
  },
  {
   "cell_type": "markdown",
   "metadata": {},
   "source": [
    "## Implemente una función que averigüe si la palabra ha sido adivinada\n",
    "Ejemplo:\n",
    " \n",
    "    isdone(\"wikipedia\",[\"i\",\"w\",\"k\",\"d\",\"a\",\"p\"])\n",
    "    False\n",
    "\n",
    "    isdone(\"wikipedia\",[\"i\",\"w\",\"k\",\"d\",\"a\",\"p\",\"e\"])\n",
    "    True\n",
    "\n",
    "**Solución**    "
   ]
  },
  {
   "cell_type": "code",
   "execution_count": 8,
   "metadata": {},
   "outputs": [],
   "source": [
    "def isdone(secret,words):\n",
    "    if len([True for i in secret.lower() if i in words])==len(secret): return True\n",
    "    else: return False"
   ]
  },
  {
   "cell_type": "code",
   "execution_count": 9,
   "metadata": {},
   "outputs": [
    {
     "data": {
      "text/plain": [
       "False"
      ]
     },
     "execution_count": 9,
     "metadata": {},
     "output_type": "execute_result"
    }
   ],
   "source": [
    "isdone(\"wikipedia\",[\"i\",\"w\",\"k\",\"d\",\"a\",\"p\"])"
   ]
  },
  {
   "cell_type": "code",
   "execution_count": 10,
   "metadata": {},
   "outputs": [
    {
     "data": {
      "text/plain": [
       "True"
      ]
     },
     "execution_count": 10,
     "metadata": {},
     "output_type": "execute_result"
    }
   ],
   "source": [
    "isdone(\"wikipedia\",[\"i\",\"w\",\"k\",\"d\",\"a\",\"p\",\"e\"])"
   ]
  },
  {
   "cell_type": "markdown",
   "metadata": {},
   "source": [
    "## Implemente el juego con 6 errores como máximo"
   ]
  },
  {
   "cell_type": "code",
   "execution_count": 11,
   "metadata": {},
   "outputs": [
    {
     "name": "stdout",
     "output_type": "stream",
     "text": [
      "You have 6 tries\n",
      "Chose letter: a\n",
      "_____a_\n",
      "You have 6 tries\n",
      "Chose letter: r\n",
      "_____ar\n",
      "You have 6 tries\n",
      "Chose letter: m\n",
      "Wrong choice\n",
      "_____ar\n",
      "You have 5 tries\n",
      "Chose letter: s\n",
      "Wrong choice\n",
      "_____ar\n",
      "You have 4 tries\n",
      "Chose letter: t\n",
      "Wrong choice\n",
      "_____ar\n",
      "You have 3 tries\n",
      "Chose letter: e\n",
      "Wrong choice\n",
      "_____ar\n",
      "You have 2 tries\n",
      "Chose letter: o\n",
      "Wrong choice\n",
      "_____ar\n",
      "You have 1 tries\n",
      "Chose letter: i\n",
      "_i___ar\n",
      "You have 1 tries\n",
      "Chose letter: D\n",
      "di___ar\n",
      "You have 1 tries\n",
      "Chose letter: c\n",
      "Wrong choice\n",
      "di___ar\n",
      "You failed. Secret word is:  dibujar\n"
     ]
    }
   ],
   "source": [
    "errors=6\n",
    "finished=False\n",
    "lettersgood=[]\n",
    "lettersbad=[]\n",
    "while errors!=0:\n",
    "    print(\"You have {} tries\".format(errors))\n",
    "    letter=input(\"Chose letter: \").lower()\n",
    "    if letter in lettersgood or letter in lettersbad: \n",
    "        print(\"You already use that letter\")\n",
    "        printpanel(secret,lettersgood)\n",
    "    elif letter in secret.lower():\n",
    "        lettersgood.append(letter)\n",
    "        printpanel(secret,lettersgood)\n",
    "        if isdone(secret,lettersgood): break\n",
    "    else:\n",
    "        print(\"Wrong choice\")\n",
    "        lettersbad.append(letter)\n",
    "        printpanel(secret,lettersgood)\n",
    "        errors-=1\n",
    "if isdone(secret,lettersgood): print(\"You did it\")\n",
    "else: print(\"You failed. Secret word is: \",secret)"
   ]
  },
  {
   "cell_type": "code",
   "execution_count": null,
   "metadata": {},
   "outputs": [],
   "source": []
  }
 ],
 "metadata": {
  "kernelspec": {
   "display_name": "Python 3",
   "language": "python",
   "name": "python3"
  },
  "language_info": {
   "codemirror_mode": {
    "name": "ipython",
    "version": 3
   },
   "file_extension": ".py",
   "mimetype": "text/x-python",
   "name": "python",
   "nbconvert_exporter": "python",
   "pygments_lexer": "ipython3",
   "version": "3.8.8"
  }
 },
 "nbformat": 4,
 "nbformat_minor": 2
}

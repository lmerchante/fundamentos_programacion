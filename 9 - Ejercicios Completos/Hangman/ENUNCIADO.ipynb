{
 "cells": [
  {
   "cell_type": "markdown",
   "metadata": {},
   "source": [
    "# Ahorcado"
   ]
  },
  {
   "cell_type": "markdown",
   "metadata": {},
   "source": [
    "## Instale desde la consola de anaconda la librería unidecode\n",
    "    conda install unidecode"
   ]
  },
  {
   "cell_type": "markdown",
   "metadata": {},
   "source": [
    "## Read file with spanish words and remove accents\n",
    "## Lea el archivo \"spanish_words.txt\" y extraiga las palabras eliminando las tildes. Para ello, utlice la siguiente línea de código:"
   ]
  },
  {
   "cell_type": "code",
   "execution_count": 1,
   "metadata": {},
   "outputs": [
    {
     "data": {
      "text/plain": [
       "'Instruccion de eliminacion de acentos'"
      ]
     },
     "execution_count": 1,
     "metadata": {},
     "output_type": "execute_result"
    }
   ],
   "source": [
    "import unidecode\n",
    "unidecode.unidecode(\"Instrucción de eliminación de acentos\")"
   ]
  },
  {
   "cell_type": "markdown",
   "metadata": {},
   "source": [
    "**Solución**"
   ]
  },
  {
   "cell_type": "code",
   "execution_count": null,
   "metadata": {},
   "outputs": [],
   "source": []
  },
  {
   "cell_type": "markdown",
   "metadata": {},
   "source": [
    "## Pida al usuario la longitud de la palabra a adivinar y obtenga una palabra aleatoria de esa longitud\n",
    "\n",
    "**Solución**"
   ]
  },
  {
   "cell_type": "code",
   "execution_count": null,
   "metadata": {},
   "outputs": [],
   "source": []
  },
  {
   "cell_type": "markdown",
   "metadata": {},
   "source": [
    "## Implementar una función que imprima el panel secreto con las letras seleccionadas"
   ]
  },
  {
   "cell_type": "markdown",
   "metadata": {},
   "source": [
    "Por ejemplo:\n",
    "\n",
    "        secret=\"friendship\"\n",
    "        letters=[\"d\",\"f\",\"p\"]\n",
    "        printpanel(secret,letters)\n",
    "        \n",
    "        f____d___p\n",
    "        \n",
    "O:\n",
    "\n",
    "        secret=\"friendship\"\n",
    "        letters=[\"i\",\"d\",\"f\",\"p\"]\n",
    "        printpanel(secret,letters)\n",
    "        \n",
    "        f_i__d__ip\n",
    "\n",
    "**Solución**"
   ]
  },
  {
   "cell_type": "code",
   "execution_count": 7,
   "metadata": {},
   "outputs": [],
   "source": [
    "def printpanel(secret,words):\n",
    "    "
   ]
  },
  {
   "cell_type": "markdown",
   "metadata": {},
   "source": [
    "## Implemente una función que averigüe si la palabra ha sido adivinada\n",
    "Ejemplo:\n",
    " \n",
    "    isdone(\"wikipedia\",[\"i\",\"w\",\"k\",\"d\",\"a\",\"p\"])\n",
    "    False\n",
    "\n",
    "    isdone(\"wikipedia\",[\"i\",\"w\",\"k\",\"d\",\"a\",\"p\",\"e\"])\n",
    "    True"
   ]
  },
  {
   "cell_type": "code",
   "execution_count": null,
   "metadata": {},
   "outputs": [],
   "source": [
    "def isdone(secret,letters):\n",
    "    "
   ]
  },
  {
   "cell_type": "markdown",
   "metadata": {},
   "source": [
    "## Implemente el juego con 6 errores como máximo\n",
    "\n",
    "**Solución**"
   ]
  },
  {
   "cell_type": "code",
   "execution_count": 11,
   "metadata": {},
   "outputs": [
    {
     "name": "stdout",
     "output_type": "stream",
     "text": [
      "You have 6 tries\n",
      "Chose letter: a\n",
      "_____a_\n",
      "You have 6 tries\n",
      "Chose letter: r\n",
      "_____ar\n",
      "You have 6 tries\n",
      "Chose letter: m\n",
      "Wrong choice\n",
      "_____ar\n",
      "You have 5 tries\n",
      "Chose letter: s\n",
      "Wrong choice\n",
      "_____ar\n",
      "You have 4 tries\n",
      "Chose letter: t\n",
      "Wrong choice\n",
      "_____ar\n",
      "You have 3 tries\n",
      "Chose letter: e\n",
      "Wrong choice\n",
      "_____ar\n",
      "You have 2 tries\n",
      "Chose letter: o\n",
      "Wrong choice\n",
      "_____ar\n",
      "You have 1 tries\n",
      "Chose letter: i\n",
      "_i___ar\n",
      "You have 1 tries\n",
      "Chose letter: D\n",
      "di___ar\n",
      "You have 1 tries\n",
      "Chose letter: c\n",
      "Wrong choice\n",
      "di___ar\n",
      "You failed. Secret word is:  dibujar\n"
     ]
    }
   ],
   "source": []
  },
  {
   "cell_type": "code",
   "execution_count": null,
   "metadata": {},
   "outputs": [],
   "source": []
  }
 ],
 "metadata": {
  "kernelspec": {
   "display_name": "Python 3",
   "language": "python",
   "name": "python3"
  },
  "language_info": {
   "codemirror_mode": {
    "name": "ipython",
    "version": 3
   },
   "file_extension": ".py",
   "mimetype": "text/x-python",
   "name": "python",
   "nbconvert_exporter": "python",
   "pygments_lexer": "ipython3",
   "version": "3.8.8"
  }
 },
 "nbformat": 4,
 "nbformat_minor": 2
}

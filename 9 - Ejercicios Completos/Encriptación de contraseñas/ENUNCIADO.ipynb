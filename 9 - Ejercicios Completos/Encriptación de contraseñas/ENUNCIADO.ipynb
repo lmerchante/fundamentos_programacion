{
 "cells": [
  {
   "cell_type": "markdown",
   "metadata": {},
   "source": [
    "# Encriptación de contraseñas"
   ]
  },
  {
   "cell_type": "markdown",
   "metadata": {},
   "source": [
    "#### Problema:\n",
    "\n",
    "El servicio de seguridad y detección de intrusos de la universidad, ha detectado un acceso no permitido al fichero passwords.txt de los alumnos. Este fichero contiene las contraseñas de email de todos los alumnos de la universidad, identificándolo por clave de alumno + password de la siguiente manera:\n",
    "\n",
    "19962312 jkdhh83l  \n",
    "20062355 hfiopwkd  \n",
    "20193782 fghjweof  \n",
    "\n",
    "Las claves están compuestas por 8 dígitos alfanuméricos.\n",
    "\n",
    "Se nos pide volver a encriptar todas las claves para evitar la filtración de información. Para ello deberemos seguir los siguientes pasos:\n",
    "\n",
    "1. Leer la información del fichero passwords.txt\n",
    "2. Solicitar al usuario un desplazamiento positivo mayor que 1 y menor que 26\n",
    "3. Cifrar la clave asociada a cada usuario\n",
    "4. Volver a salvaguardar esta información en un nuevo fichero de texto llamado passwords_new.txt\n",
    "\n",
    "El proceso de cifrado consiste en lo siguiente:\n",
    "\n",
    "* Los caracteres especiales no se codifican\n",
    "* Los caracteres alfabéticos se codifican utilizando el método Julio César: “En criptografía, el cifrado César, también conocido como cifrado por desplazamiento, código de César o desplazamiento de César, es una de las técnicas de cifrado más simples y más usadas. Es un tipo de cifrado por sustitución en el que una letra en el texto original es reemplazada por otra letra que se encuentra un número fijo de posiciones más adelante en el alfabeto. Por ejemplo, con un desplazamiento de 3, la A sería sustituida por la D (situada 3 lugares a la derecha de la A), la B sería reemplazada por la E, etc. Este método debe su nombre a Julio César, que lo usaba para comunicarse con sus generales.” . De tal manera que deberemos pedir primero el número de caracteres a desplazar y sustituir en la password el carácter resultante. \n",
    "* Los dígitos se codifican con el mismo desplazamiento utilizado para cifrar los caracteres alfabéticos pero suponiendo un desplazamiento circular en una secuencia de dígitos de 0,1,2....8,9. Es decir, si el desplazamiento es de 3, el dígito 4 se codificaria como 7 y el dígito 9 se codificaría como 2.\n",
    "\n",
    "Considerar la secuencia alfabética como: abcdefghijklmnopqrstuvwxyz  \n",
    "Considerar la secuencia numérica como: 0123456789  \n",
    "\n",
    "#### Ejemplo \n",
    "\n",
    "password: bf!%xa8$\n",
    "\n",
    "Introduzca un número de desplazamiento: 5\n",
    "\n",
    "La nueva password sería: gk!%cf3$"
   ]
  },
  {
   "cell_type": "code",
   "execution_count": null,
   "metadata": {},
   "outputs": [],
   "source": []
  }
 ],
 "metadata": {
  "kernelspec": {
   "display_name": "Python 3",
   "language": "python",
   "name": "python3"
  },
  "language_info": {
   "codemirror_mode": {
    "name": "ipython",
    "version": 3
   },
   "file_extension": ".py",
   "mimetype": "text/x-python",
   "name": "python",
   "nbconvert_exporter": "python",
   "pygments_lexer": "ipython3",
   "version": "3.8.8"
  }
 },
 "nbformat": 4,
 "nbformat_minor": 2
}

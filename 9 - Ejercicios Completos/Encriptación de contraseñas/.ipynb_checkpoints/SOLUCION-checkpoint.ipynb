{
 "cells": [
  {
   "cell_type": "markdown",
   "metadata": {},
   "source": [
    "# Encriptación de contraseñas"
   ]
  },
  {
   "cell_type": "markdown",
   "metadata": {},
   "source": [
    "#### Problema:\n",
    "\n",
    "El servicio de seguridad y detección de intrusos de la universidad, ha detectado un acceso no permitido al fichero passwords.txt de los alumnos. Este fichero contiene las contraseñas de email de todos los alumnos de la universidad, identificándolo por clave de alumno + password de la siguiente manera:\n",
    "\n",
    "19962312 jkdhh83l  \n",
    "20062355 hfiopwkd  \n",
    "20193782 fghjweof  \n",
    "\n",
    "Las claves están compuestas por 8 dígitos alfanuméricos.\n",
    "\n",
    "Se nos pide volver a encriptar todas las claves para evitar la filtración de información. Para ello deberemos seguir los siguientes pasos:\n",
    "\n",
    "1. Leer la información del fichero passwords.txt\n",
    "2. Solicitar al usuario un desplazamiento positivo mayor que 1 y menor que 26\n",
    "3. Cifrar la clave asociada a cada usuario\n",
    "4. Volver a salvaguardar esta información en un nuevo fichero de texto llamado passwords_new.txt\n",
    "\n",
    "El proceso de cifrado consiste en lo siguiente:\n",
    "\n",
    "* Los caracteres especiales no se codifican\n",
    "* Los caracteres alfabéticos se codifican utilizando el método Julio César: “En criptografía, el cifrado César, también conocido como cifrado por desplazamiento, código de César o desplazamiento de César, es una de las técnicas de cifrado más simples y más usadas. Es un tipo de cifrado por sustitución en el que una letra en el texto original es reemplazada por otra letra que se encuentra un número fijo de posiciones más adelante en el alfabeto. Por ejemplo, con un desplazamiento de 3, la A sería sustituida por la D (situada 3 lugares a la derecha de la A), la B sería reemplazada por la E, etc. Este método debe su nombre a Julio César, que lo usaba para comunicarse con sus generales.” . De tal manera que deberemos pedir primero el número de caracteres a desplazar y sustituir en la password el carácter resultante. \n",
    "* Los dígitos se codifican con el mismo desplazamiento utilizado para cifrar los caracteres alfabéticos pero suponiendo un desplazamiento circular en una secuencia de dígitos de 0,1,2....8,9. Es decir, si el desplazamiento es de 3, el dígito 4 se codificaria como 7 y el dígito 9 se codificaría como 2.\n",
    "\n",
    "Considerar la secuencia alfabética como: abcdefghijklmnopqrstuvwxyz  \n",
    "Considerar la secuencia numérica como: 0123456789  \n",
    "\n",
    "#### Ejemplo \n",
    "\n",
    "password: bf!%xa8$\n",
    "\n",
    "Introduzca un número de desplazamiento: 5\n",
    "\n",
    "La nueva password sería: gk!%cf3$"
   ]
  },
  {
   "cell_type": "markdown",
   "metadata": {},
   "source": [
    "## Generar fichero de 200 usuarios/contraseñas"
   ]
  },
  {
   "cell_type": "code",
   "execution_count": 3,
   "metadata": {},
   "outputs": [],
   "source": [
    "import random\n",
    "def gen_password():\n",
    "    letters=\"abcdefghijklmnopqrstuvwxyz\"\n",
    "    letters_upper=\"ABCDEFGHIJKLMNOPQRSTUVWXYZ\"\n",
    "    digits=\"0123456789\"\n",
    "    symbols=\"$%&=*!^\"\n",
    "    random_letters=random.sample(letters,2)\n",
    "    random_letters_upper=random.sample(letters_upper,2)\n",
    "    random_digits=random.sample(digits,2)\n",
    "    random_symbols=random.sample(symbols,2)\n",
    "    password=random_letters+random_letters_upper+random_digits+random_symbols\n",
    "    random.shuffle(password)\n",
    "    return \"\".join(password)"
   ]
  },
  {
   "cell_type": "code",
   "execution_count": 13,
   "metadata": {},
   "outputs": [],
   "source": [
    "def gen_student(n):\n",
    "    out=[str(anio)+str(mes)+str(dia) for dia in range(100,600) for mes in range(10,20) for anio in range(1990,2019)]\n",
    "    return random.sample(out,n)"
   ]
  },
  {
   "cell_type": "code",
   "execution_count": 16,
   "metadata": {},
   "outputs": [],
   "source": [
    "with open(\"passwords.txt\",\"w\",encoding=\"utf-8\") as file:\n",
    "    for i in gen_student(200):\n",
    "        file.write(i+\" \"+gen_password()+\"\\n\")"
   ]
  },
  {
   "cell_type": "markdown",
   "metadata": {},
   "source": [
    "## Solucion:"
   ]
  },
  {
   "cell_type": "code",
   "execution_count": 34,
   "metadata": {},
   "outputs": [],
   "source": [
    "def crypth(passwd,shift):\n",
    "    letters=\"abcdefghijklmnopqrstuvwxyz\"\n",
    "    letters_upper=\"ABCDEFGHIJKLMNOPQRSTUVWXYZ\"\n",
    "    digits=\"0123456789\"\n",
    "    new=\"\"\n",
    "    for i in passwd:\n",
    "        if i in letters:\n",
    "            # circle shift letters\n",
    "            newletter=letters[(letters.find(i)+shift)%len(letters)]\n",
    "            new=new+newletter\n",
    "        elif i in letters_upper:\n",
    "            # circle shift upper letters\n",
    "            newletter=letters_upper[(letters_upper.find(i)+shift)%len(letters_upper)]\n",
    "            new=new+newletter\n",
    "        elif i in digits:\n",
    "            # circle shift digits\n",
    "            newdigit=digits[(digits.find(i)+shift)%len(digits)]\n",
    "            new=new+newdigit\n",
    "        else:\n",
    "            # do nothing\n",
    "            new=new+i\n",
    "    return new     "
   ]
  },
  {
   "cell_type": "code",
   "execution_count": 38,
   "metadata": {},
   "outputs": [
    {
     "name": "stdout",
     "output_type": "stream",
     "text": [
      "Introduce shift for encription (1..26): 1\n"
     ]
    }
   ],
   "source": [
    "shift=int(input(\"Introduce shift for encription (1..26): \"))\n",
    "with open(\"passwords_new.txt\",\"w\",encoding=\"utf-8\") as file_new:\n",
    "    with open(\"passwords.txt\",\"r\",encoding=\"utf-8\") as file:\n",
    "        students=file.readlines()\n",
    "        for i in students:\n",
    "            user,password=i.split(\" \")\n",
    "            new_password=crypth(password[:-1],shift)\n",
    "            file_new.write(user+\" \"+new_password+\"\\n\")"
   ]
  }
 ],
 "metadata": {
  "kernelspec": {
   "display_name": "Python 3",
   "language": "python",
   "name": "python3"
  },
  "language_info": {
   "codemirror_mode": {
    "name": "ipython",
    "version": 3
   },
   "file_extension": ".py",
   "mimetype": "text/x-python",
   "name": "python",
   "nbconvert_exporter": "python",
   "pygments_lexer": "ipython3",
   "version": "3.8.8"
  }
 },
 "nbformat": 4,
 "nbformat_minor": 2
}

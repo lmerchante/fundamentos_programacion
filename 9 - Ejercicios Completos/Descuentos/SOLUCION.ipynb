{
 "cells": [
  {
   "cell_type": "markdown",
   "metadata": {},
   "source": [
    "# Descuentos: SOLUCIONES"
   ]
  },
  {
   "cell_type": "markdown",
   "metadata": {},
   "source": [
    "## Ej1. Lectura de ficheros (2 ptos.)\n",
    "\n",
    "Junto al enunciado se han distribuido dos ficheros \"Meses.txt\" y \"Descuentos.txt\". \"Meses.txt\" contiene los diferentes meses del año y un identificador de descuento para cada uno. \"Descuentos.txt\" contiene el importe exacto de cada descuento.\n",
    "\n",
    "Se pide:\n",
    "\n",
    "1. Leer el fichero \"Meses.txt\" y generar un diccionario llamado \"dic_month\" en el que las claves sean los nombres de los meses y los valores el identificador del descuento:\n",
    "\n",
    "        {'Enero': 'd1',\n",
    "         'Febrero': 'd3',....}\n",
    "\n",
    "2. Leer el fichero \"Descuentos.txt\" y generar un diccionario llamado \"dic_discount\" en el que las claves sean los identificadores de descuento y el valor sea el valor numérico de dicho descuento:\n",
    "\n",
    "        {'d0': 0.0, \n",
    "         'd1': 10.0,....}\n"
   ]
  },
  {
   "cell_type": "code",
   "execution_count": 1,
   "metadata": {},
   "outputs": [
    {
     "data": {
      "text/plain": [
       "{'Enero': 'd1',\n",
       " 'Febrero': 'd3',\n",
       " 'Marzo': 'd0',\n",
       " 'Abril': 'd2',\n",
       " 'Mayo': 'd1',\n",
       " 'Junio': 'd3',\n",
       " 'Julio': 'd0',\n",
       " 'Agosto': 'd2',\n",
       " 'Septiembre': 'd3',\n",
       " 'Octubre': 'd4',\n",
       " 'Noviembre': 'd5',\n",
       " 'Diciembre': 'd2'}"
      ]
     },
     "execution_count": 1,
     "metadata": {},
     "output_type": "execute_result"
    }
   ],
   "source": [
    "dic_month ={}\n",
    "\n",
    "with open(\"Meses.txt\", \"r\") as f:\n",
    "    header= f.readline().split(\";\")\n",
    "    for row in f:\n",
    "        id_mes, mes, desc_id =row.split(\";\")\n",
    "        dic_month[mes] = desc_id.replace('\\n','')\n",
    "\n",
    "dic_month"
   ]
  },
  {
   "cell_type": "code",
   "execution_count": 45,
   "metadata": {},
   "outputs": [
    {
     "data": {
      "text/plain": [
       "{'d0': 0.0, 'd1': 10.0, 'd2': 20.0, 'd3': 25.0, 'd4': 15.0, 'd5': 12.0}"
      ]
     },
     "execution_count": 45,
     "metadata": {},
     "output_type": "execute_result"
    }
   ],
   "source": [
    "dic_discount ={}\n",
    "\n",
    "with open(\"Descuentos.txt\", \"r\") as f:\n",
    "    header= f.readline().split(\"^\")\n",
    "    for row in f:\n",
    "        desc_id, desc, value =row.split(\"^\")\n",
    "        dic_discount[desc_id] = float(value)\n",
    "\n",
    "dic_discount"
   ]
  },
  {
   "cell_type": "markdown",
   "metadata": {},
   "source": [
    "## Ej2. Combinar diccionarios (2 ptos.)\n",
    "\n",
    "Utilizar los diccionarios generados en el apartado anterior (si no se ha conseguido, definirlos a mano) para construir un nuevo diccionario llamado \"dic_final\" en el que las claves sean el nombre de los meses del año y el valor sea una tupla en el que el primer elemento sea el identificador del descuento y el segundo elemento sea el importe exacto de cada descuento:\n",
    "\n",
    "        {'Enero': (\"d1\", 10.0),\n",
    "         'Febrero': (\"d3\", 25.0) ,....}"
   ]
  },
  {
   "cell_type": "code",
   "execution_count": 46,
   "metadata": {},
   "outputs": [
    {
     "data": {
      "text/plain": [
       "{'Enero': ('d1', 10.0),\n",
       " 'Febrero': ('d3', 25.0),\n",
       " 'Marzo': ('d0', 0.0),\n",
       " 'Abril': ('d2', 20.0),\n",
       " 'Mayo': ('d1', 10.0),\n",
       " 'Junio': ('d3', 25.0),\n",
       " 'Julio': ('d0', 0.0),\n",
       " 'Agosto': ('d2', 20.0),\n",
       " 'Septiembre': ('d3', 25.0),\n",
       " 'Octubre': ('d4', 15.0),\n",
       " 'Noviembre': ('d5', 12.0),\n",
       " 'Diciembre': ('d2', 20.0)}"
      ]
     },
     "execution_count": 46,
     "metadata": {},
     "output_type": "execute_result"
    }
   ],
   "source": [
    "dic_final={}\n",
    "for mes,desc_id in dic_month.items():\n",
    "    dic_final[mes]=(desc_id, dic_discount[desc_id])\n",
    "dic_final   "
   ]
  },
  {
   "cell_type": "markdown",
   "metadata": {},
   "source": [
    "## Ej3. Salvar a fichero  (1 pto.)\n",
    "\n",
    "Utilizar el diccionario generado en el apartado anterior (si no se ha conseguido, definirlo a mano), para salvar su información en un fichero de tipo CSV llamado \"Mes-Descuentos.csv\", cuya primera línea debe incluir una cabecera con los nombres \"mes\",\"id_descuento\",\"valor\". Y el separador debe ser el caracter \"|\":\n",
    "\n",
    "        mes|id_descuento|valor\n",
    "        Enero|d1|10.0\n",
    "        Febrero|d3|25.0"
   ]
  },
  {
   "cell_type": "code",
   "execution_count": 47,
   "metadata": {},
   "outputs": [],
   "source": [
    "with open(\"Mes-Descuentos.csv\", \"w\") as f:\n",
    "    f.write(\"mes|id_descuento|valor\\n\")\n",
    "    for mes,(id_d,valor) in dic_final.items():\n",
    "        f.write(\"|\".join([mes,id_d,str(valor)+'\\n']))"
   ]
  },
  {
   "cell_type": "markdown",
   "metadata": {},
   "source": [
    "## Ej4. Genera cualquier polinomio  (2 ptos.)\n",
    "\n",
    "Preguntar al usuario por el grado del polinomio que quiere pintar. A continuacion, el código debe preguntar al usuario por tantos coeficientes como grado tenga el polinomio. El código debe funcionar para cualquier grado (no es necesario chequear si el usuario introduce grados negativos o letras o símbolos). Al final, el código debe imprimir la función solicitada por el usuario:\n",
    "\n",
    "\n",
    "        Introduzca el grado del polinomio: 3\n",
    "          - Introduzca el coeficiente grado 0:0\n",
    "          - Introduzca el coeficiente grado 1:1\n",
    "          - Introduzca el coeficiente grado 2:2\n",
    "          - Introduzca el coeficiente grado 3:3\n",
    "        El polinomio solicitado es: \n",
    "        3x^3+2x^2+1x^1+0"
   ]
  },
  {
   "cell_type": "code",
   "execution_count": 48,
   "metadata": {},
   "outputs": [
    {
     "name": "stdout",
     "output_type": "stream",
     "text": [
      "Introduzca el grado del polinomio: 3\n",
      "  - Introduzca el coeficiente grado 0:0\n",
      "  - Introduzca el coeficiente grado 1:1\n",
      "  - Introduzca el coeficiente grado 2:2\n",
      "  - Introduzca el coeficiente grado 3:3\n",
      "El polinomio solicitado es: \n",
      "f(x)=3x^3+2x^2+1x^1+0\n"
     ]
    }
   ],
   "source": [
    "grado=int(input(\"Introduzca el grado del polinomio: \"))\n",
    "coeficientes=[]\n",
    "for i in range(grado+1):\n",
    "    tmp=int(input(\"  - Introduzca el coeficiente grado \"+str(i)+\":\"))\n",
    "    coeficientes.append(tmp)\n",
    "print(\"El polinomio solicitado es: \")\n",
    "\n",
    "print(\"f(x)=\",end=\"\")\n",
    "for i in range(grado+1):\n",
    "    if i!=grado:\n",
    "        print(str(coeficientes[grado-i])+\"x^\"+str(grado-i)+\"+\",end=\"\")\n",
    "    else:\n",
    "        print(coeficientes[grado-i])"
   ]
  },
  {
   "cell_type": "markdown",
   "metadata": {},
   "source": [
    "## Ej5. Calcula el polinomio  (2 ptos.)\n",
    "\n",
    "Construye una función que responda a esta difinición:\n",
    "\n",
    "        def apply_polynomio(ejex,coeficientes):\n",
    "            ...\n",
    "            ...\n",
    "        return ejey\n",
    "        \n",
    "Dónde la variable \"ejex\" reciba una lista de valores y la variable \"coeficientes\" reciba la lista de coeficientes seleccionados por el usuario (no es necesario haber realizado el apartado anterior para hacer este ejercicio).\n",
    "La variable devuelta \"ejey\" debe ser una lista de valores resultado de aplicar el polinomio definido por los coeficientes a cada uno de los valores de la lista \"ejex\"."
   ]
  },
  {
   "cell_type": "code",
   "execution_count": 49,
   "metadata": {},
   "outputs": [],
   "source": [
    "import numpy as np\n",
    "def apply_polynomio(ejex,coeficientes):\n",
    "    ejey=[]\n",
    "    for x in ejex:\n",
    "        value=0\n",
    "        for i in range(len(coeficientes)):\n",
    "            if i==0:\n",
    "                value=value+coeficientes[i]\n",
    "            else:\n",
    "                value=value+coeficientes[i]*np.power(x,i)\n",
    "        ejey.append(value)\n",
    "    return ejey"
   ]
  },
  {
   "cell_type": "code",
   "execution_count": 50,
   "metadata": {},
   "outputs": [
    {
     "data": {
      "text/plain": [
       "[1, 10, 49, 142]"
      ]
     },
     "execution_count": 50,
     "metadata": {},
     "output_type": "execute_result"
    }
   ],
   "source": [
    "ejex=[0,1,2,3]\n",
    "ejey=apply_polynomio([0,1,2,3],[1,2,3,4])\n",
    "ejey"
   ]
  },
  {
   "cell_type": "markdown",
   "metadata": {},
   "source": [
    "## Ej6. Visualiza el polinomio  (1 pto.)\n",
    "\n",
    "Construye una función con la siguiente definición:\n",
    "    \n",
    "    def plot_polynomio(ejex,ejey,kind):\n",
    "\n",
    "Que visualice la función descrita por las listas de valores \"ejex\" y \"ejey\". El tipo de gráfico utilizado dependerá del parámetro \"kind\" que puede tomar los siguientes valores:\n",
    "\n",
    "    kind=\"line\"\n",
    "    kind=\"scatter\"\n",
    "    kind=\"bar\"\n",
    "    \n",
    "Cuando la varibale \"kind\" tome el valor \"line\" imprimirá el polinomio con una línea contínua negra utilizando cruces para las marcas.  \n",
    "Cuando la varible \"kind\" tome el valor \"scatter\" imprimirá el polinomio como una sucesión de puntos con forma circular de color rojo.  \n",
    "Cuando la variable \"kind\" tome el valor \"bar\" imprimirá el polinomio como un diagrama de barras verticales de color magenta.\n",
    "Cuando la variable \"kind\" no reciba ningún valor por parte del usuario, por defecto, tomará el valor \"line\".\n",
    "Cuando la variable \"kind\" reciba un valor no reconocible, por defecto, tomará el valor \"line\""
   ]
  },
  {
   "cell_type": "code",
   "execution_count": 1,
   "metadata": {},
   "outputs": [],
   "source": [
    "import matplotlib.pyplot as plt\n",
    "def plot_polynomio(ejex,ejey,kind=\"line\"):\n",
    "    if kind==\"scatter\":\n",
    "        plt.scatter(ejex,ejey,marker=\"o\",c=\"r\")\n",
    "    elif kind==\"bar\":\n",
    "        plt.bar(ejex,ejey,color=\"magenta\",alpha=0.5)\n",
    "    else:\n",
    "        plt.plot(ejex,ejey,\"k-+\")"
   ]
  },
  {
   "cell_type": "code",
   "execution_count": 52,
   "metadata": {},
   "outputs": [
    {
     "data": {
      "image/png": "[encoded data removed]",
      "text/plain": [
       "<Figure size 432x288 with 1 Axes>"
      ]
     },
     "metadata": {
      "needs_background": "light"
     },
     "output_type": "display_data"
    }
   ],
   "source": [
    "plot_polynomio([0,1,2,3],[1, 10, 49, 142])"
   ]
  },
  {
   "cell_type": "code",
   "execution_count": 2,
   "metadata": {},
   "outputs": [
    {
     "data": {
      "image/png": "[encoded data removed]",
      "text/plain": [
       "<Figure size 432x288 with 1 Axes>"
      ]
     },
     "metadata": {
      "needs_background": "light"
     },
     "output_type": "display_data"
    }
   ],
   "source": [
    "plot_polynomio([0,1,2,3],[1, 10, 49, 142],kind=\"cualquiercosa\")"
   ]
  },
  {
   "cell_type": "code",
   "execution_count": 53,
   "metadata": {},
   "outputs": [
    {
     "data": {
      "image/png": "[encoded data removed]",
      "text/plain": [
       "<Figure size 432x288 with 1 Axes>"
      ]
     },
     "metadata": {
      "needs_background": "light"
     },
     "output_type": "display_data"
    }
   ],
   "source": [
    "plot_polynomio([0,1,2,3],[1, 10, 49, 142],\"scatter\")"
   ]
  },
  {
   "cell_type": "code",
   "execution_count": 54,
   "metadata": {},
   "outputs": [
    {
     "data": {
      "image/png": "[encoded data removed]",
      "text/plain": [
       "<Figure size 432x288 with 1 Axes>"
      ]
     },
     "metadata": {
      "needs_background": "light"
     },
     "output_type": "display_data"
    }
   ],
   "source": [
    "plot_polynomio([0,1,2,3],[1, 10, 49, 142],\"bar\")"
   ]
  }
 ],
 "metadata": {
  "kernelspec": {
   "display_name": "Python 3",
   "language": "python",
   "name": "python3"
  },
  "language_info": {
   "codemirror_mode": {
    "name": "ipython",
    "version": 3
   },
   "file_extension": ".py",
   "mimetype": "text/x-python",
   "name": "python",
   "nbconvert_exporter": "python",
   "pygments_lexer": "ipython3",
   "version": "3.8.8"
  }
 },
 "nbformat": 4,
 "nbformat_minor": 2
}

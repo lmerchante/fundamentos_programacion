{
 "cells": [
  {
   "cell_type": "markdown",
   "metadata": {},
   "source": [
    "# Rutas\n"
   ]
  },
  {
   "cell_type": "markdown",
   "metadata": {},
   "source": [
    "## Ej1. Leer Ficheros (3 ptos)\n",
    "\n",
    "El fichero \"path.csv\" contiene la información del movimiento de un vehículo. Este vehículo solo puede moverse en tramos rectos, aunque entre tramo y tramo puede cambiar de dirección. El fichero contine tres columnas. Una primera llamada **\"step\"** que indica el orden de cada tramo, una segunda llamada **\"direction\"** que indica la dirección en la que se mueve un vehículo en el tramo correspondiente y una tercera llamada **\"length\"** que indica la distancia recorrida en ese tramo. Por ejemplo:\n",
    "\n",
    "step|direction|length\n",
    "-|-|-\n",
    "1|E|1.0\n",
    "2|SE|2.0\n",
    "3|NE|0.5\n",
    "4|N|2.0\n",
    "\n",
    "El fichero anterior implicaría un movimiento en 4 pasos que se inicia con una trayectoria de dirección Este y de longitud 1 seguida de una nueva trayectoria de dirección Sudeste de longitud 2, a continuación una nueva trayectoria de dirección Nordeste y longitud 0.5 y por último, un tramo de dirección Norte y longitud 2.\n",
    "\n",
    "Generar un código Python que sea capaz de leer el fichero \"path.csv\" y generar una lista de tuplas que tenga este aspecto y que funcione para cualquier longitud del fichero:\n",
    "\n",
    "    path=[('E', 1.0), ('SE', 2), ('NE', 0.5), ('N', 2.0)]\n",
    "    \n",
    "    \n",
    "**NOTA**. El fichero path.csv utiliza como separador el símbolo \";\" y puede leerse sin necesidad de usar librerías"
   ]
  },
  {
   "cell_type": "markdown",
   "metadata": {},
   "source": [
    "### Solución:"
   ]
  },
  {
   "cell_type": "code",
   "execution_count": 2,
   "metadata": {},
   "outputs": [],
   "source": []
  },
  {
   "cell_type": "markdown",
   "metadata": {},
   "source": [
    "## Ej2. Plot Path (4 Ptos)\n",
    "\n",
    "Un vehículo se mueve a partir de una secuencia de direcciones como esta:\n",
    "\n",
    "    path=[('E', 1.0), ('SE', 2), ('NE', 0.5), ('N', 2.0), ('SE', 1.0), ('E', 2.0), ('E', 0.5), \n",
    "      ('NW', 3.0), ('NW', 1.0), ('SW', 1.0), ('E', 1.0), ('NW', 1.0), ('NW', 2.0), ('E', 3.0), \n",
    "      ('E', 1.5), ('S', 1.0), ('SE', 3.0), ('W', 1.0), ('S', 1.0), ('E', 1.0), ('SW', 1.0), ('SW', 1.0)]\n",
    "    \n",
    "Si consideramos que el punto de partida es el origen de coordenadas (0,0), realizar un código Python que dibuje la trayectoria de ese vehículo. Para ello, habrá que ir generando dos vectores, uno para las X's y otro para las Y's para cada nuevo paso de la trayectoria. Inicialmente los vectores X e Y sólo contienen el valor del punto de origen. \n",
    "\n",
    "$X = [0]$  \n",
    "$Y = [0]$\n",
    "\n",
    "Las coordenadas siguientes tendrán que calcularse en función de la dirección y de la distancia de las tuplas de la variable **\"path\"** y de la última posición del vehículo grabada en los vectores X e Y.Los movimientos hacia el norte implican un cambio positivo en el eje Y con respecto a la posición del vehículo. Por el contrario los movimientos hacia el sur implican un cambio negativo en el eje Y. Algo similar pasa con los movimientos al Este y el Oeste pero con el eje X.  \n",
    "\n",
    "Por ejemplo, si estamos en la posición (0,0) y el primer paso indica la dirección \"E\" y un desplazamiento de longitud \"1.0\", el nuevo punto será el (0+1,0+0), es decir (1,0). Por lo tanto habrá que añadir estas nuevas coordenadas a los vectores X e Y simulando que nos movemos esa distancia hacia el Este:\n",
    "\n",
    "$X = [0,1]$  \n",
    "$Y = [0,0]$\n",
    "    \n",
    "Si el siguiente paso indica \"SE\" y un desplazamiento de longitud 2, habrá que calcular la nueva posición y añadirla a los vectores X e Y de manera que nos movamos esa distancia hacia el Sudeste:  $(1+2\\times\\sqrt{2}/2$ , $0 - 2\\times\\sqrt{2}/2) = (2.41 , -1.41) $\n",
    "\n",
    "$X = [0,1, 2.41]$  \n",
    "$Y = [0,0,-1.41]$\n",
    "\n",
    "Cuando la dirección sea \"NE\",\"SE\",\"SW\" o \"NW\" habrá que utilizar el seno y el coseno de 45º ($\\sqrt{2}/2$) con el signo correspondiente para calcular la  nueva posición del vehículo. Esto quiere decir que si el vehículo se mueve en dirección NE ambas coordenadas se verán afectadas con un signo positivo mientras que si el vehículo se mueve en dirección SE, la coordenada X se verá afectada con signo positivo mientras que la coordenada Y lo será con signo negativo.\n",
    "\n",
    "Implementar una función **get_coordinates** que reciba como argumento la variable **\"path\"** que contiene una lista de tuplas. La función tiene que devolver dos variables, una con las coordenadas X y otra con las coordenadas Y"
   ]
  },
  {
   "cell_type": "markdown",
   "metadata": {},
   "source": [
    "### Solución:"
   ]
  },
  {
   "cell_type": "code",
   "execution_count": 5,
   "metadata": {},
   "outputs": [],
   "source": [
    "def get_coordinates(path):\n",
    "\n",
    "    \n",
    "    return X,Y"
   ]
  },
  {
   "attachments": {},
   "cell_type": "markdown",
   "metadata": {},
   "source": [
    "## Ej3. Plot Path (3 Ptos)\n",
    "\n",
    "Implementa un código que a partir de dos variables X e Y con listas de coordenadas, imprima una visualización similar a esta:\n",
    "\n",
    "<div>\n",
    "<img src=\"image.png\" width=\"400\"/>\n",
    "</div>\n",
    "\n",
    "Si no has conseguido generar estos valores del ejercicio anterior puedes utilizar los siguientes valores:\n",
    "\n",
    "    X= [0, 1.0, 2.4, 2.8, 2.8, 3.5, 5.5, 6.0, 3.9, 3.1, 2.4, 3.4, 2.7, 1.3, 4.3, 5.8, 5.8, 7.9, 6.9, 6.9, 7.9, 7.2, 6.5]\n",
    "    Y= [0, 0, -1.4, -1.1, 0.9, 0.2, 0.2, 0.2, 2.4, 3.1, 2.4, 2.4, 3.1, 4.5, 4.5, 4.5, 3.5, 1.4, 1.4, 0.4, 0.4, -0.4, -1.1]\n",
    "\n",
    "Es importante que tu visualización se parezca lo máximo posible a la imagen proporcionada como ejemplo"
   ]
  },
  {
   "cell_type": "markdown",
   "metadata": {},
   "source": [
    "### Solución."
   ]
  },
  {
   "cell_type": "code",
   "execution_count": null,
   "metadata": {},
   "outputs": [],
   "source": []
  }
 ],
 "metadata": {
  "kernelspec": {
   "display_name": "Python 3",
   "language": "python",
   "name": "python3"
  },
  "language_info": {
   "codemirror_mode": {
    "name": "ipython",
    "version": 3
   },
   "file_extension": ".py",
   "mimetype": "text/x-python",
   "name": "python",
   "nbconvert_exporter": "python",
   "pygments_lexer": "ipython3",
   "version": "3.8.8"
  }
 },
 "nbformat": 4,
 "nbformat_minor": 2
}

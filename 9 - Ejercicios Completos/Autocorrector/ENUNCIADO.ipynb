{
 "cells": [
  {
   "cell_type": "markdown",
   "metadata": {},
   "source": [
    "# Autocorrector"
   ]
  },
  {
   "cell_type": "markdown",
   "metadata": {},
   "source": [
    "## Ej1. Generar exámenes de manera automática (3 pts.).\n",
    "\n",
    "El código debe generar un enunciado de un examen de matemáticas para alumnos de primaria de manera automática. El examen constará de una serie de operaciones sencillas. Las operaciones estarán formadas por dos números enteros aleatorios entre 1 y 99. El operador debe elegirse aleatoriamente entre los siguientes:\n",
    "\n",
    "* SUMA: +\n",
    "* RESTA: -\n",
    "* MULTIPLICACION: *\n",
    "* DIVISION REAL: /\n",
    "* DIVISION ENTERA: //\n",
    "* RESTO DE DIVISION ENTERA: %\n",
    "\n",
    "El resultado de ejecutar el código debe ser un fichero de texto con operaciones sin resolver, una por línea, como en el siguiente ejemplo:\n",
    "\n",
    "        12+5=\n",
    "        20/4=\n",
    "        22//4=\n",
    "        22%4=\n",
    "        35-12=\n",
    "        80*2=\n",
    "        \n",
    "El código debe implementarse dentro de una función. Todas las tareas necesarias (apertura y grabación del fichero, generación de las operaciones,...) debe realizarse dentro de una función con la siguiente cabecera:"
   ]
  },
  {
   "cell_type": "markdown",
   "metadata": {},
   "source": [
    "#### SOLUCIÓN."
   ]
  },
  {
   "cell_type": "code",
   "execution_count": 1,
   "metadata": {},
   "outputs": [],
   "source": [
    "def genera_examen_aleatorio(nombre_fichero, num_preguntas):\n",
    "    \n",
    "    # Aquí debe ir el código desarrollado\n",
    "        \n",
    "        \n",
    "        \n",
    "               \n",
    "        \n",
    "        \n",
    "        \n",
    "        \n",
    "    return None"
   ]
  },
  {
   "cell_type": "markdown",
   "metadata": {},
   "source": [
    "Esta función, invocada desde el siguiente código, debería permitir generar un examen aleatorio para 5 alumnos:"
   ]
  },
  {
   "cell_type": "code",
   "execution_count": null,
   "metadata": {},
   "outputs": [],
   "source": [
    "N=5  # Número de alumnos\n",
    "Q=20 # Número de preguntas por examen\n",
    "for i in range(N):\n",
    "    nombrefichero=\"examen\"+str(i)+\".txt\"\n",
    "    genera_examen_aleatorio(nombrefichero,Q)"
   ]
  },
  {
   "cell_type": "markdown",
   "metadata": {},
   "source": [
    "NOTA. No es necesario ejecutar la celda anterior ni generar N exámenes. El propósito del código es sólo que el alumno vea el contexto en el que se invocaría la función"
   ]
  },
  {
   "cell_type": "markdown",
   "metadata": {},
   "source": [
    "## Ej2. Corregir exámenes de manera automática (3 pts.).\n",
    "\n",
    "El código debe leer los examenes que han realizado alumnos de primaria y calcular su nota. Los ficheros contienen operaciones matemáticas sencillas, los alumnos han debido de proporcionar una respuesta a cada una de esas operaciones. Si la operación es correcta, el alumno obtiene un punto. Si el alumno no ha proporcionado una respuesta, el alumno no obtiene ningún punto. Si la respuesta es incorrecta la nota del alumno se penaliza con -0.50 puntos. Sólo existen 6 operaciones:\n",
    "\n",
    "* SUMA: \"+\"\n",
    "* RESTA: \"-\"\n",
    "* MULTIPLICACION: \"*\"\n",
    "* DIVISION REAL: \"/\"\n",
    "* DIVISION ENTERA: \"//\"\n",
    "* RESTO DE DIVISION ENTERA: \"%\"\n",
    "\n",
    "El fichero de cada alumno consta de 20 operaciones con sus respuestas en el siguiente formato:\n",
    "\n",
    "        12+5=17\n",
    "        20/4=5\n",
    "        22//4=5\n",
    "        22%4=2\n",
    "        35-12=\n",
    "        80*2=170\n",
    "        \n",
    "El resultado de analizar la secuencia anterior sería el siguiente:\n",
    "\n",
    "        12+5=17    --> SUMA. Correcto: +1pto\n",
    "        22/4=5.5   --> DIVISION REAL. Correcto: +1pto\n",
    "        22//4=5    --> DIVISION ENTERA. Correcto: +1pto\n",
    "        22%4=2     --> RESTO DE DIVISION ENTERA. Correcto: +1pto\n",
    "        35-12=     --> RESTA. No respondido: 0ptos\n",
    "        80*2=170   --> MULTIPLICACION. Incorrecto: -0.5ptos.\n",
    "\n",
    "En las operaciones no se pueden utilizar numeros negativos ni como operadores ni como resultado y cada operación sólo consta de dos operandos y un operador.\n",
    "\n",
    "Realizar un código que lea el fichero \"alumno1.txt\", obtenga el nombre del alumno de la primera línea, verifique las operaciones y devuelva su nota final por pantalla con el siguiente formato:\n",
    "\n",
    "        \"El alumno Luis Francisco Sánchez Merchante ha obtenido un 8 sobre 20\"\n",
    "        "
   ]
  },
  {
   "cell_type": "markdown",
   "metadata": {},
   "source": [
    "#### SOLUCIÓN."
   ]
  },
  {
   "cell_type": "code",
   "execution_count": null,
   "metadata": {},
   "outputs": [],
   "source": []
  },
  {
   "cell_type": "code",
   "execution_count": null,
   "metadata": {},
   "outputs": [],
   "source": []
  },
  {
   "cell_type": "markdown",
   "metadata": {},
   "source": [
    "## Ej3. Impresión de resultados (1 ptos)\n",
    "\n",
    "Ejecutando el siguiente código se cargan dos listas, una con los nombres de varios alumnos (variable **nombres**) y otra con las notas finales, sobre 20, de cada uno (variable **notas**):\n",
    "\n",
    "        import pickle\n",
    "        nombres, notas =pickle.load(open( \"actas.dat\", \"rb\" ))\n",
    "    \n",
    "Hacer un código que muestre por pantalla un informe similar al siguiente:\n",
    "\n",
    "        El alumno      Gines Carbonell ha obtenido un 9.90 sobre 20\n",
    "        El alumno       Zaira Cardenas ha obtenido un 2.57 sobre 20\n",
    "        El alumno          Asier López ha obtenido un 6.53 sobre 20\n",
    "        El alumno     Jennifer Latorre ha obtenido un 1.65 sobre 20"
   ]
  },
  {
   "cell_type": "markdown",
   "metadata": {},
   "source": [
    "#### SOLUCIÓN."
   ]
  },
  {
   "cell_type": "code",
   "execution_count": null,
   "metadata": {},
   "outputs": [],
   "source": []
  },
  {
   "cell_type": "code",
   "execution_count": null,
   "metadata": {},
   "outputs": [],
   "source": []
  },
  {
   "attachments": {
    "image.png": {
     "image/png": "[encoded data removed]"
    }
   },
   "cell_type": "markdown",
   "metadata": {},
   "source": [
    "## Ej4. Representación de estadísticas (3 ptos)\n",
    "\n",
    "Ejecutando el siguiente código se carga un diccionario \"notas\" que tiene como clave el ID de 60 alumnos y como valor una lista con 10 puntuaciones correspondientes a las 10 preguntas de un examen.\n",
    "\n",
    "        import pickle\n",
    "        notas=pickle.load(open( \"notas.dat\", \"rb\" ))\n",
    "\n",
    "Calcular la nota media de cada pregunta y representarla en un gráfico similar a este:\n",
    "\n",
    "![image.png](attachment:image.png)\n",
    "\n",
    "Una posibilidad es recorrer el diccionario e ir almacenando las notas de cada ejercicio en una lista de manera que luego se pueda promediar facilmente las notas del ejercicio 1, el ejercicio 2,... para después visualizarlas. Aunque no es el único enfoque."
   ]
  },
  {
   "cell_type": "markdown",
   "metadata": {},
   "source": [
    "**SOLUCIÓN.**"
   ]
  },
  {
   "cell_type": "code",
   "execution_count": null,
   "metadata": {},
   "outputs": [],
   "source": []
  },
  {
   "cell_type": "code",
   "execution_count": null,
   "metadata": {},
   "outputs": [],
   "source": []
  }
 ],
 "metadata": {
  "kernelspec": {
   "display_name": "Python 3",
   "language": "python",
   "name": "python3"
  },
  "language_info": {
   "codemirror_mode": {
    "name": "ipython",
    "version": 3
   },
   "file_extension": ".py",
   "mimetype": "text/x-python",
   "name": "python",
   "nbconvert_exporter": "python",
   "pygments_lexer": "ipython3",
   "version": "3.8.8"
  }
 },
 "nbformat": 4,
 "nbformat_minor": 4
}

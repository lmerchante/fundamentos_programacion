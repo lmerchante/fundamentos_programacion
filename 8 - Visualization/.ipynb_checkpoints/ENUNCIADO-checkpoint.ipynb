{
 "cells": [
  {
   "cell_type": "markdown",
   "metadata": {},
   "source": [
    "# TEMA 8 - Visualization"
   ]
  },
  {
   "cell_type": "markdown",
   "metadata": {},
   "source": [
    "## Ejercicio 1:\n",
    "\n",
    "### Partiendo de un fichero que se llama “temperaturas.csv” que contiene las temperaturas máximas y mínimas registradas en los diferentes días de una semana y que tiene el siguiente aspecto:\n",
    "\n",
    "    día;máxima;mínima\n",
    "    lunes;36.4;29.2\n",
    "    martes;37.2;30.0\n",
    "    miércoles;38.5;30.5\n",
    "    jueves;40.1;32.0\n",
    "    viernes;37.2;29.2\n",
    "    sábado;35.4;27.8\n",
    "    domingo;34.1;25.3\n",
    "\n",
    "Se pide:\n",
    "\n",
    "- Leer el fichero csv y guardarlo en un dataframe de pandas.\n",
    "- Hacer una gráfica de tipo línea que muestre la evolución de la temperatura máxima a lo largo de los días en color rojo. Se solicita emplear la función plot de un dataframe.\n",
    "- Incluir nombres a los ejes: X= Días e Y = Temperaturas en centígrados"
   ]
  },
  {
   "cell_type": "markdown",
   "metadata": {},
   "source": [
    "### **Solución:**"
   ]
  },
  {
   "cell_type": "code",
   "execution_count": null,
   "metadata": {},
   "outputs": [],
   "source": []
  },
  {
   "cell_type": "markdown",
   "metadata": {},
   "source": [
    "## Ejercicio 2:\n",
    "\n",
    "### Partiendo del fichero temperaturas.csv del ejercicio anterior. Se pide:\n",
    "\n",
    "- Leer el fichero csv y guardarlo en un dataframe de pandas.\n",
    "- Hacer una gráfica de tipo línea que muestre la evolución de la temperatura máxima y mínima en colores diferentes. Se solicita emplear la función plot pero de la librería matplotlib.pyplot importada como plt.\n",
    "- Incluir nombres a los ejes: X= Días e Y = Temperaturas en centígrados\n",
    "- Incluir leyenda"
   ]
  },
  {
   "cell_type": "markdown",
   "metadata": {},
   "source": [
    "### **Solución:**"
   ]
  },
  {
   "cell_type": "code",
   "execution_count": null,
   "metadata": {},
   "outputs": [],
   "source": []
  },
  {
   "cell_type": "markdown",
   "metadata": {},
   "source": [
    "## Ejercicio 3:\n",
    "### Partiendo esta vez de un fichero “temperaturas2.csv” que contiene la siguiente información:\n",
    "\n",
    "    día;máxima;mínima\n",
    "    lunes;36,4;29,2\n",
    "    martes;37,2;30,0\n",
    "    miércoles;38,5;30,5\n",
    "    jueves;40,1;32,0\n",
    "    viernes;37,2;29,2\n",
    "    sábado;35,4;27,8\n",
    "    domingo;34,1;25,3\n",
    "\n",
    "Se pide:\n",
    "\n",
    "- Realizar el mismo diagrama de líneas del apartado 2\n",
    "- Comentar y responder las siguientes preguntas:\n",
    "- ¿Es correcta la gráfica?\n",
    "- ¿Notas algo extraño en el eje Y?\n",
    "- ¿Por qué piensas que pasa esto?"
   ]
  },
  {
   "cell_type": "markdown",
   "metadata": {},
   "source": [
    "### **Solución:**"
   ]
  },
  {
   "cell_type": "code",
   "execution_count": null,
   "metadata": {},
   "outputs": [],
   "source": []
  },
  {
   "cell_type": "markdown",
   "metadata": {},
   "source": [
    "* ¿Es correcta la gráfica? No lo es. No hay más que fijarse que los valores del eje Y no son comunes para ambas gráficas.\n",
    "* ¿Notas algo extraño en el eje Y? Sí, no está ordenado, valores repetidos etc.\n",
    "* ¿Por qué piensas que pasa esto? El eje Y son literales y no números por tener el fichero como separador decimal la coma y no el punto,"
   ]
  },
  {
   "cell_type": "markdown",
   "metadata": {},
   "source": [
    "## Ejercicio 4:\n",
    "\n",
    "### Construir las gráficas del seno, coseno y tangente de los ángulos comprendidos entre 0 y 20 radianes. \n",
    "\n",
    "Se pide:\n",
    "\n",
    "- Emplear primeramente la funcionalidad linspace de numpy para generar un intervalo entre 0 y 20 radianes y que contenga 1000 puntos.\n",
    "- Crear tres variables y1, y2 e y3 que guarden respectivamente el seno, coseno y tangentes de los puntos del intervalo obtenidos en el aparatado anterior.\n",
    "- Pintar cada una de las funciones y1, y2 e y3\n",
    "- Limitar los valores del eje de y entre -1.5 y 2.0\n",
    "- Pintar la leyenda"
   ]
  },
  {
   "cell_type": "markdown",
   "metadata": {},
   "source": [
    "### **Solución:**"
   ]
  },
  {
   "cell_type": "code",
   "execution_count": null,
   "metadata": {},
   "outputs": [],
   "source": []
  },
  {
   "cell_type": "markdown",
   "metadata": {},
   "source": [
    "## Ejercicio 5:\n",
    "\n",
    "### Crear las siguientes funciones utilizando distintas terminaciones de colores, estilos de línea y marcadores de valores vistos en clase\n",
    "\n",
    "Hay que crear el eje de las x y de las y en verde (x=0 e y=0) adicionalmente hay que incluir las funciones:\n",
    "\n",
    "$$y1= 20 x+1$$\n",
    "$$y2= 8x^2 + x + 40$$\n",
    "$$y3= 2x^3 + 2x^2 -3x +4$$"
   ]
  },
  {
   "cell_type": "markdown",
   "metadata": {},
   "source": [
    "### **Solución:**"
   ]
  },
  {
   "cell_type": "code",
   "execution_count": null,
   "metadata": {},
   "outputs": [],
   "source": []
  },
  {
   "cell_type": "markdown",
   "metadata": {},
   "source": [
    "## Ejercicio 6:\n",
    "\n",
    "### Empleando el fichero “ventas.csv” que contiene la siguiente información:\n",
    "\n",
    "    mes,patatas,tomates,zanahorias,piñas,manzanas,melones,total_kg,total_euros\n",
    "    1,2500,1500,5200,9200,1200,1500,21100,211000\n",
    "    2,2630,1200,5100,6100,2100,1200,18330,183300\n",
    "    3,2140,1340,4550,9550,3550,1340,22470,224700\n",
    "    4,3400,1130,5870,8870,1870,1130,22270,222700\n",
    "    5,3600,1740,4560,7760,1560,1740,20960,209600\n",
    "    6,2760,1555,4890,7490,1890,1555,20140,201400\n",
    "    7,2980,1120,4780,8980,1780,1120,29550,295500\n",
    "    8,3700,1400,5860,9960,2860,1400,36140,361400\n",
    "    9,3540,1780,6100,8100,2100,1780,23400,234000\n",
    "    10,1990,1890,8300,10300,2300,1890,26670,266700\n",
    "    11,2340,2100,7300,13300,2400,2100,41280,412800\n",
    "    12,2900,1760,7400,14400,1800,1760,30020,300200\n",
    "\n",
    "Representar el número de Kg vendidos por mes de cada producto empleando un gráfico de líneas que emplee una línea diferente para cada producto. El resultado final debe ser algo similar a:\n",
    "\n",
    "![imagen](img/Imagen6.jpg)"
   ]
  },
  {
   "cell_type": "markdown",
   "metadata": {},
   "source": [
    "### **Solución:**"
   ]
  },
  {
   "cell_type": "code",
   "execution_count": null,
   "metadata": {},
   "outputs": [],
   "source": []
  },
  {
   "cell_type": "markdown",
   "metadata": {},
   "source": [
    "## Ejercicio 7:\n",
    "\n",
    "### Partiendo nuevamente del fichero “ventas.csv”, observamos que contiene una columna total_euros que lo que representa es una estimación de las ventas. \n",
    "\n",
    "Básicamente es el número de kg vendidos en el mes por un precio medio de 10 € (es inventado por ser fácil de trabajar con él) ya que las verduras y frutas sufren oscilaciones. Se pide un scatter plot que muestre par cada mes los euros vendidos. Incluir un grid en el gráfico. Es necesario que en el eje de las x aparezcan todos los meses."
   ]
  },
  {
   "cell_type": "markdown",
   "metadata": {},
   "source": [
    "### **Solución:**"
   ]
  },
  {
   "cell_type": "code",
   "execution_count": null,
   "metadata": {},
   "outputs": [],
   "source": []
  },
  {
   "cell_type": "markdown",
   "metadata": {},
   "source": [
    "### Ejercicio 8:\n",
    "\n",
    "## Seguimos trabajando con el fichero “Ventas.csv”. \n",
    "\n",
    "Queremos mostrar ahora las ventas de patatas frente a las de tomates, en un mismo gráfico, pero usando la funcionalidad de subplot. El resultado debe ser algo similar a:\n",
    "\n",
    "![imagen](img/Imagen8.jpg)"
   ]
  },
  {
   "cell_type": "markdown",
   "metadata": {},
   "source": [
    "### **Solución:**"
   ]
  },
  {
   "cell_type": "code",
   "execution_count": null,
   "metadata": {},
   "outputs": [],
   "source": []
  },
  {
   "cell_type": "markdown",
   "metadata": {},
   "source": [
    "## Ejercicio 9:\n",
    "\n",
    "## Usando de nuevo el fichero “ventas.csv” se quiere pintar un diagrama de tarta que represente el porcentaje de kg vendidos de cada producto. \n",
    "\n",
    "Obtener algo similar a: \n",
    "![imagen](img/Imagen9.jpg)"
   ]
  },
  {
   "cell_type": "markdown",
   "metadata": {},
   "source": [
    "### **Solución:**"
   ]
  },
  {
   "cell_type": "code",
   "execution_count": null,
   "metadata": {},
   "outputs": [],
   "source": []
  },
  {
   "cell_type": "markdown",
   "metadata": {},
   "source": [
    "## Ejercicio 10:\n",
    "\n",
    "### Seguimos trabajando con el fichero “ventas.csv”. \n",
    "\n",
    "Queremos un gráfico que nos permita ver la comparativa de venas entre patatas y tomates, pero con un gráfico de barras. El resultado debe ser similar a:\n",
    "\n",
    "![imagen](img/Imagen10.jpg)"
   ]
  },
  {
   "cell_type": "markdown",
   "metadata": {},
   "source": [
    "### **Solución:**"
   ]
  },
  {
   "cell_type": "code",
   "execution_count": null,
   "metadata": {},
   "outputs": [],
   "source": []
  },
  {
   "cell_type": "markdown",
   "metadata": {},
   "source": [
    "## Ejercicio 11:\n",
    "\n",
    "### Utiliza de nuevo el fichero “ventas.csv” para generar un gráfico de áreas apiladas (stack plot) que nos permita ver la comparativa de ventas entre todos los productos. \n",
    "\n",
    "El gráfico debe ser similar a:\n",
    "\n",
    "![imagen](img/Imagen11.jpg)"
   ]
  },
  {
   "cell_type": "markdown",
   "metadata": {},
   "source": [
    "### **Solución:**"
   ]
  },
  {
   "cell_type": "code",
   "execution_count": null,
   "metadata": {},
   "outputs": [],
   "source": []
  },
  {
   "cell_type": "markdown",
   "metadata": {},
   "source": [
    "## Ejercicio 12\n",
    "\n",
    "### Pinta las siguientes dos ecuaciones en el mismo gráfico. \n",
    "\n",
    "La x está definida en el rango de [-2, 2]. Se recomienda el uso de la función linspace con 1000 puntos.\n",
    "\n",
    "$$y_1=\\sqrt{{1-\\left(\\left|x\\right|-1\\right)}^2}$$\n",
    "$$y_2=-2.5\\sqrt{1-\\sqrt{\\frac{|x|}{2}}}$$\n",
    "\n",
    "Se recomienda pintar cada ecuación de un color diferente para ver su efecto en el resultado final."
   ]
  },
  {
   "cell_type": "markdown",
   "metadata": {},
   "source": [
    "### **Solución:**"
   ]
  },
  {
   "cell_type": "code",
   "execution_count": null,
   "metadata": {},
   "outputs": [],
   "source": []
  },
  {
   "cell_type": "markdown",
   "metadata": {},
   "source": [
    "## Ejercicio 13:\n",
    "\n",
    "### Vamos a realizar nuestra versión particular de un conocido cuadro de Andy Warhol:\n",
    "\n",
    "![imagen](img/Imagen13.jpg)\n",
    "\n",
    "Para ello vamos a crear un gráfico de tipo subplot. En cada uno de los subplot pintaremos una de las letras de la palabra LOVE pero con fórmulas matemáticas.\n",
    "\n",
    "- Para pintar la L: La x estará definida entre 0.001 y 4 con unos 100 elementos utilizando la función linspace. Y la y=1/x\n",
    "- Para pintar la O: La x estará definida entre -3 y 3 con unos 100 elementos utilizando la función linspace. Y la y= sqrt(9−x2)\n",
    "- Para pintar la V: La x estará definida entre -5 y 5 con unos 100 elementos utilizando la función linspace. Y la y=|−2x|\n",
    "- Para pintar la E: La y estará definida entre -3 y 3 con unos 100 elementos utilizando la función linspace. Y la x=−2.5|sin(y)|"
   ]
  },
  {
   "cell_type": "markdown",
   "metadata": {},
   "source": [
    "### **Solución:**"
   ]
  },
  {
   "cell_type": "code",
   "execution_count": null,
   "metadata": {},
   "outputs": [],
   "source": []
  },
  {
   "cell_type": "markdown",
   "metadata": {},
   "source": [
    "## Ejercicio 14:\n",
    "\n",
    "### Vamos a realizar el logotipo de un superhéroe muy conocido. \n",
    "\n",
    "Para ello usaremos funciones matemáticas que nos irán pintando partes del mismo.\n",
    "\n",
    "- Primero crearemos dos arrays de numpy con la función arange. El primero con intervalo de -7,27 a +7.25 y step de 0.01 y el segundo de -5 a +5 con el mismo step y los denominaremos xs e ys respectivamente.\n",
    "- A continuación, llamaremos a la función mesgrid de numpy pasándole las variables xs e ys y nos devolverá x e y. Esta función devuelve una lista de matrices de coordenadas a partir de vectores de coordenadas. Para más información consultar: [https://numpy.org/doc/stable/reference/generated/numpy.meshgrid.html](https://numpy.org/doc/stable/reference/generated/numpy.meshgrid.html)\n",
    "- Tenemos que crear 6 variables cada una de las cuales guardará una de las siguientes fórmulas:\n",
    "\n",
    "        eq1 = ((x/7)**2*sqrt(abs(abs(x)-3)/(abs(x)-3))+(y/3)**2*sqrt(abs(y+3/7*sqrt(33))/(y+3/7*sqrt(33)))-1)\n",
    "        eq2 = (abs(x/2)-((3*sqrt(33)-7)/112)*x**2-3+sqrt(1-(abs(abs(x)-2)-1)**2)-y)\n",
    "        eq3 = (9*sqrt(abs((abs(x)-1)*(abs(x)-.75))/((1-abs(x))*(abs(x)-.75)))-8*abs(x)-y)\n",
    "        eq4 = (3*abs(x)+.75*sqrt(abs((abs(x)-.75)*(abs(x)-.5))/((.75-abs(x))*(abs(x)-.5)))-y)\n",
    "        eq5 = (2.25*sqrt(abs((x-.5)*(x+.5))/((.5-x)*(.5+x)))-y)\n",
    "        eq6 = (6*sqrt(10)/7+(1.5-.5*abs(x))*sqrt(abs(abs(x)-1)/(abs(x)-1))-(6*sqrt(10)/14)*sqrt(4-(abs(x)-1)**2)-y)\n",
    "\n",
    "- Implementamos un bucle FOR que recorra una lista de tuplas de (ecuación, color) para que cada ecuación sea pintada en un color diferente. Para cada una de estas tuplas llamaremos a la función contour de matplotlib.pyplot pasándole las variables x, y (salidas de la función meshgrid), la ecuación correspondiente, [0] y el color correspondiente:\n",
    "    plt.contour(x, y, f, [0], colors=c)\n",
    "- Finalmente mostramos el gráfico"
   ]
  },
  {
   "cell_type": "markdown",
   "metadata": {},
   "source": [
    "### **Solución:**"
   ]
  },
  {
   "cell_type": "code",
   "execution_count": null,
   "metadata": {},
   "outputs": [],
   "source": []
  },
  {
   "cell_type": "markdown",
   "metadata": {},
   "source": [
    "## Ejercicio 15:\n",
    "\n",
    "### En el siguiente ejercicio vamos a descargar un fichero del MOMA que contiene mucha información sobre sus obras para luego imprimir cuadros de algunos de sus artistas por pantalla.\n",
    "\n",
    "### Ejercicio 15.1:\n",
    "\n",
    "Descarga el fichero MOMA.csv desde el link y almacénalo en un DataFrame:\n",
    "\n",
    "[https://media.githubusercontent.com/media/MuseumofModernArt/collection/master/Artworks.csv](https://media.githubusercontent.com/media/MuseumofModernArt/collection/master/Artworks.csv)"
   ]
  },
  {
   "cell_type": "markdown",
   "metadata": {},
   "source": [
    "### **Solución 15.1:**"
   ]
  },
  {
   "cell_type": "code",
   "execution_count": 21,
   "metadata": {},
   "outputs": [],
   "source": []
  },
  {
   "cell_type": "markdown",
   "metadata": {},
   "source": [
    "### Ejercicio 15.2:\n",
    "\n",
    "Obten de la lista anterior todos los diferentes artistas"
   ]
  },
  {
   "cell_type": "markdown",
   "metadata": {},
   "source": [
    "### **Solución 15.2:**"
   ]
  },
  {
   "cell_type": "code",
   "execution_count": 22,
   "metadata": {},
   "outputs": [],
   "source": []
  },
  {
   "cell_type": "markdown",
   "metadata": {},
   "source": [
    "### Ejercicio 15.3:\n",
    "\n",
    "Pídele al usuario el número de artistas que desea visualizar y selecciónalos aleatoriamente de la lista del ejercicio anterior:"
   ]
  },
  {
   "cell_type": "markdown",
   "metadata": {},
   "source": [
    "### **Solución 15.3:**"
   ]
  },
  {
   "cell_type": "code",
   "execution_count": null,
   "metadata": {},
   "outputs": [],
   "source": []
  },
  {
   "cell_type": "markdown",
   "metadata": {},
   "source": [
    "### Ejercicio 15.4:\n",
    "\n",
    "Obten todos las URLs de cada uno de los artistas almacenados en la columna ThumbnailURL"
   ]
  },
  {
   "cell_type": "markdown",
   "metadata": {},
   "source": [
    "### **Solución 15.4:**"
   ]
  },
  {
   "cell_type": "code",
   "execution_count": 24,
   "metadata": {},
   "outputs": [],
   "source": []
  },
  {
   "cell_type": "markdown",
   "metadata": {},
   "source": [
    "### Ejercicio 15.5:\n",
    "\n",
    "Haz un plot de todos los cuadrados usando subplots:"
   ]
  },
  {
   "cell_type": "markdown",
   "metadata": {},
   "source": [
    "### **Solución 15.5:**"
   ]
  },
  {
   "cell_type": "code",
   "execution_count": null,
   "metadata": {},
   "outputs": [],
   "source": []
  },
  {
   "cell_type": "markdown",
   "metadata": {},
   "source": [
    "## Ejercicio 16:\n",
    "\n",
    "### Vamos a simular cuantos billetes de loteria de Navidad hay que comprar para tener beneficios sabiendo que los premios son los siguientes:\n",
    "\n",
    "|Premio\t|Total premios\t|Importe en euros|\tCantidad ganada (por euro jugado)|\n",
    "|----------------------|----------|---------|--------|\n",
    "|El Gordo (primer premio)|\t1|\t4.000.000|\t20.000€|\n",
    "|Segundo premio|\t1|\t1.250.000|\t6.250€|\n",
    "|Tercer premio\t|1\t|500.000|\t2.500€|\n",
    "|Cuartos premios|\t2|\t200.000\t|1.000€|\n",
    "|Quintos premios|\t8|\t60.000\t|300€|"
   ]
  },
  {
   "cell_type": "markdown",
   "metadata": {},
   "source": [
    "### **Ejercicio 16.1:** Simulador de numeros premiados\n",
    "\n",
    "Escribe una función `simula_loteria` sin argumentos de entrada, que devuelva una lista con 13 números premiados elegidos aleatoriamente entre el 1 y el 100.000"
   ]
  },
  {
   "cell_type": "markdown",
   "metadata": {},
   "source": [
    "### **Solución 16.1:**"
   ]
  },
  {
   "cell_type": "code",
   "execution_count": 26,
   "metadata": {},
   "outputs": [],
   "source": []
  },
  {
   "cell_type": "markdown",
   "metadata": {},
   "source": [
    "### **Ejercicio 16.2:** Calcula ganancias\n",
    "\n",
    "Escribe una función `ganancias` que reciba como argumentos de entrada una variable **numero_de_billetes** con la cantidad de números que queremos comprar y la lista de números premiados. La función debe generar tantos números aleatorios como **numero_de_billetes** queramos comprar y calcular el importe del premio. Tener en cuenta que con cada décimo apostamos 20 euros. Si no has resuelto el apartado anterior, puedes invocar la función de la siguiente manera:\n",
    "\n",
    "        ganancias(10, [80081, 48252, 6521, 63939, 31849, 96757, 81454, 5920, 90350, 71842, 24658, 57930, 96952])"
   ]
  },
  {
   "cell_type": "markdown",
   "metadata": {},
   "source": [
    "### **Solución 16.2:**"
   ]
  },
  {
   "cell_type": "code",
   "execution_count": 28,
   "metadata": {},
   "outputs": [],
   "source": []
  },
  {
   "cell_type": "markdown",
   "metadata": {},
   "source": [
    "### **Ejercicio 16.3:** \n",
    "\n",
    "### Vamos a simular los ingresos, gastos y beneficios que obtendríamos si compráramos cada vez un número más alto de billetes. \n",
    "\n",
    "Para ello escribe un código que haga lo siguiente:\n",
    "\n",
    "1. Invocar a la función `simula_loteria` para generar una lista de 13 números premiados\n",
    "2. Hacer un bucle de 1 a 100000 en intervalos de 1000 en 1000 para simular las ganancias y gastos de comprar 1 billete, 1000 billetes, 2000 billetes y así sucesivamente hasta llegar a comprar 100.000 billetes diferentes. \n",
    "3. Para cada número de billetes comprados calcular las ganancias, los gastos y los beneficios teniendo en cuenta que:\n",
    "    \n",
    "* El valor de las ganancias es el valor devuelto por la función `ganancias`. Hay que tener en cuenta que si el ingreso supera los 10.000€, hay que pagar a hacienda un 20%.\n",
    "* Los gastos son los precios de los billetes de loteria que valen 20€ la unidad.\n",
    "* Los beneficios es la diferencia de los ingresos y los gastos\n",
    "\n",
    "4. Representar en una misma figura tres gráficas. La primera con los Ingresos, la segunda con los Gastos y la tercera con los Beneficios. El eje X debe ser en todos los casos la secuencia **numero_billetes**\n",
    "\n",
    "**NOTA**.  Si no has podido resolver el apartado anterior, deja indicada la llamada a la función `ganancias` y a la hora de representar las tres figuras, puedes utilizar tres vectores cualesquiera."
   ]
  },
  {
   "cell_type": "markdown",
   "metadata": {},
   "source": [
    "### **Solución 16.3:**"
   ]
  },
  {
   "cell_type": "code",
   "execution_count": null,
   "metadata": {},
   "outputs": [],
   "source": []
  }
 ],
 "metadata": {
  "interpreter": {
   "hash": "d652f12e86d4907f3226fd0eca720165fd18d0c760b9e442a689f9a4e2e2c276"
  },
  "kernelspec": {
   "display_name": "Python 3",
   "language": "python",
   "name": "python3"
  },
  "language_info": {
   "codemirror_mode": {
    "name": "ipython",
    "version": 3
   },
   "file_extension": ".py",
   "mimetype": "text/x-python",
   "name": "python",
   "nbconvert_exporter": "python",
   "pygments_lexer": "ipython3",
   "version": "3.8.8"
  }
 },
 "nbformat": 4,
 "nbformat_minor": 2
}
